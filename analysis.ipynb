{
 "cells": [
  {
   "cell_type": "code",
   "execution_count": 2,
   "metadata": {
    "collapsed": false,
    "deletable": true,
    "editable": true
   },
   "outputs": [
    {
     "data": {
      "text/plain": [
       "(981, 14)"
      ]
     },
     "execution_count": 2,
     "metadata": {},
     "output_type": "execute_result"
    }
   ],
   "source": [
    "## Import and data processing\n",
    "\n",
    "import json\n",
    "\n",
    "import pandas as pd\n",
    "import numpy as np\n",
    "\n",
    "\n",
    "with open('sreality/output.json') as data_file: data = json.load(data_file)    \n",
    "df = pd.io.json.json_normalize(data)\n",
    "\n",
    "pd.set_option('display.max_columns', 200)\n",
    "pd.set_option('display.max_rows', 30)\n",
    "\n",
    "df.shape"
   ]
  },
  {
   "cell_type": "code",
   "execution_count": 3,
   "metadata": {
    "collapsed": false,
    "deletable": true,
    "editable": true
   },
   "outputs": [
    {
     "data": {
      "text/html": [
       "<div>\n",
       "<table border=\"1\" class=\"dataframe\">\n",
       "  <thead>\n",
       "    <tr style=\"text-align: right;\">\n",
       "      <th></th>\n",
       "      <th>id</th>\n",
       "      <th>location</th>\n",
       "      <th>navic</th>\n",
       "      <th>novostavba</th>\n",
       "      <th>plocha</th>\n",
       "      <th>podlazi</th>\n",
       "      <th>price</th>\n",
       "      <th>stavOb</th>\n",
       "      <th>stavba</th>\n",
       "      <th>stitky</th>\n",
       "      <th>trida</th>\n",
       "      <th>url</th>\n",
       "      <th>velikost</th>\n",
       "      <th>vlastnictvi</th>\n",
       "    </tr>\n",
       "  </thead>\n",
       "  <tbody>\n",
       "    <tr>\n",
       "      <th>0</th>\n",
       "      <td>2558665052</td>\n",
       "      <td>Kloboukova, Praha 4 - Chodov</td>\n",
       "      <td>,vytah</td>\n",
       "      <td>False</td>\n",
       "      <td>83</td>\n",
       "      <td>3. podlaží z celkem 6 včetně 1 podzemního</td>\n",
       "      <td>4 290 000 Kč</td>\n",
       "      <td>veryGood</td>\n",
       "      <td>panelova</td>\n",
       "      <td>Lodžie,Panelová,Částečně vybavený</td>\n",
       "      <td>C</td>\n",
       "      <td>3+1/praha-chodov-kloboukova/2558665052</td>\n",
       "      <td>3+1</td>\n",
       "      <td>osobni</td>\n",
       "    </tr>\n",
       "    <tr>\n",
       "      <th>1</th>\n",
       "      <td>2667434332</td>\n",
       "      <td>Družstevní, Praha 4 - Nusle</td>\n",
       "      <td></td>\n",
       "      <td>False</td>\n",
       "      <td>43</td>\n",
       "      <td>3. podlaží z celkem 5 včetně 1 podzemního</td>\n",
       "      <td>3 990 000 Kč</td>\n",
       "      <td>afterRec</td>\n",
       "      <td>cihlova</td>\n",
       "      <td>Po rekonstrukci,Lodžie,Vybavený</td>\n",
       "      <td>C</td>\n",
       "      <td>2+kk/praha-nusle-druzstevni/2667434332</td>\n",
       "      <td>2+kk</td>\n",
       "      <td>osobni</td>\n",
       "    </tr>\n",
       "    <tr>\n",
       "      <th>2</th>\n",
       "      <td>3520147804</td>\n",
       "      <td>Menclova, Praha 8 - Libeň</td>\n",
       "      <td>balkon,vytah</td>\n",
       "      <td>False</td>\n",
       "      <td>NaN</td>\n",
       "      <td>NaN</td>\n",
       "      <td>6 321 430 Kč</td>\n",
       "      <td>NaN</td>\n",
       "      <td>ostatni</td>\n",
       "      <td>Ve výstavbě</td>\n",
       "      <td>No</td>\n",
       "      <td>2+kk/praha-liben-menclova/3520147804</td>\n",
       "      <td>2+kk</td>\n",
       "      <td>osobni</td>\n",
       "    </tr>\n",
       "  </tbody>\n",
       "</table>\n",
       "</div>"
      ],
      "text/plain": [
       "           id                      location         navic novostavba plocha  \\\n",
       "0  2558665052  Kloboukova, Praha 4 - Chodov        ,vytah      False     83   \n",
       "1  2667434332   Družstevní, Praha 4 - Nusle                    False     43   \n",
       "2  3520147804     Menclova, Praha 8 - Libeň  balkon,vytah      False    NaN   \n",
       "\n",
       "                                     podlazi         price    stavOb  \\\n",
       "0  3. podlaží z celkem 6 včetně 1 podzemního  4 290 000 Kč  veryGood   \n",
       "1  3. podlaží z celkem 5 včetně 1 podzemního  3 990 000 Kč  afterRec   \n",
       "2                                        NaN  6 321 430 Kč       NaN   \n",
       "\n",
       "     stavba                             stitky trida  \\\n",
       "0  panelova  Lodžie,Panelová,Částečně vybavený     C   \n",
       "1   cihlova    Po rekonstrukci,Lodžie,Vybavený     C   \n",
       "2   ostatni                        Ve výstavbě    No   \n",
       "\n",
       "                                      url velikost vlastnictvi  \n",
       "0  3+1/praha-chodov-kloboukova/2558665052      3+1      osobni  \n",
       "1  2+kk/praha-nusle-druzstevni/2667434332     2+kk      osobni  \n",
       "2    2+kk/praha-liben-menclova/3520147804     2+kk      osobni  "
      ]
     },
     "execution_count": 3,
     "metadata": {},
     "output_type": "execute_result"
    }
   ],
   "source": [
    "df.head(3)"
   ]
  },
  {
   "cell_type": "code",
   "execution_count": 4,
   "metadata": {
    "collapsed": false,
    "deletable": true,
    "editable": true
   },
   "outputs": [],
   "source": [
    "df.index = df['id'].apply(pd.to_numeric)\n",
    "del df['id']\n"
   ]
  },
  {
   "cell_type": "code",
   "execution_count": 5,
   "metadata": {
    "collapsed": false,
    "deletable": true,
    "editable": true
   },
   "outputs": [
    {
     "data": {
      "text/plain": [
       "Index([u'location', u'navic', u'novostavba', u'plocha', u'podlazi', u'price',\n",
       "       u'stavOb', u'stavba', u'stitky', u'trida', u'url', u'velikost',\n",
       "       u'vlastnictvi'],\n",
       "      dtype='object')"
      ]
     },
     "execution_count": 5,
     "metadata": {},
     "output_type": "execute_result"
    }
   ],
   "source": [
    "# Column names:\n",
    "df.columns"
   ]
  },
  {
   "cell_type": "code",
   "execution_count": 6,
   "metadata": {
    "collapsed": false,
    "deletable": true,
    "editable": true
   },
   "outputs": [
    {
     "data": {
      "text/plain": [
       "Štolcova, Praha 4 - Modřany           18\n",
       "Kolbenova, Praha 9 - Vysočany         17\n",
       "Rohanské nábřeží, Praha 8 - Karlín    13\n",
       "Voctářova, Praha - Praha 8            12\n",
       "Libeňský ostrov, Praha 8 - Libeň       9\n",
       "Name: location, dtype: int64"
      ]
     },
     "execution_count": 6,
     "metadata": {},
     "output_type": "execute_result"
    }
   ],
   "source": [
    "df['location'].value_counts()[:5]"
   ]
  },
  {
   "cell_type": "code",
   "execution_count": 7,
   "metadata": {
    "collapsed": false,
    "deletable": true,
    "editable": true
   },
   "outputs": [
    {
     "data": {
      "text/plain": [
       "osobni           894\n",
       "druzstevni        85\n",
       "statni-obecni      2\n",
       "Name: vlastnictvi, dtype: int64"
      ]
     },
     "execution_count": 7,
     "metadata": {},
     "output_type": "execute_result"
    }
   ],
   "source": [
    "df['vlastnictvi'].value_counts()"
   ]
  },
  {
   "cell_type": "code",
   "execution_count": 8,
   "metadata": {
    "collapsed": false,
    "deletable": true,
    "editable": true
   },
   "outputs": [
    {
     "data": {
      "text/html": [
       "<div>\n",
       "<table border=\"1\" class=\"dataframe\">\n",
       "  <thead>\n",
       "    <tr style=\"text-align: right;\">\n",
       "      <th></th>\n",
       "      <th>location</th>\n",
       "      <th>navic</th>\n",
       "      <th>novostavba</th>\n",
       "      <th>plocha</th>\n",
       "      <th>podlazi</th>\n",
       "      <th>price</th>\n",
       "      <th>stavOb</th>\n",
       "      <th>stavba</th>\n",
       "      <th>stitky</th>\n",
       "      <th>trida</th>\n",
       "      <th>url</th>\n",
       "      <th>velikost</th>\n",
       "      <th>vlastnictvi</th>\n",
       "    </tr>\n",
       "    <tr>\n",
       "      <th>id</th>\n",
       "      <th></th>\n",
       "      <th></th>\n",
       "      <th></th>\n",
       "      <th></th>\n",
       "      <th></th>\n",
       "      <th></th>\n",
       "      <th></th>\n",
       "      <th></th>\n",
       "      <th></th>\n",
       "      <th></th>\n",
       "      <th></th>\n",
       "      <th></th>\n",
       "      <th></th>\n",
       "    </tr>\n",
       "  </thead>\n",
       "  <tbody>\n",
       "    <tr>\n",
       "      <th>3466731868</th>\n",
       "      <td>Na Výrovně, Praha 5 - Stodůlky</td>\n",
       "      <td>,garaz,vytah</td>\n",
       "      <td>False</td>\n",
       "      <td>45</td>\n",
       "      <td>4. podlaží z celkem 5</td>\n",
       "      <td>Info o ceně u RK</td>\n",
       "      <td>veryGood</td>\n",
       "      <td>ostatni</td>\n",
       "      <td>Balkon,Garáž,Vybavený</td>\n",
       "      <td>G</td>\n",
       "      <td>2+kk/praha-stodulky-na-vyrovne/3466731868</td>\n",
       "      <td>2+kk</td>\n",
       "      <td>osobni</td>\n",
       "    </tr>\n",
       "    <tr>\n",
       "      <th>3161796956</th>\n",
       "      <td>Ke Kamýku, Praha - Kamýk</td>\n",
       "      <td>lodzie</td>\n",
       "      <td>True</td>\n",
       "      <td>106</td>\n",
       "      <td>2. podlaží z celkem 3</td>\n",
       "      <td>Info o ceně u RK</td>\n",
       "      <td>Novostavba</td>\n",
       "      <td>cihlova</td>\n",
       "      <td></td>\n",
       "      <td>B</td>\n",
       "      <td>3+kk/praha-kamyk-ke-kamyku/3161796956</td>\n",
       "      <td>3+kk</td>\n",
       "      <td>osobni</td>\n",
       "    </tr>\n",
       "    <tr>\n",
       "      <th>80159068</th>\n",
       "      <td>Jílovská, Praha - Praha 4</td>\n",
       "      <td>lodzie</td>\n",
       "      <td>False</td>\n",
       "      <td>64</td>\n",
       "      <td>10. podlaží z celkem 11</td>\n",
       "      <td>Info o ceně u RK</td>\n",
       "      <td>afterRec</td>\n",
       "      <td>panelova</td>\n",
       "      <td>Po rekonstrukci,Panelová</td>\n",
       "      <td>No</td>\n",
       "      <td>3+1/praha-praha-4-jilovska/80159068</td>\n",
       "      <td>3+1</td>\n",
       "      <td>osobni</td>\n",
       "    </tr>\n",
       "  </tbody>\n",
       "</table>\n",
       "</div>"
      ],
      "text/plain": [
       "                                  location         navic novostavba plocha  \\\n",
       "id                                                                           \n",
       "3466731868  Na Výrovně, Praha 5 - Stodůlky  ,garaz,vytah      False     45   \n",
       "3161796956        Ke Kamýku, Praha - Kamýk        lodzie       True    106   \n",
       "80159068         Jílovská, Praha - Praha 4        lodzie      False     64   \n",
       "\n",
       "                            podlazi             price      stavOb    stavba  \\\n",
       "id                                                                            \n",
       "3466731868    4. podlaží z celkem 5  Info o ceně u RK    veryGood   ostatni   \n",
       "3161796956    2. podlaží z celkem 3  Info o ceně u RK  Novostavba   cihlova   \n",
       "80159068    10. podlaží z celkem 11  Info o ceně u RK    afterRec  panelova   \n",
       "\n",
       "                              stitky trida  \\\n",
       "id                                           \n",
       "3466731868     Balkon,Garáž,Vybavený     G   \n",
       "3161796956                               B   \n",
       "80159068    Po rekonstrukci,Panelová    No   \n",
       "\n",
       "                                                  url velikost vlastnictvi  \n",
       "id                                                                          \n",
       "3466731868  2+kk/praha-stodulky-na-vyrovne/3466731868     2+kk      osobni  \n",
       "3161796956      3+kk/praha-kamyk-ke-kamyku/3161796956     3+kk      osobni  \n",
       "80159068          3+1/praha-praha-4-jilovska/80159068      3+1      osobni  "
      ]
     },
     "execution_count": 8,
     "metadata": {},
     "output_type": "execute_result"
    }
   ],
   "source": [
    "df[df['price'] == u'Info o ceně u RK'][:3]"
   ]
  },
  {
   "cell_type": "code",
   "execution_count": 9,
   "metadata": {
    "collapsed": false,
    "deletable": true,
    "editable": true
   },
   "outputs": [],
   "source": [
    "# Removing our 'priceless' offers\n",
    "df = df[df['price'] != u'Info o ceně u RK']"
   ]
  },
  {
   "cell_type": "code",
   "execution_count": 10,
   "metadata": {
    "collapsed": false,
    "deletable": true,
    "editable": true
   },
   "outputs": [],
   "source": [
    "df['price'] = df['price'].map(lambda x: x[:x.find(u' Kč')].replace(' ',''))"
   ]
  },
  {
   "cell_type": "code",
   "execution_count": 11,
   "metadata": {
    "collapsed": false,
    "deletable": true,
    "editable": true
   },
   "outputs": [],
   "source": [
    "# converting price to int64\n",
    "df['price'] = pd.to_numeric(df['price'], errors='coerce')"
   ]
  },
  {
   "cell_type": "code",
   "execution_count": 12,
   "metadata": {
    "collapsed": false,
    "deletable": true,
    "editable": true
   },
   "outputs": [
    {
     "data": {
      "image/png": "[encoded data removed]",
      "text/plain": [
       "<matplotlib.figure.Figure at 0x1118d6250>"
      ]
     },
     "metadata": {},
     "output_type": "display_data"
    }
   ],
   "source": [
    "%matplotlib inline\n",
    "import seaborn as sns\n",
    "# price destribution\n",
    "sns.distplot(df['price']);"
   ]
  },
  {
   "cell_type": "code",
   "execution_count": 13,
   "metadata": {
    "collapsed": false,
    "deletable": true,
    "editable": true
   },
   "outputs": [
    {
     "data": {
      "image/png": "[encoded data removed]",
      "text/plain": [
       "<matplotlib.figure.Figure at 0x10f30f050>"
      ]
     },
     "metadata": {},
     "output_type": "display_data"
    }
   ],
   "source": [
    "df = df[df['price'] < 15000000]\n",
    "df = df[df['price'] > 1500000]\n",
    "sns.distplot(df['price']);"
   ]
  },
  {
   "cell_type": "code",
   "execution_count": 14,
   "metadata": {
    "collapsed": false,
    "deletable": true,
    "editable": true
   },
   "outputs": [
    {
     "name": "stdout",
     "output_type": "stream",
     "text": [
      "<class 'pandas.core.frame.DataFrame'>\n",
      "Int64Index: 896 entries, 2558665052 to 3837731164\n",
      "Data columns (total 13 columns):\n",
      "location       896 non-null object\n",
      "navic          896 non-null object\n",
      "novostavba     896 non-null object\n",
      "plocha         743 non-null object\n",
      "podlazi        743 non-null object\n",
      "price          896 non-null int64\n",
      "stavOb         856 non-null object\n",
      "stavba         896 non-null object\n",
      "stitky         896 non-null object\n",
      "trida          896 non-null object\n",
      "url            896 non-null object\n",
      "velikost       896 non-null object\n",
      "vlastnictvi    896 non-null object\n",
      "dtypes: int64(1), object(12)\n",
      "memory usage: 98.0+ KB\n"
     ]
    }
   ],
   "source": [
    "# overall info\n",
    "df.info()"
   ]
  },
  {
   "cell_type": "markdown",
   "metadata": {
    "deletable": true,
    "editable": true
   },
   "source": [
    "## Filling missing fields"
   ]
  },
  {
   "cell_type": "markdown",
   "metadata": {
    "deletable": true,
    "editable": true
   },
   "source": [
    "### Užitná plocha"
   ]
  },
  {
   "cell_type": "code",
   "execution_count": 15,
   "metadata": {
    "collapsed": false,
    "deletable": true,
    "editable": true
   },
   "outputs": [],
   "source": [
    "df['plocha'] = pd.to_numeric(df['plocha'], errors='coerce')"
   ]
  },
  {
   "cell_type": "code",
   "execution_count": 16,
   "metadata": {
    "collapsed": false,
    "deletable": true,
    "editable": true
   },
   "outputs": [
    {
     "data": {
      "text/plain": [
       "Novostavba    294\n",
       "veryGood      280\n",
       "good          134\n",
       "afterRec      116\n",
       "beforeRec      32\n",
       "Name: stavOb, dtype: int64"
      ]
     },
     "execution_count": 16,
     "metadata": {},
     "output_type": "execute_result"
    }
   ],
   "source": [
    "df[u'stavOb'].value_counts()"
   ]
  },
  {
   "cell_type": "markdown",
   "metadata": {
    "deletable": true,
    "editable": true
   },
   "source": [
    "### Lodžie, Novostavba, sklep, parkovani"
   ]
  },
  {
   "cell_type": "code",
   "execution_count": 17,
   "metadata": {
    "collapsed": false,
    "deletable": true,
    "editable": true
   },
   "outputs": [
    {
     "data": {
      "text/html": [
       "<div>\n",
       "<table border=\"1\" class=\"dataframe\">\n",
       "  <thead>\n",
       "    <tr style=\"text-align: right;\">\n",
       "      <th></th>\n",
       "      <th>location</th>\n",
       "      <th>navic</th>\n",
       "      <th>novostavba</th>\n",
       "      <th>plocha</th>\n",
       "      <th>podlazi</th>\n",
       "      <th>price</th>\n",
       "      <th>stavOb</th>\n",
       "      <th>stavba</th>\n",
       "      <th>stitky</th>\n",
       "      <th>trida</th>\n",
       "      <th>url</th>\n",
       "      <th>velikost</th>\n",
       "      <th>vlastnictvi</th>\n",
       "      <th>sklep</th>\n",
       "      <th>parkovani</th>\n",
       "      <th>vytah</th>\n",
       "      <th>balkon</th>\n",
       "    </tr>\n",
       "    <tr>\n",
       "      <th>id</th>\n",
       "      <th></th>\n",
       "      <th></th>\n",
       "      <th></th>\n",
       "      <th></th>\n",
       "      <th></th>\n",
       "      <th></th>\n",
       "      <th></th>\n",
       "      <th></th>\n",
       "      <th></th>\n",
       "      <th></th>\n",
       "      <th></th>\n",
       "      <th></th>\n",
       "      <th></th>\n",
       "      <th></th>\n",
       "      <th></th>\n",
       "      <th></th>\n",
       "      <th></th>\n",
       "    </tr>\n",
       "  </thead>\n",
       "  <tbody>\n",
       "    <tr>\n",
       "      <th>2558665052</th>\n",
       "      <td>Kloboukova, Praha 4 - Chodov</td>\n",
       "      <td>,vytah</td>\n",
       "      <td>False</td>\n",
       "      <td>83.0</td>\n",
       "      <td>3. podlaží z celkem 6 včetně 1 podzemního</td>\n",
       "      <td>4290000</td>\n",
       "      <td>veryGood</td>\n",
       "      <td>panelova</td>\n",
       "      <td>Lodžie,Panelová,Částečně vybavený</td>\n",
       "      <td>C</td>\n",
       "      <td>3+1/praha-chodov-kloboukova/2558665052</td>\n",
       "      <td>3+1</td>\n",
       "      <td>osobni</td>\n",
       "      <td>False</td>\n",
       "      <td>False</td>\n",
       "      <td>True</td>\n",
       "      <td></td>\n",
       "    </tr>\n",
       "    <tr>\n",
       "      <th>2667434332</th>\n",
       "      <td>Družstevní, Praha 4 - Nusle</td>\n",
       "      <td></td>\n",
       "      <td>False</td>\n",
       "      <td>43.0</td>\n",
       "      <td>3. podlaží z celkem 5 včetně 1 podzemního</td>\n",
       "      <td>3990000</td>\n",
       "      <td>afterRec</td>\n",
       "      <td>cihlova</td>\n",
       "      <td>Po rekonstrukci,Lodžie,Vybavený</td>\n",
       "      <td>C</td>\n",
       "      <td>2+kk/praha-nusle-druzstevni/2667434332</td>\n",
       "      <td>2+kk</td>\n",
       "      <td>osobni</td>\n",
       "      <td>False</td>\n",
       "      <td>False</td>\n",
       "      <td>False</td>\n",
       "      <td></td>\n",
       "    </tr>\n",
       "    <tr>\n",
       "      <th>3520147804</th>\n",
       "      <td>Menclova, Praha 8 - Libeň</td>\n",
       "      <td>balkon,vytah</td>\n",
       "      <td>False</td>\n",
       "      <td>NaN</td>\n",
       "      <td>NaN</td>\n",
       "      <td>6321430</td>\n",
       "      <td>NaN</td>\n",
       "      <td>ostatni</td>\n",
       "      <td>Ve výstavbě</td>\n",
       "      <td>No</td>\n",
       "      <td>2+kk/praha-liben-menclova/3520147804</td>\n",
       "      <td>2+kk</td>\n",
       "      <td>osobni</td>\n",
       "      <td>False</td>\n",
       "      <td>False</td>\n",
       "      <td>True</td>\n",
       "      <td>balkon</td>\n",
       "    </tr>\n",
       "  </tbody>\n",
       "</table>\n",
       "</div>"
      ],
      "text/plain": [
       "                                location         navic novostavba  plocha  \\\n",
       "id                                                                          \n",
       "2558665052  Kloboukova, Praha 4 - Chodov        ,vytah      False    83.0   \n",
       "2667434332   Družstevní, Praha 4 - Nusle                    False    43.0   \n",
       "3520147804     Menclova, Praha 8 - Libeň  balkon,vytah      False     NaN   \n",
       "\n",
       "                                              podlazi    price    stavOb  \\\n",
       "id                                                                         \n",
       "2558665052  3. podlaží z celkem 6 včetně 1 podzemního  4290000  veryGood   \n",
       "2667434332  3. podlaží z celkem 5 včetně 1 podzemního  3990000  afterRec   \n",
       "3520147804                                        NaN  6321430       NaN   \n",
       "\n",
       "              stavba                             stitky trida  \\\n",
       "id                                                              \n",
       "2558665052  panelova  Lodžie,Panelová,Částečně vybavený     C   \n",
       "2667434332   cihlova    Po rekonstrukci,Lodžie,Vybavený     C   \n",
       "3520147804   ostatni                        Ve výstavbě    No   \n",
       "\n",
       "                                               url velikost vlastnictvi  \\\n",
       "id                                                                        \n",
       "2558665052  3+1/praha-chodov-kloboukova/2558665052      3+1      osobni   \n",
       "2667434332  2+kk/praha-nusle-druzstevni/2667434332     2+kk      osobni   \n",
       "3520147804    2+kk/praha-liben-menclova/3520147804     2+kk      osobni   \n",
       "\n",
       "            sklep parkovani  vytah  balkon  \n",
       "id                                          \n",
       "2558665052  False     False   True          \n",
       "2667434332  False     False  False          \n",
       "3520147804  False     False   True  balkon  "
      ]
     },
     "execution_count": 17,
     "metadata": {},
     "output_type": "execute_result"
    }
   ],
   "source": [
    "def contains_converter(mapping, param):\n",
    "    for i in mapping:        \n",
    "        if param.find(i) > -1:\n",
    "            return mapping[i]\n",
    "    return ''\n",
    "balcony_mapping = {\n",
    "        u'balkon':u'balkon',\n",
    "        u'lodzie':u'lodzie',\n",
    "        u'terasa':u'terasa'    \n",
    "    }\n",
    "\n",
    "df['sklep'] = df['navic'].str.contains('sklep')\n",
    "df['parkovani'] = df['navic'].str.contains('parkovani')\n",
    "df['vytah'] = df['navic'].str.contains('vytah')\n",
    "df['balkon'] = df['navic'].map(lambda x: contains_converter(balcony_mapping, x))\n",
    "df.head(3)"
   ]
  },
  {
   "cell_type": "markdown",
   "metadata": {
    "deletable": true,
    "editable": true
   },
   "source": [
    "### metro and public transport"
   ]
  },
  {
   "cell_type": "code",
   "execution_count": 18,
   "metadata": {
    "collapsed": false,
    "deletable": true,
    "editable": true
   },
   "outputs": [
    {
     "data": {
      "text/plain": [
       "location       False\n",
       "navic          False\n",
       "novostavba     False\n",
       "plocha         False\n",
       "podlazi        False\n",
       "price          False\n",
       "stavOb         False\n",
       "stavba         False\n",
       "stitky         False\n",
       "trida          False\n",
       "url            False\n",
       "velikost       False\n",
       "vlastnictvi    False\n",
       "sklep          False\n",
       "parkovani      False\n",
       "vytah          False\n",
       "balkon         False\n",
       "dtype: bool"
      ]
     },
     "execution_count": 18,
     "metadata": {},
     "output_type": "execute_result"
    }
   ],
   "source": [
    "df = df.dropna(axis=0, how='any')\n",
    "df.isnull().any()"
   ]
  },
  {
   "cell_type": "code",
   "execution_count": 19,
   "metadata": {
    "collapsed": false,
    "deletable": true,
    "editable": true
   },
   "outputs": [
    {
     "data": {
      "text/html": [
       "<div>\n",
       "<table border=\"1\" class=\"dataframe\">\n",
       "  <thead>\n",
       "    <tr style=\"text-align: right;\">\n",
       "      <th></th>\n",
       "      <th>plocha</th>\n",
       "      <th>price</th>\n",
       "    </tr>\n",
       "  </thead>\n",
       "  <tbody>\n",
       "    <tr>\n",
       "      <th>count</th>\n",
       "      <td>718.000000</td>\n",
       "      <td>7.180000e+02</td>\n",
       "    </tr>\n",
       "    <tr>\n",
       "      <th>mean</th>\n",
       "      <td>83.665738</td>\n",
       "      <td>5.406215e+06</td>\n",
       "    </tr>\n",
       "    <tr>\n",
       "      <th>std</th>\n",
       "      <td>143.653512</td>\n",
       "      <td>2.573762e+06</td>\n",
       "    </tr>\n",
       "    <tr>\n",
       "      <th>min</th>\n",
       "      <td>21.000000</td>\n",
       "      <td>1.590000e+06</td>\n",
       "    </tr>\n",
       "    <tr>\n",
       "      <th>25%</th>\n",
       "      <td>53.250000</td>\n",
       "      <td>3.590000e+06</td>\n",
       "    </tr>\n",
       "    <tr>\n",
       "      <th>50%</th>\n",
       "      <td>69.000000</td>\n",
       "      <td>4.550000e+06</td>\n",
       "    </tr>\n",
       "    <tr>\n",
       "      <th>75%</th>\n",
       "      <td>87.000000</td>\n",
       "      <td>6.695000e+06</td>\n",
       "    </tr>\n",
       "    <tr>\n",
       "      <th>max</th>\n",
       "      <td>2918.000000</td>\n",
       "      <td>1.499000e+07</td>\n",
       "    </tr>\n",
       "  </tbody>\n",
       "</table>\n",
       "</div>"
      ],
      "text/plain": [
       "            plocha         price\n",
       "count   718.000000  7.180000e+02\n",
       "mean     83.665738  5.406215e+06\n",
       "std     143.653512  2.573762e+06\n",
       "min      21.000000  1.590000e+06\n",
       "25%      53.250000  3.590000e+06\n",
       "50%      69.000000  4.550000e+06\n",
       "75%      87.000000  6.695000e+06\n",
       "max    2918.000000  1.499000e+07"
      ]
     },
     "execution_count": 19,
     "metadata": {},
     "output_type": "execute_result"
    }
   ],
   "source": [
    "df['floor'] = df['podlazi'].map(lambda x: x[:x.find(u'. podlaží z celkem ')].replace(' ',''))\n",
    "df['firstFloor'] = df['floor'].map(lambda x: True if x == '1' else False)\n",
    "df.describe()"
   ]
  },
  {
   "cell_type": "code",
   "execution_count": 20,
   "metadata": {
    "collapsed": false,
    "deletable": true,
    "editable": true
   },
   "outputs": [
    {
     "name": "stdout",
     "output_type": "stream",
     "text": [
      "<class 'pandas.core.frame.DataFrame'>\n",
      "Int64Index: 718 entries, 2558665052 to 3837731164\n",
      "Data columns (total 19 columns):\n",
      "location       718 non-null object\n",
      "navic          718 non-null object\n",
      "novostavba     718 non-null object\n",
      "plocha         718 non-null float64\n",
      "podlazi        718 non-null object\n",
      "price          718 non-null int64\n",
      "stavOb         718 non-null object\n",
      "stavba         718 non-null object\n",
      "stitky         718 non-null object\n",
      "trida          718 non-null object\n",
      "url            718 non-null object\n",
      "velikost       718 non-null object\n",
      "vlastnictvi    718 non-null object\n",
      "sklep          718 non-null bool\n",
      "parkovani      718 non-null bool\n",
      "vytah          718 non-null bool\n",
      "balkon         718 non-null object\n",
      "floor          718 non-null object\n",
      "firstFloor     718 non-null bool\n",
      "dtypes: bool(4), float64(1), int64(1), object(13)\n",
      "memory usage: 92.6+ KB\n"
     ]
    }
   ],
   "source": [
    "df.info()\n",
    "df.to_csv('priceRaw.csv', encoding = 'utf-8')"
   ]
  },
  {
   "cell_type": "markdown",
   "metadata": {
    "deletable": true,
    "editable": true
   },
   "source": [
    "## Model training"
   ]
  },
  {
   "cell_type": "code",
   "execution_count": 21,
   "metadata": {
    "collapsed": true,
    "deletable": true,
    "editable": true
   },
   "outputs": [],
   "source": [
    "from sklearn.preprocessing import LabelEncoder\n",
    "from sklearn.preprocessing import OneHotEncoder\n",
    "\n",
    "def encode_with_LabelEncoder(df, column_name):\n",
    "    label_encoder = LabelEncoder()\n",
    "    label_encoder.fit(df[column_name])\n",
    "    df[column_name+'_le'] = label_encoder.transform(df[column_name])\n",
    "    df.drop([column_name], axis=1, inplace=True)\n",
    "    return label_encoder\n",
    "\n",
    "def encode_with_existing_LabelEncoder(df, column_name, label_encoder):\n",
    "    df[column_name+'_le'] = label_encoder.transform(df[column_name])\n",
    "    df.drop([column_name], axis=1, inplace=True)\n",
    "\n",
    "def encode_with_OneHotEncoder_and_delete_column(df, column_name):\n",
    "    le_encoder = encode_with_LabelEncoder(df, column_name)\n",
    "    return perform_dummy_coding_and_delete_column(df, column_name, le_encoder), le_encoder\n",
    "\n",
    "def encode_with_OneHotEncoder_using_existing_LabelEncoder_and_delete_column(df, column_name, le_encoder):\n",
    "    encode_with_existing_LabelEncoder(df, column_name, le_encoder)\n",
    "    return perform_dummy_coding_and_delete_column(df, column_name, le_encoder)\n",
    "\n",
    "def perform_dummy_coding_and_delete_column(df, column_name, le_encoder):\n",
    "    oh_encoder = OneHotEncoder(sparse=False)\n",
    "    oh_features = oh_encoder.fit_transform(df[column_name+'_le'].values.reshape(-1,1))\n",
    "    ohe_columns=[column_name + '=' + le_encoder.classes_[i] for i in range(oh_features.shape[1])]\n",
    "\n",
    "    df.drop([column_name+'_le'], axis=1, inplace=True)\n",
    "\n",
    "    df_with_features = pd.DataFrame(oh_features, columns=ohe_columns)\n",
    "    df_with_features.index = df.index\n",
    "    return pd.concat([df, df_with_features], axis=1)"
   ]
  },
  {
   "cell_type": "code",
   "execution_count": 22,
   "metadata": {
    "collapsed": false,
    "deletable": true,
    "editable": true
   },
   "outputs": [],
   "source": [
    "X = df.drop({'price','navic','stitky','url','podlazi'}, axis=1)\n",
    "Y = df['price']\n",
    "\n",
    "def encode_all(X1):\n",
    "    novostavba_le_converter = encode_with_LabelEncoder(X1,'novostavba')\n",
    "    X1, balcony_le_encoder = encode_with_OneHotEncoder_and_delete_column(X1,'balkon')\n",
    "    X1, stavba_le_encoder = encode_with_OneHotEncoder_and_delete_column(X1,'stavba')\n",
    "    X1, velikost_le_encoder = encode_with_OneHotEncoder_and_delete_column(X1,'velikost')\n",
    "    X1, vlastnictvi_le_encoder = encode_with_OneHotEncoder_and_delete_column(X1,'vlastnictvi')\n",
    "    X1, location_le_encoder = encode_with_OneHotEncoder_and_delete_column(X1,'location')\n",
    "    X1, stav_le_encoder = encode_with_OneHotEncoder_and_delete_column(X1,'stavOb')\n",
    "    X1, floor_le_encoder = encode_with_OneHotEncoder_and_delete_column(X1,'floor')\n",
    "    X1, floor_le_encoder = encode_with_OneHotEncoder_and_delete_column(X1,'trida')\n",
    "    sklep_le_encoder = encode_with_LabelEncoder(X1,'sklep')\n",
    "    parkovani_le_encoder = encode_with_LabelEncoder(X1,'parkovani')\n",
    "    vytah_le_encoder = encode_with_LabelEncoder(X1,'vytah')\n",
    "    firstFloor_le_encoder = encode_with_LabelEncoder(X1,'firstFloor')\n",
    "    return X1\n",
    "\n",
    "X = encode_all(X)"
   ]
  },
  {
   "cell_type": "markdown",
   "metadata": {
    "deletable": true,
    "editable": true
   },
   "source": []
  },
  {
   "cell_type": "code",
   "execution_count": 23,
   "metadata": {
    "collapsed": false,
    "deletable": true,
    "editable": true
   },
   "outputs": [],
   "source": [
    "from sklearn.ensemble import RandomForestRegressor\n",
    "from sklearn.model_selection  import KFold\n",
    "from sklearn.model_selection  import cross_val_score\n",
    "n_folds = 7\n",
    "records_count = Y.count()\n",
    "kf = KFold(n_splits=n_folds, shuffle=True, random_state=1)"
   ]
  },
  {
   "cell_type": "code",
   "execution_count": 24,
   "metadata": {
    "collapsed": false,
    "deletable": true,
    "editable": true
   },
   "outputs": [
    {
     "name": "stdout",
     "output_type": "stream",
     "text": [
      "(1, 0.5178086656327483)\n",
      "(6, 0.66829186871407165)\n",
      "(11, 0.69328235662498205)\n",
      "(16, 0.69666780125792793)\n",
      "(21, 0.70328524913333879)\n",
      "(26, 0.70338613853965803)\n",
      "(31, 0.7095809272442084)\n",
      "(36, 0.71356360436130584)\n",
      "(41, 0.71343592590939886)\n",
      "(46, 0.71403326440761816)\n",
      "(51, 0.71467307237161293)\n",
      "(56, 0.71544090510352654)\n",
      "(61, 0.71610312028080514)\n",
      "CPU times: user 37.6 s, sys: 268 ms, total: 37.8 s\n",
      "Wall time: 37.9 s\n"
     ]
    }
   ],
   "source": [
    "%%time\n",
    "from sklearn.model_selection import GridSearchCV\n",
    "scores = list()\n",
    "scores_std = list()\n",
    "\n",
    "\n",
    "def determine_forest_quality(trees_count):\n",
    "    clf = RandomForestRegressor(n_estimators = trees_count, random_state=1)\n",
    "    score = cross_val_score(clf, X, Y, scoring='r2', cv=kf)\n",
    "    scores.append(np.mean(score))\n",
    "    scores_std.append(np.std(score))\n",
    "    return score.mean()\n",
    "\n",
    "for k in range(1,62,5):\n",
    "    quality = determine_forest_quality(k)    \n",
    "    print (k, quality)\n",
    "    "
   ]
  },
  {
   "cell_type": "code",
   "execution_count": 25,
   "metadata": {
    "collapsed": false,
    "deletable": true,
    "editable": true
   },
   "outputs": [
    {
     "data": {
      "text/plain": [
       "(0.10000000000000001, 0.31622776601683794)"
      ]
     },
     "execution_count": 25,
     "metadata": {},
     "output_type": "execute_result"
    },
    {
     "data": {
      "image/png": "[encoded data removed]",
      "text/plain": [
       "<matplotlib.figure.Figure at 0x111a28250>"
      ]
     },
     "metadata": {},
     "output_type": "display_data"
    }
   ],
   "source": [
    "import matplotlib.pyplot as plt\n",
    "scores, scores_std = np.array(scores), np.array(scores_std)\n",
    "alphas = np.logspace(-1, -0.5, 13)\n",
    "\n",
    "plt.figure().set_size_inches(8, 6)\n",
    "plt.semilogx(alphas, scores)\n",
    "\n",
    "std_error = scores_std / np.sqrt(n_folds)\n",
    "\n",
    "plt.semilogx(alphas, scores + std_error, 'b--')\n",
    "plt.semilogx(alphas, scores - std_error, 'b--')\n",
    "plt.fill_between(alphas, scores + std_error, scores - std_error, alpha=0.2)\n",
    "\n",
    "plt.ylabel('CV score +/- std error')\n",
    "plt.xlabel('alpha')\n",
    "plt.axhline(np.max(scores), linestyle='--', color='.5')\n",
    "plt.xlim([alphas[0], alphas[-1]])"
   ]
  },
  {
   "cell_type": "code",
   "execution_count": 26,
   "metadata": {
    "collapsed": false,
    "deletable": true,
    "editable": true
   },
   "outputs": [
    {
     "data": {
      "text/plain": [
       "RandomForestRegressor(bootstrap=True, criterion='mse', max_depth=None,\n",
       "           max_features='auto', max_leaf_nodes=None,\n",
       "           min_impurity_split=1e-07, min_samples_leaf=1,\n",
       "           min_samples_split=2, min_weight_fraction_leaf=0.0,\n",
       "           n_estimators=51, n_jobs=1, oob_score=False, random_state=1,\n",
       "           verbose=0, warm_start=False)"
      ]
     },
     "execution_count": 26,
     "metadata": {},
     "output_type": "execute_result"
    }
   ],
   "source": [
    "clf = RandomForestRegressor(n_estimators = 51, random_state=1)\n",
    "clf.fit(X, Y)"
   ]
  },
  {
   "cell_type": "code",
   "execution_count": 27,
   "metadata": {
    "collapsed": false,
    "deletable": true,
    "editable": true
   },
   "outputs": [
    {
     "name": "stdout",
     "output_type": "stream",
     "text": [
      "novostavba_le 0.7132\n",
      "velikost=1+1 0.0573\n",
      "location=Národní obrany, Praha 6 - Bubeneč 0.0105\n",
      "location=K Červenému dvoru, Praha 3 - Strašnice 0.0091\n",
      "location=Jeronýmova, Praha 3 - Žižkov 0.0086\n",
      "location=Spinozova, Praha - Modřany 0.0074\n",
      "location=Irská, Praha 6 - Vokovice 0.0071\n",
      "location=Libická, Praha - Vinohrady 0.006\n",
      "velikost=4+1 0.0054\n",
      "stavOb=veryGood 0.0053\n"
     ]
    }
   ],
   "source": [
    "# top 20 features:\n",
    "features = X.columns.values\n",
    "importances = clf.feature_importances_\n",
    "indices = np.argsort(importances)[::-1]\n",
    "\n",
    "num_to_plot = 10\n",
    "feature_indices = [ind+1 for ind in indices[:num_to_plot]]\n",
    "\n",
    "for i in range(num_to_plot):\n",
    "    print features[feature_indices[i]], round(importances[indices[i]],4)"
   ]
  },
  {
   "cell_type": "code",
   "execution_count": 28,
   "metadata": {
    "collapsed": false,
    "deletable": true,
    "editable": true
   },
   "outputs": [],
   "source": [
    "predictions = pd.Series(clf.predict(X), index=Y.index)\n",
    "res_info_forest = pd.DataFrame(columns=['Error,%',u'Error,Kč',u'Price,Kč',u'Price,m²', u'URL'])\n",
    "for i in Y.index:\n",
    "    error = Y[i] - predictions[i]\n",
    "    rel_error = error/predictions[i]*100\n",
    "    #if np.abs(rel_error)>15:\n",
    "    res_info_forest.loc[i] = pd.Series({\n",
    "            'Error,%':round(rel_error,1),\n",
    "            u'Error,Kč':'{:,}'.format(int(error)),\n",
    "            u'Price,Kč':'{:,}'.format(Y[i]),\n",
    "            u'Price,m²':'{:,}'.format(int(Y[i]/X['plocha'][i])),\n",
    "            'URL':'{}/{}/'.format(' https://www.sreality.cz/detail/prodej/byt', df['url'][i])\n",
    "    })\n",
    "    "
   ]
  },
  {
   "cell_type": "code",
   "execution_count": 29,
   "metadata": {
    "collapsed": false,
    "deletable": true,
    "editable": true
   },
   "outputs": [
    {
     "name": "stdout",
     "output_type": "stream",
     "text": [
      "(1, -3.5707294768910804)\n",
      "(51, 0.72762120253250284)\n",
      "(101, 0.73393857131215601)\n",
      "(151, 0.73618332720533186)\n",
      "(201, 0.73722818686432245)\n",
      "(251, 0.73765880537230932)\n",
      "(301, 0.73778916300635455)\n",
      "(351, 0.73783871963104253)\n",
      "CPU times: user 3min 21s, sys: 709 ms, total: 3min 22s\n",
      "Wall time: 3min 22s\n"
     ]
    }
   ],
   "source": [
    "%%time\n",
    "import xgboost as xgb\n",
    "scores = list()\n",
    "scores_std = list()\n",
    "kf = KFold(n_splits=n_folds, shuffle=True, random_state=1)\n",
    "def determine_forest_quality(trees_count):\n",
    "    clf = xgb.XGBRegressor(n_estimators = trees_count, max_depth = n_folds)\n",
    "    score = cross_val_score(clf, X, Y, scoring='r2', cv=kf)\n",
    "    scores.append(np.mean(score))\n",
    "    scores_std.append(np.std(score))\n",
    "    return score.mean()\n",
    "\n",
    "for k in range(1,400,50):\n",
    "    quality = determine_forest_quality(k)    \n",
    "    print (k, quality)\n"
   ]
  },
  {
   "cell_type": "code",
   "execution_count": 30,
   "metadata": {
    "collapsed": false,
    "deletable": true,
    "editable": true
   },
   "outputs": [
    {
     "data": {
      "text/plain": [
       "(1.0000000000000001e-05, 0.31622776601683794)"
      ]
     },
     "execution_count": 30,
     "metadata": {},
     "output_type": "execute_result"
    },
    {
     "data": {
      "image/png": "[encoded data removed]",
      "text/plain": [
       "<matplotlib.figure.Figure at 0x1140acf50>"
      ]
     },
     "metadata": {},
     "output_type": "display_data"
    }
   ],
   "source": [
    "scores, scores_std = np.array(scores), np.array(scores_std)\n",
    "alphas = np.logspace(-5, -0.5, 8)\n",
    "\n",
    "plt.figure().set_size_inches(8, 12)\n",
    "plt.semilogx(alphas, scores)\n",
    "\n",
    "std_error = scores_std / np.sqrt(n_folds)\n",
    "\n",
    "plt.semilogx(alphas, scores + std_error, 'b--')\n",
    "plt.semilogx(alphas, scores - std_error, 'b--')\n",
    "plt.fill_between(alphas, scores + std_error, scores - std_error, alpha=0.2)\n",
    "\n",
    "plt.ylabel('CV score +/- std error')\n",
    "plt.xlabel('alpha')\n",
    "plt.axhline(np.max(scores), linestyle='--', color='.5')\n",
    "plt.xlim([alphas[0], alphas[-1]])"
   ]
  },
  {
   "cell_type": "code",
   "execution_count": null,
   "metadata": {
    "collapsed": false,
    "deletable": true,
    "editable": true
   },
   "outputs": [
    {
     "data": {
      "text/plain": [
       "XGBRegressor(base_score=0.5, colsample_bylevel=1, colsample_bytree=1, gamma=0,\n",
       "       learning_rate=0.1, max_delta_step=0, max_depth=7,\n",
       "       min_child_weight=1, missing=None, n_estimators=350, nthread=-1,\n",
       "       objective='reg:linear', reg_alpha=0, reg_lambda=1,\n",
       "       scale_pos_weight=1, seed=0, silent=True, subsample=1)"
      ]
     },
     "execution_count": 31,
     "metadata": {},
     "output_type": "execute_result"
    }
   ],
   "source": [
    "clf = xgb.XGBRegressor(n_estimators = 250, max_depth = n_folds)\n",
    "clf.fit(X, Y)"
   ]
  },
  {
   "cell_type": "code",
   "execution_count": null,
   "metadata": {
    "collapsed": false,
    "deletable": true,
    "editable": true
   },
   "outputs": [],
   "source": []
  },
  {
   "cell_type": "markdown",
   "metadata": {
    "deletable": true,
    "editable": true
   },
   "source": [
    "Output results"
   ]
  },
  {
   "cell_type": "code",
   "execution_count": null,
   "metadata": {
    "collapsed": false,
    "deletable": true,
    "editable": true
   },
   "outputs": [],
   "source": [
    "res_info = pd.DataFrame(columns=['Error,%','Error forest,%',u'Error,Kč',u'Error forest,Kč',u'Price,Kč',u'Price,m²', u'URL'])\n",
    "for i in Y.index:\n",
    "    error = Y[i] - predictions[i]\n",
    "    rel_error = error/predictions[i]*100\n",
    "\n",
    "    #if np.abs(rel_error)>15:\n",
    "    res_info.loc[i] = pd.Series({\n",
    "            u'Error,%':round(rel_error,1),\n",
    "            u'Error forest,%': res_info_forest['Error,%'][i],\n",
    "            u'Error,Kč':'{:,}'.format(int(error)),\n",
    "            u'Error forest,Kč': res_info_forest[u'Error,Kč'][i],\n",
    "            u'Price,Kč':'{:,}'.format(Y[i]),\n",
    "            u'Price,m²':'{:,}'.format(int(Y[i]/X['plocha'][i])),\n",
    "            'URL':'{}/{}/'.format(' https://www.sreality.cz/detail/prodej/byt', df['url'][i])\n",
    "    })\n",
    "    \n",
    "# Underpriced offers\n",
    "pd.options.display.max_colwidth = 100\n",
    "res_info.sort_values(by=u'Error,%')[:25]"
   ]
  },
  {
   "cell_type": "code",
   "execution_count": null,
   "metadata": {
    "collapsed": false,
    "deletable": true,
    "editable": true
   },
   "outputs": [],
   "source": [
    "# Overpriced offers\n",
    "res_info.sort_values(by='Error,%', ascending=False)[:15]"
   ]
  },
  {
   "cell_type": "code",
   "execution_count": null,
   "metadata": {
    "collapsed": false,
    "deletable": true,
    "editable": true
   },
   "outputs": [],
   "source": [
    "predictions[4444]"
   ]
  },
  {
   "cell_type": "code",
   "execution_count": null,
   "metadata": {
    "collapsed": false,
    "deletable": true,
    "editable": true
   },
   "outputs": [],
   "source": [
    "res_info.to_csv('priceRes.csv', encoding = 'utf-8', index_label = 'id')"
   ]
  },
  {
   "cell_type": "code",
   "execution_count": null,
   "metadata": {
    "collapsed": true,
    "deletable": true,
    "editable": true
   },
   "outputs": [],
   "source": []
  }
 ],
 "metadata": {
  "kernelspec": {
   "display_name": "Python 2",
   "language": "python",
   "name": "python2"
  },
  "language_info": {
   "codemirror_mode": {
    "name": "ipython",
    "version": 2
   },
   "file_extension": ".py",
   "mimetype": "text/x-python",
   "name": "python",
   "nbconvert_exporter": "python",
   "pygments_lexer": "ipython2",
   "version": "2.7.10"
  }
 },
 "nbformat": 4,
 "nbformat_minor": 0
}
