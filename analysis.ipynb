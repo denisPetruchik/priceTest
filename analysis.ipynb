{
 "cells": [
  {
   "cell_type": "code",
   "execution_count": 72,
   "metadata": {
    "collapsed": false,
    "deletable": true,
    "editable": true
   },
   "outputs": [
    {
     "data": {
      "text/plain": [
       "(981, 14)"
      ]
     },
     "execution_count": 72,
     "metadata": {},
     "output_type": "execute_result"
    }
   ],
   "source": [
    "## Import and data processing\n",
    "\n",
    "import json\n",
    "import pandas as pd\n",
    "import numpy as np\n",
    "\n",
    "\n",
    "with open('sreality/output.json') as data_file: data = json.load(data_file)\n",
    "    \n",
    "df = pd.io.json.json_normalize(data)\n",
    "\n",
    "pd.set_option('display.max_columns', 200)\n",
    "pd.set_option('display.max_rows', 30)\n",
    "\n",
    "df.shape"
   ]
  },
  {
   "cell_type": "code",
   "execution_count": 73,
   "metadata": {
    "collapsed": false,
    "deletable": true,
    "editable": true
   },
   "outputs": [
    {
     "data": {
      "text/html": [
       "<div>\n",
       "<table border=\"1\" class=\"dataframe\">\n",
       "  <thead>\n",
       "    <tr style=\"text-align: right;\">\n",
       "      <th></th>\n",
       "      <th>id</th>\n",
       "      <th>location</th>\n",
       "      <th>navic</th>\n",
       "      <th>novostavba</th>\n",
       "      <th>plocha</th>\n",
       "      <th>podlazi</th>\n",
       "      <th>price</th>\n",
       "      <th>stavOb</th>\n",
       "      <th>stavba</th>\n",
       "      <th>stitky</th>\n",
       "      <th>trida</th>\n",
       "      <th>url</th>\n",
       "      <th>velikost</th>\n",
       "      <th>vlastnictvi</th>\n",
       "    </tr>\n",
       "  </thead>\n",
       "  <tbody>\n",
       "    <tr>\n",
       "      <th>0</th>\n",
       "      <td>2558665052</td>\n",
       "      <td>Kloboukova, Praha 4 - Chodov</td>\n",
       "      <td>,vytah</td>\n",
       "      <td>False</td>\n",
       "      <td>83</td>\n",
       "      <td>3. podlaží z celkem 6 včetně 1 podzemního</td>\n",
       "      <td>4 290 000 Kč</td>\n",
       "      <td>veryGood</td>\n",
       "      <td>panelova</td>\n",
       "      <td>Lodžie,Panelová,Částečně vybavený</td>\n",
       "      <td>C</td>\n",
       "      <td>3+1/praha-chodov-kloboukova/2558665052</td>\n",
       "      <td>3+1</td>\n",
       "      <td>osobni</td>\n",
       "    </tr>\n",
       "    <tr>\n",
       "      <th>1</th>\n",
       "      <td>2667434332</td>\n",
       "      <td>Družstevní, Praha 4 - Nusle</td>\n",
       "      <td></td>\n",
       "      <td>False</td>\n",
       "      <td>43</td>\n",
       "      <td>3. podlaží z celkem 5 včetně 1 podzemního</td>\n",
       "      <td>3 990 000 Kč</td>\n",
       "      <td>afterRec</td>\n",
       "      <td>cihlova</td>\n",
       "      <td>Po rekonstrukci,Lodžie,Vybavený</td>\n",
       "      <td>C</td>\n",
       "      <td>2+kk/praha-nusle-druzstevni/2667434332</td>\n",
       "      <td>2+kk</td>\n",
       "      <td>osobni</td>\n",
       "    </tr>\n",
       "    <tr>\n",
       "      <th>2</th>\n",
       "      <td>3520147804</td>\n",
       "      <td>Menclova, Praha 8 - Libeň</td>\n",
       "      <td>balkon,vytah</td>\n",
       "      <td>False</td>\n",
       "      <td>NaN</td>\n",
       "      <td>NaN</td>\n",
       "      <td>6 321 430 Kč</td>\n",
       "      <td>NaN</td>\n",
       "      <td>ostatni</td>\n",
       "      <td>Ve výstavbě</td>\n",
       "      <td>No</td>\n",
       "      <td>2+kk/praha-liben-menclova/3520147804</td>\n",
       "      <td>2+kk</td>\n",
       "      <td>osobni</td>\n",
       "    </tr>\n",
       "  </tbody>\n",
       "</table>\n",
       "</div>"
      ],
      "text/plain": [
       "           id                      location         navic novostavba plocha  \\\n",
       "0  2558665052  Kloboukova, Praha 4 - Chodov        ,vytah      False     83   \n",
       "1  2667434332   Družstevní, Praha 4 - Nusle                    False     43   \n",
       "2  3520147804     Menclova, Praha 8 - Libeň  balkon,vytah      False    NaN   \n",
       "\n",
       "                                     podlazi         price    stavOb  \\\n",
       "0  3. podlaží z celkem 6 včetně 1 podzemního  4 290 000 Kč  veryGood   \n",
       "1  3. podlaží z celkem 5 včetně 1 podzemního  3 990 000 Kč  afterRec   \n",
       "2                                        NaN  6 321 430 Kč       NaN   \n",
       "\n",
       "     stavba                             stitky trida  \\\n",
       "0  panelova  Lodžie,Panelová,Částečně vybavený     C   \n",
       "1   cihlova    Po rekonstrukci,Lodžie,Vybavený     C   \n",
       "2   ostatni                        Ve výstavbě    No   \n",
       "\n",
       "                                      url velikost vlastnictvi  \n",
       "0  3+1/praha-chodov-kloboukova/2558665052      3+1      osobni  \n",
       "1  2+kk/praha-nusle-druzstevni/2667434332     2+kk      osobni  \n",
       "2    2+kk/praha-liben-menclova/3520147804     2+kk      osobni  "
      ]
     },
     "execution_count": 73,
     "metadata": {},
     "output_type": "execute_result"
    }
   ],
   "source": [
    "df.head(3)"
   ]
  },
  {
   "cell_type": "code",
   "execution_count": 74,
   "metadata": {
    "collapsed": false,
    "deletable": true,
    "editable": true
   },
   "outputs": [],
   "source": [
    "df.index = df['id'].apply(pd.to_numeric)\n",
    "del df['id']\n"
   ]
  },
  {
   "cell_type": "code",
   "execution_count": 75,
   "metadata": {
    "collapsed": false,
    "deletable": true,
    "editable": true
   },
   "outputs": [
    {
     "data": {
      "text/plain": [
       "Index([u'location', u'navic', u'novostavba', u'plocha', u'podlazi', u'price',\n",
       "       u'stavOb', u'stavba', u'stitky', u'trida', u'url', u'velikost',\n",
       "       u'vlastnictvi'],\n",
       "      dtype='object')"
      ]
     },
     "execution_count": 75,
     "metadata": {},
     "output_type": "execute_result"
    }
   ],
   "source": [
    "# Column names:\n",
    "df.columns"
   ]
  },
  {
   "cell_type": "code",
   "execution_count": 76,
   "metadata": {
    "collapsed": false,
    "deletable": true,
    "editable": true
   },
   "outputs": [
    {
     "data": {
      "text/plain": [
       "Štolcova, Praha 4 - Modřany           18\n",
       "Kolbenova, Praha 9 - Vysočany         17\n",
       "Rohanské nábřeží, Praha 8 - Karlín    13\n",
       "Voctářova, Praha - Praha 8            12\n",
       "Libeňský ostrov, Praha 8 - Libeň       9\n",
       "Name: location, dtype: int64"
      ]
     },
     "execution_count": 76,
     "metadata": {},
     "output_type": "execute_result"
    }
   ],
   "source": [
    "df['location'].value_counts()[:5]"
   ]
  },
  {
   "cell_type": "code",
   "execution_count": 77,
   "metadata": {
    "collapsed": false,
    "deletable": true,
    "editable": true
   },
   "outputs": [
    {
     "data": {
      "text/plain": [
       "osobni           894\n",
       "druzstevni        85\n",
       "statni-obecni      2\n",
       "Name: vlastnictvi, dtype: int64"
      ]
     },
     "execution_count": 77,
     "metadata": {},
     "output_type": "execute_result"
    }
   ],
   "source": [
    "df['vlastnictvi'].value_counts()"
   ]
  },
  {
   "cell_type": "code",
   "execution_count": 78,
   "metadata": {
    "collapsed": false,
    "deletable": true,
    "editable": true
   },
   "outputs": [
    {
     "data": {
      "text/html": [
       "<div>\n",
       "<table border=\"1\" class=\"dataframe\">\n",
       "  <thead>\n",
       "    <tr style=\"text-align: right;\">\n",
       "      <th></th>\n",
       "      <th>location</th>\n",
       "      <th>navic</th>\n",
       "      <th>novostavba</th>\n",
       "      <th>plocha</th>\n",
       "      <th>podlazi</th>\n",
       "      <th>price</th>\n",
       "      <th>stavOb</th>\n",
       "      <th>stavba</th>\n",
       "      <th>stitky</th>\n",
       "      <th>trida</th>\n",
       "      <th>url</th>\n",
       "      <th>velikost</th>\n",
       "      <th>vlastnictvi</th>\n",
       "    </tr>\n",
       "    <tr>\n",
       "      <th>id</th>\n",
       "      <th></th>\n",
       "      <th></th>\n",
       "      <th></th>\n",
       "      <th></th>\n",
       "      <th></th>\n",
       "      <th></th>\n",
       "      <th></th>\n",
       "      <th></th>\n",
       "      <th></th>\n",
       "      <th></th>\n",
       "      <th></th>\n",
       "      <th></th>\n",
       "      <th></th>\n",
       "    </tr>\n",
       "  </thead>\n",
       "  <tbody>\n",
       "    <tr>\n",
       "      <th>3466731868</th>\n",
       "      <td>Na Výrovně, Praha 5 - Stodůlky</td>\n",
       "      <td>,garaz,vytah</td>\n",
       "      <td>False</td>\n",
       "      <td>45</td>\n",
       "      <td>4. podlaží z celkem 5</td>\n",
       "      <td>Info o ceně u RK</td>\n",
       "      <td>veryGood</td>\n",
       "      <td>ostatni</td>\n",
       "      <td>Balkon,Garáž,Vybavený</td>\n",
       "      <td>G</td>\n",
       "      <td>2+kk/praha-stodulky-na-vyrovne/3466731868</td>\n",
       "      <td>2+kk</td>\n",
       "      <td>osobni</td>\n",
       "    </tr>\n",
       "    <tr>\n",
       "      <th>3161796956</th>\n",
       "      <td>Ke Kamýku, Praha - Kamýk</td>\n",
       "      <td>lodzie</td>\n",
       "      <td>True</td>\n",
       "      <td>106</td>\n",
       "      <td>2. podlaží z celkem 3</td>\n",
       "      <td>Info o ceně u RK</td>\n",
       "      <td>Novostavba</td>\n",
       "      <td>cihlova</td>\n",
       "      <td></td>\n",
       "      <td>B</td>\n",
       "      <td>3+kk/praha-kamyk-ke-kamyku/3161796956</td>\n",
       "      <td>3+kk</td>\n",
       "      <td>osobni</td>\n",
       "    </tr>\n",
       "    <tr>\n",
       "      <th>80159068</th>\n",
       "      <td>Jílovská, Praha - Praha 4</td>\n",
       "      <td>lodzie</td>\n",
       "      <td>False</td>\n",
       "      <td>64</td>\n",
       "      <td>10. podlaží z celkem 11</td>\n",
       "      <td>Info o ceně u RK</td>\n",
       "      <td>afterRec</td>\n",
       "      <td>panelova</td>\n",
       "      <td>Po rekonstrukci,Panelová</td>\n",
       "      <td>No</td>\n",
       "      <td>3+1/praha-praha-4-jilovska/80159068</td>\n",
       "      <td>3+1</td>\n",
       "      <td>osobni</td>\n",
       "    </tr>\n",
       "  </tbody>\n",
       "</table>\n",
       "</div>"
      ],
      "text/plain": [
       "                                  location         navic novostavba plocha  \\\n",
       "id                                                                           \n",
       "3466731868  Na Výrovně, Praha 5 - Stodůlky  ,garaz,vytah      False     45   \n",
       "3161796956        Ke Kamýku, Praha - Kamýk        lodzie       True    106   \n",
       "80159068         Jílovská, Praha - Praha 4        lodzie      False     64   \n",
       "\n",
       "                            podlazi             price      stavOb    stavba  \\\n",
       "id                                                                            \n",
       "3466731868    4. podlaží z celkem 5  Info o ceně u RK    veryGood   ostatni   \n",
       "3161796956    2. podlaží z celkem 3  Info o ceně u RK  Novostavba   cihlova   \n",
       "80159068    10. podlaží z celkem 11  Info o ceně u RK    afterRec  panelova   \n",
       "\n",
       "                              stitky trida  \\\n",
       "id                                           \n",
       "3466731868     Balkon,Garáž,Vybavený     G   \n",
       "3161796956                               B   \n",
       "80159068    Po rekonstrukci,Panelová    No   \n",
       "\n",
       "                                                  url velikost vlastnictvi  \n",
       "id                                                                          \n",
       "3466731868  2+kk/praha-stodulky-na-vyrovne/3466731868     2+kk      osobni  \n",
       "3161796956      3+kk/praha-kamyk-ke-kamyku/3161796956     3+kk      osobni  \n",
       "80159068          3+1/praha-praha-4-jilovska/80159068      3+1      osobni  "
      ]
     },
     "execution_count": 78,
     "metadata": {},
     "output_type": "execute_result"
    }
   ],
   "source": [
    "df[df['price'] == u'Info o ceně u RK'][:3]"
   ]
  },
  {
   "cell_type": "code",
   "execution_count": 79,
   "metadata": {
    "collapsed": false,
    "deletable": true,
    "editable": true
   },
   "outputs": [],
   "source": [
    "# Removing our 'priceless' offers\n",
    "df = df[df['price'] != u'Info o ceně u RK']"
   ]
  },
  {
   "cell_type": "code",
   "execution_count": 80,
   "metadata": {
    "collapsed": false,
    "deletable": true,
    "editable": true
   },
   "outputs": [],
   "source": [
    "df['price'] = df['price'].map(lambda x: x[:x.find(u' Kč')].replace(' ',''))"
   ]
  },
  {
   "cell_type": "code",
   "execution_count": 81,
   "metadata": {
    "collapsed": false,
    "deletable": true,
    "editable": true
   },
   "outputs": [],
   "source": [
    "# converting price to int64\n",
    "df['price'] = pd.to_numeric(df['price'], errors='coerce')"
   ]
  },
  {
   "cell_type": "code",
   "execution_count": 82,
   "metadata": {
    "collapsed": false,
    "deletable": true,
    "editable": true
   },
   "outputs": [
    {
     "data": {
      "image/png": "[encoded data removed]",
      "text/plain": [
       "<matplotlib.figure.Figure at 0x1115b7950>"
      ]
     },
     "metadata": {},
     "output_type": "display_data"
    }
   ],
   "source": [
    "%matplotlib inline\n",
    "import seaborn as sns\n",
    "# price destribution\n",
    "sns.distplot(df['price']);"
   ]
  },
  {
   "cell_type": "code",
   "execution_count": 83,
   "metadata": {
    "collapsed": false,
    "deletable": true,
    "editable": true
   },
   "outputs": [
    {
     "data": {
      "image/png": "[encoded data removed]",
      "text/plain": [
       "<matplotlib.figure.Figure at 0x110df1990>"
      ]
     },
     "metadata": {},
     "output_type": "display_data"
    }
   ],
   "source": [
    "df = df[df['price'] < 15000000]\n",
    "df = df[df['price'] > 1500000]\n",
    "sns.distplot(df['price']);"
   ]
  },
  {
   "cell_type": "code",
   "execution_count": 84,
   "metadata": {
    "collapsed": false,
    "deletable": true,
    "editable": true
   },
   "outputs": [
    {
     "name": "stdout",
     "output_type": "stream",
     "text": [
      "<class 'pandas.core.frame.DataFrame'>\n",
      "Int64Index: 896 entries, 2558665052 to 3837731164\n",
      "Data columns (total 13 columns):\n",
      "location       896 non-null object\n",
      "navic          896 non-null object\n",
      "novostavba     896 non-null object\n",
      "plocha         743 non-null object\n",
      "podlazi        743 non-null object\n",
      "price          896 non-null int64\n",
      "stavOb         856 non-null object\n",
      "stavba         896 non-null object\n",
      "stitky         896 non-null object\n",
      "trida          896 non-null object\n",
      "url            896 non-null object\n",
      "velikost       896 non-null object\n",
      "vlastnictvi    896 non-null object\n",
      "dtypes: int64(1), object(12)\n",
      "memory usage: 98.0+ KB\n"
     ]
    }
   ],
   "source": [
    "# overall info\n",
    "df.info()"
   ]
  },
  {
   "cell_type": "markdown",
   "metadata": {
    "deletable": true,
    "editable": true
   },
   "source": [
    "## Filling missing fields"
   ]
  },
  {
   "cell_type": "markdown",
   "metadata": {
    "deletable": true,
    "editable": true
   },
   "source": [
    "### Užitná plocha"
   ]
  },
  {
   "cell_type": "code",
   "execution_count": 85,
   "metadata": {
    "collapsed": false,
    "deletable": true,
    "editable": true
   },
   "outputs": [],
   "source": [
    "df['plocha'] = pd.to_numeric(df['plocha'], errors='coerce')"
   ]
  },
  {
   "cell_type": "code",
   "execution_count": 86,
   "metadata": {
    "collapsed": false,
    "deletable": true,
    "editable": true
   },
   "outputs": [
    {
     "data": {
      "text/plain": [
       "Novostavba    294\n",
       "veryGood      280\n",
       "good          134\n",
       "afterRec      116\n",
       "beforeRec      32\n",
       "Name: stavOb, dtype: int64"
      ]
     },
     "execution_count": 86,
     "metadata": {},
     "output_type": "execute_result"
    }
   ],
   "source": [
    "df[u'stavOb'].value_counts()"
   ]
  },
  {
   "cell_type": "markdown",
   "metadata": {
    "deletable": true,
    "editable": true
   },
   "source": [
    "### Lodžie, Novostavba, sklep, parkovani"
   ]
  },
  {
   "cell_type": "code",
   "execution_count": 87,
   "metadata": {
    "collapsed": false,
    "deletable": true,
    "editable": true
   },
   "outputs": [
    {
     "data": {
      "text/html": [
       "<div>\n",
       "<table border=\"1\" class=\"dataframe\">\n",
       "  <thead>\n",
       "    <tr style=\"text-align: right;\">\n",
       "      <th></th>\n",
       "      <th>location</th>\n",
       "      <th>navic</th>\n",
       "      <th>novostavba</th>\n",
       "      <th>plocha</th>\n",
       "      <th>podlazi</th>\n",
       "      <th>price</th>\n",
       "      <th>stavOb</th>\n",
       "      <th>stavba</th>\n",
       "      <th>stitky</th>\n",
       "      <th>trida</th>\n",
       "      <th>url</th>\n",
       "      <th>velikost</th>\n",
       "      <th>vlastnictvi</th>\n",
       "      <th>sklep</th>\n",
       "      <th>parkovani</th>\n",
       "      <th>vytah</th>\n",
       "      <th>balkon</th>\n",
       "    </tr>\n",
       "    <tr>\n",
       "      <th>id</th>\n",
       "      <th></th>\n",
       "      <th></th>\n",
       "      <th></th>\n",
       "      <th></th>\n",
       "      <th></th>\n",
       "      <th></th>\n",
       "      <th></th>\n",
       "      <th></th>\n",
       "      <th></th>\n",
       "      <th></th>\n",
       "      <th></th>\n",
       "      <th></th>\n",
       "      <th></th>\n",
       "      <th></th>\n",
       "      <th></th>\n",
       "      <th></th>\n",
       "      <th></th>\n",
       "    </tr>\n",
       "  </thead>\n",
       "  <tbody>\n",
       "    <tr>\n",
       "      <th>2558665052</th>\n",
       "      <td>Kloboukova, Praha 4 - Chodov</td>\n",
       "      <td>,vytah</td>\n",
       "      <td>False</td>\n",
       "      <td>83.0</td>\n",
       "      <td>3. podlaží z celkem 6 včetně 1 podzemního</td>\n",
       "      <td>4290000</td>\n",
       "      <td>veryGood</td>\n",
       "      <td>panelova</td>\n",
       "      <td>Lodžie,Panelová,Částečně vybavený</td>\n",
       "      <td>C</td>\n",
       "      <td>3+1/praha-chodov-kloboukova/2558665052</td>\n",
       "      <td>3+1</td>\n",
       "      <td>osobni</td>\n",
       "      <td>False</td>\n",
       "      <td>False</td>\n",
       "      <td>True</td>\n",
       "      <td></td>\n",
       "    </tr>\n",
       "    <tr>\n",
       "      <th>2667434332</th>\n",
       "      <td>Družstevní, Praha 4 - Nusle</td>\n",
       "      <td></td>\n",
       "      <td>False</td>\n",
       "      <td>43.0</td>\n",
       "      <td>3. podlaží z celkem 5 včetně 1 podzemního</td>\n",
       "      <td>3990000</td>\n",
       "      <td>afterRec</td>\n",
       "      <td>cihlova</td>\n",
       "      <td>Po rekonstrukci,Lodžie,Vybavený</td>\n",
       "      <td>C</td>\n",
       "      <td>2+kk/praha-nusle-druzstevni/2667434332</td>\n",
       "      <td>2+kk</td>\n",
       "      <td>osobni</td>\n",
       "      <td>False</td>\n",
       "      <td>False</td>\n",
       "      <td>False</td>\n",
       "      <td></td>\n",
       "    </tr>\n",
       "    <tr>\n",
       "      <th>3520147804</th>\n",
       "      <td>Menclova, Praha 8 - Libeň</td>\n",
       "      <td>balkon,vytah</td>\n",
       "      <td>False</td>\n",
       "      <td>NaN</td>\n",
       "      <td>NaN</td>\n",
       "      <td>6321430</td>\n",
       "      <td>NaN</td>\n",
       "      <td>ostatni</td>\n",
       "      <td>Ve výstavbě</td>\n",
       "      <td>No</td>\n",
       "      <td>2+kk/praha-liben-menclova/3520147804</td>\n",
       "      <td>2+kk</td>\n",
       "      <td>osobni</td>\n",
       "      <td>False</td>\n",
       "      <td>False</td>\n",
       "      <td>True</td>\n",
       "      <td>balkon</td>\n",
       "    </tr>\n",
       "  </tbody>\n",
       "</table>\n",
       "</div>"
      ],
      "text/plain": [
       "                                location         navic novostavba  plocha  \\\n",
       "id                                                                          \n",
       "2558665052  Kloboukova, Praha 4 - Chodov        ,vytah      False    83.0   \n",
       "2667434332   Družstevní, Praha 4 - Nusle                    False    43.0   \n",
       "3520147804     Menclova, Praha 8 - Libeň  balkon,vytah      False     NaN   \n",
       "\n",
       "                                              podlazi    price    stavOb  \\\n",
       "id                                                                         \n",
       "2558665052  3. podlaží z celkem 6 včetně 1 podzemního  4290000  veryGood   \n",
       "2667434332  3. podlaží z celkem 5 včetně 1 podzemního  3990000  afterRec   \n",
       "3520147804                                        NaN  6321430       NaN   \n",
       "\n",
       "              stavba                             stitky trida  \\\n",
       "id                                                              \n",
       "2558665052  panelova  Lodžie,Panelová,Částečně vybavený     C   \n",
       "2667434332   cihlova    Po rekonstrukci,Lodžie,Vybavený     C   \n",
       "3520147804   ostatni                        Ve výstavbě    No   \n",
       "\n",
       "                                               url velikost vlastnictvi  \\\n",
       "id                                                                        \n",
       "2558665052  3+1/praha-chodov-kloboukova/2558665052      3+1      osobni   \n",
       "2667434332  2+kk/praha-nusle-druzstevni/2667434332     2+kk      osobni   \n",
       "3520147804    2+kk/praha-liben-menclova/3520147804     2+kk      osobni   \n",
       "\n",
       "            sklep parkovani  vytah  balkon  \n",
       "id                                          \n",
       "2558665052  False     False   True          \n",
       "2667434332  False     False  False          \n",
       "3520147804  False     False   True  balkon  "
      ]
     },
     "execution_count": 87,
     "metadata": {},
     "output_type": "execute_result"
    }
   ],
   "source": [
    "def contains_converter(mapping, param):\n",
    "    for i in mapping:        \n",
    "        if param.find(i) > -1:\n",
    "            return mapping[i]\n",
    "    return ''\n",
    "balcony_mapping = {\n",
    "        u'balkon':u'balkon',\n",
    "        u'lodzie':u'lodzie',\n",
    "        u'terasa':u'terasa'    \n",
    "    }\n",
    "\n",
    "df['sklep'] = df['navic'].str.contains('sklep')\n",
    "df['parkovani'] = df['navic'].str.contains('parkovani')\n",
    "df['vytah'] = df['navic'].str.contains('vytah')\n",
    "df['balkon'] = df['navic'].map(lambda x: contains_converter(balcony_mapping, x))\n",
    "df.head(3)"
   ]
  },
  {
   "cell_type": "markdown",
   "metadata": {
    "deletable": true,
    "editable": true
   },
   "source": [
    "### metro and public transport"
   ]
  },
  {
   "cell_type": "code",
   "execution_count": 88,
   "metadata": {
    "collapsed": false,
    "deletable": true,
    "editable": true
   },
   "outputs": [
    {
     "data": {
      "text/plain": [
       "location       False\n",
       "navic          False\n",
       "novostavba     False\n",
       "plocha         False\n",
       "podlazi        False\n",
       "price          False\n",
       "stavOb         False\n",
       "stavba         False\n",
       "stitky         False\n",
       "trida          False\n",
       "url            False\n",
       "velikost       False\n",
       "vlastnictvi    False\n",
       "sklep          False\n",
       "parkovani      False\n",
       "vytah          False\n",
       "balkon         False\n",
       "dtype: bool"
      ]
     },
     "execution_count": 88,
     "metadata": {},
     "output_type": "execute_result"
    }
   ],
   "source": [
    "df = df.dropna(axis=0, how='any')\n",
    "df.isnull().any()"
   ]
  },
  {
   "cell_type": "code",
   "execution_count": 89,
   "metadata": {
    "collapsed": false,
    "deletable": true,
    "editable": true
   },
   "outputs": [
    {
     "data": {
      "text/html": [
       "<div>\n",
       "<table border=\"1\" class=\"dataframe\">\n",
       "  <thead>\n",
       "    <tr style=\"text-align: right;\">\n",
       "      <th></th>\n",
       "      <th>plocha</th>\n",
       "      <th>price</th>\n",
       "    </tr>\n",
       "  </thead>\n",
       "  <tbody>\n",
       "    <tr>\n",
       "      <th>count</th>\n",
       "      <td>718.000000</td>\n",
       "      <td>7.180000e+02</td>\n",
       "    </tr>\n",
       "    <tr>\n",
       "      <th>mean</th>\n",
       "      <td>83.665738</td>\n",
       "      <td>5.406215e+06</td>\n",
       "    </tr>\n",
       "    <tr>\n",
       "      <th>std</th>\n",
       "      <td>143.653512</td>\n",
       "      <td>2.573762e+06</td>\n",
       "    </tr>\n",
       "    <tr>\n",
       "      <th>min</th>\n",
       "      <td>21.000000</td>\n",
       "      <td>1.590000e+06</td>\n",
       "    </tr>\n",
       "    <tr>\n",
       "      <th>25%</th>\n",
       "      <td>53.250000</td>\n",
       "      <td>3.590000e+06</td>\n",
       "    </tr>\n",
       "    <tr>\n",
       "      <th>50%</th>\n",
       "      <td>69.000000</td>\n",
       "      <td>4.550000e+06</td>\n",
       "    </tr>\n",
       "    <tr>\n",
       "      <th>75%</th>\n",
       "      <td>87.000000</td>\n",
       "      <td>6.695000e+06</td>\n",
       "    </tr>\n",
       "    <tr>\n",
       "      <th>max</th>\n",
       "      <td>2918.000000</td>\n",
       "      <td>1.499000e+07</td>\n",
       "    </tr>\n",
       "  </tbody>\n",
       "</table>\n",
       "</div>"
      ],
      "text/plain": [
       "            plocha         price\n",
       "count   718.000000  7.180000e+02\n",
       "mean     83.665738  5.406215e+06\n",
       "std     143.653512  2.573762e+06\n",
       "min      21.000000  1.590000e+06\n",
       "25%      53.250000  3.590000e+06\n",
       "50%      69.000000  4.550000e+06\n",
       "75%      87.000000  6.695000e+06\n",
       "max    2918.000000  1.499000e+07"
      ]
     },
     "execution_count": 89,
     "metadata": {},
     "output_type": "execute_result"
    }
   ],
   "source": [
    "df['floor'] = df['podlazi'].map(lambda x: x[:x.find(u'. podlaží z celkem ')].replace(' ',''))\n",
    "df['firstFloor'] = df['floor'].map(lambda x: True if x == '1' else False)\n",
    "df.describe()"
   ]
  },
  {
   "cell_type": "code",
   "execution_count": 90,
   "metadata": {
    "collapsed": false,
    "deletable": true,
    "editable": true
   },
   "outputs": [
    {
     "name": "stdout",
     "output_type": "stream",
     "text": [
      "<class 'pandas.core.frame.DataFrame'>\n",
      "Int64Index: 718 entries, 2558665052 to 3837731164\n",
      "Data columns (total 19 columns):\n",
      "location       718 non-null object\n",
      "navic          718 non-null object\n",
      "novostavba     718 non-null object\n",
      "plocha         718 non-null float64\n",
      "podlazi        718 non-null object\n",
      "price          718 non-null int64\n",
      "stavOb         718 non-null object\n",
      "stavba         718 non-null object\n",
      "stitky         718 non-null object\n",
      "trida          718 non-null object\n",
      "url            718 non-null object\n",
      "velikost       718 non-null object\n",
      "vlastnictvi    718 non-null object\n",
      "sklep          718 non-null bool\n",
      "parkovani      718 non-null bool\n",
      "vytah          718 non-null bool\n",
      "balkon         718 non-null object\n",
      "floor          718 non-null object\n",
      "firstFloor     718 non-null bool\n",
      "dtypes: bool(4), float64(1), int64(1), object(13)\n",
      "memory usage: 92.6+ KB\n"
     ]
    }
   ],
   "source": [
    "df.info()"
   ]
  },
  {
   "cell_type": "markdown",
   "metadata": {
    "deletable": true,
    "editable": true
   },
   "source": [
    "## Model training"
   ]
  },
  {
   "cell_type": "code",
   "execution_count": 91,
   "metadata": {
    "collapsed": true,
    "deletable": true,
    "editable": true
   },
   "outputs": [],
   "source": [
    "from sklearn.preprocessing import LabelEncoder\n",
    "from sklearn.preprocessing import OneHotEncoder\n",
    "\n",
    "def encode_with_LabelEncoder(df, column_name):\n",
    "    label_encoder = LabelEncoder()\n",
    "    label_encoder.fit(df[column_name])\n",
    "    df[column_name+'_le'] = label_encoder.transform(df[column_name])\n",
    "    df.drop([column_name], axis=1, inplace=True)\n",
    "    return label_encoder\n",
    "\n",
    "def encode_with_existing_LabelEncoder(df, column_name, label_encoder):\n",
    "    df[column_name+'_le'] = label_encoder.transform(df[column_name])\n",
    "    df.drop([column_name], axis=1, inplace=True)\n",
    "\n",
    "def encode_with_OneHotEncoder_and_delete_column(df, column_name):\n",
    "    le_encoder = encode_with_LabelEncoder(df, column_name)\n",
    "    return perform_dummy_coding_and_delete_column(df, column_name, le_encoder), le_encoder\n",
    "\n",
    "def encode_with_OneHotEncoder_using_existing_LabelEncoder_and_delete_column(df, column_name, le_encoder):\n",
    "    encode_with_existing_LabelEncoder(df, column_name, le_encoder)\n",
    "    return perform_dummy_coding_and_delete_column(df, column_name, le_encoder)\n",
    "\n",
    "def perform_dummy_coding_and_delete_column(df, column_name, le_encoder):\n",
    "    oh_encoder = OneHotEncoder(sparse=False)\n",
    "    oh_features = oh_encoder.fit_transform(df[column_name+'_le'].values.reshape(-1,1))\n",
    "    ohe_columns=[column_name + '=' + le_encoder.classes_[i] for i in range(oh_features.shape[1])]\n",
    "\n",
    "    df.drop([column_name+'_le'], axis=1, inplace=True)\n",
    "\n",
    "    df_with_features = pd.DataFrame(oh_features, columns=ohe_columns)\n",
    "    df_with_features.index = df.index\n",
    "    return pd.concat([df, df_with_features], axis=1)"
   ]
  },
  {
   "cell_type": "code",
   "execution_count": 92,
   "metadata": {
    "collapsed": false,
    "deletable": true,
    "editable": true
   },
   "outputs": [],
   "source": [
    "X = df.drop({'price','navic','stitky','url','podlazi', 'location'}, axis=1)\n",
    "Y = df['price']\n",
    "\n",
    "def encode_all(X1):\n",
    "    novostavba_le_converter = encode_with_LabelEncoder(X1,'novostavba')\n",
    "    X1, balcony_le_encoder = encode_with_OneHotEncoder_and_delete_column(X1,'balkon')\n",
    "    X1, stavba_le_encoder = encode_with_OneHotEncoder_and_delete_column(X1,'stavba')\n",
    "    X1, velikost_le_encoder = encode_with_OneHotEncoder_and_delete_column(X1,'velikost')\n",
    "    X1, vlastnictvi_le_encoder = encode_with_OneHotEncoder_and_delete_column(X1,'vlastnictvi')\n",
    "    #X1, location_le_encoder = encode_with_OneHotEncoder_and_delete_column(X1,'location')\n",
    "    X1, stav_le_encoder = encode_with_OneHotEncoder_and_delete_column(X1,'stavOb')\n",
    "    X1, floor_le_encoder = encode_with_OneHotEncoder_and_delete_column(X1,'floor')\n",
    "    X1, floor_le_encoder = encode_with_OneHotEncoder_and_delete_column(X1,'trida')\n",
    "    sklep_le_encoder = encode_with_LabelEncoder(X1,'sklep')\n",
    "    parkovani_le_encoder = encode_with_LabelEncoder(X1,'parkovani')\n",
    "    vytah_le_encoder = encode_with_LabelEncoder(X1,'vytah')\n",
    "    firstFloor_le_encoder = encode_with_LabelEncoder(X1,'firstFloor')\n",
    "    return X1\n",
    "\n",
    "X = encode_all(X)"
   ]
  },
  {
   "cell_type": "markdown",
   "metadata": {
    "deletable": true,
    "editable": true
   },
   "source": []
  },
  {
   "cell_type": "code",
   "execution_count": 93,
   "metadata": {
    "collapsed": false,
    "deletable": true,
    "editable": true
   },
   "outputs": [],
   "source": [
    "from sklearn.ensemble import RandomForestRegressor\n",
    "from sklearn.model_selection  import KFold\n",
    "from sklearn.model_selection  import cross_val_score\n",
    "n_folds = 7\n",
    "records_count = Y.count()\n",
    "kf = KFold(n_splits=n_folds, shuffle=True, random_state=1)"
   ]
  },
  {
   "cell_type": "code",
   "execution_count": 94,
   "metadata": {
    "collapsed": false,
    "deletable": true,
    "editable": true
   },
   "outputs": [
    {
     "name": "stdout",
     "output_type": "stream",
     "text": [
      "(1, 0.40933354679782291)\n",
      "(6, 0.64270579807513262)\n",
      "(11, 0.67326642749154531)\n",
      "(16, 0.67911599642920373)\n",
      "(21, 0.6843995939598152)\n",
      "(26, 0.6857353210628977)\n",
      "(31, 0.69360936540808649)\n",
      "(36, 0.69609904514415388)\n",
      "(41, 0.69708423266383879)\n",
      "(46, 0.70016994678985434)\n",
      "(51, 0.70131451892128727)\n",
      "(56, 0.70275314313001913)\n",
      "(61, 0.70174828122487753)\n",
      "CPU times: user 18.4 s, sys: 145 ms, total: 18.5 s\n",
      "Wall time: 18.5 s\n"
     ]
    }
   ],
   "source": [
    "%%time\n",
    "from sklearn.model_selection import GridSearchCV\n",
    "scores = list()\n",
    "scores_std = list()\n",
    "\n",
    "\n",
    "def determine_forest_quality(trees_count):\n",
    "    clf = RandomForestRegressor(n_estimators = trees_count, random_state=1)\n",
    "    score = cross_val_score(clf, X, Y, scoring='r2', cv=kf)\n",
    "    scores.append(np.mean(score))\n",
    "    scores_std.append(np.std(score))\n",
    "    return score.mean()\n",
    "\n",
    "for k in range(1,62,5):\n",
    "    quality = determine_forest_quality(k)    \n",
    "    print (k, quality)\n",
    "    "
   ]
  },
  {
   "cell_type": "code",
   "execution_count": 95,
   "metadata": {
    "collapsed": false,
    "deletable": true,
    "editable": true
   },
   "outputs": [
    {
     "data": {
      "text/plain": [
       "(0.10000000000000001, 0.31622776601683794)"
      ]
     },
     "execution_count": 95,
     "metadata": {},
     "output_type": "execute_result"
    },
    {
     "data": {
      "image/png": "[encoded data removed]",
      "text/plain": [
       "<matplotlib.figure.Figure at 0x112819550>"
      ]
     },
     "metadata": {},
     "output_type": "display_data"
    }
   ],
   "source": [
    "import matplotlib.pyplot as plt\n",
    "scores, scores_std = np.array(scores), np.array(scores_std)\n",
    "alphas = np.logspace(-1, -0.5, 13)\n",
    "\n",
    "plt.figure().set_size_inches(8, 6)\n",
    "plt.semilogx(alphas, scores)\n",
    "\n",
    "std_error = scores_std / np.sqrt(n_folds)\n",
    "\n",
    "plt.semilogx(alphas, scores + std_error, 'b--')\n",
    "plt.semilogx(alphas, scores - std_error, 'b--')\n",
    "plt.fill_between(alphas, scores + std_error, scores - std_error, alpha=0.2)\n",
    "\n",
    "plt.ylabel('CV score +/- std error')\n",
    "plt.xlabel('alpha')\n",
    "plt.axhline(np.max(scores), linestyle='--', color='.5')\n",
    "plt.xlim([alphas[0], alphas[-1]])"
   ]
  },
  {
   "cell_type": "code",
   "execution_count": 96,
   "metadata": {
    "collapsed": false,
    "deletable": true,
    "editable": true
   },
   "outputs": [
    {
     "data": {
      "text/plain": [
       "RandomForestRegressor(bootstrap=True, criterion='mse', max_depth=None,\n",
       "           max_features='auto', max_leaf_nodes=None,\n",
       "           min_impurity_split=1e-07, min_samples_leaf=1,\n",
       "           min_samples_split=2, min_weight_fraction_leaf=0.0,\n",
       "           n_estimators=51, n_jobs=1, oob_score=False, random_state=1,\n",
       "           verbose=0, warm_start=False)"
      ]
     },
     "execution_count": 96,
     "metadata": {},
     "output_type": "execute_result"
    }
   ],
   "source": [
    "clf = RandomForestRegressor(n_estimators = 51, random_state=1)\n",
    "clf.fit(X, Y)"
   ]
  },
  {
   "cell_type": "code",
   "execution_count": 97,
   "metadata": {
    "collapsed": false,
    "deletable": true,
    "editable": true
   },
   "outputs": [
    {
     "name": "stdout",
     "output_type": "stream",
     "text": [
      "novostavba_le 0.7377\n",
      "velikost=1+1 0.058\n",
      "sklep_le 0.0146\n",
      "velikost=3+1 0.0107\n",
      "stavOb=beforeRec 0.0106\n",
      "firstFloor_le 0.0087\n",
      "floor=6 0.0085\n",
      "trida=D 0.0081\n",
      "floor=5 0.0075\n",
      "floor=10 0.0072\n"
     ]
    }
   ],
   "source": [
    "# top 20 features:\n",
    "features = X.columns.values\n",
    "importances = clf.feature_importances_\n",
    "indices = np.argsort(importances)[::-1]\n",
    "\n",
    "num_to_plot = 10\n",
    "feature_indices = [ind+1 for ind in indices[:num_to_plot]]\n",
    "\n",
    "for i in range(num_to_plot):\n",
    "    print features[feature_indices[i]], round(importances[indices[i]],4)"
   ]
  },
  {
   "cell_type": "code",
   "execution_count": 98,
   "metadata": {
    "collapsed": false,
    "deletable": true,
    "editable": true
   },
   "outputs": [],
   "source": [
    "predictions = pd.Series(clf.predict(X), index=Y.index)\n",
    "res_info_forest = pd.DataFrame(columns=['Error,%',u'Error,Kč',u'Price,Kč',u'Price,m²', u'URL'])\n",
    "for i in Y.index:\n",
    "    error = Y[i] - predictions[i]\n",
    "    rel_error = error/predictions[i]*100\n",
    "    #if np.abs(rel_error)>15:\n",
    "    res_info_forest.loc[i] = pd.Series({\n",
    "            'Error,%':round(rel_error,1),\n",
    "            u'Error,Kč':'{:,}'.format(int(error)),\n",
    "            u'Price,Kč':'{:,}'.format(Y[i]),\n",
    "            u'Price,m²':'{:,}'.format(int(Y[i]/X['plocha'][i])),\n",
    "            'URL':'{}/{}/'.format(' https://www.sreality.cz/detail/prodej/byt', df['url'][i])\n",
    "    })\n",
    "    "
   ]
  },
  {
   "cell_type": "code",
   "execution_count": null,
   "metadata": {
    "collapsed": false,
    "deletable": true,
    "editable": true
   },
   "outputs": [],
   "source": []
  },
  {
   "cell_type": "code",
   "execution_count": 99,
   "metadata": {
    "collapsed": false,
    "deletable": true,
    "editable": true
   },
   "outputs": [
    {
     "name": "stdout",
     "output_type": "stream",
     "text": [
      "(1, -3.5813383816460131)\n",
      "(51, 0.68240333558318422)\n",
      "(101, 0.67454740724495876)\n",
      "(151, 0.66917742309891093)\n",
      "(201, 0.66560015249732651)\n",
      "(251, 0.66322038232297509)\n",
      "(301, 0.66150927642453883)\n",
      "(351, 0.65939728056197011)\n",
      "(401, 0.6579552539313035)\n",
      "(451, 0.65710641544876291)\n",
      "(501, 0.65658152307552176)\n",
      "(551, 0.65622988647514213)\n",
      "(601, 0.65609287717860421)\n",
      "CPU times: user 1min 8s, sys: 272 ms, total: 1min 8s\n",
      "Wall time: 1min 9s\n"
     ]
    }
   ],
   "source": [
    "%%time\n",
    "import xgboost as xgb\n",
    "scores = list()\n",
    "scores_std = list()\n",
    "kf = KFold(n_splits=n_folds, shuffle=True, random_state=1)\n",
    "def determine_forest_quality(trees_count):\n",
    "    clf = xgb.XGBRegressor(n_estimators = trees_count, max_depth = n_folds)\n",
    "    score = cross_val_score(clf, X, Y, scoring='r2', cv=kf)\n",
    "    scores.append(np.mean(score))\n",
    "    scores_std.append(np.std(score))\n",
    "    return score.mean()\n",
    "\n",
    "for k in range(1,620,50):\n",
    "    quality = determine_forest_quality(k)    \n",
    "    print (k, quality)\n"
   ]
  },
  {
   "cell_type": "code",
   "execution_count": 100,
   "metadata": {
    "collapsed": false,
    "deletable": true,
    "editable": true
   },
   "outputs": [
    {
     "data": {
      "text/plain": [
       "(1.0000000000000001e-05, 0.31622776601683794)"
      ]
     },
     "execution_count": 100,
     "metadata": {},
     "output_type": "execute_result"
    },
    {
     "data": {
      "image/png": "[encoded data removed]",
      "text/plain": [
       "<matplotlib.figure.Figure at 0x11274ce50>"
      ]
     },
     "metadata": {},
     "output_type": "display_data"
    }
   ],
   "source": [
    "scores, scores_std = np.array(scores), np.array(scores_std)\n",
    "alphas = np.logspace(-5, -0.5, 13)\n",
    "\n",
    "plt.figure().set_size_inches(8, 12)\n",
    "plt.semilogx(alphas, scores)\n",
    "\n",
    "std_error = scores_std / np.sqrt(n_folds)\n",
    "\n",
    "plt.semilogx(alphas, scores + std_error, 'b--')\n",
    "plt.semilogx(alphas, scores - std_error, 'b--')\n",
    "plt.fill_between(alphas, scores + std_error, scores - std_error, alpha=0.2)\n",
    "\n",
    "plt.ylabel('CV score +/- std error')\n",
    "plt.xlabel('alpha')\n",
    "plt.axhline(np.max(scores), linestyle='--', color='.5')\n",
    "plt.xlim([alphas[0], alphas[-1]])"
   ]
  },
  {
   "cell_type": "code",
   "execution_count": 101,
   "metadata": {
    "collapsed": false,
    "deletable": true,
    "editable": true
   },
   "outputs": [
    {
     "data": {
      "text/plain": [
       "XGBRegressor(base_score=0.5, colsample_bylevel=1, colsample_bytree=1, gamma=0,\n",
       "       learning_rate=0.1, max_delta_step=0, max_depth=7,\n",
       "       min_child_weight=1, missing=None, n_estimators=510, nthread=-1,\n",
       "       objective='reg:linear', reg_alpha=0, reg_lambda=1,\n",
       "       scale_pos_weight=1, seed=0, silent=True, subsample=1)"
      ]
     },
     "execution_count": 101,
     "metadata": {},
     "output_type": "execute_result"
    }
   ],
   "source": [
    "clf = xgb.XGBRegressor(n_estimators = 510, max_depth = n_folds)\n",
    "clf.fit(X, Y)\n"
   ]
  },
  {
   "cell_type": "code",
   "execution_count": 102,
   "metadata": {
    "collapsed": false
   },
   "outputs": [
    {
     "name": "stdout",
     "output_type": "stream",
     "text": [
      "(1, 0.14301365640129932)\n",
      "(71, 0.56238329024572276)\n",
      "(141, 0.58897170760608319)\n",
      "(211, 0.51070441623346297)\n",
      "(281, 0.53416015508837955)\n",
      "(351, 0.58970963125195952)\n",
      "(421, 0.49936881974436809)\n",
      "(491, 0.54925737226142501)\n",
      "(561, 0.54838738796569952)\n",
      "(631, 0.52557127652079028)\n",
      "CPU times: user 7min 39s, sys: 1min 5s, total: 8min 44s\n",
      "Wall time: 1min 19s\n"
     ]
    }
   ],
   "source": [
    "%%time\n",
    "\n",
    "from catboost import CatBoostRegressor\n",
    "scores = list()\n",
    "scores_std = list()\n",
    "kf = KFold(n_splits=n_folds, shuffle=True, random_state=1)\n",
    "def determine_cat_quality(trees_count):\n",
    "    clf = CatBoostRegressor(learning_rate=1, depth=n_folds, iterations=trees_count, loss_function='RMSE')\n",
    "    score = cross_val_score(clf, X, Y, scoring='r2', cv=kf)\n",
    "    scores.append(np.mean(score))\n",
    "    scores_std.append(np.std(score))\n",
    "    return score.mean()\n",
    "\n",
    "for k in range(1,700,70):\n",
    "    quality = determine_cat_quality(k)    \n",
    "    print (k, quality)"
   ]
  },
  {
   "cell_type": "code",
   "execution_count": 103,
   "metadata": {
    "collapsed": false
   },
   "outputs": [
    {
     "name": "stdout",
     "output_type": "stream",
     "text": [
      "[ 10.           6.81292069   4.64158883   3.16227766   2.15443469\n",
      "   1.46779927   1.           0.68129207   0.46415888   0.31622777]\n"
     ]
    },
    {
     "data": {
      "image/png": "[encoded data removed]",
      "text/plain": [
       "<matplotlib.figure.Figure at 0x112738190>"
      ]
     },
     "metadata": {},
     "output_type": "display_data"
    }
   ],
   "source": [
    "scores, scores_std = np.array(scores), np.array(scores_std)\n",
    "alphas = np.logspace(1, -0.5, 10)\n",
    "\n",
    "plt.figure().set_size_inches(8, 12)\n",
    "plt.semilogx(alphas, scores)\n",
    "\n",
    "std_error = scores_std / np.sqrt(n_folds)\n",
    "\n",
    "plt.semilogx(alphas, scores + std_error, 'b--')\n",
    "plt.semilogx(alphas, scores - std_error, 'b--')\n",
    "plt.fill_between(alphas, scores + std_error, scores - std_error, alpha=0.2)\n",
    "\n",
    "plt.ylabel('CV score +/- std error')\n",
    "plt.xlabel('alpha')\n",
    "plt.axhline(np.max(scores), linestyle='--', color='.5')\n",
    "plt.xlim([alphas[0], alphas[-1]])"
   ]
  },
  {
   "cell_type": "code",
   "execution_count": 104,
   "metadata": {
    "collapsed": false,
    "deletable": true,
    "editable": true
   },
   "outputs": [
    {
     "name": "stdout",
     "output_type": "stream",
     "text": [
      "CPU times: user 9.19 s, sys: 1.19 s, total: 10.4 s\n",
      "Wall time: 1.51 s\n"
     ]
    }
   ],
   "source": [
    "%%time\n",
    "predictions = pd.Series(clf.predict(X), index=Y.index)\n",
    "\n",
    "model = CatBoostRegressor(learning_rate=1, depth=6, iterations=560, loss_function='RMSE')\n",
    "fit_model = model.fit(X, Y)\n",
    "predictions_c = pd.Series(fit_model.predict(X), index=Y.index)"
   ]
  },
  {
   "cell_type": "markdown",
   "metadata": {
    "deletable": true,
    "editable": true
   },
   "source": [
    "Output results"
   ]
  },
  {
   "cell_type": "code",
   "execution_count": 118,
   "metadata": {
    "collapsed": false,
    "deletable": true,
    "editable": true
   },
   "outputs": [
    {
     "data": {
      "text/html": [
       "<div>\n",
       "<table border=\"1\" class=\"dataframe\">\n",
       "  <thead>\n",
       "    <tr style=\"text-align: right;\">\n",
       "      <th></th>\n",
       "      <th>Error,%</th>\n",
       "      <th>Error forest,%</th>\n",
       "      <th>Error cat %</th>\n",
       "      <th>Error,Kč</th>\n",
       "      <th>Error forest,Kč</th>\n",
       "      <th>Error cat</th>\n",
       "      <th>Price,Kč</th>\n",
       "      <th>Price,m²</th>\n",
       "      <th>URL</th>\n",
       "    </tr>\n",
       "  </thead>\n",
       "  <tbody>\n",
       "    <tr>\n",
       "      <th>2823999836</th>\n",
       "      <td>-1.9</td>\n",
       "      <td>-25.7</td>\n",
       "      <td>-15.5</td>\n",
       "      <td>-53,928</td>\n",
       "      <td>-980,709</td>\n",
       "      <td>-520,281</td>\n",
       "      <td>2,830,000</td>\n",
       "      <td>54,423</td>\n",
       "      <td>https://www.sreality.cz/detail/prodej/byt/2+kk/praha-nusle-na-jezerce/2823999836/</td>\n",
       "    </tr>\n",
       "    <tr>\n",
       "      <th>1126637916</th>\n",
       "      <td>-3.0</td>\n",
       "      <td>-9.8</td>\n",
       "      <td>-12.2</td>\n",
       "      <td>-71,188</td>\n",
       "      <td>-249,372</td>\n",
       "      <td>-318,813</td>\n",
       "      <td>2,290,000</td>\n",
       "      <td>61,891</td>\n",
       "      <td>https://www.sreality.cz/detail/prodej/byt/2+kk/praha--/1126637916/</td>\n",
       "    </tr>\n",
       "    <tr>\n",
       "      <th>1933586780</th>\n",
       "      <td>-5.6</td>\n",
       "      <td>-13.6</td>\n",
       "      <td>-11.2</td>\n",
       "      <td>-177,996</td>\n",
       "      <td>-471,113</td>\n",
       "      <td>-378,213</td>\n",
       "      <td>2,990,000</td>\n",
       "      <td>53,392</td>\n",
       "      <td>https://www.sreality.cz/detail/prodej/byt/2+kk/praha-nusle-ciklova/1933586780/</td>\n",
       "    </tr>\n",
       "    <tr>\n",
       "      <th>3555139932</th>\n",
       "      <td>-1.2</td>\n",
       "      <td>-10.9</td>\n",
       "      <td>-11.0</td>\n",
       "      <td>-70,387</td>\n",
       "      <td>-718,431</td>\n",
       "      <td>-730,505</td>\n",
       "      <td>5,890,000</td>\n",
       "      <td>76,493</td>\n",
       "      <td>https://www.sreality.cz/detail/prodej/byt/3+kk/praha-vysocany-kolbenova/3555139932/</td>\n",
       "    </tr>\n",
       "    <tr>\n",
       "      <th>4035518812</th>\n",
       "      <td>-0.9</td>\n",
       "      <td>-1.4</td>\n",
       "      <td>-8.4</td>\n",
       "      <td>-38,190</td>\n",
       "      <td>-57,600</td>\n",
       "      <td>-384,574</td>\n",
       "      <td>4,190,000</td>\n",
       "      <td>77,592</td>\n",
       "      <td>https://www.sreality.cz/detail/prodej/byt/2+kk/praha-michle-v-doline/4035518812/</td>\n",
       "    </tr>\n",
       "    <tr>\n",
       "      <th>1588212060</th>\n",
       "      <td>-7.4</td>\n",
       "      <td>-6.6</td>\n",
       "      <td>-7.6</td>\n",
       "      <td>-466,462</td>\n",
       "      <td>-412,483</td>\n",
       "      <td>-478,982</td>\n",
       "      <td>5,850,000</td>\n",
       "      <td>79,054</td>\n",
       "      <td>https://www.sreality.cz/detail/prodej/byt/2+kk/praha-radotin-zderazska/1588212060/</td>\n",
       "    </tr>\n",
       "    <tr>\n",
       "      <th>2030707036</th>\n",
       "      <td>-2.5</td>\n",
       "      <td>-8.2</td>\n",
       "      <td>-7.5</td>\n",
       "      <td>-73,494</td>\n",
       "      <td>-259,637</td>\n",
       "      <td>-233,379</td>\n",
       "      <td>2,890,000</td>\n",
       "      <td>67,209</td>\n",
       "      <td>https://www.sreality.cz/detail/prodej/byt/2+kk/praha-hostavice-u-hostavickeho-potoka/2030707036/</td>\n",
       "    </tr>\n",
       "    <tr>\n",
       "      <th>2942116188</th>\n",
       "      <td>-1.6</td>\n",
       "      <td>0.5</td>\n",
       "      <td>-6.9</td>\n",
       "      <td>-80,129</td>\n",
       "      <td>26,041</td>\n",
       "      <td>-357,958</td>\n",
       "      <td>4,797,147</td>\n",
       "      <td>67,565</td>\n",
       "      <td>https://www.sreality.cz/detail/prodej/byt/3+kk/praha-modrany-stolcova/2942116188/</td>\n",
       "    </tr>\n",
       "    <tr>\n",
       "      <th>1365696860</th>\n",
       "      <td>-1.1</td>\n",
       "      <td>-5.3</td>\n",
       "      <td>-6.7</td>\n",
       "      <td>-50,107</td>\n",
       "      <td>-249,369</td>\n",
       "      <td>-323,033</td>\n",
       "      <td>4,499,000</td>\n",
       "      <td>65,202</td>\n",
       "      <td>https://www.sreality.cz/detail/prodej/byt/3+kk/praha-horni-pocernice-/1365696860/</td>\n",
       "    </tr>\n",
       "    <tr>\n",
       "      <th>366420316</th>\n",
       "      <td>-3.5</td>\n",
       "      <td>-19.6</td>\n",
       "      <td>-6.4</td>\n",
       "      <td>-139,637</td>\n",
       "      <td>-952,882</td>\n",
       "      <td>-266,692</td>\n",
       "      <td>3,900,000</td>\n",
       "      <td>52,702</td>\n",
       "      <td>https://www.sreality.cz/detail/prodej/byt/3+1/praha-zabehlice-hlavni/366420316/</td>\n",
       "    </tr>\n",
       "    <tr>\n",
       "      <th>2711495004</th>\n",
       "      <td>0.0</td>\n",
       "      <td>-6.5</td>\n",
       "      <td>-6.1</td>\n",
       "      <td>677</td>\n",
       "      <td>-268,911</td>\n",
       "      <td>-252,502</td>\n",
       "      <td>3,886,316</td>\n",
       "      <td>68,180</td>\n",
       "      <td>https://www.sreality.cz/detail/prodej/byt/2+kk/praha-modrany-stolcova/2711495004/</td>\n",
       "    </tr>\n",
       "    <tr>\n",
       "      <th>117252444</th>\n",
       "      <td>-0.7</td>\n",
       "      <td>-8.3</td>\n",
       "      <td>-5.9</td>\n",
       "      <td>-37,271</td>\n",
       "      <td>-496,604</td>\n",
       "      <td>-345,709</td>\n",
       "      <td>5,470,000</td>\n",
       "      <td>64,352</td>\n",
       "      <td>https://www.sreality.cz/detail/prodej/byt/3+1/praha-nusle-na-jezerce/117252444/</td>\n",
       "    </tr>\n",
       "    <tr>\n",
       "      <th>2384929116</th>\n",
       "      <td>-2.8</td>\n",
       "      <td>-7.5</td>\n",
       "      <td>-5.8</td>\n",
       "      <td>-95,130</td>\n",
       "      <td>-269,196</td>\n",
       "      <td>-203,157</td>\n",
       "      <td>3,300,000</td>\n",
       "      <td>68,750</td>\n",
       "      <td>https://www.sreality.cz/detail/prodej/byt/2+kk/praha-vrsovice-zitomirska/2384929116/</td>\n",
       "    </tr>\n",
       "    <tr>\n",
       "      <th>643244380</th>\n",
       "      <td>-1.1</td>\n",
       "      <td>-15.5</td>\n",
       "      <td>-5.5</td>\n",
       "      <td>-46,416</td>\n",
       "      <td>-734,362</td>\n",
       "      <td>-232,294</td>\n",
       "      <td>4,000,000</td>\n",
       "      <td>64,516</td>\n",
       "      <td>https://www.sreality.cz/detail/prodej/byt/2+1/praha-strasnice-u-vesny/643244380/</td>\n",
       "    </tr>\n",
       "    <tr>\n",
       "      <th>4192674140</th>\n",
       "      <td>-0.9</td>\n",
       "      <td>-4.1</td>\n",
       "      <td>-4.9</td>\n",
       "      <td>-50,466</td>\n",
       "      <td>-244,581</td>\n",
       "      <td>-296,421</td>\n",
       "      <td>5,735,000</td>\n",
       "      <td>75,460</td>\n",
       "      <td>https://www.sreality.cz/detail/prodej/byt/3+kk/praha-vysocany-kolbenova/4192674140/</td>\n",
       "    </tr>\n",
       "    <tr>\n",
       "      <th>1888559452</th>\n",
       "      <td>-4.6</td>\n",
       "      <td>-7.8</td>\n",
       "      <td>-4.8</td>\n",
       "      <td>-159,980</td>\n",
       "      <td>-280,588</td>\n",
       "      <td>-166,595</td>\n",
       "      <td>3,299,000</td>\n",
       "      <td>48,514</td>\n",
       "      <td>https://www.sreality.cz/detail/prodej/byt/3+kk/praha-cerny-most-kpt--stranskeho/1888559452/</td>\n",
       "    </tr>\n",
       "    <tr>\n",
       "      <th>2304581980</th>\n",
       "      <td>-0.5</td>\n",
       "      <td>-12.3</td>\n",
       "      <td>-4.6</td>\n",
       "      <td>-32,525</td>\n",
       "      <td>-978,690</td>\n",
       "      <td>-332,744</td>\n",
       "      <td>6,976,357</td>\n",
       "      <td>69,763</td>\n",
       "      <td>https://www.sreality.cz/detail/prodej/byt/4+kk/praha-modrany-stolcova/2304581980/</td>\n",
       "    </tr>\n",
       "    <tr>\n",
       "      <th>2258510172</th>\n",
       "      <td>-1.6</td>\n",
       "      <td>-6.3</td>\n",
       "      <td>-4.5</td>\n",
       "      <td>-43,742</td>\n",
       "      <td>-185,682</td>\n",
       "      <td>-130,271</td>\n",
       "      <td>2,762,759</td>\n",
       "      <td>70,839</td>\n",
       "      <td>https://www.sreality.cz/detail/prodej/byt/1+kk/praha-modrany-stolcova/2258510172/</td>\n",
       "    </tr>\n",
       "    <tr>\n",
       "      <th>436937052</th>\n",
       "      <td>-0.0</td>\n",
       "      <td>-0.3</td>\n",
       "      <td>-4.5</td>\n",
       "      <td>-1,207</td>\n",
       "      <td>-8,803</td>\n",
       "      <td>-137,340</td>\n",
       "      <td>2,900,000</td>\n",
       "      <td>80,555</td>\n",
       "      <td>https://www.sreality.cz/detail/prodej/byt/1+kk/praha-kobylisy-nad-sutkou/436937052/</td>\n",
       "    </tr>\n",
       "    <tr>\n",
       "      <th>2690523484</th>\n",
       "      <td>-0.9</td>\n",
       "      <td>-1.8</td>\n",
       "      <td>-4.2</td>\n",
       "      <td>-35,998</td>\n",
       "      <td>-72,664</td>\n",
       "      <td>-176,960</td>\n",
       "      <td>4,067,000</td>\n",
       "      <td>67,783</td>\n",
       "      <td>https://www.sreality.cz/detail/prodej/byt/2+kk/praha-liben-/2690523484/</td>\n",
       "    </tr>\n",
       "    <tr>\n",
       "      <th>3693551964</th>\n",
       "      <td>0.2</td>\n",
       "      <td>-0.6</td>\n",
       "      <td>-4.1</td>\n",
       "      <td>10,322</td>\n",
       "      <td>-27,235</td>\n",
       "      <td>-184,152</td>\n",
       "      <td>4,293,000</td>\n",
       "      <td>93,326</td>\n",
       "      <td>https://www.sreality.cz/detail/prodej/byt/2+kk/praha-zizkov-baranova/3693551964/</td>\n",
       "    </tr>\n",
       "    <tr>\n",
       "      <th>434577756</th>\n",
       "      <td>0.2</td>\n",
       "      <td>-3.1</td>\n",
       "      <td>-3.9</td>\n",
       "      <td>11,533</td>\n",
       "      <td>-182,581</td>\n",
       "      <td>-234,421</td>\n",
       "      <td>5,797,000</td>\n",
       "      <td>76,276</td>\n",
       "      <td>https://www.sreality.cz/detail/prodej/byt/3+kk/praha-vysocany-kolbenova/434577756/</td>\n",
       "    </tr>\n",
       "    <tr>\n",
       "      <th>1227673948</th>\n",
       "      <td>-2.5</td>\n",
       "      <td>-5.1</td>\n",
       "      <td>-3.8</td>\n",
       "      <td>-147,095</td>\n",
       "      <td>-305,296</td>\n",
       "      <td>-228,882</td>\n",
       "      <td>5,720,000</td>\n",
       "      <td>65,000</td>\n",
       "      <td>https://www.sreality.cz/detail/prodej/byt/3+kk/praha-liben-v-zahradach/1227673948/</td>\n",
       "    </tr>\n",
       "    <tr>\n",
       "      <th>2813800796</th>\n",
       "      <td>-3.9</td>\n",
       "      <td>-9.3</td>\n",
       "      <td>-3.6</td>\n",
       "      <td>-161,682</td>\n",
       "      <td>-405,101</td>\n",
       "      <td>-148,164</td>\n",
       "      <td>3,960,000</td>\n",
       "      <td>73,333</td>\n",
       "      <td>https://www.sreality.cz/detail/prodej/byt/2+kk/praha-ujezd-u-pruhonic-remizkova/2813800796/</td>\n",
       "    </tr>\n",
       "    <tr>\n",
       "      <th>1975984476</th>\n",
       "      <td>-0.9</td>\n",
       "      <td>-3.3</td>\n",
       "      <td>-3.5</td>\n",
       "      <td>-48,141</td>\n",
       "      <td>-188,333</td>\n",
       "      <td>-205,279</td>\n",
       "      <td>5,599,000</td>\n",
       "      <td>66,654</td>\n",
       "      <td>https://www.sreality.cz/detail/prodej/byt/3+kk/praha-vysocany-kolbenova/1975984476/</td>\n",
       "    </tr>\n",
       "  </tbody>\n",
       "</table>\n",
       "</div>"
      ],
      "text/plain": [
       "            Error,%  Error forest,%  Error cat %  Error,Kč Error forest,Kč  \\\n",
       "2823999836     -1.9           -25.7        -15.5   -53,928        -980,709   \n",
       "1126637916     -3.0            -9.8        -12.2   -71,188        -249,372   \n",
       "1933586780     -5.6           -13.6        -11.2  -177,996        -471,113   \n",
       "3555139932     -1.2           -10.9        -11.0   -70,387        -718,431   \n",
       "4035518812     -0.9            -1.4         -8.4   -38,190         -57,600   \n",
       "1588212060     -7.4            -6.6         -7.6  -466,462        -412,483   \n",
       "2030707036     -2.5            -8.2         -7.5   -73,494        -259,637   \n",
       "2942116188     -1.6             0.5         -6.9   -80,129          26,041   \n",
       "1365696860     -1.1            -5.3         -6.7   -50,107        -249,369   \n",
       "366420316      -3.5           -19.6         -6.4  -139,637        -952,882   \n",
       "2711495004      0.0            -6.5         -6.1       677        -268,911   \n",
       "117252444      -0.7            -8.3         -5.9   -37,271        -496,604   \n",
       "2384929116     -2.8            -7.5         -5.8   -95,130        -269,196   \n",
       "643244380      -1.1           -15.5         -5.5   -46,416        -734,362   \n",
       "4192674140     -0.9            -4.1         -4.9   -50,466        -244,581   \n",
       "1888559452     -4.6            -7.8         -4.8  -159,980        -280,588   \n",
       "2304581980     -0.5           -12.3         -4.6   -32,525        -978,690   \n",
       "2258510172     -1.6            -6.3         -4.5   -43,742        -185,682   \n",
       "436937052      -0.0            -0.3         -4.5    -1,207          -8,803   \n",
       "2690523484     -0.9            -1.8         -4.2   -35,998         -72,664   \n",
       "3693551964      0.2            -0.6         -4.1    10,322         -27,235   \n",
       "434577756       0.2            -3.1         -3.9    11,533        -182,581   \n",
       "1227673948     -2.5            -5.1         -3.8  -147,095        -305,296   \n",
       "2813800796     -3.9            -9.3         -3.6  -161,682        -405,101   \n",
       "1975984476     -0.9            -3.3         -3.5   -48,141        -188,333   \n",
       "\n",
       "           Error cat   Price,Kč Price,m²  \\\n",
       "2823999836  -520,281  2,830,000   54,423   \n",
       "1126637916  -318,813  2,290,000   61,891   \n",
       "1933586780  -378,213  2,990,000   53,392   \n",
       "3555139932  -730,505  5,890,000   76,493   \n",
       "4035518812  -384,574  4,190,000   77,592   \n",
       "1588212060  -478,982  5,850,000   79,054   \n",
       "2030707036  -233,379  2,890,000   67,209   \n",
       "2942116188  -357,958  4,797,147   67,565   \n",
       "1365696860  -323,033  4,499,000   65,202   \n",
       "366420316   -266,692  3,900,000   52,702   \n",
       "2711495004  -252,502  3,886,316   68,180   \n",
       "117252444   -345,709  5,470,000   64,352   \n",
       "2384929116  -203,157  3,300,000   68,750   \n",
       "643244380   -232,294  4,000,000   64,516   \n",
       "4192674140  -296,421  5,735,000   75,460   \n",
       "1888559452  -166,595  3,299,000   48,514   \n",
       "2304581980  -332,744  6,976,357   69,763   \n",
       "2258510172  -130,271  2,762,759   70,839   \n",
       "436937052   -137,340  2,900,000   80,555   \n",
       "2690523484  -176,960  4,067,000   67,783   \n",
       "3693551964  -184,152  4,293,000   93,326   \n",
       "434577756   -234,421  5,797,000   76,276   \n",
       "1227673948  -228,882  5,720,000   65,000   \n",
       "2813800796  -148,164  3,960,000   73,333   \n",
       "1975984476  -205,279  5,599,000   66,654   \n",
       "\n",
       "                                                                                                          URL  \n",
       "2823999836                  https://www.sreality.cz/detail/prodej/byt/2+kk/praha-nusle-na-jezerce/2823999836/  \n",
       "1126637916                                 https://www.sreality.cz/detail/prodej/byt/2+kk/praha--/1126637916/  \n",
       "1933586780                     https://www.sreality.cz/detail/prodej/byt/2+kk/praha-nusle-ciklova/1933586780/  \n",
       "3555139932                https://www.sreality.cz/detail/prodej/byt/3+kk/praha-vysocany-kolbenova/3555139932/  \n",
       "4035518812                   https://www.sreality.cz/detail/prodej/byt/2+kk/praha-michle-v-doline/4035518812/  \n",
       "1588212060                 https://www.sreality.cz/detail/prodej/byt/2+kk/praha-radotin-zderazska/1588212060/  \n",
       "2030707036   https://www.sreality.cz/detail/prodej/byt/2+kk/praha-hostavice-u-hostavickeho-potoka/2030707036/  \n",
       "2942116188                  https://www.sreality.cz/detail/prodej/byt/3+kk/praha-modrany-stolcova/2942116188/  \n",
       "1365696860                  https://www.sreality.cz/detail/prodej/byt/3+kk/praha-horni-pocernice-/1365696860/  \n",
       "366420316                     https://www.sreality.cz/detail/prodej/byt/3+1/praha-zabehlice-hlavni/366420316/  \n",
       "2711495004                  https://www.sreality.cz/detail/prodej/byt/2+kk/praha-modrany-stolcova/2711495004/  \n",
       "117252444                     https://www.sreality.cz/detail/prodej/byt/3+1/praha-nusle-na-jezerce/117252444/  \n",
       "2384929116               https://www.sreality.cz/detail/prodej/byt/2+kk/praha-vrsovice-zitomirska/2384929116/  \n",
       "643244380                    https://www.sreality.cz/detail/prodej/byt/2+1/praha-strasnice-u-vesny/643244380/  \n",
       "4192674140                https://www.sreality.cz/detail/prodej/byt/3+kk/praha-vysocany-kolbenova/4192674140/  \n",
       "1888559452        https://www.sreality.cz/detail/prodej/byt/3+kk/praha-cerny-most-kpt--stranskeho/1888559452/  \n",
       "2304581980                  https://www.sreality.cz/detail/prodej/byt/4+kk/praha-modrany-stolcova/2304581980/  \n",
       "2258510172                  https://www.sreality.cz/detail/prodej/byt/1+kk/praha-modrany-stolcova/2258510172/  \n",
       "436937052                 https://www.sreality.cz/detail/prodej/byt/1+kk/praha-kobylisy-nad-sutkou/436937052/  \n",
       "2690523484                            https://www.sreality.cz/detail/prodej/byt/2+kk/praha-liben-/2690523484/  \n",
       "3693551964                   https://www.sreality.cz/detail/prodej/byt/2+kk/praha-zizkov-baranova/3693551964/  \n",
       "434577756                  https://www.sreality.cz/detail/prodej/byt/3+kk/praha-vysocany-kolbenova/434577756/  \n",
       "1227673948                 https://www.sreality.cz/detail/prodej/byt/3+kk/praha-liben-v-zahradach/1227673948/  \n",
       "2813800796        https://www.sreality.cz/detail/prodej/byt/2+kk/praha-ujezd-u-pruhonic-remizkova/2813800796/  \n",
       "1975984476                https://www.sreality.cz/detail/prodej/byt/3+kk/praha-vysocany-kolbenova/1975984476/  "
      ]
     },
     "execution_count": 118,
     "metadata": {},
     "output_type": "execute_result"
    }
   ],
   "source": [
    "res_info = pd.DataFrame(columns=['Error,%','Error forest,%',u'Error cat %',u'Error,Kč',u'Error forest,Kč','Error cat',u'Price,Kč',u'Price,m²', u'URL'])\n",
    "for i in Y.index:\n",
    "    error = Y[i] - predictions[i]\n",
    "    rel_error = error/predictions[i]*100\n",
    "\n",
    "    error_c = Y[i] - predictions_c[i]\n",
    "    cat_error = error_c/predictions_c[i]*100\n",
    "    #if np.abs(rel_error)>15:\n",
    "    res_info.loc[i] = pd.Series({\n",
    "            u'Error,%':round(rel_error,1),\n",
    "            u'Error forest,%': res_info_forest['Error,%'][i],\n",
    "            u'Error cat %': round(cat_error,1),\n",
    "            u'Error,Kč':'{:,}'.format(int(error)),\n",
    "            u'Error forest,Kč': res_info_forest[u'Error,Kč'][i],\n",
    "            u'Error cat': '{:,.0f}'.format(error_c),\n",
    "            u'Price,Kč':'{:,}'.format(Y[i]),\n",
    "            u'Price,m²':'{:,}'.format(int(Y[i]/X['plocha'][i])),\n",
    "            'URL':'{}/{}/'.format(' https://www.sreality.cz/detail/prodej/byt', df['url'][i])\n",
    "    })\n",
    "    \n",
    "# Underpriced offers\n",
    "pd.options.display.max_colwidth = 100\n",
    "res_info.sort_values(by=u'Error cat %')[:25]"
   ]
  },
  {
   "cell_type": "code",
   "execution_count": 120,
   "metadata": {
    "collapsed": false,
    "deletable": true,
    "editable": true
   },
   "outputs": [
    {
     "data": {
      "text/html": [
       "<div>\n",
       "<table border=\"1\" class=\"dataframe\">\n",
       "  <thead>\n",
       "    <tr style=\"text-align: right;\">\n",
       "      <th></th>\n",
       "      <th>Error,%</th>\n",
       "      <th>Error forest,%</th>\n",
       "      <th>Error cat %</th>\n",
       "      <th>Error,Kč</th>\n",
       "      <th>Error forest,Kč</th>\n",
       "      <th>Error cat</th>\n",
       "      <th>Price,Kč</th>\n",
       "      <th>Price,m²</th>\n",
       "      <th>URL</th>\n",
       "    </tr>\n",
       "  </thead>\n",
       "  <tbody>\n",
       "    <tr>\n",
       "      <th>2363957596</th>\n",
       "      <td>0.8</td>\n",
       "      <td>9.6</td>\n",
       "      <td>11.0</td>\n",
       "      <td>61,506</td>\n",
       "      <td>672,225</td>\n",
       "      <td>760,388</td>\n",
       "      <td>7,690,000</td>\n",
       "      <td>101,184</td>\n",
       "      <td>https://www.sreality.cz/detail/prodej/byt/3+kk/praha-karlin-rohanske-nabrezi/2363957596/</td>\n",
       "    </tr>\n",
       "    <tr>\n",
       "      <th>688333148</th>\n",
       "      <td>2.0</td>\n",
       "      <td>-0.2</td>\n",
       "      <td>10.7</td>\n",
       "      <td>80,952</td>\n",
       "      <td>-9,749</td>\n",
       "      <td>397,466</td>\n",
       "      <td>4,100,000</td>\n",
       "      <td>80,392</td>\n",
       "      <td>https://www.sreality.cz/detail/prodej/byt/2+kk/praha-zizkov-baranova/688333148/</td>\n",
       "    </tr>\n",
       "    <tr>\n",
       "      <th>569565532</th>\n",
       "      <td>1.1</td>\n",
       "      <td>10.6</td>\n",
       "      <td>8.1</td>\n",
       "      <td>59,237</td>\n",
       "      <td>533,894</td>\n",
       "      <td>416,974</td>\n",
       "      <td>5,553,700</td>\n",
       "      <td>102,846</td>\n",
       "      <td>https://www.sreality.cz/detail/prodej/byt/1+kk/praha-liben-libensky-ostrov/569565532/</td>\n",
       "    </tr>\n",
       "    <tr>\n",
       "      <th>3438944604</th>\n",
       "      <td>1.7</td>\n",
       "      <td>16.5</td>\n",
       "      <td>7.9</td>\n",
       "      <td>74,908</td>\n",
       "      <td>622,588</td>\n",
       "      <td>320,200</td>\n",
       "      <td>4,390,000</td>\n",
       "      <td>97,555</td>\n",
       "      <td>https://www.sreality.cz/detail/prodej/byt/2+kk/praha-vinohrady-libicka/3438944604/</td>\n",
       "    </tr>\n",
       "    <tr>\n",
       "      <th>1351557468</th>\n",
       "      <td>1.9</td>\n",
       "      <td>14.0</td>\n",
       "      <td>7.6</td>\n",
       "      <td>97,556</td>\n",
       "      <td>651,019</td>\n",
       "      <td>375,962</td>\n",
       "      <td>5,300,000</td>\n",
       "      <td>96,363</td>\n",
       "      <td>https://www.sreality.cz/detail/prodej/byt/2+kk/praha-smichov-storkanova/1351557468/</td>\n",
       "    </tr>\n",
       "    <tr>\n",
       "      <th>2474238300</th>\n",
       "      <td>7.7</td>\n",
       "      <td>8.6</td>\n",
       "      <td>7.4</td>\n",
       "      <td>483,537</td>\n",
       "      <td>537,516</td>\n",
       "      <td>471,018</td>\n",
       "      <td>6,800,000</td>\n",
       "      <td>91,891</td>\n",
       "      <td>https://www.sreality.cz/detail/prodej/byt/2+kk/praha-radotin-zderazska/2474238300/</td>\n",
       "    </tr>\n",
       "    <tr>\n",
       "      <th>924262748</th>\n",
       "      <td>1.1</td>\n",
       "      <td>9.9</td>\n",
       "      <td>6.9</td>\n",
       "      <td>90,640</td>\n",
       "      <td>748,009</td>\n",
       "      <td>538,185</td>\n",
       "      <td>8,300,000</td>\n",
       "      <td>107,792</td>\n",
       "      <td>https://www.sreality.cz/detail/prodej/byt/3+kk/praha-karlin-rohanske-nabrezi/924262748/</td>\n",
       "    </tr>\n",
       "    <tr>\n",
       "      <th>4270244188</th>\n",
       "      <td>1.0</td>\n",
       "      <td>11.2</td>\n",
       "      <td>6.8</td>\n",
       "      <td>55,196</td>\n",
       "      <td>580,927</td>\n",
       "      <td>370,448</td>\n",
       "      <td>5,779,590</td>\n",
       "      <td>82,565</td>\n",
       "      <td>https://www.sreality.cz/detail/prodej/byt/3+kk/praha-stodulky-petrzilkova/4270244188/</td>\n",
       "    </tr>\n",
       "    <tr>\n",
       "      <th>525803868</th>\n",
       "      <td>4.8</td>\n",
       "      <td>9.1</td>\n",
       "      <td>6.1</td>\n",
       "      <td>281,651</td>\n",
       "      <td>516,156</td>\n",
       "      <td>356,073</td>\n",
       "      <td>6,199,000</td>\n",
       "      <td>119,211</td>\n",
       "      <td>https://www.sreality.cz/detail/prodej/byt/2+kk/praha-karlin-za-karlinskym-pristavem/525803868/</td>\n",
       "    </tr>\n",
       "    <tr>\n",
       "      <th>2813669724</th>\n",
       "      <td>0.7</td>\n",
       "      <td>-1.3</td>\n",
       "      <td>5.6</td>\n",
       "      <td>33,472</td>\n",
       "      <td>-60,839</td>\n",
       "      <td>249,327</td>\n",
       "      <td>4,724,200</td>\n",
       "      <td>65,613</td>\n",
       "      <td>https://www.sreality.cz/detail/prodej/byt/3+kk/praha-modrany-stolcova/2813669724/</td>\n",
       "    </tr>\n",
       "    <tr>\n",
       "      <th>2365006172</th>\n",
       "      <td>0.1</td>\n",
       "      <td>-1.0</td>\n",
       "      <td>5.1</td>\n",
       "      <td>1,466</td>\n",
       "      <td>-19,411</td>\n",
       "      <td>96,705</td>\n",
       "      <td>1,990,000</td>\n",
       "      <td>82,916</td>\n",
       "      <td>https://www.sreality.cz/detail/prodej/byt/1+kk/praha-branik-nad-lesnim-divadlem/2365006172/</td>\n",
       "    </tr>\n",
       "    <tr>\n",
       "      <th>1588052316</th>\n",
       "      <td>2.7</td>\n",
       "      <td>8.4</td>\n",
       "      <td>4.9</td>\n",
       "      <td>169,623</td>\n",
       "      <td>498,050</td>\n",
       "      <td>297,975</td>\n",
       "      <td>6,400,000</td>\n",
       "      <td>90,140</td>\n",
       "      <td>https://www.sreality.cz/detail/prodej/byt/3+kk/praha-vrsovice-zitomirska/1588052316/</td>\n",
       "    </tr>\n",
       "    <tr>\n",
       "      <th>1713840476</th>\n",
       "      <td>1.7</td>\n",
       "      <td>10.3</td>\n",
       "      <td>4.7</td>\n",
       "      <td>138,741</td>\n",
       "      <td>792,210</td>\n",
       "      <td>377,942</td>\n",
       "      <td>8,500,000</td>\n",
       "      <td>104,938</td>\n",
       "      <td>https://www.sreality.cz/detail/prodej/byt/3+1/praha-dejvice-bubenecska/1713840476/</td>\n",
       "    </tr>\n",
       "    <tr>\n",
       "      <th>4124324188</th>\n",
       "      <td>1.3</td>\n",
       "      <td>11.2</td>\n",
       "      <td>4.6</td>\n",
       "      <td>116,486</td>\n",
       "      <td>909,235</td>\n",
       "      <td>393,129</td>\n",
       "      <td>8,999,000</td>\n",
       "      <td>102,261</td>\n",
       "      <td>https://www.sreality.cz/detail/prodej/byt/3+kk/praha-dejvice-patanka/4124324188/</td>\n",
       "    </tr>\n",
       "    <tr>\n",
       "      <th>2422088028</th>\n",
       "      <td>-0.0</td>\n",
       "      <td>0.8</td>\n",
       "      <td>4.4</td>\n",
       "      <td>-327</td>\n",
       "      <td>38,126</td>\n",
       "      <td>192,235</td>\n",
       "      <td>4,586,000</td>\n",
       "      <td>77,728</td>\n",
       "      <td>https://www.sreality.cz/detail/prodej/byt/2+kk/praha-liben-/2422088028/</td>\n",
       "    </tr>\n",
       "  </tbody>\n",
       "</table>\n",
       "</div>"
      ],
      "text/plain": [
       "            Error,%  Error forest,%  Error cat % Error,Kč Error forest,Kč  \\\n",
       "2363957596      0.8             9.6         11.0   61,506         672,225   \n",
       "688333148       2.0            -0.2         10.7   80,952          -9,749   \n",
       "569565532       1.1            10.6          8.1   59,237         533,894   \n",
       "3438944604      1.7            16.5          7.9   74,908         622,588   \n",
       "1351557468      1.9            14.0          7.6   97,556         651,019   \n",
       "2474238300      7.7             8.6          7.4  483,537         537,516   \n",
       "924262748       1.1             9.9          6.9   90,640         748,009   \n",
       "4270244188      1.0            11.2          6.8   55,196         580,927   \n",
       "525803868       4.8             9.1          6.1  281,651         516,156   \n",
       "2813669724      0.7            -1.3          5.6   33,472         -60,839   \n",
       "2365006172      0.1            -1.0          5.1    1,466         -19,411   \n",
       "1588052316      2.7             8.4          4.9  169,623         498,050   \n",
       "1713840476      1.7            10.3          4.7  138,741         792,210   \n",
       "4124324188      1.3            11.2          4.6  116,486         909,235   \n",
       "2422088028     -0.0             0.8          4.4     -327          38,126   \n",
       "\n",
       "           Error cat   Price,Kč Price,m²  \\\n",
       "2363957596   760,388  7,690,000  101,184   \n",
       "688333148    397,466  4,100,000   80,392   \n",
       "569565532    416,974  5,553,700  102,846   \n",
       "3438944604   320,200  4,390,000   97,555   \n",
       "1351557468   375,962  5,300,000   96,363   \n",
       "2474238300   471,018  6,800,000   91,891   \n",
       "924262748    538,185  8,300,000  107,792   \n",
       "4270244188   370,448  5,779,590   82,565   \n",
       "525803868    356,073  6,199,000  119,211   \n",
       "2813669724   249,327  4,724,200   65,613   \n",
       "2365006172    96,705  1,990,000   82,916   \n",
       "1588052316   297,975  6,400,000   90,140   \n",
       "1713840476   377,942  8,500,000  104,938   \n",
       "4124324188   393,129  8,999,000  102,261   \n",
       "2422088028   192,235  4,586,000   77,728   \n",
       "\n",
       "                                                                                                        URL  \n",
       "2363957596         https://www.sreality.cz/detail/prodej/byt/3+kk/praha-karlin-rohanske-nabrezi/2363957596/  \n",
       "688333148                   https://www.sreality.cz/detail/prodej/byt/2+kk/praha-zizkov-baranova/688333148/  \n",
       "569565532             https://www.sreality.cz/detail/prodej/byt/1+kk/praha-liben-libensky-ostrov/569565532/  \n",
       "3438944604               https://www.sreality.cz/detail/prodej/byt/2+kk/praha-vinohrady-libicka/3438944604/  \n",
       "1351557468              https://www.sreality.cz/detail/prodej/byt/2+kk/praha-smichov-storkanova/1351557468/  \n",
       "2474238300               https://www.sreality.cz/detail/prodej/byt/2+kk/praha-radotin-zderazska/2474238300/  \n",
       "924262748           https://www.sreality.cz/detail/prodej/byt/3+kk/praha-karlin-rohanske-nabrezi/924262748/  \n",
       "4270244188            https://www.sreality.cz/detail/prodej/byt/3+kk/praha-stodulky-petrzilkova/4270244188/  \n",
       "525803868    https://www.sreality.cz/detail/prodej/byt/2+kk/praha-karlin-za-karlinskym-pristavem/525803868/  \n",
       "2813669724                https://www.sreality.cz/detail/prodej/byt/3+kk/praha-modrany-stolcova/2813669724/  \n",
       "2365006172      https://www.sreality.cz/detail/prodej/byt/1+kk/praha-branik-nad-lesnim-divadlem/2365006172/  \n",
       "1588052316             https://www.sreality.cz/detail/prodej/byt/3+kk/praha-vrsovice-zitomirska/1588052316/  \n",
       "1713840476               https://www.sreality.cz/detail/prodej/byt/3+1/praha-dejvice-bubenecska/1713840476/  \n",
       "4124324188                 https://www.sreality.cz/detail/prodej/byt/3+kk/praha-dejvice-patanka/4124324188/  \n",
       "2422088028                          https://www.sreality.cz/detail/prodej/byt/2+kk/praha-liben-/2422088028/  "
      ]
     },
     "execution_count": 120,
     "metadata": {},
     "output_type": "execute_result"
    }
   ],
   "source": [
    "# Overpriced offers\n",
    "res_info.sort_values(by='Error cat %', ascending=False)[:15]"
   ]
  },
  {
   "cell_type": "code",
   "execution_count": 107,
   "metadata": {
    "collapsed": false,
    "deletable": true,
    "editable": true
   },
   "outputs": [
    {
     "data": {
      "text/plain": [
       "3645677.7828330584"
      ]
     },
     "execution_count": 107,
     "metadata": {},
     "output_type": "execute_result"
    }
   ],
   "source": [
    "predictions_c[4444]"
   ]
  },
  {
   "cell_type": "code",
   "execution_count": null,
   "metadata": {
    "collapsed": true
   },
   "outputs": [],
   "source": []
  }
 ],
 "metadata": {
  "kernelspec": {
   "display_name": "Python 2",
   "language": "python",
   "name": "python2"
  },
  "language_info": {
   "codemirror_mode": {
    "name": "ipython",
    "version": 2
   },
   "file_extension": ".py",
   "mimetype": "text/x-python",
   "name": "python",
   "nbconvert_exporter": "python",
   "pygments_lexer": "ipython2",
   "version": "2.7.10"
  }
 },
 "nbformat": 4,
 "nbformat_minor": 0
}
