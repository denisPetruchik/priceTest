{
 "cells": [
  {
   "cell_type": "code",
   "execution_count": 227,
   "metadata": {},
   "outputs": [
    {
     "data": {
      "text/plain": [
       "(981, 14)"
      ]
     },
     "execution_count": 227,
     "metadata": {},
     "output_type": "execute_result"
    }
   ],
   "source": [
    "## Import and data processing\n",
    "\n",
    "import json\n",
    "\n",
    "import pandas as pd\n",
    "import numpy as np\n",
    "\n",
    "\n",
    "with open('sreality/output.json') as data_file: data = json.load(data_file)    \n",
    "df = pd.io.json.json_normalize(data)\n",
    "\n",
    "pd.set_option('display.max_columns', 200)\n",
    "pd.set_option('display.max_rows', 30)\n",
    "\n",
    "df.shape"
   ]
  },
  {
   "cell_type": "code",
   "execution_count": 228,
   "metadata": {},
   "outputs": [
    {
     "data": {
      "text/html": [
       "<div>\n",
       "<style>\n",
       "    .dataframe thead tr:only-child th {\n",
       "        text-align: right;\n",
       "    }\n",
       "\n",
       "    .dataframe thead th {\n",
       "        text-align: left;\n",
       "    }\n",
       "\n",
       "    .dataframe tbody tr th {\n",
       "        vertical-align: top;\n",
       "    }\n",
       "</style>\n",
       "<table border=\"1\" class=\"dataframe\">\n",
       "  <thead>\n",
       "    <tr style=\"text-align: right;\">\n",
       "      <th></th>\n",
       "      <th>id</th>\n",
       "      <th>location</th>\n",
       "      <th>navic</th>\n",
       "      <th>novostavba</th>\n",
       "      <th>plocha</th>\n",
       "      <th>podlazi</th>\n",
       "      <th>price</th>\n",
       "      <th>stavOb</th>\n",
       "      <th>stavba</th>\n",
       "      <th>stitky</th>\n",
       "      <th>trida</th>\n",
       "      <th>url</th>\n",
       "      <th>velikost</th>\n",
       "      <th>vlastnictvi</th>\n",
       "    </tr>\n",
       "  </thead>\n",
       "  <tbody>\n",
       "    <tr>\n",
       "      <th>0</th>\n",
       "      <td>2558665052</td>\n",
       "      <td>Kloboukova, Praha 4 - Chodov</td>\n",
       "      <td>,vytah</td>\n",
       "      <td>False</td>\n",
       "      <td>83</td>\n",
       "      <td>3. podlaží z celkem 6 včetně 1 podzemního</td>\n",
       "      <td>4 290 000 Kč</td>\n",
       "      <td>veryGood</td>\n",
       "      <td>panelova</td>\n",
       "      <td>Lodžie,Panelová,Částečně vybavený</td>\n",
       "      <td>C</td>\n",
       "      <td>3+1/praha-chodov-kloboukova/2558665052</td>\n",
       "      <td>3+1</td>\n",
       "      <td>osobni</td>\n",
       "    </tr>\n",
       "    <tr>\n",
       "      <th>1</th>\n",
       "      <td>2667434332</td>\n",
       "      <td>Družstevní, Praha 4 - Nusle</td>\n",
       "      <td></td>\n",
       "      <td>False</td>\n",
       "      <td>43</td>\n",
       "      <td>3. podlaží z celkem 5 včetně 1 podzemního</td>\n",
       "      <td>3 990 000 Kč</td>\n",
       "      <td>afterRec</td>\n",
       "      <td>cihlova</td>\n",
       "      <td>Po rekonstrukci,Lodžie,Vybavený</td>\n",
       "      <td>C</td>\n",
       "      <td>2+kk/praha-nusle-druzstevni/2667434332</td>\n",
       "      <td>2+kk</td>\n",
       "      <td>osobni</td>\n",
       "    </tr>\n",
       "    <tr>\n",
       "      <th>2</th>\n",
       "      <td>3520147804</td>\n",
       "      <td>Menclova, Praha 8 - Libeň</td>\n",
       "      <td>balkon,vytah</td>\n",
       "      <td>False</td>\n",
       "      <td>NaN</td>\n",
       "      <td>NaN</td>\n",
       "      <td>6 321 430 Kč</td>\n",
       "      <td>NaN</td>\n",
       "      <td>ostatni</td>\n",
       "      <td>Ve výstavbě</td>\n",
       "      <td>No</td>\n",
       "      <td>2+kk/praha-liben-menclova/3520147804</td>\n",
       "      <td>2+kk</td>\n",
       "      <td>osobni</td>\n",
       "    </tr>\n",
       "  </tbody>\n",
       "</table>\n",
       "</div>"
      ],
      "text/plain": [
       "           id                      location         navic novostavba plocha  \\\n",
       "0  2558665052  Kloboukova, Praha 4 - Chodov        ,vytah      False     83   \n",
       "1  2667434332   Družstevní, Praha 4 - Nusle                    False     43   \n",
       "2  3520147804     Menclova, Praha 8 - Libeň  balkon,vytah      False    NaN   \n",
       "\n",
       "                                     podlazi         price    stavOb  \\\n",
       "0  3. podlaží z celkem 6 včetně 1 podzemního  4 290 000 Kč  veryGood   \n",
       "1  3. podlaží z celkem 5 včetně 1 podzemního  3 990 000 Kč  afterRec   \n",
       "2                                        NaN  6 321 430 Kč       NaN   \n",
       "\n",
       "     stavba                             stitky trida  \\\n",
       "0  panelova  Lodžie,Panelová,Částečně vybavený     C   \n",
       "1   cihlova    Po rekonstrukci,Lodžie,Vybavený     C   \n",
       "2   ostatni                        Ve výstavbě    No   \n",
       "\n",
       "                                      url velikost vlastnictvi  \n",
       "0  3+1/praha-chodov-kloboukova/2558665052      3+1      osobni  \n",
       "1  2+kk/praha-nusle-druzstevni/2667434332     2+kk      osobni  \n",
       "2    2+kk/praha-liben-menclova/3520147804     2+kk      osobni  "
      ]
     },
     "execution_count": 228,
     "metadata": {},
     "output_type": "execute_result"
    }
   ],
   "source": [
    "df.head(3)"
   ]
  },
  {
   "cell_type": "code",
   "execution_count": 229,
   "metadata": {},
   "outputs": [
    {
     "data": {
      "text/plain": [
       "Index([u'location', u'navic', u'novostavba', u'plocha', u'podlazi', u'price',\n",
       "       u'stavOb', u'stavba', u'stitky', u'trida', u'url', u'velikost',\n",
       "       u'vlastnictvi'],\n",
       "      dtype='object')"
      ]
     },
     "execution_count": 229,
     "metadata": {},
     "output_type": "execute_result"
    }
   ],
   "source": [
    "df.index = df['id'].apply(pd.to_numeric)\n",
    "del df['id']\n",
    "\n",
    "# Column names:\n",
    "df.columns"
   ]
  },
  {
   "cell_type": "code",
   "execution_count": 230,
   "metadata": {},
   "outputs": [
    {
     "data": {
      "text/plain": [
       "Štolcova, Praha 4 - Modřany           18\n",
       "Kolbenova, Praha 9 - Vysočany         17\n",
       "Rohanské nábřeží, Praha 8 - Karlín    13\n",
       "Voctářova, Praha - Praha 8            12\n",
       "Libeňský ostrov, Praha 8 - Libeň       9\n",
       "Name: location, dtype: int64"
      ]
     },
     "execution_count": 230,
     "metadata": {},
     "output_type": "execute_result"
    }
   ],
   "source": [
    "df['location'].value_counts()[:5]"
   ]
  },
  {
   "cell_type": "code",
   "execution_count": 231,
   "metadata": {},
   "outputs": [
    {
     "data": {
      "text/plain": [
       "osobni           894\n",
       "druzstevni        85\n",
       "statni-obecni      2\n",
       "Name: vlastnictvi, dtype: int64"
      ]
     },
     "execution_count": 231,
     "metadata": {},
     "output_type": "execute_result"
    }
   ],
   "source": [
    "df['vlastnictvi'].value_counts()"
   ]
  },
  {
   "cell_type": "code",
   "execution_count": 232,
   "metadata": {},
   "outputs": [
    {
     "data": {
      "text/html": [
       "<div>\n",
       "<style>\n",
       "    .dataframe thead tr:only-child th {\n",
       "        text-align: right;\n",
       "    }\n",
       "\n",
       "    .dataframe thead th {\n",
       "        text-align: left;\n",
       "    }\n",
       "\n",
       "    .dataframe tbody tr th {\n",
       "        vertical-align: top;\n",
       "    }\n",
       "</style>\n",
       "<table border=\"1\" class=\"dataframe\">\n",
       "  <thead>\n",
       "    <tr style=\"text-align: right;\">\n",
       "      <th></th>\n",
       "      <th>location</th>\n",
       "      <th>navic</th>\n",
       "      <th>novostavba</th>\n",
       "      <th>plocha</th>\n",
       "      <th>podlazi</th>\n",
       "      <th>price</th>\n",
       "      <th>stavOb</th>\n",
       "      <th>stavba</th>\n",
       "      <th>stitky</th>\n",
       "      <th>trida</th>\n",
       "      <th>url</th>\n",
       "      <th>velikost</th>\n",
       "      <th>vlastnictvi</th>\n",
       "    </tr>\n",
       "    <tr>\n",
       "      <th>id</th>\n",
       "      <th></th>\n",
       "      <th></th>\n",
       "      <th></th>\n",
       "      <th></th>\n",
       "      <th></th>\n",
       "      <th></th>\n",
       "      <th></th>\n",
       "      <th></th>\n",
       "      <th></th>\n",
       "      <th></th>\n",
       "      <th></th>\n",
       "      <th></th>\n",
       "      <th></th>\n",
       "    </tr>\n",
       "  </thead>\n",
       "  <tbody>\n",
       "    <tr>\n",
       "      <th>3466731868</th>\n",
       "      <td>Na Výrovně, Praha 5 - Stodůlky</td>\n",
       "      <td>,garaz,vytah</td>\n",
       "      <td>False</td>\n",
       "      <td>45</td>\n",
       "      <td>4. podlaží z celkem 5</td>\n",
       "      <td>Info o ceně u RK</td>\n",
       "      <td>veryGood</td>\n",
       "      <td>ostatni</td>\n",
       "      <td>Balkon,Garáž,Vybavený</td>\n",
       "      <td>G</td>\n",
       "      <td>2+kk/praha-stodulky-na-vyrovne/3466731868</td>\n",
       "      <td>2+kk</td>\n",
       "      <td>osobni</td>\n",
       "    </tr>\n",
       "    <tr>\n",
       "      <th>3161796956</th>\n",
       "      <td>Ke Kamýku, Praha - Kamýk</td>\n",
       "      <td>lodzie</td>\n",
       "      <td>True</td>\n",
       "      <td>106</td>\n",
       "      <td>2. podlaží z celkem 3</td>\n",
       "      <td>Info o ceně u RK</td>\n",
       "      <td>Novostavba</td>\n",
       "      <td>cihlova</td>\n",
       "      <td></td>\n",
       "      <td>B</td>\n",
       "      <td>3+kk/praha-kamyk-ke-kamyku/3161796956</td>\n",
       "      <td>3+kk</td>\n",
       "      <td>osobni</td>\n",
       "    </tr>\n",
       "    <tr>\n",
       "      <th>80159068</th>\n",
       "      <td>Jílovská, Praha - Praha 4</td>\n",
       "      <td>lodzie</td>\n",
       "      <td>False</td>\n",
       "      <td>64</td>\n",
       "      <td>10. podlaží z celkem 11</td>\n",
       "      <td>Info o ceně u RK</td>\n",
       "      <td>afterRec</td>\n",
       "      <td>panelova</td>\n",
       "      <td>Po rekonstrukci,Panelová</td>\n",
       "      <td>No</td>\n",
       "      <td>3+1/praha-praha-4-jilovska/80159068</td>\n",
       "      <td>3+1</td>\n",
       "      <td>osobni</td>\n",
       "    </tr>\n",
       "  </tbody>\n",
       "</table>\n",
       "</div>"
      ],
      "text/plain": [
       "                                  location         navic novostavba plocha  \\\n",
       "id                                                                           \n",
       "3466731868  Na Výrovně, Praha 5 - Stodůlky  ,garaz,vytah      False     45   \n",
       "3161796956        Ke Kamýku, Praha - Kamýk        lodzie       True    106   \n",
       "80159068         Jílovská, Praha - Praha 4        lodzie      False     64   \n",
       "\n",
       "                            podlazi             price      stavOb    stavba  \\\n",
       "id                                                                            \n",
       "3466731868    4. podlaží z celkem 5  Info o ceně u RK    veryGood   ostatni   \n",
       "3161796956    2. podlaží z celkem 3  Info o ceně u RK  Novostavba   cihlova   \n",
       "80159068    10. podlaží z celkem 11  Info o ceně u RK    afterRec  panelova   \n",
       "\n",
       "                              stitky trida  \\\n",
       "id                                           \n",
       "3466731868     Balkon,Garáž,Vybavený     G   \n",
       "3161796956                               B   \n",
       "80159068    Po rekonstrukci,Panelová    No   \n",
       "\n",
       "                                                  url velikost vlastnictvi  \n",
       "id                                                                          \n",
       "3466731868  2+kk/praha-stodulky-na-vyrovne/3466731868     2+kk      osobni  \n",
       "3161796956      3+kk/praha-kamyk-ke-kamyku/3161796956     3+kk      osobni  \n",
       "80159068          3+1/praha-praha-4-jilovska/80159068      3+1      osobni  "
      ]
     },
     "execution_count": 232,
     "metadata": {},
     "output_type": "execute_result"
    }
   ],
   "source": [
    "df[df['price'] == u'Info o ceně u RK'][:3]"
   ]
  },
  {
   "cell_type": "code",
   "execution_count": 233,
   "metadata": {
    "collapsed": true
   },
   "outputs": [],
   "source": [
    "# Removing our 'priceless' offers\n",
    "df = df[df['price'] != u'Info o ceně u RK']"
   ]
  },
  {
   "cell_type": "code",
   "execution_count": 234,
   "metadata": {
    "collapsed": true
   },
   "outputs": [],
   "source": [
    "df['price'] = df['price'].map(lambda x: x[:x.find(u' Kč')].replace(' ',''))"
   ]
  },
  {
   "cell_type": "code",
   "execution_count": 235,
   "metadata": {
    "collapsed": true
   },
   "outputs": [],
   "source": [
    "# converting price to int64\n",
    "df['price'] = pd.to_numeric(df['price'], errors='coerce')"
   ]
  },
  {
   "cell_type": "code",
   "execution_count": 236,
   "metadata": {},
   "outputs": [
    {
     "data": {
      "image/png": "[encoded data removed]",
      "text/plain": [
       "<matplotlib.figure.Figure at 0x11e163550>"
      ]
     },
     "metadata": {},
     "output_type": "display_data"
    }
   ],
   "source": [
    "%matplotlib inline\n",
    "import seaborn as sns\n",
    "# price destribution\n",
    "sns.distplot(df['price']);"
   ]
  },
  {
   "cell_type": "code",
   "execution_count": 237,
   "metadata": {},
   "outputs": [
    {
     "name": "stdout",
     "output_type": "stream",
     "text": [
      "Skewness: 8.731987\n",
      "Kurtosis: 117.201948\n"
     ]
    }
   ],
   "source": [
    "#skewness and kurtosis\n",
    "print(\"Skewness: %f\" % df['price'].skew())\n",
    "print(\"Kurtosis: %f\" % df['price'].kurt())"
   ]
  },
  {
   "cell_type": "code",
   "execution_count": 238,
   "metadata": {},
   "outputs": [
    {
     "data": {
      "image/png": "[encoded data removed]",
      "text/plain": [
       "<matplotlib.figure.Figure at 0x11f4e5a50>"
      ]
     },
     "metadata": {},
     "output_type": "display_data"
    }
   ],
   "source": [
    "df = df[df['price'] < 12500000]\n",
    "df = df[df['price'] > 1500000]\n",
    "sns.distplot(df['price']);"
   ]
  },
  {
   "cell_type": "code",
   "execution_count": 239,
   "metadata": {},
   "outputs": [
    {
     "name": "stdout",
     "output_type": "stream",
     "text": [
      "Skewness: 0.922978\n",
      "Kurtosis: 0.087664\n"
     ]
    }
   ],
   "source": [
    "#skewness and kurtosis\n",
    "print(\"Skewness: %f\" % df['price'].skew())\n",
    "print(\"Kurtosis: %f\" % df['price'].kurt())"
   ]
  },
  {
   "cell_type": "code",
   "execution_count": 240,
   "metadata": {},
   "outputs": [
    {
     "name": "stdout",
     "output_type": "stream",
     "text": [
      "<class 'pandas.core.frame.DataFrame'>\n",
      "Int64Index: 875 entries, 2558665052 to 3837731164\n",
      "Data columns (total 13 columns):\n",
      "location       875 non-null object\n",
      "navic          875 non-null object\n",
      "novostavba     875 non-null object\n",
      "plocha         728 non-null object\n",
      "podlazi        728 non-null object\n",
      "price          875 non-null int64\n",
      "stavOb         836 non-null object\n",
      "stavba         875 non-null object\n",
      "stitky         875 non-null object\n",
      "trida          875 non-null object\n",
      "url            875 non-null object\n",
      "velikost       875 non-null object\n",
      "vlastnictvi    875 non-null object\n",
      "dtypes: int64(1), object(12)\n",
      "memory usage: 95.7+ KB\n"
     ]
    }
   ],
   "source": [
    "# overall info\n",
    "df.info()"
   ]
  },
  {
   "cell_type": "markdown",
   "metadata": {},
   "source": [
    "## Filling missing fields"
   ]
  },
  {
   "cell_type": "markdown",
   "metadata": {},
   "source": [
    "### Užitná plocha"
   ]
  },
  {
   "cell_type": "code",
   "execution_count": 241,
   "metadata": {
    "collapsed": true
   },
   "outputs": [],
   "source": [
    "df['plocha'] = pd.to_numeric(df['plocha'], errors='coerce')"
   ]
  },
  {
   "cell_type": "markdown",
   "metadata": {},
   "source": [
    "### Lodžie, Novostavba, sklep, parkovani"
   ]
  },
  {
   "cell_type": "code",
   "execution_count": 242,
   "metadata": {},
   "outputs": [
    {
     "data": {
      "text/html": [
       "<div>\n",
       "<style>\n",
       "    .dataframe thead tr:only-child th {\n",
       "        text-align: right;\n",
       "    }\n",
       "\n",
       "    .dataframe thead th {\n",
       "        text-align: left;\n",
       "    }\n",
       "\n",
       "    .dataframe tbody tr th {\n",
       "        vertical-align: top;\n",
       "    }\n",
       "</style>\n",
       "<table border=\"1\" class=\"dataframe\">\n",
       "  <thead>\n",
       "    <tr style=\"text-align: right;\">\n",
       "      <th></th>\n",
       "      <th>location</th>\n",
       "      <th>navic</th>\n",
       "      <th>novostavba</th>\n",
       "      <th>plocha</th>\n",
       "      <th>podlazi</th>\n",
       "      <th>price</th>\n",
       "      <th>stavOb</th>\n",
       "      <th>stavba</th>\n",
       "      <th>stitky</th>\n",
       "      <th>trida</th>\n",
       "      <th>url</th>\n",
       "      <th>velikost</th>\n",
       "      <th>vlastnictvi</th>\n",
       "      <th>sklep</th>\n",
       "      <th>parkovani</th>\n",
       "      <th>vytah</th>\n",
       "      <th>balkon</th>\n",
       "    </tr>\n",
       "    <tr>\n",
       "      <th>id</th>\n",
       "      <th></th>\n",
       "      <th></th>\n",
       "      <th></th>\n",
       "      <th></th>\n",
       "      <th></th>\n",
       "      <th></th>\n",
       "      <th></th>\n",
       "      <th></th>\n",
       "      <th></th>\n",
       "      <th></th>\n",
       "      <th></th>\n",
       "      <th></th>\n",
       "      <th></th>\n",
       "      <th></th>\n",
       "      <th></th>\n",
       "      <th></th>\n",
       "      <th></th>\n",
       "    </tr>\n",
       "  </thead>\n",
       "  <tbody>\n",
       "    <tr>\n",
       "      <th>2558665052</th>\n",
       "      <td>Kloboukova, Praha 4 - Chodov</td>\n",
       "      <td>,vytah</td>\n",
       "      <td>False</td>\n",
       "      <td>83.0</td>\n",
       "      <td>3. podlaží z celkem 6 včetně 1 podzemního</td>\n",
       "      <td>4290000</td>\n",
       "      <td>veryGood</td>\n",
       "      <td>panelova</td>\n",
       "      <td>Lodžie,Panelová,Částečně vybavený</td>\n",
       "      <td>C</td>\n",
       "      <td>3+1/praha-chodov-kloboukova/2558665052</td>\n",
       "      <td>3+1</td>\n",
       "      <td>osobni</td>\n",
       "      <td>False</td>\n",
       "      <td>False</td>\n",
       "      <td>True</td>\n",
       "      <td>no</td>\n",
       "    </tr>\n",
       "    <tr>\n",
       "      <th>2667434332</th>\n",
       "      <td>Družstevní, Praha 4 - Nusle</td>\n",
       "      <td></td>\n",
       "      <td>False</td>\n",
       "      <td>43.0</td>\n",
       "      <td>3. podlaží z celkem 5 včetně 1 podzemního</td>\n",
       "      <td>3990000</td>\n",
       "      <td>afterRec</td>\n",
       "      <td>cihlova</td>\n",
       "      <td>Po rekonstrukci,Lodžie,Vybavený</td>\n",
       "      <td>C</td>\n",
       "      <td>2+kk/praha-nusle-druzstevni/2667434332</td>\n",
       "      <td>2+kk</td>\n",
       "      <td>osobni</td>\n",
       "      <td>False</td>\n",
       "      <td>False</td>\n",
       "      <td>False</td>\n",
       "      <td>no</td>\n",
       "    </tr>\n",
       "    <tr>\n",
       "      <th>3520147804</th>\n",
       "      <td>Menclova, Praha 8 - Libeň</td>\n",
       "      <td>balkon,vytah</td>\n",
       "      <td>False</td>\n",
       "      <td>NaN</td>\n",
       "      <td>NaN</td>\n",
       "      <td>6321430</td>\n",
       "      <td>NaN</td>\n",
       "      <td>ostatni</td>\n",
       "      <td>Ve výstavbě</td>\n",
       "      <td>No</td>\n",
       "      <td>2+kk/praha-liben-menclova/3520147804</td>\n",
       "      <td>2+kk</td>\n",
       "      <td>osobni</td>\n",
       "      <td>False</td>\n",
       "      <td>False</td>\n",
       "      <td>True</td>\n",
       "      <td>balkon</td>\n",
       "    </tr>\n",
       "  </tbody>\n",
       "</table>\n",
       "</div>"
      ],
      "text/plain": [
       "                                location         navic novostavba  plocha  \\\n",
       "id                                                                          \n",
       "2558665052  Kloboukova, Praha 4 - Chodov        ,vytah      False    83.0   \n",
       "2667434332   Družstevní, Praha 4 - Nusle                    False    43.0   \n",
       "3520147804     Menclova, Praha 8 - Libeň  balkon,vytah      False     NaN   \n",
       "\n",
       "                                              podlazi    price    stavOb  \\\n",
       "id                                                                         \n",
       "2558665052  3. podlaží z celkem 6 včetně 1 podzemního  4290000  veryGood   \n",
       "2667434332  3. podlaží z celkem 5 včetně 1 podzemního  3990000  afterRec   \n",
       "3520147804                                        NaN  6321430       NaN   \n",
       "\n",
       "              stavba                             stitky trida  \\\n",
       "id                                                              \n",
       "2558665052  panelova  Lodžie,Panelová,Částečně vybavený     C   \n",
       "2667434332   cihlova    Po rekonstrukci,Lodžie,Vybavený     C   \n",
       "3520147804   ostatni                        Ve výstavbě    No   \n",
       "\n",
       "                                               url velikost vlastnictvi  \\\n",
       "id                                                                        \n",
       "2558665052  3+1/praha-chodov-kloboukova/2558665052      3+1      osobni   \n",
       "2667434332  2+kk/praha-nusle-druzstevni/2667434332     2+kk      osobni   \n",
       "3520147804    2+kk/praha-liben-menclova/3520147804     2+kk      osobni   \n",
       "\n",
       "            sklep  parkovani  vytah  balkon  \n",
       "id                                           \n",
       "2558665052  False      False   True      no  \n",
       "2667434332  False      False  False      no  \n",
       "3520147804  False      False   True  balkon  "
      ]
     },
     "execution_count": 242,
     "metadata": {},
     "output_type": "execute_result"
    }
   ],
   "source": [
    "def contains_converter(mapping, param):\n",
    "    for i in mapping:        \n",
    "        if param.find(i) > -1:\n",
    "            return mapping[i]\n",
    "    return 'no'\n",
    "balcony_mapping = {\n",
    "        u'balkon':u'balkon',\n",
    "        u'lodzie':u'lodzie',\n",
    "        u'terasa':u'terasa'    \n",
    "    }\n",
    "\n",
    "df['sklep'] = df['navic'].str.contains('sklep')\n",
    "df['parkovani'] = df['navic'].str.contains('parkovani')\n",
    "df['vytah'] = df['navic'].str.contains('vytah')\n",
    "df['balkon'] = df['navic'].map(lambda x: contains_converter(balcony_mapping, x))\n",
    "df.head(3)"
   ]
  },
  {
   "cell_type": "markdown",
   "metadata": {},
   "source": [
    "### metro and public transport"
   ]
  },
  {
   "cell_type": "code",
   "execution_count": 243,
   "metadata": {},
   "outputs": [
    {
     "data": {
      "text/plain": [
       "location       False\n",
       "navic          False\n",
       "novostavba     False\n",
       "plocha         False\n",
       "podlazi        False\n",
       "price          False\n",
       "stavOb         False\n",
       "stavba         False\n",
       "stitky         False\n",
       "trida          False\n",
       "url            False\n",
       "velikost       False\n",
       "vlastnictvi    False\n",
       "sklep          False\n",
       "parkovani      False\n",
       "vytah          False\n",
       "balkon         False\n",
       "dtype: bool"
      ]
     },
     "execution_count": 243,
     "metadata": {},
     "output_type": "execute_result"
    }
   ],
   "source": [
    "#TODO add lastfloor, transport\n",
    "df = df.dropna(axis=0, how='any')\n",
    "df.isnull().any()"
   ]
  },
  {
   "cell_type": "code",
   "execution_count": 244,
   "metadata": {},
   "outputs": [
    {
     "data": {
      "text/plain": [
       "2     128\n",
       "1     116\n",
       "3     108\n",
       "4     102\n",
       "5      79\n",
       "6      58\n",
       "7      35\n",
       "8      33\n",
       "9      15\n",
       "10     11\n",
       "11      4\n",
       "18      3\n",
       "13      3\n",
       "-1      3\n",
       "12      2\n",
       "15      2\n",
       "14      1\n",
       "16      1\n",
       "Name: floor, dtype: int64"
      ]
     },
     "execution_count": 244,
     "metadata": {},
     "output_type": "execute_result"
    }
   ],
   "source": [
    "df['floor'] = df['podlazi'].map(lambda x: x[:x.find(u'. podlaží z celkem ')].replace(' ',''))\n",
    "df['firstFloor'] = df['floor'].map(lambda x: True if x == '1' else False)\n",
    "df['floor'].value_counts()"
   ]
  },
  {
   "cell_type": "code",
   "execution_count": 245,
   "metadata": {},
   "outputs": [
    {
     "name": "stdout",
     "output_type": "stream",
     "text": [
      "<class 'pandas.core.frame.DataFrame'>\n",
      "Int64Index: 704 entries, 2558665052 to 3837731164\n",
      "Data columns (total 19 columns):\n",
      "location       704 non-null object\n",
      "navic          704 non-null object\n",
      "novostavba     704 non-null object\n",
      "plocha         704 non-null float64\n",
      "podlazi        704 non-null object\n",
      "price          704 non-null int64\n",
      "stavOb         704 non-null object\n",
      "stavba         704 non-null object\n",
      "stitky         704 non-null object\n",
      "trida          704 non-null object\n",
      "url            704 non-null object\n",
      "velikost       704 non-null object\n",
      "vlastnictvi    704 non-null object\n",
      "sklep          704 non-null bool\n",
      "parkovani      704 non-null bool\n",
      "vytah          704 non-null bool\n",
      "balkon         704 non-null object\n",
      "floor          704 non-null object\n",
      "firstFloor     704 non-null bool\n",
      "dtypes: bool(4), float64(1), int64(1), object(13)\n",
      "memory usage: 90.8+ KB\n"
     ]
    }
   ],
   "source": [
    "df.info()\n",
    "df.to_csv('priceRaw.csv', encoding = 'utf-8')"
   ]
  },
  {
   "cell_type": "code",
   "execution_count": 246,
   "metadata": {},
   "outputs": [
    {
     "data": {
      "image/png": "[encoded data removed]",
      "text/plain": [
       "<matplotlib.figure.Figure at 0x11f0f2550>"
      ]
     },
     "metadata": {},
     "output_type": "display_data"
    }
   ],
   "source": [
    "import matplotlib.pyplot as plt\n",
    "\n",
    "def plot_correlation_map( df ):\n",
    "    corr = df.corr()\n",
    "    _ , ax = plt.subplots( figsize =( 12 , 10 ) )\n",
    "    cmap = sns.diverging_palette( 220 , 10 , as_cmap = True )\n",
    "    _ = sns.heatmap(\n",
    "        corr, \n",
    "        cmap = cmap,\n",
    "        square=True, \n",
    "        cbar_kws={ 'shrink' : .9 }, \n",
    "        ax=ax, \n",
    "        annot = True, \n",
    "        annot_kws = { 'fontsize' : 12 }\n",
    "    )\n",
    "    \n",
    "plot_correlation_map(df)"
   ]
  },
  {
   "cell_type": "markdown",
   "metadata": {},
   "source": [
    "## Model training"
   ]
  },
  {
   "cell_type": "code",
   "execution_count": 247,
   "metadata": {
    "collapsed": true
   },
   "outputs": [],
   "source": [
    "from sklearn.preprocessing import LabelEncoder\n",
    "from sklearn.preprocessing import OneHotEncoder\n",
    "\n",
    "def encode_with_LabelEncoder(df, column_name):\n",
    "    label_encoder = LabelEncoder()\n",
    "    label_encoder.fit(df[column_name])\n",
    "    df[column_name+'_le'] = label_encoder.transform(df[column_name])\n",
    "    df.drop([column_name], axis=1, inplace=True)\n",
    "    return label_encoder\n",
    "\n",
    "def encode_with_existing_LabelEncoder(df, column_name, label_encoder):\n",
    "    df[column_name+'_le'] = label_encoder.transform(df[column_name])\n",
    "    df.drop([column_name], axis=1, inplace=True)\n",
    "\n",
    "def encode_with_OneHotEncoder_and_delete_column(df, column_name):\n",
    "    le_encoder = encode_with_LabelEncoder(df, column_name)\n",
    "    return perform_dummy_coding_and_delete_column(df, column_name, le_encoder), le_encoder\n",
    "\n",
    "def encode_with_OneHotEncoder_using_existing_LabelEncoder_and_delete_column(df, column_name, le_encoder):\n",
    "    encode_with_existing_LabelEncoder(df, column_name, le_encoder)\n",
    "    return perform_dummy_coding_and_delete_column(df, column_name, le_encoder)\n",
    "\n",
    "def perform_dummy_coding_and_delete_column(df, column_name, le_encoder):\n",
    "    oh_encoder = OneHotEncoder(sparse=False)\n",
    "    oh_features = oh_encoder.fit_transform(df[column_name+'_le'].values.reshape(-1,1))\n",
    "    ohe_columns=[column_name + '=' + le_encoder.classes_[i] for i in range(oh_features.shape[1])]\n",
    "\n",
    "    df.drop([column_name+'_le'], axis=1, inplace=True)\n",
    "\n",
    "    df_with_features = pd.DataFrame(oh_features, columns=ohe_columns)\n",
    "    df_with_features.index = df.index\n",
    "    return pd.concat([df, df_with_features], axis=1)"
   ]
  },
  {
   "cell_type": "code",
   "execution_count": 248,
   "metadata": {
    "collapsed": true
   },
   "outputs": [],
   "source": [
    "X = df.drop({'price','navic','stitky','url','podlazi'}, axis=1)\n",
    "Y = df['price']\n",
    "\n",
    "def encode_all(X1):\n",
    "    novostavba_le_converter = encode_with_LabelEncoder(X1,'novostavba')\n",
    "    X1, balcony_le_encoder = encode_with_OneHotEncoder_and_delete_column(X1,'balkon')\n",
    "    X1, stavba_le_encoder = encode_with_OneHotEncoder_and_delete_column(X1,'stavba')\n",
    "    X1, velikost_le_encoder = encode_with_OneHotEncoder_and_delete_column(X1,'velikost')\n",
    "    X1, vlastnictvi_le_encoder = encode_with_OneHotEncoder_and_delete_column(X1,'vlastnictvi')\n",
    "    X1, location_le_encoder = encode_with_OneHotEncoder_and_delete_column(X1,'location')\n",
    "    X1, stav_le_encoder = encode_with_OneHotEncoder_and_delete_column(X1,'stavOb')\n",
    "    X1, floor_le_encoder = encode_with_OneHotEncoder_and_delete_column(X1,'floor')\n",
    "    X1, trida_le_encoder = encode_with_OneHotEncoder_and_delete_column(X1,'trida')\n",
    "    sklep_le_encoder = encode_with_LabelEncoder(X1,'sklep')\n",
    "    parkovani_le_encoder = encode_with_LabelEncoder(X1,'parkovani')\n",
    "    vytah_le_encoder = encode_with_LabelEncoder(X1,'vytah')\n",
    "    firstFloor_le_encoder = encode_with_LabelEncoder(X1,'firstFloor')\n",
    "    return X1\n",
    "\n",
    "X = encode_all(X)"
   ]
  },
  {
   "cell_type": "markdown",
   "metadata": {},
   "source": [
    "RFG test"
   ]
  },
  {
   "cell_type": "code",
   "execution_count": 249,
   "metadata": {
    "collapsed": true
   },
   "outputs": [],
   "source": [
    "from sklearn.ensemble import RandomForestRegressor\n",
    "from sklearn.model_selection  import KFold\n",
    "from sklearn.model_selection  import cross_val_score\n",
    "n_folds = 7\n",
    "records_count = Y.count()\n",
    "kf = KFold(n_splits=n_folds, shuffle=True, random_state=1)"
   ]
  },
  {
   "cell_type": "code",
   "execution_count": 250,
   "metadata": {},
   "outputs": [
    {
     "name": "stdout",
     "output_type": "stream",
     "text": [
      "CPU times: user 16 µs, sys: 7 µs, total: 23 µs\n",
      "Wall time: 21.9 µs\n"
     ]
    }
   ],
   "source": [
    "%%time\n",
    "from sklearn.model_selection import GridSearchCV\n",
    "scores = list()\n",
    "scores_std = list()\n",
    "\n",
    "\n",
    "def determine_q(clf):\n",
    "    score = cross_val_score(clf, X, Y, scoring='r2', cv=kf)\n",
    "    scores.append(np.mean(score))\n",
    "    scores_std.append(np.std(score))\n",
    "    return score.mean()\n",
    "    "
   ]
  },
  {
   "cell_type": "code",
   "execution_count": 251,
   "metadata": {},
   "outputs": [
    {
     "data": {
      "text/plain": [
       "RandomForestRegressor(bootstrap=True, criterion='mse', max_depth=None,\n",
       "           max_features='auto', max_leaf_nodes=None,\n",
       "           min_impurity_split=1e-07, min_samples_leaf=1,\n",
       "           min_samples_split=2, min_weight_fraction_leaf=0.0,\n",
       "           n_estimators=51, n_jobs=1, oob_score=False, random_state=1,\n",
       "           verbose=0, warm_start=False)"
      ]
     },
     "execution_count": 251,
     "metadata": {},
     "output_type": "execute_result"
    }
   ],
   "source": [
    "clf = RandomForestRegressor(n_estimators = 51, random_state=1)\n",
    "clf.fit(X, Y)"
   ]
  },
  {
   "cell_type": "code",
   "execution_count": 252,
   "metadata": {},
   "outputs": [
    {
     "data": {
      "text/plain": [
       "0.73198942739172423"
      ]
     },
     "execution_count": 252,
     "metadata": {},
     "output_type": "execute_result"
    }
   ],
   "source": [
    "determine_q(clf)"
   ]
  },
  {
   "cell_type": "code",
   "execution_count": 253,
   "metadata": {},
   "outputs": [
    {
     "name": "stdout",
     "output_type": "stream",
     "text": [
      "novostavba_le 0.692\n",
      "velikost=1+1 0.0708\n",
      "location=Národní obrany, Praha 6 - Bubeneč 0.0116\n",
      "location=Irská, Praha 6 - Vokovice 0.01\n",
      "location=Na Pankráci, Praha 4 - Nusle 0.0077\n",
      "velikost=4+1 0.0064\n",
      "parkovani_le 0.006\n",
      "velikost=3+1 0.0053\n",
      "floor=6 0.0053\n",
      "stavOb=veryGood 0.0048\n"
     ]
    }
   ],
   "source": [
    "# top 20 features:\n",
    "features = X.columns.values\n",
    "importances = clf.feature_importances_\n",
    "indices = np.argsort(importances)[::-1]\n",
    "\n",
    "num_to_plot = 10\n",
    "feature_indices = [ind+1 for ind in indices[:num_to_plot]]\n",
    "\n",
    "for i in range(num_to_plot):\n",
    "    print features[feature_indices[i]], round(importances[indices[i]],4)"
   ]
  },
  {
   "cell_type": "code",
   "execution_count": 254,
   "metadata": {},
   "outputs": [
    {
     "data": {
      "text/plain": [
       "3448627.4509803923"
      ]
     },
     "execution_count": 254,
     "metadata": {},
     "output_type": "execute_result"
    }
   ],
   "source": [
    "predictions = pd.Series(clf.predict(X), index=Y.index)\n",
    "res_info_forest = pd.DataFrame(columns=['Error,%',u'Error,Kč',u'Price,Kč',u'Price,m²', u'URL'])\n",
    "for i in Y.index:\n",
    "    error = Y[i] - predictions[i]\n",
    "    rel_error = error/predictions[i]*100\n",
    "    #if np.abs(rel_error)>15:\n",
    "    res_info_forest.loc[i] = pd.Series({\n",
    "            'Error,%':round(rel_error,1),\n",
    "            u'Error,Kč':'{:,}'.format(int(error)),\n",
    "            u'Price,Kč':'{:,}'.format(Y[i]),\n",
    "            u'Price,m²':'{:,}'.format(int(Y[i]/X['plocha'][i])),\n",
    "            'URL':'{}/{}/'.format(' https://www.sreality.cz/detail/prodej/byt', df['url'][i])\n",
    "    })\n",
    "    \n",
    "predictions[4444]"
   ]
  },
  {
   "cell_type": "code",
   "execution_count": 255,
   "metadata": {},
   "outputs": [
    {
     "name": "stdout",
     "output_type": "stream",
     "text": [
      "CPU times: user 27 µs, sys: 6 µs, total: 33 µs\n",
      "Wall time: 31.9 µs\n"
     ]
    }
   ],
   "source": [
    "%%time\n",
    "import xgboost as xgb\n",
    "scores = list()\n",
    "scores_std = list()\n",
    "kf = KFold(n_splits=n_folds, shuffle=True, random_state=1)\n"
   ]
  },
  {
   "cell_type": "code",
   "execution_count": 263,
   "metadata": {},
   "outputs": [
    {
     "data": {
      "text/plain": [
       "XGBRegressor(base_score=0.5, colsample_bylevel=1, colsample_bytree=0.2,\n",
       "       gamma=0.0, learning_rate=0.01, max_delta_step=0, max_depth=5,\n",
       "       min_child_weight=1.5, missing=None, n_estimators=600, nthread=-1,\n",
       "       objective='reg:linear', reg_alpha=0.9, reg_lambda=0.6,\n",
       "       scale_pos_weight=1, seed=42, silent=1, subsample=0.2)"
      ]
     },
     "execution_count": 263,
     "metadata": {},
     "output_type": "execute_result"
    }
   ],
   "source": [
    "clf = xgb.XGBRegressor(colsample_bytree=0.2,\n",
    "                 gamma=0.0,\n",
    "                 learning_rate=0.01,\n",
    "                 max_depth=5,\n",
    "                 min_child_weight=1.5,\n",
    "                 n_estimators=600,                                                                  \n",
    "                 reg_alpha=0.9,\n",
    "                 reg_lambda=0.6,\n",
    "                 subsample=0.2,\n",
    "                 seed=42,\n",
    "                 silent=1)\n",
    "\n",
    "clf.fit(X, Y)"
   ]
  },
  {
   "cell_type": "code",
   "execution_count": 264,
   "metadata": {},
   "outputs": [
    {
     "data": {
      "text/plain": [
       "0.70312755310384234"
      ]
     },
     "execution_count": 264,
     "metadata": {},
     "output_type": "execute_result"
    }
   ],
   "source": [
    "determine_q(clf)"
   ]
  },
  {
   "cell_type": "code",
   "execution_count": 265,
   "metadata": {
    "collapsed": true
   },
   "outputs": [],
   "source": [
    "predictions = pd.Series(clf.predict(X), index=Y.index)"
   ]
  },
  {
   "cell_type": "markdown",
   "metadata": {},
   "source": [
    "Output results"
   ]
  },
  {
   "cell_type": "code",
   "execution_count": 266,
   "metadata": {},
   "outputs": [
    {
     "data": {
      "text/html": [
       "<table border=\"1\" class=\"dataframe\">\n",
       "  <thead>\n",
       "    <tr style=\"text-align: right;\">\n",
       "      <th></th>\n",
       "      <th>Error,%</th>\n",
       "      <th>Error forest,%</th>\n",
       "      <th>Error,Kč</th>\n",
       "      <th>Error forest,Kč</th>\n",
       "      <th>Price,Kč</th>\n",
       "      <th>Price,m²</th>\n",
       "      <th>URL</th>\n",
       "    </tr>\n",
       "  </thead>\n",
       "  <tbody>\n",
       "    <tr>\n",
       "      <th>2134782300</th>\n",
       "      <td>-46.8</td>\n",
       "      <td>-17.4</td>\n",
       "      <td>-1,800,772</td>\n",
       "      <td>-431,352</td>\n",
       "      <td>2,050,000</td>\n",
       "      <td>45,555</td>\n",
       "      <td><a href=\"https://www.sreality.cz/detail/prodej/byt/2+1/praha-smichov-ke-koulce/2134782300\">2+1/p...</td>\n",
       "    </tr>\n",
       "    <tr>\n",
       "      <th>3683852636</th>\n",
       "      <td>-41.6</td>\n",
       "      <td>-2.2</td>\n",
       "      <td>-1,280,979</td>\n",
       "      <td>-41,431</td>\n",
       "      <td>1,800,000</td>\n",
       "      <td>85,714</td>\n",
       "      <td><a href=\"https://www.sreality.cz/detail/prodej/byt/1+kk/praha-vysocany-novovysocanska/3683852636...</td>\n",
       "    </tr>\n",
       "    <tr>\n",
       "      <th>1377575260</th>\n",
       "      <td>-38.6</td>\n",
       "      <td>-9.0</td>\n",
       "      <td>-2,191,386</td>\n",
       "      <td>-344,960</td>\n",
       "      <td>3,490,000</td>\n",
       "      <td>49,154</td>\n",
       "      <td><a href=\"https://www.sreality.cz/detail/prodej/byt/3+1/praha-liben-strizkovska/1377575260\">3+1/p...</td>\n",
       "    </tr>\n",
       "    <tr>\n",
       "      <th>520667484</th>\n",
       "      <td>-36.9</td>\n",
       "      <td>-8.8</td>\n",
       "      <td>-2,100,757</td>\n",
       "      <td>-346,759</td>\n",
       "      <td>3,590,000</td>\n",
       "      <td>62,982</td>\n",
       "      <td><a href=\"https://www.sreality.cz/detail/prodej/byt/3+kk/praha-uhrineves-k-dalnici/520667484\">3+k...</td>\n",
       "    </tr>\n",
       "    <tr>\n",
       "      <th>1987936604</th>\n",
       "      <td>-36.6</td>\n",
       "      <td>-23.4</td>\n",
       "      <td>-2,700,465</td>\n",
       "      <td>-1,429,166</td>\n",
       "      <td>4,685,000</td>\n",
       "      <td>41,460</td>\n",
       "      <td><a href=\"https://www.sreality.cz/detail/prodej/byt/3+kk/praha-kbely-lustenicka/1987936604\">3+kk/...</td>\n",
       "    </tr>\n",
       "    <tr>\n",
       "      <th>2227384668</th>\n",
       "      <td>-36.6</td>\n",
       "      <td>-17.1</td>\n",
       "      <td>-2,246,127</td>\n",
       "      <td>-799,874</td>\n",
       "      <td>3,890,000</td>\n",
       "      <td>51,184</td>\n",
       "      <td><a href=\"https://www.sreality.cz/detail/prodej/byt/4+kk/praha-zabehlice-svojsovicka/2227384668\">...</td>\n",
       "    </tr>\n",
       "    <tr>\n",
       "      <th>1018728796</th>\n",
       "      <td>-36.0</td>\n",
       "      <td>-24.2</td>\n",
       "      <td>-1,667,480</td>\n",
       "      <td>-945,265</td>\n",
       "      <td>2,967,320</td>\n",
       "      <td>41,212</td>\n",
       "      <td><a href=\"https://www.sreality.cz/detail/prodej/byt/2+1/praha-praha-14-/1018728796\">2+1/praha-pra...</td>\n",
       "    </tr>\n",
       "    <tr>\n",
       "      <th>2887459164</th>\n",
       "      <td>-35.5</td>\n",
       "      <td>-14.3</td>\n",
       "      <td>-1,712,791</td>\n",
       "      <td>-518,255</td>\n",
       "      <td>3,117,093</td>\n",
       "      <td>57,723</td>\n",
       "      <td><a href=\"https://www.sreality.cz/detail/prodej/byt/2+kk/praha-letnany-miroslava-hajna/2887459164...</td>\n",
       "    </tr>\n",
       "    <tr>\n",
       "      <th>2823999836</th>\n",
       "      <td>-35.4</td>\n",
       "      <td>-13.1</td>\n",
       "      <td>-1,553,780</td>\n",
       "      <td>-425,290</td>\n",
       "      <td>2,830,000</td>\n",
       "      <td>54,423</td>\n",
       "      <td><a href=\"https://www.sreality.cz/detail/prodej/byt/2+kk/praha-nusle-na-jezerce/2823999836\">2+kk/...</td>\n",
       "    </tr>\n",
       "    <tr>\n",
       "      <th>2068980060</th>\n",
       "      <td>-35.3</td>\n",
       "      <td>-4.3</td>\n",
       "      <td>-1,994,081</td>\n",
       "      <td>-164,532</td>\n",
       "      <td>3,650,000</td>\n",
       "      <td>61,864</td>\n",
       "      <td><a href=\"https://www.sreality.cz/detail/prodej/byt/3+kk/praha-kyje-peluskova/2068980060\">3+kk/pr...</td>\n",
       "    </tr>\n",
       "    <tr>\n",
       "      <th>1249259868</th>\n",
       "      <td>-35.2</td>\n",
       "      <td>-35.1</td>\n",
       "      <td>-2,433,412</td>\n",
       "      <td>-2,419,833</td>\n",
       "      <td>4,470,000</td>\n",
       "      <td>40,636</td>\n",
       "      <td><a href=\"https://www.sreality.cz/detail/prodej/byt/3+1/praha-vysocany-u-vysocanskeho-pivovaru/12...</td>\n",
       "    </tr>\n",
       "    <tr>\n",
       "      <th>3602174300</th>\n",
       "      <td>-35.0</td>\n",
       "      <td>-31.4</td>\n",
       "      <td>-3,004,126</td>\n",
       "      <td>-2,562,763</td>\n",
       "      <td>5,590,000</td>\n",
       "      <td>39,928</td>\n",
       "      <td><a href=\"https://www.sreality.cz/detail/prodej/byt/4+kk/praha-sterboholy-/3602174300\">4+kk/praha...</td>\n",
       "    </tr>\n",
       "    <tr>\n",
       "      <th>3889508700</th>\n",
       "      <td>-34.7</td>\n",
       "      <td>-5.3</td>\n",
       "      <td>-2,089,686</td>\n",
       "      <td>-222,151</td>\n",
       "      <td>3,940,000</td>\n",
       "      <td>61,562</td>\n",
       "      <td><a href=\"https://www.sreality.cz/detail/prodej/byt/3+kk/praha-uhrineves-k-dalnici/3889508700\">3+...</td>\n",
       "    </tr>\n",
       "    <tr>\n",
       "      <th>343810396</th>\n",
       "      <td>-34.3</td>\n",
       "      <td>-17.8</td>\n",
       "      <td>-2,668,131</td>\n",
       "      <td>-1,106,190</td>\n",
       "      <td>5,100,000</td>\n",
       "      <td>51,000</td>\n",
       "      <td><a href=\"https://www.sreality.cz/detail/prodej/byt/3+kk/praha-hlubocepy-voskovcova/343810396\">3+...</td>\n",
       "    </tr>\n",
       "    <tr>\n",
       "      <th>918561116</th>\n",
       "      <td>-34.1</td>\n",
       "      <td>-12.0</td>\n",
       "      <td>-822,417</td>\n",
       "      <td>-217,450</td>\n",
       "      <td>1,590,000</td>\n",
       "      <td>69,130</td>\n",
       "      <td><a href=\"https://www.sreality.cz/detail/prodej/byt/1+kk/praha-zabehlice-zabehlicka/918561116\">1+...</td>\n",
       "    </tr>\n",
       "    <tr>\n",
       "      <th>2132095324</th>\n",
       "      <td>-33.9</td>\n",
       "      <td>-23.0</td>\n",
       "      <td>-2,028,311</td>\n",
       "      <td>-1,182,833</td>\n",
       "      <td>3,960,000</td>\n",
       "      <td>43,043</td>\n",
       "      <td><a href=\"https://www.sreality.cz/detail/prodej/byt/2+kk/praha--/2132095324\">2+kk/praha--/2132095...</td>\n",
       "    </tr>\n",
       "    <tr>\n",
       "      <th>1824010588</th>\n",
       "      <td>-33.2</td>\n",
       "      <td>-13.8</td>\n",
       "      <td>-1,069,968</td>\n",
       "      <td>-343,843</td>\n",
       "      <td>2,150,000</td>\n",
       "      <td>65,151</td>\n",
       "      <td><a href=\"https://www.sreality.cz/detail/prodej/byt/1+kk/praha-nusle-5--kvetna/1824010588\">1+kk/p...</td>\n",
       "    </tr>\n",
       "    <tr>\n",
       "      <th>3745980764</th>\n",
       "      <td>-33.2</td>\n",
       "      <td>-7.2</td>\n",
       "      <td>-1,589,789</td>\n",
       "      <td>-246,925</td>\n",
       "      <td>3,198,000</td>\n",
       "      <td>56,105</td>\n",
       "      <td><a href=\"https://www.sreality.cz/detail/prodej/byt/2+1/praha-zabehlice-senohrabska/3745980764\">2...</td>\n",
       "    </tr>\n",
       "    <tr>\n",
       "      <th>1457795420</th>\n",
       "      <td>-33.1</td>\n",
       "      <td>-7.9</td>\n",
       "      <td>-1,726,145</td>\n",
       "      <td>-299,676</td>\n",
       "      <td>3,490,000</td>\n",
       "      <td>50,579</td>\n",
       "      <td><a href=\"https://www.sreality.cz/detail/prodej/byt/3+kk/praha-karlin-sokolovska/1457795420\">3+kk...</td>\n",
       "    </tr>\n",
       "    <tr>\n",
       "      <th>4078575964</th>\n",
       "      <td>-32.3</td>\n",
       "      <td>-6.3</td>\n",
       "      <td>-1,170,770</td>\n",
       "      <td>-164,078</td>\n",
       "      <td>2,450,000</td>\n",
       "      <td>61,250</td>\n",
       "      <td><a href=\"https://www.sreality.cz/detail/prodej/byt/2+kk/praha-krc-sturova/4078575964\">2+kk/praha...</td>\n",
       "    </tr>\n",
       "    <tr>\n",
       "      <th>1144791388</th>\n",
       "      <td>-32.3</td>\n",
       "      <td>-6.4</td>\n",
       "      <td>-1,143,724</td>\n",
       "      <td>-163,784</td>\n",
       "      <td>2,399,000</td>\n",
       "      <td>66,638</td>\n",
       "      <td><a href=\"https://www.sreality.cz/detail/prodej/byt/2+kk/praha-horni-mecholupy-bolonska/114479138...</td>\n",
       "    </tr>\n",
       "    <tr>\n",
       "      <th>812392796</th>\n",
       "      <td>-31.4</td>\n",
       "      <td>-3.1</td>\n",
       "      <td>-1,366,248</td>\n",
       "      <td>-95,019</td>\n",
       "      <td>2,990,000</td>\n",
       "      <td>69,534</td>\n",
       "      <td><a href=\"https://www.sreality.cz/detail/prodej/byt/2+kk/praha-letnany-skrabkovych/812392796\">2+k...</td>\n",
       "    </tr>\n",
       "    <tr>\n",
       "      <th>1126637916</th>\n",
       "      <td>-30.8</td>\n",
       "      <td>-9.4</td>\n",
       "      <td>-1,017,116</td>\n",
       "      <td>-238,490</td>\n",
       "      <td>2,290,000</td>\n",
       "      <td>61,891</td>\n",
       "      <td><a href=\"https://www.sreality.cz/detail/prodej/byt/2+kk/praha--/1126637916\">2+kk/praha--/1126637...</td>\n",
       "    </tr>\n",
       "    <tr>\n",
       "      <th>366420316</th>\n",
       "      <td>-30.5</td>\n",
       "      <td>-20.8</td>\n",
       "      <td>-1,714,412</td>\n",
       "      <td>-1,026,373</td>\n",
       "      <td>3,900,000</td>\n",
       "      <td>52,702</td>\n",
       "      <td><a href=\"https://www.sreality.cz/detail/prodej/byt/3+1/praha-zabehlice-hlavni/366420316\">3+1/pra...</td>\n",
       "    </tr>\n",
       "    <tr>\n",
       "      <th>2066989404</th>\n",
       "      <td>-30.1</td>\n",
       "      <td>-6.0</td>\n",
       "      <td>-1,724,354</td>\n",
       "      <td>-257,198</td>\n",
       "      <td>4,000,000</td>\n",
       "      <td>63,492</td>\n",
       "      <td><a href=\"https://www.sreality.cz/detail/prodej/byt/3+kk/praha-zizkov-jeronymova/2066989404\">3+kk...</td>\n",
       "    </tr>\n",
       "  </tbody>\n",
       "</table>"
      ],
      "text/plain": [
       "<IPython.core.display.HTML object>"
      ]
     },
     "execution_count": 266,
     "metadata": {},
     "output_type": "execute_result"
    }
   ],
   "source": [
    "res_info = pd.DataFrame(columns=['Error,%','Error forest,%',u'Error,Kč',u'Error forest,Kč',u'Price,Kč',u'Price,m²', u'URL'])\n",
    "for i in Y.index:\n",
    "    error = Y[i] - predictions[i]\n",
    "    rel_error = error/predictions[i]*100\n",
    "\n",
    "    #if np.abs(rel_error)>15:\n",
    "    res_info.loc[i] = pd.Series({\n",
    "            u'Error,%':round(rel_error,1),\n",
    "            u'Error forest,%': res_info_forest['Error,%'][i],\n",
    "            u'Error,Kč':'{:,}'.format(int(error)),\n",
    "            u'Error forest,Kč': res_info_forest[u'Error,Kč'][i],\n",
    "            u'Price,Kč':'{:,}'.format(Y[i]),\n",
    "            u'Price,m²':'{:,}'.format(int(Y[i]/X['plocha'][i])),\n",
    "            'URL':'<a href=\"{0}/{1}\">{1}</a>'.format('https://www.sreality.cz/detail/prodej/byt', df['url'][i])\n",
    "    })\n",
    "    \n",
    "# Underpriced offers\n",
    "pd.options.display.max_colwidth = 100\n",
    "from IPython.display import HTML\n",
    "show = res_info.sort_values(by=u'Error,%')[:25]\n",
    "HTML(show.to_html(escape=False))"
   ]
  },
  {
   "cell_type": "code",
   "execution_count": 267,
   "metadata": {},
   "outputs": [
    {
     "data": {
      "text/html": [
       "<table border=\"1\" class=\"dataframe\">\n",
       "  <thead>\n",
       "    <tr style=\"text-align: right;\">\n",
       "      <th></th>\n",
       "      <th>Error,%</th>\n",
       "      <th>Error forest,%</th>\n",
       "      <th>Error,Kč</th>\n",
       "      <th>Error forest,Kč</th>\n",
       "      <th>Price,Kč</th>\n",
       "      <th>Price,m²</th>\n",
       "      <th>URL</th>\n",
       "    </tr>\n",
       "  </thead>\n",
       "  <tbody>\n",
       "    <tr>\n",
       "      <th>145596764</th>\n",
       "      <td>81.7</td>\n",
       "      <td>24.9</td>\n",
       "      <td>5,037,194</td>\n",
       "      <td>2,234,450</td>\n",
       "      <td>11,200,000</td>\n",
       "      <td>175,000</td>\n",
       "      <td><a href=\"https://www.sreality.cz/detail/prodej/byt/2+kk/praha-stare-mesto-husova/145596764\">2+kk...</td>\n",
       "    </tr>\n",
       "    <tr>\n",
       "      <th>1816666460</th>\n",
       "      <td>74.2</td>\n",
       "      <td>32.6</td>\n",
       "      <td>5,108,433</td>\n",
       "      <td>2,949,359</td>\n",
       "      <td>11,990,000</td>\n",
       "      <td>184,461</td>\n",
       "      <td><a href=\"https://www.sreality.cz/detail/prodej/byt/2+kk/praha-smichov-nadrazni/1816666460\">2+kk/...</td>\n",
       "    </tr>\n",
       "    <tr>\n",
       "      <th>4293665116</th>\n",
       "      <td>73.8</td>\n",
       "      <td>13.4</td>\n",
       "      <td>3,651,848</td>\n",
       "      <td>1,016,882</td>\n",
       "      <td>8,600,000</td>\n",
       "      <td>128,358</td>\n",
       "      <td><a href=\"https://www.sreality.cz/detail/prodej/byt/2+1/praha-praha-1-/4293665116\">2+1/praha-prah...</td>\n",
       "    </tr>\n",
       "    <tr>\n",
       "      <th>1237266780</th>\n",
       "      <td>61.5</td>\n",
       "      <td>25.8</td>\n",
       "      <td>3,997,672</td>\n",
       "      <td>2,155,879</td>\n",
       "      <td>10,500,000</td>\n",
       "      <td>150,000</td>\n",
       "      <td><a href=\"https://www.sreality.cz/detail/prodej/byt/3+kk/praha-stresovice-na-orechovce/1237266780...</td>\n",
       "    </tr>\n",
       "    <tr>\n",
       "      <th>1330651484</th>\n",
       "      <td>60.4</td>\n",
       "      <td>16.3</td>\n",
       "      <td>4,688,705</td>\n",
       "      <td>1,748,098</td>\n",
       "      <td>12,450,000</td>\n",
       "      <td>109,210</td>\n",
       "      <td><a href=\"https://www.sreality.cz/detail/prodej/byt/3+1/praha-vinohrady-cerchovska/1330651484\">3+...</td>\n",
       "    </tr>\n",
       "    <tr>\n",
       "      <th>1693917532</th>\n",
       "      <td>57.2</td>\n",
       "      <td>10.1</td>\n",
       "      <td>2,536,483</td>\n",
       "      <td>641,077</td>\n",
       "      <td>6,970,000</td>\n",
       "      <td>91,710</td>\n",
       "      <td><a href=\"https://www.sreality.cz/detail/prodej/byt/2+1/praha-vinohrady-krkonosska/1693917532\">2+...</td>\n",
       "    </tr>\n",
       "    <tr>\n",
       "      <th>3231461724</th>\n",
       "      <td>53.5</td>\n",
       "      <td>9.6</td>\n",
       "      <td>3,442,941</td>\n",
       "      <td>867,882</td>\n",
       "      <td>9,884,344</td>\n",
       "      <td>128,368</td>\n",
       "      <td><a href=\"https://www.sreality.cz/detail/prodej/byt/3+kk/praha--k-cervenemu-dvoru/3231461724\">3+k...</td>\n",
       "    </tr>\n",
       "    <tr>\n",
       "      <th>274473308</th>\n",
       "      <td>53.4</td>\n",
       "      <td>18.7</td>\n",
       "      <td>4,298,485</td>\n",
       "      <td>1,948,737</td>\n",
       "      <td>12,350,000</td>\n",
       "      <td>119,902</td>\n",
       "      <td><a href=\"https://www.sreality.cz/detail/prodej/byt/3+kk/praha-smichov-na-venecku/274473308\">3+kk...</td>\n",
       "    </tr>\n",
       "    <tr>\n",
       "      <th>379335004</th>\n",
       "      <td>53.3</td>\n",
       "      <td>17.9</td>\n",
       "      <td>2,712,169</td>\n",
       "      <td>1,186,432</td>\n",
       "      <td>7,805,088</td>\n",
       "      <td>116,493</td>\n",
       "      <td><a href=\"https://www.sreality.cz/detail/prodej/byt/2+kk/praha--k-cervenemu-dvoru/379335004\">2+kk...</td>\n",
       "    </tr>\n",
       "    <tr>\n",
       "      <th>1315119452</th>\n",
       "      <td>52.8</td>\n",
       "      <td>13.6</td>\n",
       "      <td>2,557,168</td>\n",
       "      <td>885,176</td>\n",
       "      <td>7,400,000</td>\n",
       "      <td>148,000</td>\n",
       "      <td><a href=\"https://www.sreality.cz/detail/prodej/byt/2+kk/praha-stare-mesto-u-obecniho-dvora/13151...</td>\n",
       "    </tr>\n",
       "    <tr>\n",
       "      <th>1713840476</th>\n",
       "      <td>52.4</td>\n",
       "      <td>9.7</td>\n",
       "      <td>2,923,617</td>\n",
       "      <td>751,831</td>\n",
       "      <td>8,500,000</td>\n",
       "      <td>104,938</td>\n",
       "      <td><a href=\"https://www.sreality.cz/detail/prodej/byt/3+1/praha-dejvice-bubenecska/1713840476\">3+1/...</td>\n",
       "    </tr>\n",
       "    <tr>\n",
       "      <th>144580956</th>\n",
       "      <td>51.2</td>\n",
       "      <td>10.4</td>\n",
       "      <td>4,031,065</td>\n",
       "      <td>1,123,404</td>\n",
       "      <td>11,900,000</td>\n",
       "      <td>108,181</td>\n",
       "      <td><a href=\"https://www.sreality.cz/detail/prodej/byt/3+1/praha-vinohrady-londynska/144580956\">3+1/...</td>\n",
       "    </tr>\n",
       "    <tr>\n",
       "      <th>3976077660</th>\n",
       "      <td>49.0</td>\n",
       "      <td>16.1</td>\n",
       "      <td>2,792,400</td>\n",
       "      <td>1,173,792</td>\n",
       "      <td>8,486,400</td>\n",
       "      <td>136,877</td>\n",
       "      <td><a href=\"https://www.sreality.cz/detail/prodej/byt/2+1/praha-nove-mesto-navratilova/3976077660\">...</td>\n",
       "    </tr>\n",
       "    <tr>\n",
       "      <th>796471644</th>\n",
       "      <td>46.3</td>\n",
       "      <td>5.2</td>\n",
       "      <td>3,746,230</td>\n",
       "      <td>585,370</td>\n",
       "      <td>11,839,752</td>\n",
       "      <td>101,194</td>\n",
       "      <td><a href=\"https://www.sreality.cz/detail/prodej/byt/3+1/praha-vinohrady-skretova/796471644\">3+1/p...</td>\n",
       "    </tr>\n",
       "    <tr>\n",
       "      <th>1462423900</th>\n",
       "      <td>41.8</td>\n",
       "      <td>4.8</td>\n",
       "      <td>3,677,842</td>\n",
       "      <td>568,039</td>\n",
       "      <td>12,480,000</td>\n",
       "      <td>76,097</td>\n",
       "      <td><a href=\"https://www.sreality.cz/detail/prodej/byt/5+1/praha-brevnov-hostalkova/1462423900\">5+1/...</td>\n",
       "    </tr>\n",
       "    <tr>\n",
       "      <th>3464048988</th>\n",
       "      <td>41.2</td>\n",
       "      <td>4.3</td>\n",
       "      <td>3,465,424</td>\n",
       "      <td>491,211</td>\n",
       "      <td>11,875,000</td>\n",
       "      <td>102,370</td>\n",
       "      <td><a href=\"https://www.sreality.cz/detail/prodej/byt/3+1/praha-vinohrady-skretova/3464048988\">3+1/...</td>\n",
       "    </tr>\n",
       "    <tr>\n",
       "      <th>2209136988</th>\n",
       "      <td>38.4</td>\n",
       "      <td>4.9</td>\n",
       "      <td>3,430,326</td>\n",
       "      <td>578,039</td>\n",
       "      <td>12,360,000</td>\n",
       "      <td>74,457</td>\n",
       "      <td><a href=\"https://www.sreality.cz/detail/prodej/byt/5+1/praha-bubenec-eliasova/2209136988\">5+1/pr...</td>\n",
       "    </tr>\n",
       "    <tr>\n",
       "      <th>3473678684</th>\n",
       "      <td>37.1</td>\n",
       "      <td>3.4</td>\n",
       "      <td>2,677,543</td>\n",
       "      <td>326,666</td>\n",
       "      <td>9,900,000</td>\n",
       "      <td>100,000</td>\n",
       "      <td><a href=\"https://www.sreality.cz/detail/prodej/byt/3+kk/praha-bubenec-/3473678684\">3+kk/praha-bu...</td>\n",
       "    </tr>\n",
       "    <tr>\n",
       "      <th>14754140</th>\n",
       "      <td>36.5</td>\n",
       "      <td>10.3</td>\n",
       "      <td>2,671,552</td>\n",
       "      <td>936,224</td>\n",
       "      <td>9,990,000</td>\n",
       "      <td>105,157</td>\n",
       "      <td><a href=\"https://www.sreality.cz/detail/prodej/byt/3+kk/praha-vinohrady-manesova/14754140\">3+kk/...</td>\n",
       "    </tr>\n",
       "    <tr>\n",
       "      <th>3055296860</th>\n",
       "      <td>36.5</td>\n",
       "      <td>5.6</td>\n",
       "      <td>2,647,921</td>\n",
       "      <td>522,048</td>\n",
       "      <td>9,900,000</td>\n",
       "      <td>89,189</td>\n",
       "      <td><a href=\"https://www.sreality.cz/detail/prodej/byt/3+1/praha-stodulky-slunecni-namesti/305529686...</td>\n",
       "    </tr>\n",
       "    <tr>\n",
       "      <th>2033983836</th>\n",
       "      <td>36.4</td>\n",
       "      <td>14.9</td>\n",
       "      <td>2,348,121</td>\n",
       "      <td>1,140,980</td>\n",
       "      <td>8,798,000</td>\n",
       "      <td>111,367</td>\n",
       "      <td><a href=\"https://www.sreality.cz/detail/prodej/byt/3+kk/praha-dejvice-sarecka/2033983836\">3+kk/p...</td>\n",
       "    </tr>\n",
       "    <tr>\n",
       "      <th>266805596</th>\n",
       "      <td>35.9</td>\n",
       "      <td>10.5</td>\n",
       "      <td>1,823,271</td>\n",
       "      <td>653,980</td>\n",
       "      <td>6,900,000</td>\n",
       "      <td>116,949</td>\n",
       "      <td><a href=\"https://www.sreality.cz/detail/prodej/byt/2+kk/praha-vinohrady-na-kozacce/266805596\">2+...</td>\n",
       "    </tr>\n",
       "    <tr>\n",
       "      <th>857260380</th>\n",
       "      <td>35.3</td>\n",
       "      <td>5.9</td>\n",
       "      <td>2,845,897</td>\n",
       "      <td>608,006</td>\n",
       "      <td>10,900,000</td>\n",
       "      <td>57,368</td>\n",
       "      <td><a href=\"https://www.sreality.cz/detail/prodej/byt/5+kk/praha-liben-na-rokytce/857260380\">5+kk/p...</td>\n",
       "    </tr>\n",
       "    <tr>\n",
       "      <th>2783977820</th>\n",
       "      <td>34.7</td>\n",
       "      <td>20.0</td>\n",
       "      <td>1,956,975</td>\n",
       "      <td>1,266,441</td>\n",
       "      <td>7,590,000</td>\n",
       "      <td>135,535</td>\n",
       "      <td><a href=\"https://www.sreality.cz/detail/prodej/byt/2+kk/praha-vinohrady-korunni/2783977820\">2+kk...</td>\n",
       "    </tr>\n",
       "    <tr>\n",
       "      <th>455221596</th>\n",
       "      <td>34.0</td>\n",
       "      <td>6.4</td>\n",
       "      <td>2,509,461</td>\n",
       "      <td>599,056</td>\n",
       "      <td>9,890,000</td>\n",
       "      <td>109,888</td>\n",
       "      <td><a href=\"https://www.sreality.cz/detail/prodej/byt/3+kk/praha-vinohrady-/455221596\">3+kk/praha-v...</td>\n",
       "    </tr>\n",
       "  </tbody>\n",
       "</table>"
      ],
      "text/plain": [
       "<IPython.core.display.HTML object>"
      ]
     },
     "execution_count": 267,
     "metadata": {},
     "output_type": "execute_result"
    }
   ],
   "source": [
    "# Overpriced offers\n",
    "show = res_info.sort_values(by=u'Error,%',  ascending=False)[:25]\n",
    "HTML(show.to_html(escape=False))"
   ]
  },
  {
   "cell_type": "code",
   "execution_count": 268,
   "metadata": {},
   "outputs": [
    {
     "data": {
      "text/plain": [
       "3021826.0"
      ]
     },
     "execution_count": 268,
     "metadata": {},
     "output_type": "execute_result"
    }
   ],
   "source": [
    "predictions[4444]"
   ]
  },
  {
   "cell_type": "code",
   "execution_count": 269,
   "metadata": {
    "collapsed": true
   },
   "outputs": [],
   "source": [
    "res_info.to_csv('priceRes.csv', encoding = 'utf-8', index_label = 'id')"
   ]
  },
  {
   "cell_type": "code",
   "execution_count": null,
   "metadata": {
    "collapsed": true
   },
   "outputs": [],
   "source": []
  }
 ],
 "metadata": {
  "kernelspec": {
   "display_name": "Python 2",
   "language": "python",
   "name": "python2"
  },
  "language_info": {
   "codemirror_mode": {
    "name": "ipython",
    "version": 2
   },
   "file_extension": ".py",
   "mimetype": "text/x-python",
   "name": "python",
   "nbconvert_exporter": "python",
   "pygments_lexer": "ipython2",
   "version": "2.7.13"
  }
 },
 "nbformat": 4,
 "nbformat_minor": 1
}
