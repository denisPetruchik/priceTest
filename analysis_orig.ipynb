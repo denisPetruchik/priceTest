{
 "cells": [
  {
   "cell_type": "markdown",
   "metadata": {
    "deletable": true,
    "editable": true
   },
   "source": [
    "## Импорт и предварительный анализ данных"
   ]
  },
  {
   "cell_type": "code",
   "execution_count": 3,
   "metadata": {
    "collapsed": false,
    "deletable": true,
    "editable": true
   },
   "outputs": [],
   "source": [
    "# Имортируем файл с данными, выгруженными с t-s.by и преобразовываем его в Pandas DataFrame:\n",
    "import json\n",
    "import pandas as pd\n",
    "import numpy as np\n",
    "\n",
    "with open('result_old.json') as data_file:    \n",
    "    data = json.load(data_file)\n",
    "    \n",
    "df = pd.io.json.json_normalize(data)"
   ]
  },
  {
   "cell_type": "code",
   "execution_count": 4,
   "metadata": {
    "collapsed": false,
    "deletable": true,
    "editable": true
   },
   "outputs": [],
   "source": [
    "# Изменяем максимальное кол-во отображаемых строк и столбцов:\n",
    "pd.set_option('display.max_columns', 200)\n",
    "pd.set_option('display.max_rows', 25)"
   ]
  },
  {
   "cell_type": "code",
   "execution_count": 5,
   "metadata": {
    "collapsed": false,
    "deletable": true,
    "editable": true
   },
   "outputs": [
    {
     "data": {
      "text/plain": [
       "(410, 20)"
      ]
     },
     "execution_count": 5,
     "metadata": {},
     "output_type": "execute_result"
    }
   ],
   "source": [
    "# Кол-во записей и кол-во признаков:\n",
    "df.shape"
   ]
  },
  {
   "cell_type": "code",
   "execution_count": 6,
   "metadata": {
    "collapsed": false,
    "deletable": true,
    "editable": true
   },
   "outputs": [
    {
     "data": {
      "text/html": [
       "<div>\n",
       "<table border=\"1\" class=\"dataframe\">\n",
       "  <thead>\n",
       "    <tr style=\"text-align: right;\">\n",
       "      <th></th>\n",
       "      <th>Адрес</th>\n",
       "      <th>Балкон</th>\n",
       "      <th>Ближайшее метро</th>\n",
       "      <th>Год капитального ремонта</th>\n",
       "      <th>Год постройки</th>\n",
       "      <th>Город</th>\n",
       "      <th>Код объекта</th>\n",
       "      <th>Комнаты</th>\n",
       "      <th>Материал стен</th>\n",
       "      <th>Микрорайон</th>\n",
       "      <th>Описание</th>\n",
       "      <th>Площади</th>\n",
       "      <th>Полы</th>\n",
       "      <th>Район</th>\n",
       "      <th>Санузел</th>\n",
       "      <th>Телефон</th>\n",
       "      <th>Тип дома</th>\n",
       "      <th>Условия продажи</th>\n",
       "      <th>Цена</th>\n",
       "      <th>Этаж / Этажность</th>\n",
       "    </tr>\n",
       "  </thead>\n",
       "  <tbody>\n",
       "    <tr>\n",
       "      <th>0</th>\n",
       "      <td>Ташкентская ул., 24 корпус 3</td>\n",
       "      <td>лоджия застекленная</td>\n",
       "      <td>NaN</td>\n",
       "      <td>0</td>\n",
       "      <td>1977</td>\n",
       "      <td>Минск</td>\n",
       "      <td>818272</td>\n",
       "      <td>3</td>\n",
       "      <td>блок-комнаты</td>\n",
       "      <td>Чижовка</td>\n",
       "      <td>Комната в трехкомнатной квартире в микрорайоне...</td>\n",
       "      <td>71.4 / 13.95 / 9.16</td>\n",
       "      <td>линолеум</td>\n",
       "      <td>Заводской район</td>\n",
       "      <td>раздельный</td>\n",
       "      <td>есть</td>\n",
       "      <td>стандартные</td>\n",
       "      <td>чистая продажа</td>\n",
       "      <td>15 500 у. е.</td>\n",
       "      <td>2/9</td>\n",
       "    </tr>\n",
       "    <tr>\n",
       "      <th>1</th>\n",
       "      <td>Ауэзова ул., 12</td>\n",
       "      <td>NaN</td>\n",
       "      <td>NaN</td>\n",
       "      <td>0</td>\n",
       "      <td>1970</td>\n",
       "      <td>Минск</td>\n",
       "      <td>846050</td>\n",
       "      <td>1/2</td>\n",
       "      <td>панельный</td>\n",
       "      <td>Чижовка</td>\n",
       "      <td>Комната в малонаселенной (соседи семья без дет...</td>\n",
       "      <td>49.9 / 17.2 / 6.2</td>\n",
       "      <td>линолеум</td>\n",
       "      <td>Заводской район</td>\n",
       "      <td>раздельный</td>\n",
       "      <td>нет</td>\n",
       "      <td>брежневка</td>\n",
       "      <td>чистая продажа</td>\n",
       "      <td>17 500 у. е. (351 у. е./м</td>\n",
       "      <td>5/5</td>\n",
       "    </tr>\n",
       "    <tr>\n",
       "      <th>2</th>\n",
       "      <td>Карла Либкнехта ул., 77</td>\n",
       "      <td>NaN</td>\n",
       "      <td>NaN</td>\n",
       "      <td>0</td>\n",
       "      <td>1957</td>\n",
       "      <td>Минск</td>\n",
       "      <td>822608</td>\n",
       "      <td>3</td>\n",
       "      <td>кирпичный</td>\n",
       "      <td>Р.Люксембург, К.Либкнехта</td>\n",
       "      <td>Две комнаты в трехкомнатной квартире. Стеклопа...</td>\n",
       "      <td>61.2 / 30.5 / 6.7</td>\n",
       "      <td>линолеум</td>\n",
       "      <td>Московский район</td>\n",
       "      <td>раздельный</td>\n",
       "      <td>нет</td>\n",
       "      <td>сталинка</td>\n",
       "      <td>NaN</td>\n",
       "      <td>27 000 у. е.</td>\n",
       "      <td>1/3</td>\n",
       "    </tr>\n",
       "  </tbody>\n",
       "</table>\n",
       "</div>"
      ],
      "text/plain": [
       "                          Адрес               Балкон Ближайшее метро  \\\n",
       "0  Ташкентская ул., 24 корпус 3  лоджия застекленная             NaN   \n",
       "1               Ауэзова ул., 12                  NaN             NaN   \n",
       "2       Карла Либкнехта ул., 77                  NaN             NaN   \n",
       "\n",
       "  Год капитального ремонта Год постройки  Город Код объекта Комнаты  \\\n",
       "0                        0          1977  Минск      818272       3   \n",
       "1                        0          1970  Минск      846050     1/2   \n",
       "2                        0          1957  Минск      822608       3   \n",
       "\n",
       "  Материал стен                 Микрорайон  \\\n",
       "0  блок-комнаты                    Чижовка   \n",
       "1     панельный                    Чижовка   \n",
       "2     кирпичный  Р.Люксембург, К.Либкнехта   \n",
       "\n",
       "                                            Описание              Площади  \\\n",
       "0  Комната в трехкомнатной квартире в микрорайоне...  71.4 / 13.95 / 9.16   \n",
       "1  Комната в малонаселенной (соседи семья без дет...    49.9 / 17.2 / 6.2   \n",
       "2  Две комнаты в трехкомнатной квартире. Стеклопа...    61.2 / 30.5 / 6.7   \n",
       "\n",
       "       Полы             Район     Санузел Телефон     Тип дома  \\\n",
       "0  линолеум   Заводской район  раздельный    есть  стандартные   \n",
       "1  линолеум   Заводской район  раздельный     нет    брежневка   \n",
       "2  линолеум  Московский район  раздельный     нет     сталинка   \n",
       "\n",
       "  Условия продажи                       Цена Этаж / Этажность  \n",
       "0  чистая продажа              15 500 у. е.               2/9  \n",
       "1  чистая продажа  17 500 у. е. (351 у. е./м              5/5  \n",
       "2             NaN              27 000 у. е.               1/3  "
      ]
     },
     "execution_count": 6,
     "metadata": {},
     "output_type": "execute_result"
    }
   ],
   "source": [
    "# Шапка датафрейма:\n",
    "df.head(3)"
   ]
  },
  {
   "cell_type": "code",
   "execution_count": 7,
   "metadata": {
    "collapsed": false,
    "deletable": true,
    "editable": true
   },
   "outputs": [],
   "source": [
    "# В качестве индекса используем 'Код объекта', а сам столбец - удаляем:\n",
    "df.index = df[u'Код объекта'].apply(pd.to_numeric)\n",
    "del df[u'Код объекта']"
   ]
  },
  {
   "cell_type": "code",
   "execution_count": 8,
   "metadata": {
    "collapsed": false,
    "deletable": true,
    "editable": true
   },
   "outputs": [
    {
     "data": {
      "text/plain": [
       "Адрес                                            Ташкентская ул., 24 корпус 3\n",
       "Балкон                                                    лоджия застекленная\n",
       "Ближайшее метро                                                           NaN\n",
       "Год капитального ремонта                                                    0\n",
       "Год постройки                                                            1977\n",
       "Город                                                                   Минск\n",
       "Комнаты                                                                     3\n",
       "Материал стен                                                    блок-комнаты\n",
       "Микрорайон                                                            Чижовка\n",
       "Описание                    Комната в трехкомнатной квартире в микрорайоне...\n",
       "Площади                                                   71.4 / 13.95 / 9.16\n",
       "Полы                                                                 линолеум\n",
       "Район                                                         Заводской район\n",
       "Санузел                                                            раздельный\n",
       "Телефон                                                                  есть\n",
       "Тип дома                                                          стандартные\n",
       "Условия продажи                                                чистая продажа\n",
       "Цена                                                            15 500 у. е. \n",
       "Этаж / Этажность                                                          2/9\n",
       "Name: 818272, dtype: object"
      ]
     },
     "execution_count": 8,
     "metadata": {},
     "output_type": "execute_result"
    }
   ],
   "source": [
    "# Теперь можем получать все данные по коду квартиры\n",
    "df.ix[818272]"
   ]
  },
  {
   "cell_type": "code",
   "execution_count": 9,
   "metadata": {
    "collapsed": false,
    "deletable": true,
    "editable": true
   },
   "outputs": [
    {
     "data": {
      "text/plain": [
       "Цена                               15 500 у. е. \n",
       "Этаж / Этажность                             2/9\n",
       "Адрес               Ташкентская ул., 24 корпус 3\n",
       "Name: 818272, dtype: object"
      ]
     },
     "execution_count": 9,
     "metadata": {},
     "output_type": "execute_result"
    }
   ],
   "source": [
    "# Или только нужную их часть:\n",
    "df.ix[818272][{u'Адрес',u'Цена',u'Этаж / Этажность'}]"
   ]
  },
  {
   "cell_type": "code",
   "execution_count": 10,
   "metadata": {
    "collapsed": true,
    "deletable": true,
    "editable": true
   },
   "outputs": [],
   "source": [
    "# Это полезно, потому что в силу устройства сайта t-s.by код квартиры учавствует в url:\n",
    "# http://www.t-s.by/buy/flats/818272/\n",
    "# поэтому при необходимости можно быстро посмотреть детали заинтересовавшей квартиры в браузере"
   ]
  },
  {
   "cell_type": "code",
   "execution_count": 11,
   "metadata": {
    "collapsed": false,
    "deletable": true,
    "editable": true
   },
   "outputs": [
    {
     "data": {
      "text/plain": [
       "Index([u'Адрес', u'Балкон', u'Ближайшее метро', u'Год капитального ремонта',\n",
       "       u'Год постройки', u'Город', u'Комнаты', u'Материал стен', u'Микрорайон',\n",
       "       u'Описание', u'Площади', u'Полы', u'Район', u'Санузел', u'Телефон',\n",
       "       u'Тип дома', u'Условия продажи', u'Цена', u'Этаж / Этажность'],\n",
       "      dtype='object')"
      ]
     },
     "execution_count": 11,
     "metadata": {},
     "output_type": "execute_result"
    }
   ],
   "source": [
    "# Названия столбцов:\n",
    "df.columns"
   ]
  },
  {
   "cell_type": "code",
   "execution_count": 12,
   "metadata": {
    "collapsed": false,
    "deletable": true,
    "editable": true
   },
   "outputs": [
    {
     "data": {
      "text/plain": [
       "Минск          354\n",
       "Лесной           8\n",
       "Прилуки          6\n",
       "Заславль         6\n",
       "Дзержинск        6\n",
       "Фаниполь         4\n",
       "Боровляны        4\n",
       "Михановичи       3\n",
       "Радошковичи      2\n",
       "Свислочь         1\n",
       "Name: Город, dtype: int64"
      ]
     },
     "execution_count": 12,
     "metadata": {},
     "output_type": "execute_result"
    }
   ],
   "source": [
    "# Частотное распределение значений в столбце 'Город':\n",
    "df[u'Город'].value_counts()[:10]"
   ]
  },
  {
   "cell_type": "code",
   "execution_count": 13,
   "metadata": {
    "collapsed": false,
    "deletable": true,
    "editable": true
   },
   "outputs": [],
   "source": [
    "# Поскольку исследование проводится для Минска, оставим только эти записи:\n",
    "df = df[df[u'Город'] == u'Минск']\n",
    "del df[u'Город']"
   ]
  },
  {
   "cell_type": "code",
   "execution_count": 14,
   "metadata": {
    "collapsed": false,
    "deletable": true,
    "editable": true
   },
   "outputs": [
    {
     "name": "stdout",
     "output_type": "stream",
     "text": [
      "<class 'pandas.core.frame.DataFrame'>\n",
      "Int64Index: 354 entries, 818272 to 835358\n",
      "Data columns (total 18 columns):\n",
      "Адрес                       354 non-null object\n",
      "Балкон                      318 non-null object\n",
      "Ближайшее метро             198 non-null object\n",
      "Год капитального ремонта    354 non-null object\n",
      "Год постройки               354 non-null object\n",
      "Комнаты                     354 non-null object\n",
      "Материал стен               354 non-null object\n",
      "Микрорайон                  308 non-null object\n",
      "Описание                    351 non-null object\n",
      "Площади                     354 non-null object\n",
      "Полы                        306 non-null object\n",
      "Район                       354 non-null object\n",
      "Санузел                     353 non-null object\n",
      "Телефон                     354 non-null object\n",
      "Тип дома                    255 non-null object\n",
      "Условия продажи             301 non-null object\n",
      "Цена                        354 non-null object\n",
      "Этаж / Этажность            353 non-null object\n",
      "dtypes: object(18)\n",
      "memory usage: 52.5+ KB\n"
     ]
    }
   ],
   "source": [
    "# Выведем сводную информацию:\n",
    "df.info()"
   ]
  },
  {
   "cell_type": "markdown",
   "metadata": {
    "deletable": true,
    "editable": true
   },
   "source": [
    "## Разбираемся с пропусками\n",
    "\n",
    "Некоторые столбцы не будут участвовать в конечной модели, но не удаляем их раньше времени"
   ]
  },
  {
   "cell_type": "markdown",
   "metadata": {
    "deletable": true,
    "editable": true
   },
   "source": [
    "###  Описание\n",
    "В итоговой модели этот столбец использоваться не будет, решено полагаться на реальные параметры квартиры, а не ее субъективное описание владельцем/риелтором"
   ]
  },
  {
   "cell_type": "markdown",
   "metadata": {
    "deletable": true,
    "editable": true
   },
   "source": [
    "### Адрес\n",
    "Содержит название улицы и номер дома, в итоговой модели также не используется, локация влиять на цену будет посредством столбцов 'Район' и 'Микрорайон'"
   ]
  },
  {
   "cell_type": "markdown",
   "metadata": {
    "deletable": true,
    "editable": true
   },
   "source": [
    "### Балкон"
   ]
  },
  {
   "cell_type": "code",
   "execution_count": 15,
   "metadata": {
    "collapsed": false,
    "deletable": true,
    "editable": true
   },
   "outputs": [
    {
     "data": {
      "text/plain": [
       "лоджия застекленная              167\n",
       "балкон застекленный               62\n",
       "2 лоджии застекленные             37\n",
       "нету                              36\n",
       "балкон                            28\n",
       "лоджия                             8\n",
       "2 балкона застекленные             5\n",
       "2 лоджии                           3\n",
       "лоджия застекленная + вагонка      3\n",
       "3лз                                3\n",
       "3л                                 1\n",
       "балкон застекленный + вагонка      1\n",
       "Name: Балкон, dtype: int64"
      ]
     },
     "execution_count": 15,
     "metadata": {},
     "output_type": "execute_result"
    }
   ],
   "source": [
    "df[u'Балкон'].fillna(u'нету', inplace=True)\n",
    "df[u'Балкон'].value_counts()"
   ]
  },
  {
   "cell_type": "code",
   "execution_count": 16,
   "metadata": {
    "collapsed": false,
    "deletable": true,
    "editable": true
   },
   "outputs": [
    {
     "data": {
      "text/plain": [
       "лоджия       178\n",
       "балкон        91\n",
       "2 лоджии      40\n",
       "нету          36\n",
       "2 балкона      5\n",
       "3 лоджии       4\n",
       "Name: Балкон, dtype: int64"
      ]
     },
     "execution_count": 16,
     "metadata": {},
     "output_type": "execute_result"
    }
   ],
   "source": [
    "def common_converter(mapping, param):\n",
    "    if param in mapping:\n",
    "        return mapping[param]\n",
    "    return param\n",
    "\n",
    "balcony_mapping = {\n",
    "        u'балкон застекленный':u'балкон',\n",
    "        u'лоджия застекленная':u'лоджия',\n",
    "        u'лоджия застекленная + вагонка':u'лоджия',\n",
    "        u'балкон застекленный + вагонка':u'балкон',\n",
    "        u'2 балкона застекленные':u'2 балкона',\n",
    "        u'2 лоджии застекленные':u'2 лоджии',\n",
    "        u'3лз':u'3 лоджии',\n",
    "        u'3л':u'3 лоджии'        \n",
    "    }\n",
    "\n",
    "df[u'Балкон'] = df[u'Балкон'].map(lambda x: common_converter(balcony_mapping, x))\n",
    "df[u'Балкон'].value_counts()"
   ]
  },
  {
   "cell_type": "markdown",
   "metadata": {
    "deletable": true,
    "editable": true
   },
   "source": [
    "### Ближайшее метро"
   ]
  },
  {
   "cell_type": "code",
   "execution_count": 17,
   "metadata": {
    "collapsed": false,
    "deletable": true,
    "editable": true
   },
   "outputs": [
    {
     "data": {
      "text/plain": [
       "нету                         156\n",
       "Уручье                        22\n",
       "Каменная горка                21\n",
       "Грушевка                      18\n",
       "Кунцевщина                    16\n",
       "Академия наук                 13\n",
       "Спортивная                    10\n",
       "Могилевская                   10\n",
       "Малиновка                     10\n",
       "Победы пл.                    10\n",
       "Якуба Коласа пл.               9\n",
       "Восток                         6\n",
       "                            ... \n",
       "Пушкинская                     5\n",
       "Петровщина                     5\n",
       "Молодежная                     4\n",
       "Парк Челюскинцев               4\n",
       "Пролетарская                   3\n",
       "Купаловская (Октябрьская)      3\n",
       "Московская                     3\n",
       "Михалово                       2\n",
       "Тракторный завод               2\n",
       "Первомайская                   2\n",
       "Фрунзенская                    2\n",
       "Немига                         1\n",
       "Name: Ближайшее метро, dtype: int64"
      ]
     },
     "execution_count": 17,
     "metadata": {},
     "output_type": "execute_result"
    }
   ],
   "source": [
    "df[u'Ближайшее метро'].fillna(u'нету', inplace=True)\n",
    "df[u'Ближайшее метро'].value_counts()"
   ]
  },
  {
   "cell_type": "markdown",
   "metadata": {
    "deletable": true,
    "editable": true
   },
   "source": [
    "Закономерно: в Уручье и Грушевке много новостроек, а в районе Каменной горки и Кунцевщины не так давно строилось много льготного жилья, которое продают теперь уже нельготники :)"
   ]
  },
  {
   "cell_type": "markdown",
   "metadata": {
    "deletable": true,
    "editable": true
   },
   "source": [
    "### Год постройки и Год капитального ремонта"
   ]
  },
  {
   "cell_type": "code",
   "execution_count": 18,
   "metadata": {
    "collapsed": false,
    "deletable": true,
    "editable": true
   },
   "outputs": [],
   "source": [
    "# Вместо данных столбцов введем другие: 'Лет дому' и 'Лет с последнего ремонта':\n",
    "\n",
    "df[u'Год постройки'] = df[u'Год постройки'].apply(pd.to_numeric)\n",
    "df[u'Год капитального ремонта'] = df[u'Год капитального ремонта'].apply(pd.to_numeric)\n",
    "\n",
    "import datetime\n",
    "current_year = datetime.datetime.now().year\n",
    "\n",
    "def years_from_last_repair(row):\n",
    "    if row[u'Год капитального ремонта'] == 0:\n",
    "        row[u'Год капитального ремонта'] = row[u'Год постройки']\n",
    "    return current_year - row[u'Год капитального ремонта']\n",
    "\n",
    "df[u'Лет дому'] = df[u'Год постройки'].map(lambda x: current_year - x)\n",
    "df[u'Лет с момента ремонта'] = df.apply(lambda row: years_from_last_repair(row), axis=1)\n",
    "df[u'Был капремонт'] = df[u'Год капитального ремонта']!=0\n",
    "\n",
    "# Исходные два столбца удаляем:\n",
    "df.drop({u'Год постройки', u'Год капитального ремонта'}, axis=1, inplace=True)"
   ]
  },
  {
   "cell_type": "markdown",
   "metadata": {
    "deletable": true,
    "editable": true
   },
   "source": [
    "### Комнаты"
   ]
  },
  {
   "cell_type": "code",
   "execution_count": 19,
   "metadata": {
    "collapsed": false,
    "deletable": true,
    "editable": true,
    "scrolled": true
   },
   "outputs": [
    {
     "data": {
      "text/plain": [
       "1/1    106\n",
       "2/2    101\n",
       "3/3     85\n",
       "4/4     14\n",
       "3/2     11\n",
       "3/1      9\n",
       "2/1      7\n",
       "2        6\n",
       "3        4\n",
       "4/1      3\n",
       "4        2\n",
       "4/3      2\n",
       "6/6      1\n",
       "4/2      1\n",
       "5/5      1\n",
       "1/2      1\n",
       "Name: Комнаты, dtype: int64"
      ]
     },
     "execution_count": 19,
     "metadata": {},
     "output_type": "execute_result"
    }
   ],
   "source": [
    "df[u'Комнаты'].value_counts()"
   ]
  },
  {
   "cell_type": "markdown",
   "metadata": {
    "deletable": true,
    "editable": true
   },
   "source": [
    "Если в этом столбце первое число меньше второго - есть подозрение на то, что это продается комната, а не квартира. Проверим это: "
   ]
  },
  {
   "cell_type": "code",
   "execution_count": 20,
   "metadata": {
    "collapsed": false,
    "deletable": true,
    "editable": true
   },
   "outputs": [
    {
     "data": {
      "text/html": [
       "<div>\n",
       "<table border=\"1\" class=\"dataframe\">\n",
       "  <thead>\n",
       "    <tr style=\"text-align: right;\">\n",
       "      <th></th>\n",
       "      <th>Адрес</th>\n",
       "      <th>Балкон</th>\n",
       "      <th>Ближайшее метро</th>\n",
       "      <th>Комнаты</th>\n",
       "      <th>Материал стен</th>\n",
       "      <th>Микрорайон</th>\n",
       "      <th>Описание</th>\n",
       "      <th>Площади</th>\n",
       "      <th>Полы</th>\n",
       "      <th>Район</th>\n",
       "      <th>Санузел</th>\n",
       "      <th>Телефон</th>\n",
       "      <th>Тип дома</th>\n",
       "      <th>Условия продажи</th>\n",
       "      <th>Цена</th>\n",
       "      <th>Этаж / Этажность</th>\n",
       "      <th>Лет дому</th>\n",
       "      <th>Лет с момента ремонта</th>\n",
       "      <th>Был капремонт</th>\n",
       "    </tr>\n",
       "    <tr>\n",
       "      <th>Код объекта</th>\n",
       "      <th></th>\n",
       "      <th></th>\n",
       "      <th></th>\n",
       "      <th></th>\n",
       "      <th></th>\n",
       "      <th></th>\n",
       "      <th></th>\n",
       "      <th></th>\n",
       "      <th></th>\n",
       "      <th></th>\n",
       "      <th></th>\n",
       "      <th></th>\n",
       "      <th></th>\n",
       "      <th></th>\n",
       "      <th></th>\n",
       "      <th></th>\n",
       "      <th></th>\n",
       "      <th></th>\n",
       "      <th></th>\n",
       "    </tr>\n",
       "  </thead>\n",
       "  <tbody>\n",
       "    <tr>\n",
       "      <th>846050</th>\n",
       "      <td>Ауэзова ул., 12</td>\n",
       "      <td>нету</td>\n",
       "      <td>нету</td>\n",
       "      <td>1/2</td>\n",
       "      <td>панельный</td>\n",
       "      <td>Чижовка</td>\n",
       "      <td>Комната в малонаселенной (соседи семья без дет...</td>\n",
       "      <td>49.9 / 17.2 / 6.2</td>\n",
       "      <td>линолеум</td>\n",
       "      <td>Заводской район</td>\n",
       "      <td>раздельный</td>\n",
       "      <td>нет</td>\n",
       "      <td>брежневка</td>\n",
       "      <td>чистая продажа</td>\n",
       "      <td>17 500 у. е. (351 у. е./м</td>\n",
       "      <td>5/5</td>\n",
       "      <td>47</td>\n",
       "      <td>47</td>\n",
       "      <td>False</td>\n",
       "    </tr>\n",
       "  </tbody>\n",
       "</table>\n",
       "</div>"
      ],
      "text/plain": [
       "                       Адрес Балкон Ближайшее метро Комнаты Материал стен  \\\n",
       "Код объекта                                                                 \n",
       "846050       Ауэзова ул., 12   нету            нету     1/2     панельный   \n",
       "\n",
       "            Микрорайон                                           Описание  \\\n",
       "Код объекта                                                                 \n",
       "846050         Чижовка  Комната в малонаселенной (соседи семья без дет...   \n",
       "\n",
       "                       Площади      Полы            Район     Санузел Телефон  \\\n",
       "Код объекта                                                                     \n",
       "846050       49.9 / 17.2 / 6.2  линолеум  Заводской район  раздельный     нет   \n",
       "\n",
       "              Тип дома Условия продажи                       Цена  \\\n",
       "Код объекта                                                         \n",
       "846050       брежневка  чистая продажа  17 500 у. е. (351 у. е./м   \n",
       "\n",
       "            Этаж / Этажность  Лет дому  Лет с момента ремонта Был капремонт  \n",
       "Код объекта                                                                  \n",
       "846050                   5/5        47                     47         False  "
      ]
     },
     "execution_count": 20,
     "metadata": {},
     "output_type": "execute_result"
    }
   ],
   "source": [
    "df[df[u'Комнаты'] == '1/2']"
   ]
  },
  {
   "cell_type": "markdown",
   "metadata": {
    "deletable": true,
    "editable": true
   },
   "source": [
    "\\- действительно комната. Отбрасываем такие записи:"
   ]
  },
  {
   "cell_type": "code",
   "execution_count": 21,
   "metadata": {
    "collapsed": true,
    "deletable": true,
    "editable": true
   },
   "outputs": [],
   "source": [
    "df = df[df[u'Комнаты'] != '1/2']"
   ]
  },
  {
   "cell_type": "code",
   "execution_count": 22,
   "metadata": {
    "collapsed": false,
    "deletable": true,
    "editable": true
   },
   "outputs": [
    {
     "data": {
      "text/plain": [
       "2    114\n",
       "3    109\n",
       "1    106\n",
       "4     22\n",
       "6      1\n",
       "5      1\n",
       "Name: Комнаты, dtype: int64"
      ]
     },
     "execution_count": 22,
     "metadata": {},
     "output_type": "execute_result"
    }
   ],
   "source": [
    "# Выделяем кол-во комнат:\n",
    "\n",
    "df[u'Комнаты'] = df[u'Комнаты'].map(lambda x: x if x.find('/') == -1 else x.split('/')[0])\n",
    "df[u'Комнаты'] = df[u'Комнаты'].apply(pd.to_numeric)\n",
    "df[u'Комнаты'].value_counts()"
   ]
  },
  {
   "cell_type": "markdown",
   "metadata": {
    "deletable": true,
    "editable": true
   },
   "source": [
    "\\- больше всего продается 2,3,1-комнатных"
   ]
  },
  {
   "cell_type": "code",
   "execution_count": 23,
   "metadata": {
    "collapsed": false,
    "deletable": true,
    "editable": true
   },
   "outputs": [
    {
     "data": {
      "text/plain": [
       "2.1529745042492916"
      ]
     },
     "execution_count": 23,
     "metadata": {},
     "output_type": "execute_result"
    }
   ],
   "source": [
    "# Среднее кол-во комнат:\n",
    "np.mean(df[u'Комнаты'])"
   ]
  },
  {
   "cell_type": "markdown",
   "metadata": {
    "deletable": true,
    "editable": true
   },
   "source": [
    "### Материал стен"
   ]
  },
  {
   "cell_type": "code",
   "execution_count": 24,
   "metadata": {
    "collapsed": false,
    "deletable": true,
    "editable": true
   },
   "outputs": [
    {
     "data": {
      "text/plain": [
       "панельный            160\n",
       "кирпичный            100\n",
       "каркасно-блочный      37\n",
       "блок-комнаты          21\n",
       "силикатно-блочный     19\n",
       "монолитный            16\n",
       "Name: Материал стен, dtype: int64"
      ]
     },
     "execution_count": 24,
     "metadata": {},
     "output_type": "execute_result"
    }
   ],
   "source": [
    "df[u'Материал стен'].value_counts()"
   ]
  },
  {
   "cell_type": "markdown",
   "metadata": {
    "deletable": true,
    "editable": true
   },
   "source": [
    "\\- здесь все в порядке, пропусков нет"
   ]
  },
  {
   "cell_type": "markdown",
   "metadata": {
    "deletable": true,
    "editable": true
   },
   "source": [
    "### Район и Микрорайон"
   ]
  },
  {
   "cell_type": "code",
   "execution_count": 25,
   "metadata": {
    "collapsed": false,
    "deletable": true,
    "editable": true
   },
   "outputs": [
    {
     "data": {
      "text/plain": [
       "Фрунзенский район     85\n",
       "Первомайский район    55\n",
       "Московский район      52\n",
       "Ленинский район       36\n",
       "Заводской район       34\n",
       "Советский район       28\n",
       "Центральный район     26\n",
       "Октябрьский район     21\n",
       "Партизанский район    16\n",
       "Name: Район, dtype: int64"
      ]
     },
     "execution_count": 25,
     "metadata": {},
     "output_type": "execute_result"
    }
   ],
   "source": [
    "df[u'Район'].value_counts()"
   ]
  },
  {
   "cell_type": "markdown",
   "metadata": {
    "deletable": true,
    "editable": true
   },
   "source": [
    "\\- указан у всех записей"
   ]
  },
  {
   "cell_type": "code",
   "execution_count": 26,
   "metadata": {
    "collapsed": false,
    "deletable": true,
    "editable": true
   },
   "outputs": [
    {
     "data": {
      "text/plain": [
       "Малиновка                                                  18\n",
       "Уручье                                                     18\n",
       "Серебрянка                                                 17\n",
       "Сухарево                                                   17\n",
       "Р.Люксембург, К.Либкнехта                                  15\n",
       "Кунцевщина                                                 13\n",
       "Ангарская                                                  11\n",
       "Чижовка                                                    10\n",
       "Червякова, Шевченко                                        10\n",
       "Каменная горка                                              9\n",
       "Пушкина, Глебки, Притыцкого, Ольшевского, Кальварийская     9\n",
       "Масюковщина                                                 9\n",
       "                                                           ..\n",
       "Дружба, Брилевичи                                           2\n",
       "Тракторный Завод                                            2\n",
       "Кижеватова, Асаналиева                                      2\n",
       "Дзержинского, Хмелевского, Щорса                            2\n",
       "Ванеева, Партизанский                                       1\n",
       "Сельхоз посёлок                                             1\n",
       "Район ДК \"МАЗ\"                                              1\n",
       "Седых, Тикоцкого                                            1\n",
       "Багратиона, Менделеева, Уральская                           1\n",
       "Сосны                                                       1\n",
       "Немига, Короля                                              1\n",
       "Веснянка                                                    1\n",
       "Name: Микрорайон, dtype: int64"
      ]
     },
     "execution_count": 26,
     "metadata": {},
     "output_type": "execute_result"
    }
   ],
   "source": [
    "df[u'Микрорайон'].value_counts()"
   ]
  },
  {
   "cell_type": "code",
   "execution_count": 27,
   "metadata": {
    "collapsed": false,
    "deletable": true,
    "editable": true
   },
   "outputs": [],
   "source": [
    "# Заменим пропущенные значения строкой 'Не указан':\n",
    "df[u'Микрорайон'].fillna(u'Не указан', inplace=True)"
   ]
  },
  {
   "cell_type": "markdown",
   "metadata": {
    "deletable": true,
    "editable": true
   },
   "source": [
    "### Площади"
   ]
  },
  {
   "cell_type": "code",
   "execution_count": 28,
   "metadata": {
    "collapsed": true,
    "deletable": true,
    "editable": true
   },
   "outputs": [],
   "source": [
    "df[u'Общая площадь'] = df[u'Площади'].map(lambda x: float(x.split(' / ')[0]))\n",
    "df[u'Жилая площадь'] = df[u'Площади'].map(lambda x: float(x.split(' / ')[1]))\n",
    "df[u'Площадь кухни'] = df[u'Площади'].map(lambda x: float(x.split(' / ')[2]))\n",
    "\n",
    "# Удаляем столбец 'Площади':\n",
    "df = df.drop(u'Площади', axis=1)"
   ]
  },
  {
   "cell_type": "code",
   "execution_count": 29,
   "metadata": {
    "collapsed": false,
    "deletable": true,
    "editable": true
   },
   "outputs": [
    {
     "data": {
      "text/plain": [
       "(60.667620396600562, 35.148073654390934, 8.7111614730878184)"
      ]
     },
     "execution_count": 29,
     "metadata": {},
     "output_type": "execute_result"
    }
   ],
   "source": [
    "# Среднияя площадь типичной квартиры на рынке\n",
    "np.mean(df[u'Общая площадь']), np.mean(df[u'Жилая площадь']), np.mean(df[u'Площадь кухни'])"
   ]
  },
  {
   "cell_type": "markdown",
   "metadata": {
    "deletable": true,
    "editable": true
   },
   "source": [
    "### Полы"
   ]
  },
  {
   "cell_type": "code",
   "execution_count": 30,
   "metadata": {
    "collapsed": false,
    "deletable": true,
    "editable": true
   },
   "outputs": [
    {
     "data": {
      "text/plain": [
       "ламинированые        105\n",
       "линолеум             104\n",
       "паркет                55\n",
       "деревянные            36\n",
       "ДСП                    3\n",
       "ковровое покрытие      2\n",
       "Name: Полы, dtype: int64"
      ]
     },
     "execution_count": 30,
     "metadata": {},
     "output_type": "execute_result"
    }
   ],
   "source": [
    "df[u'Полы'].value_counts()"
   ]
  },
  {
   "cell_type": "code",
   "execution_count": 31,
   "metadata": {
    "collapsed": false,
    "deletable": true,
    "editable": true
   },
   "outputs": [],
   "source": [
    "df[u'Полы'].fillna(u'Не указано', inplace=True)"
   ]
  },
  {
   "cell_type": "markdown",
   "metadata": {
    "deletable": true,
    "editable": true
   },
   "source": [
    "### Санузел"
   ]
  },
  {
   "cell_type": "code",
   "execution_count": 32,
   "metadata": {
    "collapsed": false,
    "deletable": true,
    "editable": true,
    "scrolled": true
   },
   "outputs": [
    {
     "data": {
      "text/html": [
       "<div>\n",
       "<table border=\"1\" class=\"dataframe\">\n",
       "  <thead>\n",
       "    <tr style=\"text-align: right;\">\n",
       "      <th></th>\n",
       "      <th>Адрес</th>\n",
       "      <th>Балкон</th>\n",
       "      <th>Ближайшее метро</th>\n",
       "      <th>Комнаты</th>\n",
       "      <th>Материал стен</th>\n",
       "      <th>Микрорайон</th>\n",
       "      <th>Описание</th>\n",
       "      <th>Полы</th>\n",
       "      <th>Район</th>\n",
       "      <th>Санузел</th>\n",
       "      <th>Телефон</th>\n",
       "      <th>Тип дома</th>\n",
       "      <th>Условия продажи</th>\n",
       "      <th>Цена</th>\n",
       "      <th>Этаж / Этажность</th>\n",
       "      <th>Лет дому</th>\n",
       "      <th>Лет с момента ремонта</th>\n",
       "      <th>Был капремонт</th>\n",
       "      <th>Общая площадь</th>\n",
       "      <th>Жилая площадь</th>\n",
       "      <th>Площадь кухни</th>\n",
       "    </tr>\n",
       "    <tr>\n",
       "      <th>Код объекта</th>\n",
       "      <th></th>\n",
       "      <th></th>\n",
       "      <th></th>\n",
       "      <th></th>\n",
       "      <th></th>\n",
       "      <th></th>\n",
       "      <th></th>\n",
       "      <th></th>\n",
       "      <th></th>\n",
       "      <th></th>\n",
       "      <th></th>\n",
       "      <th></th>\n",
       "      <th></th>\n",
       "      <th></th>\n",
       "      <th></th>\n",
       "      <th></th>\n",
       "      <th></th>\n",
       "      <th></th>\n",
       "      <th></th>\n",
       "      <th></th>\n",
       "      <th></th>\n",
       "    </tr>\n",
       "  </thead>\n",
       "  <tbody>\n",
       "    <tr>\n",
       "      <th>821155</th>\n",
       "      <td>Минина ул., 20 корпус А</td>\n",
       "      <td>нету</td>\n",
       "      <td>нету</td>\n",
       "      <td>2</td>\n",
       "      <td>кирпичный</td>\n",
       "      <td>Уманская, Железнодорожная, Грушевская</td>\n",
       "      <td>Дом 1949 г.п. Стеклопакет на кухне, пол доска ...</td>\n",
       "      <td>деревянные</td>\n",
       "      <td>Московский район</td>\n",
       "      <td>NaN</td>\n",
       "      <td>есть</td>\n",
       "      <td>NaN</td>\n",
       "      <td>подбираются варианты</td>\n",
       "      <td>30 000 у. е. (847 у. е./м</td>\n",
       "      <td>2/2</td>\n",
       "      <td>68</td>\n",
       "      <td>68</td>\n",
       "      <td>False</td>\n",
       "      <td>35.4</td>\n",
       "      <td>26.6</td>\n",
       "      <td>5.6</td>\n",
       "    </tr>\n",
       "  </tbody>\n",
       "</table>\n",
       "</div>"
      ],
      "text/plain": [
       "                               Адрес Балкон Ближайшее метро  Комнаты  \\\n",
       "Код объекта                                                            \n",
       "821155       Минина ул., 20 корпус А   нету            нету        2   \n",
       "\n",
       "            Материал стен                             Микрорайон  \\\n",
       "Код объекта                                                        \n",
       "821155          кирпичный  Уманская, Железнодорожная, Грушевская   \n",
       "\n",
       "                                                      Описание        Полы  \\\n",
       "Код объекта                                                                  \n",
       "821155       Дом 1949 г.п. Стеклопакет на кухне, пол доска ...  деревянные   \n",
       "\n",
       "                        Район Санузел Телефон Тип дома       Условия продажи  \\\n",
       "Код объекта                                                                    \n",
       "821155       Московский район     NaN    есть      NaN  подбираются варианты   \n",
       "\n",
       "                                  Цена Этаж / Этажность  Лет дому  \\\n",
       "Код объекта                                                         \n",
       "821155       30 000 у. е. (847 у. е./м              2/2        68   \n",
       "\n",
       "             Лет с момента ремонта Был капремонт  Общая площадь  \\\n",
       "Код объекта                                                       \n",
       "821155                          68         False           35.4   \n",
       "\n",
       "             Жилая площадь  Площадь кухни  \n",
       "Код объекта                                \n",
       "821155                26.6            5.6  "
      ]
     },
     "execution_count": 32,
     "metadata": {},
     "output_type": "execute_result"
    }
   ],
   "source": [
    "df[df[u'Санузел'].isnull()]"
   ]
  },
  {
   "cell_type": "markdown",
   "metadata": {
    "deletable": true,
    "editable": true
   },
   "source": [
    "Судя по дому - да, санузла там действительно нету, его функции выполняет здание на улице рядом. Дом 1949го года, без капремонта, поэтому отбрасываем его:"
   ]
  },
  {
   "cell_type": "code",
   "execution_count": 33,
   "metadata": {
    "collapsed": false,
    "deletable": true,
    "editable": true
   },
   "outputs": [],
   "source": [
    "df.drop(821155, inplace=True)"
   ]
  },
  {
   "cell_type": "code",
   "execution_count": 34,
   "metadata": {
    "collapsed": false,
    "deletable": true,
    "editable": true
   },
   "outputs": [
    {
     "data": {
      "text/plain": [
       "раздельный     268\n",
       "совмещенный     84\n",
       "Name: Санузел, dtype: int64"
      ]
     },
     "execution_count": 34,
     "metadata": {},
     "output_type": "execute_result"
    }
   ],
   "source": [
    "toilet_mapping = {\n",
    "    u'2 сан.узла':u'раздельный',\n",
    "    u'3 сан.узла':u'раздельный'\n",
    "    }\n",
    "\n",
    "df[u'Санузел'] = df[u'Санузел'].map(lambda x: common_converter(toilet_mapping, x))\n",
    "df[u'Санузел'].value_counts()"
   ]
  },
  {
   "cell_type": "markdown",
   "metadata": {
    "deletable": true,
    "editable": true
   },
   "source": [
    "### Телефон"
   ]
  },
  {
   "cell_type": "code",
   "execution_count": 35,
   "metadata": {
    "collapsed": false,
    "deletable": true,
    "editable": true
   },
   "outputs": [
    {
     "data": {
      "text/plain": [
       "есть          273\n",
       "нет            78\n",
       "2 телефона      1\n",
       "Name: Телефон, dtype: int64"
      ]
     },
     "execution_count": 35,
     "metadata": {},
     "output_type": "execute_result"
    }
   ],
   "source": [
    "df[u'Телефон'].value_counts()"
   ]
  },
  {
   "cell_type": "code",
   "execution_count": 36,
   "metadata": {
    "collapsed": false,
    "deletable": true,
    "editable": true
   },
   "outputs": [],
   "source": [
    "df[u'Телефон'] = df[u'Телефон'].map(lambda x: common_converter({u'2 телефона':u'есть'}, x))"
   ]
  },
  {
   "cell_type": "markdown",
   "metadata": {
    "deletable": true,
    "editable": true
   },
   "source": [
    "### Тип дома"
   ]
  },
  {
   "cell_type": "code",
   "execution_count": 37,
   "metadata": {
    "collapsed": false,
    "deletable": true,
    "editable": true
   },
   "outputs": [
    {
     "data": {
      "text/plain": [
       "новостройка         78\n",
       "стандартные         49\n",
       "улучшеный проект    45\n",
       "брежневка           29\n",
       "хрущевка            21\n",
       "сталинка            19\n",
       "чешский проект      13\n",
       "Name: Тип дома, dtype: int64"
      ]
     },
     "execution_count": 37,
     "metadata": {},
     "output_type": "execute_result"
    }
   ],
   "source": [
    "df[u'Тип дома'].value_counts()"
   ]
  },
  {
   "cell_type": "code",
   "execution_count": 38,
   "metadata": {
    "collapsed": true,
    "deletable": true,
    "editable": true
   },
   "outputs": [],
   "source": [
    "df[u'Тип дома'].fillna(u'не указан', inplace=True)"
   ]
  },
  {
   "cell_type": "markdown",
   "metadata": {
    "deletable": true,
    "editable": true
   },
   "source": [
    "### Условия продажи"
   ]
  },
  {
   "cell_type": "code",
   "execution_count": 39,
   "metadata": {
    "collapsed": false,
    "deletable": true,
    "editable": true
   },
   "outputs": [
    {
     "data": {
      "text/plain": [
       "чистая продажа          234\n",
       "подбираются варианты     57\n",
       "обмен                     7\n",
       "обмен - разъезд           1\n",
       "Name: Условия продажи, dtype: int64"
      ]
     },
     "execution_count": 39,
     "metadata": {},
     "output_type": "execute_result"
    }
   ],
   "source": [
    "df[u'Условия продажи'].value_counts()"
   ]
  },
  {
   "cell_type": "code",
   "execution_count": 40,
   "metadata": {
    "collapsed": false,
    "deletable": true,
    "editable": true
   },
   "outputs": [],
   "source": [
    "df[u'Условия продажи'].fillna(u'не указан', inplace=True)\n",
    "df[u'Условия продажи'] = df[u'Условия продажи'].map(lambda x: common_converter({u'обмен - разъезд':u'обмен'}, x))"
   ]
  },
  {
   "cell_type": "markdown",
   "metadata": {
    "deletable": true,
    "editable": true
   },
   "source": [
    "### Цена"
   ]
  },
  {
   "cell_type": "code",
   "execution_count": 41,
   "metadata": {
    "collapsed": false,
    "deletable": true,
    "editable": true
   },
   "outputs": [],
   "source": [
    "# Очищаем столбец 'price' и приводим к числовому:\n",
    "# u'12 000 у. е. somestring' -> u'12 000' -> u'12000' -> 12000.0\n",
    "df[u'Цена'] = df[u'Цена'].map(lambda x: float(x[:x.find(u' у. е.')].replace(' ','')))\n"
   ]
  },
  {
   "cell_type": "code",
   "execution_count": 42,
   "metadata": {
    "collapsed": false,
    "deletable": true,
    "editable": true
   },
   "outputs": [
    {
     "name": "stdout",
     "output_type": "stream",
     "text": [
      "Код объекта\n",
      "818272     15500.0\n",
      "822608     27000.0\n",
      "847586     33000.0\n",
      "844689     33000.0\n",
      "834349     29900.0\n",
      "836501     24000.0\n",
      "787265     24000.0\n",
      "842900     38000.0\n",
      "777826     17800.0\n",
      "829281     16900.0\n",
      "840726     36000.0\n",
      "840049     35500.0\n",
      "            ...   \n",
      "797122     69900.0\n",
      "781351     69500.0\n",
      "840822     49900.0\n",
      "845510     49900.0\n",
      "831899     49900.0\n",
      "839688     49900.0\n",
      "824347     49000.0\n",
      "804507     41500.0\n",
      "822167     39900.0\n",
      "847563     39800.0\n",
      "842232    118000.0\n",
      "835358    115000.0\n",
      "Name: Цена, dtype: float64\n"
     ]
    },
    {
     "data": {
      "image/png": "[encoded data removed]",
      "text/plain": [
       "<matplotlib.figure.Figure at 0x108a70910>"
      ]
     },
     "metadata": {},
     "output_type": "display_data"
    }
   ],
   "source": [
    "%matplotlib inline\n",
    "import seaborn as sns\n",
    "print df[u'Цена']\n",
    "# Распределение квартир по цене:\n",
    "sns.distplot(df[u'Цена']);"
   ]
  },
  {
   "cell_type": "code",
   "execution_count": 43,
   "metadata": {
    "collapsed": true,
    "deletable": true,
    "editable": true
   },
   "outputs": [],
   "source": [
    "# Квартир в правой части \"хвоста\" распределения слишком мало.\n",
    "# Ограничим выборку только квартирами стоимостью ниже некого порога, скажем 150 тыс у.е.:\n",
    "df = df[df[u'Цена'] < 150000]"
   ]
  },
  {
   "cell_type": "markdown",
   "metadata": {
    "deletable": true,
    "editable": true
   },
   "source": [
    "Позже выяснилось, что среди данных есть также записи, соответствующие комнатам, а не квартирам. Поэтому было решено отбросить записи с ультранизкой ценой. В качестве порога было выбрано значение 30 тыс у.е.:"
   ]
  },
  {
   "cell_type": "code",
   "execution_count": 44,
   "metadata": {
    "collapsed": false,
    "deletable": true,
    "editable": true
   },
   "outputs": [
    {
     "data": {
      "text/plain": [
       "Код объекта\n",
       "818272    Комната в трехкомнатной квартире в микрорайоне...\n",
       "822608    Две комнаты в трехкомнатной квартире. Стеклопа...\n",
       "847586    Однокомнатная квартира в кирпичном доме. Комна...\n",
       "844689    Дом находится в микрорайоне с хорошо развитой ...\n",
       "834349     Однокомнатная квартира по привлекательной цен...\n",
       "836501    Комната 17.6 метра в двухкомнатной квартире с ...\n",
       "787265    Две комнаты 16 и 8.8 м2 (46/100 доли) в четыре...\n",
       "777826    27/100 доли в четырёхкомнатной квартире. В пра...\n",
       "829281    Комната с балконом в трехкомнатной квартире. О...\n",
       "846239    1-на комнатная квартира на 4-ом этаже 5-ти эта...\n",
       "830075    Кирпичный дом в Центральном районе. В квартире...\n",
       "Name: Описание, dtype: object"
      ]
     },
     "execution_count": 44,
     "metadata": {},
     "output_type": "execute_result"
    }
   ],
   "source": [
    "df[df[u'Цена'] < 35000][u'Описание']"
   ]
  },
  {
   "cell_type": "markdown",
   "metadata": {
    "deletable": true,
    "editable": true
   },
   "source": [
    "\\- видим, что здесь действительно либо комнаты, либо 'кирпичный дом', что не является целью нашего анализа"
   ]
  },
  {
   "cell_type": "code",
   "execution_count": 45,
   "metadata": {
    "collapsed": true,
    "deletable": true,
    "editable": true
   },
   "outputs": [],
   "source": [
    "# Оставляем только квартиры стоимостью выше порога:\n",
    "df = df[df[u'Цена'] > 35000]"
   ]
  },
  {
   "cell_type": "code",
   "execution_count": 46,
   "metadata": {
    "collapsed": false,
    "deletable": true,
    "editable": true
   },
   "outputs": [
    {
     "data": {
      "image/png": "[encoded data removed]",
      "text/plain": [
       "<matplotlib.figure.Figure at 0x108cc6050>"
      ]
     },
     "metadata": {},
     "output_type": "display_data"
    }
   ],
   "source": [
    "# Распределение квартир теперь выглядит так:\n",
    "sns.distplot(df[u'Цена']/1000);"
   ]
  },
  {
   "cell_type": "markdown",
   "metadata": {
    "deletable": true,
    "editable": true
   },
   "source": [
    "### Этаж/этажность"
   ]
  },
  {
   "cell_type": "code",
   "execution_count": 47,
   "metadata": {
    "collapsed": false,
    "deletable": true,
    "editable": true,
    "scrolled": true
   },
   "outputs": [
    {
     "data": {
      "text/html": [
       "<div>\n",
       "<table border=\"1\" class=\"dataframe\">\n",
       "  <thead>\n",
       "    <tr style=\"text-align: right;\">\n",
       "      <th></th>\n",
       "      <th>Адрес</th>\n",
       "      <th>Балкон</th>\n",
       "      <th>Ближайшее метро</th>\n",
       "      <th>Комнаты</th>\n",
       "      <th>Материал стен</th>\n",
       "      <th>Микрорайон</th>\n",
       "      <th>Описание</th>\n",
       "      <th>Полы</th>\n",
       "      <th>Район</th>\n",
       "      <th>Санузел</th>\n",
       "      <th>Телефон</th>\n",
       "      <th>Тип дома</th>\n",
       "      <th>Условия продажи</th>\n",
       "      <th>Цена</th>\n",
       "      <th>Этаж / Этажность</th>\n",
       "      <th>Лет дому</th>\n",
       "      <th>Лет с момента ремонта</th>\n",
       "      <th>Был капремонт</th>\n",
       "      <th>Общая площадь</th>\n",
       "      <th>Жилая площадь</th>\n",
       "      <th>Площадь кухни</th>\n",
       "    </tr>\n",
       "    <tr>\n",
       "      <th>Код объекта</th>\n",
       "      <th></th>\n",
       "      <th></th>\n",
       "      <th></th>\n",
       "      <th></th>\n",
       "      <th></th>\n",
       "      <th></th>\n",
       "      <th></th>\n",
       "      <th></th>\n",
       "      <th></th>\n",
       "      <th></th>\n",
       "      <th></th>\n",
       "      <th></th>\n",
       "      <th></th>\n",
       "      <th></th>\n",
       "      <th></th>\n",
       "      <th></th>\n",
       "      <th></th>\n",
       "      <th></th>\n",
       "      <th></th>\n",
       "      <th></th>\n",
       "      <th></th>\n",
       "    </tr>\n",
       "  </thead>\n",
       "  <tbody>\n",
       "    <tr>\n",
       "      <th>847125</th>\n",
       "      <td>Одинцова ул., 69</td>\n",
       "      <td>2 лоджии</td>\n",
       "      <td>Каменная горка</td>\n",
       "      <td>1</td>\n",
       "      <td>кирпичный</td>\n",
       "      <td>Не указан</td>\n",
       "      <td>Однокомнатная квартира в кирпичном доме 1995 г...</td>\n",
       "      <td>паркет</td>\n",
       "      <td>Фрунзенский район</td>\n",
       "      <td>раздельный</td>\n",
       "      <td>нет</td>\n",
       "      <td>чешский проект</td>\n",
       "      <td>чистая продажа</td>\n",
       "      <td>52000.0</td>\n",
       "      <td>NaN</td>\n",
       "      <td>22</td>\n",
       "      <td>22</td>\n",
       "      <td>False</td>\n",
       "      <td>43.9</td>\n",
       "      <td>18.3</td>\n",
       "      <td>8.8</td>\n",
       "    </tr>\n",
       "  </tbody>\n",
       "</table>\n",
       "</div>"
      ],
      "text/plain": [
       "                        Адрес    Балкон Ближайшее метро  Комнаты  \\\n",
       "Код объекта                                                        \n",
       "847125       Одинцова ул., 69  2 лоджии  Каменная горка        1   \n",
       "\n",
       "            Материал стен Микрорайон  \\\n",
       "Код объекта                            \n",
       "847125          кирпичный  Не указан   \n",
       "\n",
       "                                                      Описание    Полы  \\\n",
       "Код объекта                                                              \n",
       "847125       Однокомнатная квартира в кирпичном доме 1995 г...  паркет   \n",
       "\n",
       "                         Район     Санузел Телефон        Тип дома  \\\n",
       "Код объекта                                                          \n",
       "847125       Фрунзенский район  раздельный     нет  чешский проект   \n",
       "\n",
       "            Условия продажи     Цена Этаж / Этажность  Лет дому  \\\n",
       "Код объекта                                                       \n",
       "847125       чистая продажа  52000.0              NaN        22   \n",
       "\n",
       "             Лет с момента ремонта Был капремонт  Общая площадь  \\\n",
       "Код объекта                                                       \n",
       "847125                          22         False           43.9   \n",
       "\n",
       "             Жилая площадь  Площадь кухни  \n",
       "Код объекта                                \n",
       "847125                18.3            8.8  "
      ]
     },
     "execution_count": 47,
     "metadata": {},
     "output_type": "execute_result"
    }
   ],
   "source": [
    "df[df[u'Этаж / Этажность'].isnull()]"
   ]
  },
  {
   "cell_type": "markdown",
   "metadata": {
    "deletable": true,
    "editable": true
   },
   "source": [
    "Для одной из квартир этаж не указан. Судя из того, что тип дома - чешский, этажей в доме 9. Этаж укажем в середине дома, т.к. судя цене в 52 тыс. он не крайний:"
   ]
  },
  {
   "cell_type": "code",
   "execution_count": 48,
   "metadata": {
    "collapsed": false,
    "deletable": true,
    "editable": true
   },
   "outputs": [],
   "source": [
    "df.loc[df[u'Этаж / Этажность'].isnull(), u'Этаж / Этажность'] = u'5/9'"
   ]
  },
  {
   "cell_type": "code",
   "execution_count": 49,
   "metadata": {
    "collapsed": false,
    "deletable": true,
    "editable": true
   },
   "outputs": [
    {
     "data": {
      "text/plain": [
       "Адрес                                                     Одинцова ул., 69\n",
       "Балкон                                                            2 лоджии\n",
       "Ближайшее метро                                             Каменная горка\n",
       "Комнаты                                                                  1\n",
       "Материал стен                                                    кирпичный\n",
       "Микрорайон                                                       Не указан\n",
       "Описание                 Однокомнатная квартира в кирпичном доме 1995 г...\n",
       "Полы                                                                паркет\n",
       "Район                                                    Фрунзенский район\n",
       "Санузел                                                         раздельный\n",
       "Телефон                                                                нет\n",
       "Тип дома                                                    чешский проект\n",
       "Условия продажи                                             чистая продажа\n",
       "Цена                                                                 52000\n",
       "Этаж / Этажность                                                       5/9\n",
       "Лет дому                                                                22\n",
       "Лет с момента ремонта                                                   22\n",
       "Был капремонт                                                        False\n",
       "Общая площадь                                                         43.9\n",
       "Жилая площадь                                                         18.3\n",
       "Площадь кухни                                                          8.8\n",
       "Name: 847125, dtype: object"
      ]
     },
     "execution_count": 49,
     "metadata": {},
     "output_type": "execute_result"
    }
   ],
   "source": [
    "df.ix[847125]"
   ]
  },
  {
   "cell_type": "code",
   "execution_count": 50,
   "metadata": {
    "collapsed": false,
    "deletable": true,
    "editable": true
   },
   "outputs": [],
   "source": [
    "df[u'Этаж'] = df[u'Этаж / Этажность'].map(lambda x: int(x.split('/')[0]))\n",
    "df[u'Этажность'] = df[u'Этаж / Этажность'].map(lambda x: int(x.split('/')[1]))"
   ]
  },
  {
   "cell_type": "code",
   "execution_count": 51,
   "metadata": {
    "collapsed": false,
    "deletable": true,
    "editable": true
   },
   "outputs": [
    {
     "data": {
      "text/plain": [
       "2     53\n",
       "5     43\n",
       "1     36\n",
       "4     36\n",
       "3     31\n",
       "9     24\n",
       "7     22\n",
       "6     21\n",
       "8     19\n",
       "12     8\n",
       "10     6\n",
       "11     6\n",
       "19     5\n",
       "18     5\n",
       "14     3\n",
       "17     3\n",
       "16     2\n",
       "13     1\n",
       "20     1\n",
       "Name: Этаж, dtype: int64"
      ]
     },
     "execution_count": 51,
     "metadata": {},
     "output_type": "execute_result"
    }
   ],
   "source": [
    "df[u'Этаж'].value_counts()"
   ]
  },
  {
   "cell_type": "code",
   "execution_count": 52,
   "metadata": {
    "collapsed": false,
    "deletable": true,
    "editable": true
   },
   "outputs": [
    {
     "data": {
      "image/png": "[encoded data removed]",
      "text/plain": [
       "<matplotlib.figure.Figure at 0x108d49610>"
      ]
     },
     "metadata": {},
     "output_type": "display_data"
    }
   ],
   "source": [
    "sns.distplot(df[u'Этаж'], kde=False, bins=20);"
   ]
  },
  {
   "cell_type": "markdown",
   "metadata": {
    "deletable": true,
    "editable": true
   },
   "source": [
    "\\- Преобладают квартиры на нижних этажах по 5й"
   ]
  },
  {
   "cell_type": "code",
   "execution_count": 53,
   "metadata": {
    "collapsed": false,
    "deletable": true,
    "editable": true
   },
   "outputs": [
    {
     "data": {
      "text/plain": [
       "9     128\n",
       "5      59\n",
       "12     25\n",
       "19     25\n",
       "10     20\n",
       "4      16\n",
       "20     10\n",
       "2       7\n",
       "7       6\n",
       "16      5\n",
       "13      4\n",
       "14      3\n",
       "8       3\n",
       "3       3\n",
       "11      2\n",
       "21      2\n",
       "24      1\n",
       "15      1\n",
       "17      1\n",
       "18      1\n",
       "6       1\n",
       "22      1\n",
       "25      1\n",
       "Name: Этажность, dtype: int64"
      ]
     },
     "execution_count": 53,
     "metadata": {},
     "output_type": "execute_result"
    }
   ],
   "source": [
    "df[u'Этажность'].value_counts()"
   ]
  },
  {
   "cell_type": "code",
   "execution_count": 54,
   "metadata": {
    "collapsed": false,
    "deletable": true,
    "editable": true
   },
   "outputs": [
    {
     "data": {
      "image/png": "[encoded data removed]",
      "text/plain": [
       "<matplotlib.figure.Figure at 0x108d49a10>"
      ]
     },
     "metadata": {},
     "output_type": "display_data"
    }
   ],
   "source": [
    "sns.distplot(df[u'Этажность'], kde=False);"
   ]
  },
  {
   "cell_type": "markdown",
   "metadata": {
    "deletable": true,
    "editable": true
   },
   "source": [
    "\\- больше всего квартир в 9 и 5-этажках"
   ]
  },
  {
   "cell_type": "code",
   "execution_count": 55,
   "metadata": {
    "collapsed": false,
    "deletable": true,
    "editable": true
   },
   "outputs": [
    {
     "data": {
      "text/plain": [
       "(5.0, 9.0)"
      ]
     },
     "execution_count": 55,
     "metadata": {},
     "output_type": "execute_result"
    }
   ],
   "source": [
    "np.median(df[u'Этаж']), np.median(df[u'Этажность'])"
   ]
  },
  {
   "cell_type": "markdown",
   "metadata": {
    "deletable": true,
    "editable": true
   },
   "source": [
    "\\- т.е. в среднем квартира расположена на 5 этаже 9-этажного дома"
   ]
  },
  {
   "cell_type": "code",
   "execution_count": 56,
   "metadata": {
    "collapsed": true,
    "deletable": true,
    "editable": true
   },
   "outputs": [],
   "source": [
    "df[u'Первый этаж'] = df[u'Этаж'].map(lambda x: 1 if x==1 else 0)"
   ]
  },
  {
   "cell_type": "code",
   "execution_count": 57,
   "metadata": {
    "collapsed": false,
    "deletable": true,
    "editable": true
   },
   "outputs": [
    {
     "data": {
      "text/plain": [
       "0    289\n",
       "1     36\n",
       "Name: Первый этаж, dtype: int64"
      ]
     },
     "execution_count": 57,
     "metadata": {},
     "output_type": "execute_result"
    }
   ],
   "source": [
    "df[u'Первый этаж'].value_counts()"
   ]
  },
  {
   "cell_type": "code",
   "execution_count": 58,
   "metadata": {
    "collapsed": true,
    "deletable": true,
    "editable": true
   },
   "outputs": [],
   "source": [
    "df[u'Последний этаж'] = df[u'Этаж / Этажность'].map(lambda x: 1 if x.split('/')[0] == x.split('/')[1] else 0)"
   ]
  },
  {
   "cell_type": "code",
   "execution_count": 59,
   "metadata": {
    "collapsed": false,
    "deletable": true,
    "editable": true
   },
   "outputs": [
    {
     "data": {
      "text/plain": [
       "0    276\n",
       "1     49\n",
       "Name: Последний этаж, dtype: int64"
      ]
     },
     "execution_count": 59,
     "metadata": {},
     "output_type": "execute_result"
    }
   ],
   "source": [
    "df[u'Последний этаж'].value_counts()"
   ]
  },
  {
   "cell_type": "code",
   "execution_count": 60,
   "metadata": {
    "collapsed": true,
    "deletable": true,
    "editable": true
   },
   "outputs": [],
   "source": [
    "# Удаляем столбец 'Этаж / Этажность':\n",
    "df = df.drop(u'Этаж / Этажность', axis=1)"
   ]
  },
  {
   "cell_type": "code",
   "execution_count": 61,
   "metadata": {
    "collapsed": false,
    "deletable": true,
    "editable": true
   },
   "outputs": [
    {
     "name": "stdout",
     "output_type": "stream",
     "text": [
      "<class 'pandas.core.frame.DataFrame'>\n",
      "Int64Index: 325 entries, 842900 to 835358\n",
      "Data columns (total 24 columns):\n",
      "Адрес                    325 non-null object\n",
      "Балкон                   325 non-null object\n",
      "Ближайшее метро          325 non-null object\n",
      "Комнаты                  325 non-null int64\n",
      "Материал стен            325 non-null object\n",
      "Микрорайон               325 non-null object\n",
      "Описание                 322 non-null object\n",
      "Полы                     325 non-null object\n",
      "Район                    325 non-null object\n",
      "Санузел                  325 non-null object\n",
      "Телефон                  325 non-null object\n",
      "Тип дома                 325 non-null object\n",
      "Условия продажи          325 non-null object\n",
      "Цена                     325 non-null float64\n",
      "Лет дому                 325 non-null int64\n",
      "Лет с момента ремонта    325 non-null int64\n",
      "Был капремонт            325 non-null bool\n",
      "Общая площадь            325 non-null float64\n",
      "Жилая площадь            325 non-null float64\n",
      "Площадь кухни            325 non-null float64\n",
      "Этаж                     325 non-null int64\n",
      "Этажность                325 non-null int64\n",
      "Первый этаж              325 non-null int64\n",
      "Последний этаж           325 non-null int64\n",
      "dtypes: bool(1), float64(4), int64(7), object(12)\n",
      "memory usage: 61.3+ KB\n"
     ]
    }
   ],
   "source": [
    "df.info()"
   ]
  },
  {
   "cell_type": "code",
   "execution_count": 66,
   "metadata": {
    "collapsed": false,
    "deletable": true,
    "editable": true
   },
   "outputs": [
    {
     "data": {
      "text/html": [
       "<div>\n",
       "<table border=\"1\" class=\"dataframe\">\n",
       "  <thead>\n",
       "    <tr style=\"text-align: right;\">\n",
       "      <th></th>\n",
       "      <th>Адрес</th>\n",
       "      <th>Балкон</th>\n",
       "      <th>Ближайшее метро</th>\n",
       "      <th>Комнаты</th>\n",
       "      <th>Материал стен</th>\n",
       "      <th>Микрорайон</th>\n",
       "      <th>Описание</th>\n",
       "      <th>Полы</th>\n",
       "      <th>Район</th>\n",
       "      <th>Санузел</th>\n",
       "      <th>Телефон</th>\n",
       "      <th>Тип дома</th>\n",
       "      <th>Условия продажи</th>\n",
       "      <th>Цена</th>\n",
       "      <th>Лет дому</th>\n",
       "      <th>Лет с момента ремонта</th>\n",
       "      <th>Был капремонт</th>\n",
       "      <th>Общая площадь</th>\n",
       "      <th>Жилая площадь</th>\n",
       "      <th>Площадь кухни</th>\n",
       "      <th>Этаж</th>\n",
       "      <th>Этажность</th>\n",
       "      <th>Первый этаж</th>\n",
       "      <th>Последний этаж</th>\n",
       "    </tr>\n",
       "    <tr>\n",
       "      <th>Код объекта</th>\n",
       "      <th></th>\n",
       "      <th></th>\n",
       "      <th></th>\n",
       "      <th></th>\n",
       "      <th></th>\n",
       "      <th></th>\n",
       "      <th></th>\n",
       "      <th></th>\n",
       "      <th></th>\n",
       "      <th></th>\n",
       "      <th></th>\n",
       "      <th></th>\n",
       "      <th></th>\n",
       "      <th></th>\n",
       "      <th></th>\n",
       "      <th></th>\n",
       "      <th></th>\n",
       "      <th></th>\n",
       "      <th></th>\n",
       "      <th></th>\n",
       "      <th></th>\n",
       "      <th></th>\n",
       "      <th></th>\n",
       "      <th></th>\n",
       "    </tr>\n",
       "  </thead>\n",
       "  <tbody>\n",
       "    <tr>\n",
       "      <th>842900</th>\n",
       "      <td>Ольшевского ул., 69</td>\n",
       "      <td>лоджия</td>\n",
       "      <td>Спортивная</td>\n",
       "      <td>1</td>\n",
       "      <td>панельный</td>\n",
       "      <td>Пушкина, Глебки, Притыцкого, Ольшевского, Каль...</td>\n",
       "      <td>Однокомнатная квартира с двумя просторными зас...</td>\n",
       "      <td>линолеум</td>\n",
       "      <td>Фрунзенский район</td>\n",
       "      <td>раздельный</td>\n",
       "      <td>есть</td>\n",
       "      <td>стандартные</td>\n",
       "      <td>чистая продажа</td>\n",
       "      <td>38000.0</td>\n",
       "      <td>58</td>\n",
       "      <td>58</td>\n",
       "      <td>False</td>\n",
       "      <td>34.58</td>\n",
       "      <td>17.04</td>\n",
       "      <td>7.59</td>\n",
       "      <td>2</td>\n",
       "      <td>9</td>\n",
       "      <td>0</td>\n",
       "      <td>0</td>\n",
       "    </tr>\n",
       "    <tr>\n",
       "      <th>840726</th>\n",
       "      <td>Краснослободская ул., 9 корпус 1</td>\n",
       "      <td>лоджия</td>\n",
       "      <td>нету</td>\n",
       "      <td>1</td>\n",
       "      <td>кирпичный</td>\n",
       "      <td>Не указан</td>\n",
       "      <td>Кирпичный дом в популярном районе Чижовка. Пос...</td>\n",
       "      <td>линолеум</td>\n",
       "      <td>Заводской район</td>\n",
       "      <td>раздельный</td>\n",
       "      <td>есть</td>\n",
       "      <td>брежневка</td>\n",
       "      <td>подбираются варианты</td>\n",
       "      <td>36000.0</td>\n",
       "      <td>48</td>\n",
       "      <td>11</td>\n",
       "      <td>True</td>\n",
       "      <td>33.20</td>\n",
       "      <td>16.20</td>\n",
       "      <td>6.60</td>\n",
       "      <td>3</td>\n",
       "      <td>9</td>\n",
       "      <td>0</td>\n",
       "      <td>0</td>\n",
       "    </tr>\n",
       "    <tr>\n",
       "      <th>840049</th>\n",
       "      <td>Ландера ул., 38 корпус А</td>\n",
       "      <td>балкон</td>\n",
       "      <td>нету</td>\n",
       "      <td>1</td>\n",
       "      <td>кирпичный</td>\n",
       "      <td>Казинца, Ландера</td>\n",
       "      <td>Входная металлическая дверь, домофон, счетчики...</td>\n",
       "      <td>паркет</td>\n",
       "      <td>Октябрьский район</td>\n",
       "      <td>раздельный</td>\n",
       "      <td>нет</td>\n",
       "      <td>стандартные</td>\n",
       "      <td>чистая продажа</td>\n",
       "      <td>35500.0</td>\n",
       "      <td>33</td>\n",
       "      <td>33</td>\n",
       "      <td>False</td>\n",
       "      <td>30.70</td>\n",
       "      <td>16.00</td>\n",
       "      <td>6.70</td>\n",
       "      <td>2</td>\n",
       "      <td>9</td>\n",
       "      <td>0</td>\n",
       "      <td>0</td>\n",
       "    </tr>\n",
       "    <tr>\n",
       "      <th>842497</th>\n",
       "      <td>Менделеева ул., 23</td>\n",
       "      <td>балкон</td>\n",
       "      <td>Академия наук</td>\n",
       "      <td>1</td>\n",
       "      <td>блок-комнаты</td>\n",
       "      <td>Не указан</td>\n",
       "      <td>Однокомнатная квартира с ремонтом у Ботаническ...</td>\n",
       "      <td>линолеум</td>\n",
       "      <td>Партизанский район</td>\n",
       "      <td>раздельный</td>\n",
       "      <td>есть</td>\n",
       "      <td>не указан</td>\n",
       "      <td>не указан</td>\n",
       "      <td>42000.0</td>\n",
       "      <td>44</td>\n",
       "      <td>44</td>\n",
       "      <td>False</td>\n",
       "      <td>34.59</td>\n",
       "      <td>18.04</td>\n",
       "      <td>7.48</td>\n",
       "      <td>7</td>\n",
       "      <td>9</td>\n",
       "      <td>0</td>\n",
       "      <td>0</td>\n",
       "    </tr>\n",
       "    <tr>\n",
       "      <th>833377</th>\n",
       "      <td>Рокоссовского просп., 103</td>\n",
       "      <td>балкон</td>\n",
       "      <td>нету</td>\n",
       "      <td>1</td>\n",
       "      <td>панельный</td>\n",
       "      <td>Серебрянка</td>\n",
       "      <td>Однокомнатная квартира в Серебрянке. Входная м...</td>\n",
       "      <td>ламинированые</td>\n",
       "      <td>Ленинский район</td>\n",
       "      <td>раздельный</td>\n",
       "      <td>есть</td>\n",
       "      <td>стандартные</td>\n",
       "      <td>чистая продажа</td>\n",
       "      <td>42000.0</td>\n",
       "      <td>46</td>\n",
       "      <td>46</td>\n",
       "      <td>False</td>\n",
       "      <td>33.05</td>\n",
       "      <td>17.03</td>\n",
       "      <td>7.24</td>\n",
       "      <td>9</td>\n",
       "      <td>9</td>\n",
       "      <td>0</td>\n",
       "      <td>1</td>\n",
       "    </tr>\n",
       "  </tbody>\n",
       "</table>\n",
       "</div>"
      ],
      "text/plain": [
       "                                        Адрес  Балкон Ближайшее метро  \\\n",
       "Код объекта                                                             \n",
       "842900                    Ольшевского ул., 69  лоджия      Спортивная   \n",
       "840726       Краснослободская ул., 9 корпус 1  лоджия            нету   \n",
       "840049               Ландера ул., 38 корпус А  балкон            нету   \n",
       "842497                     Менделеева ул., 23  балкон   Академия наук   \n",
       "833377              Рокоссовского просп., 103  балкон            нету   \n",
       "\n",
       "             Комнаты Материал стен  \\\n",
       "Код объекта                          \n",
       "842900             1     панельный   \n",
       "840726             1     кирпичный   \n",
       "840049             1     кирпичный   \n",
       "842497             1  блок-комнаты   \n",
       "833377             1     панельный   \n",
       "\n",
       "                                                    Микрорайон  \\\n",
       "Код объекта                                                      \n",
       "842900       Пушкина, Глебки, Притыцкого, Ольшевского, Каль...   \n",
       "840726                                               Не указан   \n",
       "840049                                        Казинца, Ландера   \n",
       "842497                                               Не указан   \n",
       "833377                                              Серебрянка   \n",
       "\n",
       "                                                      Описание           Полы  \\\n",
       "Код объекта                                                                     \n",
       "842900       Однокомнатная квартира с двумя просторными зас...       линолеум   \n",
       "840726       Кирпичный дом в популярном районе Чижовка. Пос...       линолеум   \n",
       "840049       Входная металлическая дверь, домофон, счетчики...         паркет   \n",
       "842497       Однокомнатная квартира с ремонтом у Ботаническ...       линолеум   \n",
       "833377       Однокомнатная квартира в Серебрянке. Входная м...  ламинированые   \n",
       "\n",
       "                          Район     Санузел Телефон     Тип дома  \\\n",
       "Код объекта                                                        \n",
       "842900        Фрунзенский район  раздельный    есть  стандартные   \n",
       "840726          Заводской район  раздельный    есть    брежневка   \n",
       "840049        Октябрьский район  раздельный     нет  стандартные   \n",
       "842497       Партизанский район  раздельный    есть    не указан   \n",
       "833377          Ленинский район  раздельный    есть  стандартные   \n",
       "\n",
       "                  Условия продажи     Цена  Лет дому  Лет с момента ремонта  \\\n",
       "Код объекта                                                                   \n",
       "842900             чистая продажа  38000.0        58                     58   \n",
       "840726       подбираются варианты  36000.0        48                     11   \n",
       "840049             чистая продажа  35500.0        33                     33   \n",
       "842497                  не указан  42000.0        44                     44   \n",
       "833377             чистая продажа  42000.0        46                     46   \n",
       "\n",
       "            Был капремонт  Общая площадь  Жилая площадь  Площадь кухни  Этаж  \\\n",
       "Код объекта                                                                    \n",
       "842900              False          34.58          17.04           7.59     2   \n",
       "840726               True          33.20          16.20           6.60     3   \n",
       "840049              False          30.70          16.00           6.70     2   \n",
       "842497              False          34.59          18.04           7.48     7   \n",
       "833377              False          33.05          17.03           7.24     9   \n",
       "\n",
       "             Этажность  Первый этаж  Последний этаж  \n",
       "Код объекта                                          \n",
       "842900               9            0               0  \n",
       "840726               9            0               0  \n",
       "840049               9            0               0  \n",
       "842497               9            0               0  \n",
       "833377               9            0               1  "
      ]
     },
     "execution_count": 66,
     "metadata": {},
     "output_type": "execute_result"
    }
   ],
   "source": [
    "# Формируем вектора X и Y:\n",
    "X = df.drop({u'Цена', u'Описание', u'Адрес'}, axis=1)\n",
    "Y = df[u'Цена']\n",
    "df.head()"
   ]
  },
  {
   "cell_type": "markdown",
   "metadata": {
    "deletable": true,
    "editable": true
   },
   "source": [
    "На этом закончим подготовку данных, а начнем собственно\n",
    "\n",
    "## Обучение модели"
   ]
  },
  {
   "cell_type": "code",
   "execution_count": 63,
   "metadata": {
    "collapsed": true,
    "deletable": true,
    "editable": true
   },
   "outputs": [],
   "source": [
    "# Добавим несколько методов для создания енкодеров:\n",
    "\n",
    "from sklearn.preprocessing import LabelEncoder\n",
    "from sklearn.preprocessing import OneHotEncoder\n",
    "\n",
    "# Добавляет в DataFrame df новый столбец с именем column_name+'_le', содержащий номера категорий, \n",
    "# соответствующие столбцу column_name. Исходный столбец column_name удаляется\n",
    "#\n",
    "def encode_with_LabelEncoder(df, column_name):\n",
    "    label_encoder = LabelEncoder()\n",
    "    label_encoder.fit(df[column_name])\n",
    "    df[column_name+'_le'] = label_encoder.transform(df[column_name])\n",
    "    df.drop([column_name], axis=1, inplace=True)\n",
    "    return label_encoder\n",
    "\n",
    "# Кодирование с использованием ранее созданного LabelEncoder\n",
    "#\n",
    "def encode_with_existing_LabelEncoder(df, column_name, label_encoder):\n",
    "    df[column_name+'_le'] = label_encoder.transform(df[column_name])\n",
    "    df.drop([column_name], axis=1, inplace=True)\n",
    "\n",
    "# Вначале кодирует столбец column_name при помощи LabelEncoder, потом добавляет в DataFrame df новые столбцы \n",
    "# с именами column_name=<категория_i>. Столбцы column_name и column_name+'_le' удаляются\n",
    "# Usage: df, label_encoder = encode_with_OneHotEncoder_and_delete_column(df, column_name)\n",
    "#\n",
    "def encode_with_OneHotEncoder_and_delete_column(df, column_name):\n",
    "    le_encoder = encode_with_LabelEncoder(df, column_name)\n",
    "    return perform_dummy_coding_and_delete_column(df, column_name, le_encoder), le_encoder\n",
    "\n",
    "# То же, что предыдущий метод, но при помощи уже существующего LabelEncoder\n",
    "#\n",
    "def encode_with_OneHotEncoder_using_existing_LabelEncoder_and_delete_column(df, column_name, le_encoder):\n",
    "    encode_with_existing_LabelEncoder(df, column_name, le_encoder)\n",
    "    return perform_dummy_coding_and_delete_column(df, column_name, le_encoder)\n",
    "\n",
    "# Реализует Dummy-кодирование\n",
    "#\n",
    "def perform_dummy_coding_and_delete_column(df, column_name, le_encoder):\n",
    "    oh_encoder = OneHotEncoder(sparse=False)\n",
    "    oh_features = oh_encoder.fit_transform(df[column_name+'_le'].values.reshape(-1,1))\n",
    "    ohe_columns=[column_name + '=' + le_encoder.classes_[i] for i in range(oh_features.shape[1])]\n",
    "\n",
    "    df.drop([column_name+'_le'], axis=1, inplace=True)\n",
    "\n",
    "    df_with_features = pd.DataFrame(oh_features, columns=ohe_columns)\n",
    "    df_with_features.index = df.index\n",
    "    return pd.concat([df, df_with_features], axis=1)"
   ]
  },
  {
   "cell_type": "code",
   "execution_count": 64,
   "metadata": {
    "collapsed": false,
    "deletable": true,
    "editable": true
   },
   "outputs": [],
   "source": [
    "# Кодируем категориальные признаки при помощи Label и Dummy-кодирования:\n",
    "#\n",
    "phone_le_converter = encode_with_LabelEncoder(X,u'Телефон')\n",
    "X, balcony_le_encoder = encode_with_OneHotEncoder_and_delete_column(X,u'Балкон')\n",
    "X, metro_le_encoder = encode_with_OneHotEncoder_and_delete_column(X,u'Ближайшее метро')\n",
    "X, wall_materials_le_encoder = encode_with_OneHotEncoder_and_delete_column(X,u'Материал стен')\n",
    "X, ground_le_encoder = encode_with_OneHotEncoder_and_delete_column(X,u'Полы')\n",
    "X, region_le_encoder = encode_with_OneHotEncoder_and_delete_column(X,u'Район')\n",
    "X, subregion_le_encoder = encode_with_OneHotEncoder_and_delete_column(X,u'Микрорайон')\n",
    "X, toilet_le_encoder = encode_with_OneHotEncoder_and_delete_column(X,u'Санузел')\n",
    "X, house_type_le_encoder = encode_with_OneHotEncoder_and_delete_column(X,u'Тип дома')\n",
    "X, sell_conditions_le_encoder = encode_with_OneHotEncoder_and_delete_column(X,u'Условия продажи')"
   ]
  },
  {
   "cell_type": "code",
   "execution_count": 65,
   "metadata": {
    "collapsed": false,
    "deletable": true,
    "editable": true
   },
   "outputs": [
    {
     "data": {
      "text/html": [
       "<div>\n",
       "<table border=\"1\" class=\"dataframe\">\n",
       "  <thead>\n",
       "    <tr style=\"text-align: right;\">\n",
       "      <th></th>\n",
       "      <th>Комнаты</th>\n",
       "      <th>Лет дому</th>\n",
       "      <th>Лет с момента ремонта</th>\n",
       "      <th>Был капремонт</th>\n",
       "      <th>Общая площадь</th>\n",
       "      <th>Жилая площадь</th>\n",
       "      <th>Площадь кухни</th>\n",
       "      <th>Этаж</th>\n",
       "      <th>Этажность</th>\n",
       "      <th>Первый этаж</th>\n",
       "      <th>Последний этаж</th>\n",
       "      <th>Телефон_le</th>\n",
       "      <th>Балкон=2 балкона</th>\n",
       "      <th>Балкон=2 лоджии</th>\n",
       "      <th>Балкон=3 лоджии</th>\n",
       "      <th>Балкон=балкон</th>\n",
       "      <th>Балкон=лоджия</th>\n",
       "      <th>Балкон=нету</th>\n",
       "      <th>Ближайшее метро=Автозаводская</th>\n",
       "      <th>Ближайшее метро=Академия наук</th>\n",
       "      <th>Ближайшее метро=Восток</th>\n",
       "      <th>Ближайшее метро=Грушевка</th>\n",
       "      <th>Ближайшее метро=Институт культуры</th>\n",
       "      <th>Ближайшее метро=Каменная горка</th>\n",
       "      <th>Ближайшее метро=Кунцевщина</th>\n",
       "      <th>Ближайшее метро=Купаловская (Октябрьская)</th>\n",
       "      <th>Ближайшее метро=Малиновка</th>\n",
       "      <th>Ближайшее метро=Михалово</th>\n",
       "      <th>Ближайшее метро=Могилевская</th>\n",
       "      <th>Ближайшее метро=Молодежная</th>\n",
       "      <th>Ближайшее метро=Московская</th>\n",
       "      <th>Ближайшее метро=Парк Челюскинцев</th>\n",
       "      <th>Ближайшее метро=Партизанская</th>\n",
       "      <th>Ближайшее метро=Первомайская</th>\n",
       "      <th>Ближайшее метро=Петровщина</th>\n",
       "      <th>Ближайшее метро=Победы пл.</th>\n",
       "      <th>Ближайшее метро=Пролетарская</th>\n",
       "      <th>Ближайшее метро=Пушкинская</th>\n",
       "      <th>Ближайшее метро=Спортивная</th>\n",
       "      <th>Ближайшее метро=Тракторный завод</th>\n",
       "      <th>Ближайшее метро=Уручье</th>\n",
       "      <th>Ближайшее метро=Фрунзенская</th>\n",
       "      <th>Ближайшее метро=Якуба Коласа пл.</th>\n",
       "      <th>Ближайшее метро=нету</th>\n",
       "      <th>Материал стен=блок-комнаты</th>\n",
       "      <th>Материал стен=каркасно-блочный</th>\n",
       "      <th>Материал стен=кирпичный</th>\n",
       "      <th>Материал стен=монолитный</th>\n",
       "      <th>Материал стен=панельный</th>\n",
       "      <th>Материал стен=силикатно-блочный</th>\n",
       "      <th>Полы=ДСП</th>\n",
       "      <th>Полы=Не указано</th>\n",
       "      <th>Полы=деревянные</th>\n",
       "      <th>Полы=ковровое покрытие</th>\n",
       "      <th>Полы=ламинированые</th>\n",
       "      <th>Полы=линолеум</th>\n",
       "      <th>Полы=паркет</th>\n",
       "      <th>Район=Заводской район</th>\n",
       "      <th>Район=Ленинский район</th>\n",
       "      <th>Район=Московский район</th>\n",
       "      <th>Район=Октябрьский район</th>\n",
       "      <th>Район=Партизанский район</th>\n",
       "      <th>Район=Первомайский район</th>\n",
       "      <th>Район=Советский район</th>\n",
       "      <th>Район=Фрунзенский район</th>\n",
       "      <th>Район=Центральный район</th>\n",
       "      <th>Микрорайон=Ангарская</th>\n",
       "      <th>Микрорайон=Аэродромная, Могилевская, Воронянского</th>\n",
       "      <th>Микрорайон=Багратиона, Менделеева, Уральская</th>\n",
       "      <th>Микрорайон=Богдановича, Куйбышева, Веры Хоружей</th>\n",
       "      <th>Микрорайон=Ботаническая, Академическая</th>\n",
       "      <th>Микрорайон=Ванеева, Партизанский</th>\n",
       "      <th>Микрорайон=Веснянка</th>\n",
       "      <th>Микрорайон=Военный городок</th>\n",
       "      <th>Микрорайон=Восток</th>\n",
       "      <th>Микрорайон=Гикало, Золотая Горка</th>\n",
       "      <th>Микрорайон=Дзержинского, Хмелевского, Щорса</th>\n",
       "      <th>Микрорайон=Домбровка</th>\n",
       "      <th>Микрорайон=Дружба, Брилевичи</th>\n",
       "      <th>Микрорайон=Запад, Красный Бор</th>\n",
       "      <th>Микрорайон=Захарова, Пулихова</th>\n",
       "      <th>Микрорайон=Зеленый луг</th>\n",
       "      <th>Микрорайон=Казинца, Ландера</th>\n",
       "      <th>Микрорайон=Каменная горка</th>\n",
       "      <th>Микрорайон=Кижеватова, Асаналиева</th>\n",
       "      <th>Микрорайон=Кунцевщина</th>\n",
       "      <th>Микрорайон=Лебяжий</th>\n",
       "      <th>Микрорайон=Лошица</th>\n",
       "      <th>Микрорайон=Малиновка</th>\n",
       "      <th>Микрорайон=Маркса, Кирова</th>\n",
       "      <th>Микрорайон=Масюковщина</th>\n",
       "      <th>Микрорайон=Машерова, Оперный театр, Коммунистическая</th>\n",
       "      <th>Микрорайон=Маяковского</th>\n",
       "      <th>Микрорайон=Михалово</th>\n",
       "      <th>Микрорайон=Не указан</th>\n",
       "      <th>Микрорайон=Независимости, Кедышко, Волгоградская</th>\n",
       "      <th>Микрорайон=Немига, Короля</th>\n",
       "      <th>Микрорайон=Партизанский, Васнецова, Народная</th>\n",
       "      <th>Микрорайон=Победителей, Заславская</th>\n",
       "      <th>Микрорайон=Пушкина, Глебки, Притыцкого, Ольшевского, Кальварийская</th>\n",
       "      <th>Микрорайон=Пушкина, Харьковская, Берута, Гусовского</th>\n",
       "      <th>Микрорайон=Пушкина, Я.Мавра, Бельского</th>\n",
       "      <th>Микрорайон=Р.Люксембург, К.Либкнехта</th>\n",
       "      <th>Микрорайон=Район ДК \"МАЗ\"</th>\n",
       "      <th>Микрорайон=Седых, Тикоцкого</th>\n",
       "      <th>Микрорайон=Сельхоз посёлок</th>\n",
       "      <th>Микрорайон=Серебрянка</th>\n",
       "      <th>Микрорайон=Степянка</th>\n",
       "      <th>Микрорайон=Сухарево</th>\n",
       "      <th>Микрорайон=Тракторный Завод</th>\n",
       "      <th>Микрорайон=Уманская, Железнодорожная, Грушевская</th>\n",
       "      <th>Микрорайон=Уручье</th>\n",
       "      <th>Микрорайон=Червякова, Шевченко</th>\n",
       "      <th>Микрорайон=Чижовка</th>\n",
       "      <th>Микрорайон=Шабаны</th>\n",
       "      <th>Микрорайон=Юго-Запад</th>\n",
       "      <th>Микрорайон=Я.Коласа, у-м \"Рига\", Некрасова, Восточная</th>\n",
       "      <th>Санузел=раздельный</th>\n",
       "      <th>Санузел=совмещенный</th>\n",
       "      <th>Тип дома=брежневка</th>\n",
       "      <th>Тип дома=не указан</th>\n",
       "      <th>Тип дома=новостройка</th>\n",
       "      <th>Тип дома=сталинка</th>\n",
       "      <th>Тип дома=стандартные</th>\n",
       "      <th>Тип дома=улучшеный проект</th>\n",
       "      <th>Тип дома=хрущевка</th>\n",
       "      <th>Тип дома=чешский проект</th>\n",
       "      <th>Условия продажи=не указан</th>\n",
       "      <th>Условия продажи=обмен</th>\n",
       "      <th>Условия продажи=подбираются варианты</th>\n",
       "      <th>Условия продажи=чистая продажа</th>\n",
       "    </tr>\n",
       "    <tr>\n",
       "      <th>Код объекта</th>\n",
       "      <th></th>\n",
       "      <th></th>\n",
       "      <th></th>\n",
       "      <th></th>\n",
       "      <th></th>\n",
       "      <th></th>\n",
       "      <th></th>\n",
       "      <th></th>\n",
       "      <th></th>\n",
       "      <th></th>\n",
       "      <th></th>\n",
       "      <th></th>\n",
       "      <th></th>\n",
       "      <th></th>\n",
       "      <th></th>\n",
       "      <th></th>\n",
       "      <th></th>\n",
       "      <th></th>\n",
       "      <th></th>\n",
       "      <th></th>\n",
       "      <th></th>\n",
       "      <th></th>\n",
       "      <th></th>\n",
       "      <th></th>\n",
       "      <th></th>\n",
       "      <th></th>\n",
       "      <th></th>\n",
       "      <th></th>\n",
       "      <th></th>\n",
       "      <th></th>\n",
       "      <th></th>\n",
       "      <th></th>\n",
       "      <th></th>\n",
       "      <th></th>\n",
       "      <th></th>\n",
       "      <th></th>\n",
       "      <th></th>\n",
       "      <th></th>\n",
       "      <th></th>\n",
       "      <th></th>\n",
       "      <th></th>\n",
       "      <th></th>\n",
       "      <th></th>\n",
       "      <th></th>\n",
       "      <th></th>\n",
       "      <th></th>\n",
       "      <th></th>\n",
       "      <th></th>\n",
       "      <th></th>\n",
       "      <th></th>\n",
       "      <th></th>\n",
       "      <th></th>\n",
       "      <th></th>\n",
       "      <th></th>\n",
       "      <th></th>\n",
       "      <th></th>\n",
       "      <th></th>\n",
       "      <th></th>\n",
       "      <th></th>\n",
       "      <th></th>\n",
       "      <th></th>\n",
       "      <th></th>\n",
       "      <th></th>\n",
       "      <th></th>\n",
       "      <th></th>\n",
       "      <th></th>\n",
       "      <th></th>\n",
       "      <th></th>\n",
       "      <th></th>\n",
       "      <th></th>\n",
       "      <th></th>\n",
       "      <th></th>\n",
       "      <th></th>\n",
       "      <th></th>\n",
       "      <th></th>\n",
       "      <th></th>\n",
       "      <th></th>\n",
       "      <th></th>\n",
       "      <th></th>\n",
       "      <th></th>\n",
       "      <th></th>\n",
       "      <th></th>\n",
       "      <th></th>\n",
       "      <th></th>\n",
       "      <th></th>\n",
       "      <th></th>\n",
       "      <th></th>\n",
       "      <th></th>\n",
       "      <th></th>\n",
       "      <th></th>\n",
       "      <th></th>\n",
       "      <th></th>\n",
       "      <th></th>\n",
       "      <th></th>\n",
       "      <th></th>\n",
       "      <th></th>\n",
       "      <th></th>\n",
       "      <th></th>\n",
       "      <th></th>\n",
       "      <th></th>\n",
       "      <th></th>\n",
       "      <th></th>\n",
       "      <th></th>\n",
       "      <th></th>\n",
       "      <th></th>\n",
       "      <th></th>\n",
       "      <th></th>\n",
       "      <th></th>\n",
       "      <th></th>\n",
       "      <th></th>\n",
       "      <th></th>\n",
       "      <th></th>\n",
       "      <th></th>\n",
       "      <th></th>\n",
       "      <th></th>\n",
       "      <th></th>\n",
       "      <th></th>\n",
       "      <th></th>\n",
       "      <th></th>\n",
       "      <th></th>\n",
       "      <th></th>\n",
       "      <th></th>\n",
       "      <th></th>\n",
       "      <th></th>\n",
       "      <th></th>\n",
       "      <th></th>\n",
       "      <th></th>\n",
       "      <th></th>\n",
       "      <th></th>\n",
       "      <th></th>\n",
       "      <th></th>\n",
       "    </tr>\n",
       "  </thead>\n",
       "  <tbody>\n",
       "    <tr>\n",
       "      <th>842900</th>\n",
       "      <td>1</td>\n",
       "      <td>58</td>\n",
       "      <td>58</td>\n",
       "      <td>False</td>\n",
       "      <td>34.58</td>\n",
       "      <td>17.04</td>\n",
       "      <td>7.59</td>\n",
       "      <td>2</td>\n",
       "      <td>9</td>\n",
       "      <td>0</td>\n",
       "      <td>0</td>\n",
       "      <td>0</td>\n",
       "      <td>0.0</td>\n",
       "      <td>0.0</td>\n",
       "      <td>0.0</td>\n",
       "      <td>0.0</td>\n",
       "      <td>1.0</td>\n",
       "      <td>0.0</td>\n",
       "      <td>0.0</td>\n",
       "      <td>0.0</td>\n",
       "      <td>0.0</td>\n",
       "      <td>0.0</td>\n",
       "      <td>0.0</td>\n",
       "      <td>0.0</td>\n",
       "      <td>0.0</td>\n",
       "      <td>0.0</td>\n",
       "      <td>0.0</td>\n",
       "      <td>0.0</td>\n",
       "      <td>0.0</td>\n",
       "      <td>0.0</td>\n",
       "      <td>0.0</td>\n",
       "      <td>0.0</td>\n",
       "      <td>0.0</td>\n",
       "      <td>0.0</td>\n",
       "      <td>0.0</td>\n",
       "      <td>0.0</td>\n",
       "      <td>0.0</td>\n",
       "      <td>0.0</td>\n",
       "      <td>1.0</td>\n",
       "      <td>0.0</td>\n",
       "      <td>0.0</td>\n",
       "      <td>0.0</td>\n",
       "      <td>0.0</td>\n",
       "      <td>0.0</td>\n",
       "      <td>0.0</td>\n",
       "      <td>0.0</td>\n",
       "      <td>0.0</td>\n",
       "      <td>0.0</td>\n",
       "      <td>1.0</td>\n",
       "      <td>0.0</td>\n",
       "      <td>0.0</td>\n",
       "      <td>0.0</td>\n",
       "      <td>0.0</td>\n",
       "      <td>0.0</td>\n",
       "      <td>0.0</td>\n",
       "      <td>1.0</td>\n",
       "      <td>0.0</td>\n",
       "      <td>0.0</td>\n",
       "      <td>0.0</td>\n",
       "      <td>0.0</td>\n",
       "      <td>0.0</td>\n",
       "      <td>0.0</td>\n",
       "      <td>0.0</td>\n",
       "      <td>0.0</td>\n",
       "      <td>1.0</td>\n",
       "      <td>0.0</td>\n",
       "      <td>0.0</td>\n",
       "      <td>0.0</td>\n",
       "      <td>0.0</td>\n",
       "      <td>0.0</td>\n",
       "      <td>0.0</td>\n",
       "      <td>0.0</td>\n",
       "      <td>0.0</td>\n",
       "      <td>0.0</td>\n",
       "      <td>0.0</td>\n",
       "      <td>0.0</td>\n",
       "      <td>0.0</td>\n",
       "      <td>0.0</td>\n",
       "      <td>0.0</td>\n",
       "      <td>0.0</td>\n",
       "      <td>0.0</td>\n",
       "      <td>0.0</td>\n",
       "      <td>0.0</td>\n",
       "      <td>0.0</td>\n",
       "      <td>0.0</td>\n",
       "      <td>0.0</td>\n",
       "      <td>0.0</td>\n",
       "      <td>0.0</td>\n",
       "      <td>0.0</td>\n",
       "      <td>0.0</td>\n",
       "      <td>0.0</td>\n",
       "      <td>0.0</td>\n",
       "      <td>0.0</td>\n",
       "      <td>0.0</td>\n",
       "      <td>0.0</td>\n",
       "      <td>0.0</td>\n",
       "      <td>0.0</td>\n",
       "      <td>0.0</td>\n",
       "      <td>0.0</td>\n",
       "      <td>1.0</td>\n",
       "      <td>0.0</td>\n",
       "      <td>0.0</td>\n",
       "      <td>0.0</td>\n",
       "      <td>0.0</td>\n",
       "      <td>0.0</td>\n",
       "      <td>0.0</td>\n",
       "      <td>0.0</td>\n",
       "      <td>0.0</td>\n",
       "      <td>0.0</td>\n",
       "      <td>0.0</td>\n",
       "      <td>0.0</td>\n",
       "      <td>0.0</td>\n",
       "      <td>0.0</td>\n",
       "      <td>0.0</td>\n",
       "      <td>0.0</td>\n",
       "      <td>0.0</td>\n",
       "      <td>0.0</td>\n",
       "      <td>1.0</td>\n",
       "      <td>0.0</td>\n",
       "      <td>0.0</td>\n",
       "      <td>0.0</td>\n",
       "      <td>0.0</td>\n",
       "      <td>0.0</td>\n",
       "      <td>1.0</td>\n",
       "      <td>0.0</td>\n",
       "      <td>0.0</td>\n",
       "      <td>0.0</td>\n",
       "      <td>0.0</td>\n",
       "      <td>0.0</td>\n",
       "      <td>0.0</td>\n",
       "      <td>1.0</td>\n",
       "    </tr>\n",
       "    <tr>\n",
       "      <th>840726</th>\n",
       "      <td>1</td>\n",
       "      <td>48</td>\n",
       "      <td>11</td>\n",
       "      <td>True</td>\n",
       "      <td>33.20</td>\n",
       "      <td>16.20</td>\n",
       "      <td>6.60</td>\n",
       "      <td>3</td>\n",
       "      <td>9</td>\n",
       "      <td>0</td>\n",
       "      <td>0</td>\n",
       "      <td>0</td>\n",
       "      <td>0.0</td>\n",
       "      <td>0.0</td>\n",
       "      <td>0.0</td>\n",
       "      <td>0.0</td>\n",
       "      <td>1.0</td>\n",
       "      <td>0.0</td>\n",
       "      <td>0.0</td>\n",
       "      <td>0.0</td>\n",
       "      <td>0.0</td>\n",
       "      <td>0.0</td>\n",
       "      <td>0.0</td>\n",
       "      <td>0.0</td>\n",
       "      <td>0.0</td>\n",
       "      <td>0.0</td>\n",
       "      <td>0.0</td>\n",
       "      <td>0.0</td>\n",
       "      <td>0.0</td>\n",
       "      <td>0.0</td>\n",
       "      <td>0.0</td>\n",
       "      <td>0.0</td>\n",
       "      <td>0.0</td>\n",
       "      <td>0.0</td>\n",
       "      <td>0.0</td>\n",
       "      <td>0.0</td>\n",
       "      <td>0.0</td>\n",
       "      <td>0.0</td>\n",
       "      <td>0.0</td>\n",
       "      <td>0.0</td>\n",
       "      <td>0.0</td>\n",
       "      <td>0.0</td>\n",
       "      <td>0.0</td>\n",
       "      <td>1.0</td>\n",
       "      <td>0.0</td>\n",
       "      <td>0.0</td>\n",
       "      <td>1.0</td>\n",
       "      <td>0.0</td>\n",
       "      <td>0.0</td>\n",
       "      <td>0.0</td>\n",
       "      <td>0.0</td>\n",
       "      <td>0.0</td>\n",
       "      <td>0.0</td>\n",
       "      <td>0.0</td>\n",
       "      <td>0.0</td>\n",
       "      <td>1.0</td>\n",
       "      <td>0.0</td>\n",
       "      <td>1.0</td>\n",
       "      <td>0.0</td>\n",
       "      <td>0.0</td>\n",
       "      <td>0.0</td>\n",
       "      <td>0.0</td>\n",
       "      <td>0.0</td>\n",
       "      <td>0.0</td>\n",
       "      <td>0.0</td>\n",
       "      <td>0.0</td>\n",
       "      <td>0.0</td>\n",
       "      <td>0.0</td>\n",
       "      <td>0.0</td>\n",
       "      <td>0.0</td>\n",
       "      <td>0.0</td>\n",
       "      <td>0.0</td>\n",
       "      <td>0.0</td>\n",
       "      <td>0.0</td>\n",
       "      <td>0.0</td>\n",
       "      <td>0.0</td>\n",
       "      <td>0.0</td>\n",
       "      <td>0.0</td>\n",
       "      <td>0.0</td>\n",
       "      <td>0.0</td>\n",
       "      <td>0.0</td>\n",
       "      <td>0.0</td>\n",
       "      <td>0.0</td>\n",
       "      <td>0.0</td>\n",
       "      <td>0.0</td>\n",
       "      <td>0.0</td>\n",
       "      <td>0.0</td>\n",
       "      <td>0.0</td>\n",
       "      <td>0.0</td>\n",
       "      <td>0.0</td>\n",
       "      <td>0.0</td>\n",
       "      <td>0.0</td>\n",
       "      <td>0.0</td>\n",
       "      <td>0.0</td>\n",
       "      <td>1.0</td>\n",
       "      <td>0.0</td>\n",
       "      <td>0.0</td>\n",
       "      <td>0.0</td>\n",
       "      <td>0.0</td>\n",
       "      <td>0.0</td>\n",
       "      <td>0.0</td>\n",
       "      <td>0.0</td>\n",
       "      <td>0.0</td>\n",
       "      <td>0.0</td>\n",
       "      <td>0.0</td>\n",
       "      <td>0.0</td>\n",
       "      <td>0.0</td>\n",
       "      <td>0.0</td>\n",
       "      <td>0.0</td>\n",
       "      <td>0.0</td>\n",
       "      <td>0.0</td>\n",
       "      <td>0.0</td>\n",
       "      <td>0.0</td>\n",
       "      <td>0.0</td>\n",
       "      <td>0.0</td>\n",
       "      <td>0.0</td>\n",
       "      <td>0.0</td>\n",
       "      <td>1.0</td>\n",
       "      <td>0.0</td>\n",
       "      <td>1.0</td>\n",
       "      <td>0.0</td>\n",
       "      <td>0.0</td>\n",
       "      <td>0.0</td>\n",
       "      <td>0.0</td>\n",
       "      <td>0.0</td>\n",
       "      <td>0.0</td>\n",
       "      <td>0.0</td>\n",
       "      <td>0.0</td>\n",
       "      <td>0.0</td>\n",
       "      <td>1.0</td>\n",
       "      <td>0.0</td>\n",
       "    </tr>\n",
       "    <tr>\n",
       "      <th>840049</th>\n",
       "      <td>1</td>\n",
       "      <td>33</td>\n",
       "      <td>33</td>\n",
       "      <td>False</td>\n",
       "      <td>30.70</td>\n",
       "      <td>16.00</td>\n",
       "      <td>6.70</td>\n",
       "      <td>2</td>\n",
       "      <td>9</td>\n",
       "      <td>0</td>\n",
       "      <td>0</td>\n",
       "      <td>1</td>\n",
       "      <td>0.0</td>\n",
       "      <td>0.0</td>\n",
       "      <td>0.0</td>\n",
       "      <td>1.0</td>\n",
       "      <td>0.0</td>\n",
       "      <td>0.0</td>\n",
       "      <td>0.0</td>\n",
       "      <td>0.0</td>\n",
       "      <td>0.0</td>\n",
       "      <td>0.0</td>\n",
       "      <td>0.0</td>\n",
       "      <td>0.0</td>\n",
       "      <td>0.0</td>\n",
       "      <td>0.0</td>\n",
       "      <td>0.0</td>\n",
       "      <td>0.0</td>\n",
       "      <td>0.0</td>\n",
       "      <td>0.0</td>\n",
       "      <td>0.0</td>\n",
       "      <td>0.0</td>\n",
       "      <td>0.0</td>\n",
       "      <td>0.0</td>\n",
       "      <td>0.0</td>\n",
       "      <td>0.0</td>\n",
       "      <td>0.0</td>\n",
       "      <td>0.0</td>\n",
       "      <td>0.0</td>\n",
       "      <td>0.0</td>\n",
       "      <td>0.0</td>\n",
       "      <td>0.0</td>\n",
       "      <td>0.0</td>\n",
       "      <td>1.0</td>\n",
       "      <td>0.0</td>\n",
       "      <td>0.0</td>\n",
       "      <td>1.0</td>\n",
       "      <td>0.0</td>\n",
       "      <td>0.0</td>\n",
       "      <td>0.0</td>\n",
       "      <td>0.0</td>\n",
       "      <td>0.0</td>\n",
       "      <td>0.0</td>\n",
       "      <td>0.0</td>\n",
       "      <td>0.0</td>\n",
       "      <td>0.0</td>\n",
       "      <td>1.0</td>\n",
       "      <td>0.0</td>\n",
       "      <td>0.0</td>\n",
       "      <td>0.0</td>\n",
       "      <td>1.0</td>\n",
       "      <td>0.0</td>\n",
       "      <td>0.0</td>\n",
       "      <td>0.0</td>\n",
       "      <td>0.0</td>\n",
       "      <td>0.0</td>\n",
       "      <td>0.0</td>\n",
       "      <td>0.0</td>\n",
       "      <td>0.0</td>\n",
       "      <td>0.0</td>\n",
       "      <td>0.0</td>\n",
       "      <td>0.0</td>\n",
       "      <td>0.0</td>\n",
       "      <td>0.0</td>\n",
       "      <td>0.0</td>\n",
       "      <td>0.0</td>\n",
       "      <td>0.0</td>\n",
       "      <td>0.0</td>\n",
       "      <td>0.0</td>\n",
       "      <td>0.0</td>\n",
       "      <td>0.0</td>\n",
       "      <td>0.0</td>\n",
       "      <td>1.0</td>\n",
       "      <td>0.0</td>\n",
       "      <td>0.0</td>\n",
       "      <td>0.0</td>\n",
       "      <td>0.0</td>\n",
       "      <td>0.0</td>\n",
       "      <td>0.0</td>\n",
       "      <td>0.0</td>\n",
       "      <td>0.0</td>\n",
       "      <td>0.0</td>\n",
       "      <td>0.0</td>\n",
       "      <td>0.0</td>\n",
       "      <td>0.0</td>\n",
       "      <td>0.0</td>\n",
       "      <td>0.0</td>\n",
       "      <td>0.0</td>\n",
       "      <td>0.0</td>\n",
       "      <td>0.0</td>\n",
       "      <td>0.0</td>\n",
       "      <td>0.0</td>\n",
       "      <td>0.0</td>\n",
       "      <td>0.0</td>\n",
       "      <td>0.0</td>\n",
       "      <td>0.0</td>\n",
       "      <td>0.0</td>\n",
       "      <td>0.0</td>\n",
       "      <td>0.0</td>\n",
       "      <td>0.0</td>\n",
       "      <td>0.0</td>\n",
       "      <td>0.0</td>\n",
       "      <td>0.0</td>\n",
       "      <td>0.0</td>\n",
       "      <td>0.0</td>\n",
       "      <td>0.0</td>\n",
       "      <td>0.0</td>\n",
       "      <td>1.0</td>\n",
       "      <td>0.0</td>\n",
       "      <td>0.0</td>\n",
       "      <td>0.0</td>\n",
       "      <td>0.0</td>\n",
       "      <td>0.0</td>\n",
       "      <td>1.0</td>\n",
       "      <td>0.0</td>\n",
       "      <td>0.0</td>\n",
       "      <td>0.0</td>\n",
       "      <td>0.0</td>\n",
       "      <td>0.0</td>\n",
       "      <td>0.0</td>\n",
       "      <td>1.0</td>\n",
       "    </tr>\n",
       "    <tr>\n",
       "      <th>842497</th>\n",
       "      <td>1</td>\n",
       "      <td>44</td>\n",
       "      <td>44</td>\n",
       "      <td>False</td>\n",
       "      <td>34.59</td>\n",
       "      <td>18.04</td>\n",
       "      <td>7.48</td>\n",
       "      <td>7</td>\n",
       "      <td>9</td>\n",
       "      <td>0</td>\n",
       "      <td>0</td>\n",
       "      <td>0</td>\n",
       "      <td>0.0</td>\n",
       "      <td>0.0</td>\n",
       "      <td>0.0</td>\n",
       "      <td>1.0</td>\n",
       "      <td>0.0</td>\n",
       "      <td>0.0</td>\n",
       "      <td>0.0</td>\n",
       "      <td>1.0</td>\n",
       "      <td>0.0</td>\n",
       "      <td>0.0</td>\n",
       "      <td>0.0</td>\n",
       "      <td>0.0</td>\n",
       "      <td>0.0</td>\n",
       "      <td>0.0</td>\n",
       "      <td>0.0</td>\n",
       "      <td>0.0</td>\n",
       "      <td>0.0</td>\n",
       "      <td>0.0</td>\n",
       "      <td>0.0</td>\n",
       "      <td>0.0</td>\n",
       "      <td>0.0</td>\n",
       "      <td>0.0</td>\n",
       "      <td>0.0</td>\n",
       "      <td>0.0</td>\n",
       "      <td>0.0</td>\n",
       "      <td>0.0</td>\n",
       "      <td>0.0</td>\n",
       "      <td>0.0</td>\n",
       "      <td>0.0</td>\n",
       "      <td>0.0</td>\n",
       "      <td>0.0</td>\n",
       "      <td>0.0</td>\n",
       "      <td>1.0</td>\n",
       "      <td>0.0</td>\n",
       "      <td>0.0</td>\n",
       "      <td>0.0</td>\n",
       "      <td>0.0</td>\n",
       "      <td>0.0</td>\n",
       "      <td>0.0</td>\n",
       "      <td>0.0</td>\n",
       "      <td>0.0</td>\n",
       "      <td>0.0</td>\n",
       "      <td>0.0</td>\n",
       "      <td>1.0</td>\n",
       "      <td>0.0</td>\n",
       "      <td>0.0</td>\n",
       "      <td>0.0</td>\n",
       "      <td>0.0</td>\n",
       "      <td>0.0</td>\n",
       "      <td>1.0</td>\n",
       "      <td>0.0</td>\n",
       "      <td>0.0</td>\n",
       "      <td>0.0</td>\n",
       "      <td>0.0</td>\n",
       "      <td>0.0</td>\n",
       "      <td>0.0</td>\n",
       "      <td>0.0</td>\n",
       "      <td>0.0</td>\n",
       "      <td>0.0</td>\n",
       "      <td>0.0</td>\n",
       "      <td>0.0</td>\n",
       "      <td>0.0</td>\n",
       "      <td>0.0</td>\n",
       "      <td>0.0</td>\n",
       "      <td>0.0</td>\n",
       "      <td>0.0</td>\n",
       "      <td>0.0</td>\n",
       "      <td>0.0</td>\n",
       "      <td>0.0</td>\n",
       "      <td>0.0</td>\n",
       "      <td>0.0</td>\n",
       "      <td>0.0</td>\n",
       "      <td>0.0</td>\n",
       "      <td>0.0</td>\n",
       "      <td>0.0</td>\n",
       "      <td>0.0</td>\n",
       "      <td>0.0</td>\n",
       "      <td>0.0</td>\n",
       "      <td>0.0</td>\n",
       "      <td>0.0</td>\n",
       "      <td>0.0</td>\n",
       "      <td>0.0</td>\n",
       "      <td>1.0</td>\n",
       "      <td>0.0</td>\n",
       "      <td>0.0</td>\n",
       "      <td>0.0</td>\n",
       "      <td>0.0</td>\n",
       "      <td>0.0</td>\n",
       "      <td>0.0</td>\n",
       "      <td>0.0</td>\n",
       "      <td>0.0</td>\n",
       "      <td>0.0</td>\n",
       "      <td>0.0</td>\n",
       "      <td>0.0</td>\n",
       "      <td>0.0</td>\n",
       "      <td>0.0</td>\n",
       "      <td>0.0</td>\n",
       "      <td>0.0</td>\n",
       "      <td>0.0</td>\n",
       "      <td>0.0</td>\n",
       "      <td>0.0</td>\n",
       "      <td>0.0</td>\n",
       "      <td>0.0</td>\n",
       "      <td>0.0</td>\n",
       "      <td>0.0</td>\n",
       "      <td>1.0</td>\n",
       "      <td>0.0</td>\n",
       "      <td>0.0</td>\n",
       "      <td>1.0</td>\n",
       "      <td>0.0</td>\n",
       "      <td>0.0</td>\n",
       "      <td>0.0</td>\n",
       "      <td>0.0</td>\n",
       "      <td>0.0</td>\n",
       "      <td>0.0</td>\n",
       "      <td>1.0</td>\n",
       "      <td>0.0</td>\n",
       "      <td>0.0</td>\n",
       "      <td>0.0</td>\n",
       "    </tr>\n",
       "    <tr>\n",
       "      <th>833377</th>\n",
       "      <td>1</td>\n",
       "      <td>46</td>\n",
       "      <td>46</td>\n",
       "      <td>False</td>\n",
       "      <td>33.05</td>\n",
       "      <td>17.03</td>\n",
       "      <td>7.24</td>\n",
       "      <td>9</td>\n",
       "      <td>9</td>\n",
       "      <td>0</td>\n",
       "      <td>1</td>\n",
       "      <td>0</td>\n",
       "      <td>0.0</td>\n",
       "      <td>0.0</td>\n",
       "      <td>0.0</td>\n",
       "      <td>1.0</td>\n",
       "      <td>0.0</td>\n",
       "      <td>0.0</td>\n",
       "      <td>0.0</td>\n",
       "      <td>0.0</td>\n",
       "      <td>0.0</td>\n",
       "      <td>0.0</td>\n",
       "      <td>0.0</td>\n",
       "      <td>0.0</td>\n",
       "      <td>0.0</td>\n",
       "      <td>0.0</td>\n",
       "      <td>0.0</td>\n",
       "      <td>0.0</td>\n",
       "      <td>0.0</td>\n",
       "      <td>0.0</td>\n",
       "      <td>0.0</td>\n",
       "      <td>0.0</td>\n",
       "      <td>0.0</td>\n",
       "      <td>0.0</td>\n",
       "      <td>0.0</td>\n",
       "      <td>0.0</td>\n",
       "      <td>0.0</td>\n",
       "      <td>0.0</td>\n",
       "      <td>0.0</td>\n",
       "      <td>0.0</td>\n",
       "      <td>0.0</td>\n",
       "      <td>0.0</td>\n",
       "      <td>0.0</td>\n",
       "      <td>1.0</td>\n",
       "      <td>0.0</td>\n",
       "      <td>0.0</td>\n",
       "      <td>0.0</td>\n",
       "      <td>0.0</td>\n",
       "      <td>1.0</td>\n",
       "      <td>0.0</td>\n",
       "      <td>0.0</td>\n",
       "      <td>0.0</td>\n",
       "      <td>0.0</td>\n",
       "      <td>0.0</td>\n",
       "      <td>1.0</td>\n",
       "      <td>0.0</td>\n",
       "      <td>0.0</td>\n",
       "      <td>0.0</td>\n",
       "      <td>1.0</td>\n",
       "      <td>0.0</td>\n",
       "      <td>0.0</td>\n",
       "      <td>0.0</td>\n",
       "      <td>0.0</td>\n",
       "      <td>0.0</td>\n",
       "      <td>0.0</td>\n",
       "      <td>0.0</td>\n",
       "      <td>0.0</td>\n",
       "      <td>0.0</td>\n",
       "      <td>0.0</td>\n",
       "      <td>0.0</td>\n",
       "      <td>0.0</td>\n",
       "      <td>0.0</td>\n",
       "      <td>0.0</td>\n",
       "      <td>0.0</td>\n",
       "      <td>0.0</td>\n",
       "      <td>0.0</td>\n",
       "      <td>0.0</td>\n",
       "      <td>0.0</td>\n",
       "      <td>0.0</td>\n",
       "      <td>0.0</td>\n",
       "      <td>0.0</td>\n",
       "      <td>0.0</td>\n",
       "      <td>0.0</td>\n",
       "      <td>0.0</td>\n",
       "      <td>0.0</td>\n",
       "      <td>0.0</td>\n",
       "      <td>0.0</td>\n",
       "      <td>0.0</td>\n",
       "      <td>0.0</td>\n",
       "      <td>0.0</td>\n",
       "      <td>0.0</td>\n",
       "      <td>0.0</td>\n",
       "      <td>0.0</td>\n",
       "      <td>0.0</td>\n",
       "      <td>0.0</td>\n",
       "      <td>0.0</td>\n",
       "      <td>0.0</td>\n",
       "      <td>0.0</td>\n",
       "      <td>0.0</td>\n",
       "      <td>0.0</td>\n",
       "      <td>0.0</td>\n",
       "      <td>0.0</td>\n",
       "      <td>0.0</td>\n",
       "      <td>0.0</td>\n",
       "      <td>0.0</td>\n",
       "      <td>0.0</td>\n",
       "      <td>1.0</td>\n",
       "      <td>0.0</td>\n",
       "      <td>0.0</td>\n",
       "      <td>0.0</td>\n",
       "      <td>0.0</td>\n",
       "      <td>0.0</td>\n",
       "      <td>0.0</td>\n",
       "      <td>0.0</td>\n",
       "      <td>0.0</td>\n",
       "      <td>0.0</td>\n",
       "      <td>0.0</td>\n",
       "      <td>1.0</td>\n",
       "      <td>0.0</td>\n",
       "      <td>0.0</td>\n",
       "      <td>0.0</td>\n",
       "      <td>0.0</td>\n",
       "      <td>0.0</td>\n",
       "      <td>1.0</td>\n",
       "      <td>0.0</td>\n",
       "      <td>0.0</td>\n",
       "      <td>0.0</td>\n",
       "      <td>0.0</td>\n",
       "      <td>0.0</td>\n",
       "      <td>0.0</td>\n",
       "      <td>1.0</td>\n",
       "    </tr>\n",
       "  </tbody>\n",
       "</table>\n",
       "</div>"
      ],
      "text/plain": [
       "             Комнаты  Лет дому  Лет с момента ремонта Был капремонт  \\\n",
       "Код объекта                                                           \n",
       "842900             1        58                     58         False   \n",
       "840726             1        48                     11          True   \n",
       "840049             1        33                     33         False   \n",
       "842497             1        44                     44         False   \n",
       "833377             1        46                     46         False   \n",
       "\n",
       "             Общая площадь  Жилая площадь  Площадь кухни  Этаж  Этажность  \\\n",
       "Код объекта                                                                 \n",
       "842900               34.58          17.04           7.59     2          9   \n",
       "840726               33.20          16.20           6.60     3          9   \n",
       "840049               30.70          16.00           6.70     2          9   \n",
       "842497               34.59          18.04           7.48     7          9   \n",
       "833377               33.05          17.03           7.24     9          9   \n",
       "\n",
       "             Первый этаж  Последний этаж  Телефон_le  Балкон=2 балкона  \\\n",
       "Код объекта                                                              \n",
       "842900                 0               0           0               0.0   \n",
       "840726                 0               0           0               0.0   \n",
       "840049                 0               0           1               0.0   \n",
       "842497                 0               0           0               0.0   \n",
       "833377                 0               1           0               0.0   \n",
       "\n",
       "             Балкон=2 лоджии  Балкон=3 лоджии  Балкон=балкон  Балкон=лоджия  \\\n",
       "Код объекта                                                                   \n",
       "842900                   0.0              0.0            0.0            1.0   \n",
       "840726                   0.0              0.0            0.0            1.0   \n",
       "840049                   0.0              0.0            1.0            0.0   \n",
       "842497                   0.0              0.0            1.0            0.0   \n",
       "833377                   0.0              0.0            1.0            0.0   \n",
       "\n",
       "             Балкон=нету  Ближайшее метро=Автозаводская  \\\n",
       "Код объекта                                               \n",
       "842900               0.0                            0.0   \n",
       "840726               0.0                            0.0   \n",
       "840049               0.0                            0.0   \n",
       "842497               0.0                            0.0   \n",
       "833377               0.0                            0.0   \n",
       "\n",
       "             Ближайшее метро=Академия наук  Ближайшее метро=Восток  \\\n",
       "Код объекта                                                          \n",
       "842900                                 0.0                     0.0   \n",
       "840726                                 0.0                     0.0   \n",
       "840049                                 0.0                     0.0   \n",
       "842497                                 1.0                     0.0   \n",
       "833377                                 0.0                     0.0   \n",
       "\n",
       "             Ближайшее метро=Грушевка  Ближайшее метро=Институт культуры  \\\n",
       "Код объекта                                                                \n",
       "842900                            0.0                                0.0   \n",
       "840726                            0.0                                0.0   \n",
       "840049                            0.0                                0.0   \n",
       "842497                            0.0                                0.0   \n",
       "833377                            0.0                                0.0   \n",
       "\n",
       "             Ближайшее метро=Каменная горка  Ближайшее метро=Кунцевщина  \\\n",
       "Код объекта                                                               \n",
       "842900                                  0.0                         0.0   \n",
       "840726                                  0.0                         0.0   \n",
       "840049                                  0.0                         0.0   \n",
       "842497                                  0.0                         0.0   \n",
       "833377                                  0.0                         0.0   \n",
       "\n",
       "             Ближайшее метро=Купаловская (Октябрьская)  \\\n",
       "Код объекта                                              \n",
       "842900                                             0.0   \n",
       "840726                                             0.0   \n",
       "840049                                             0.0   \n",
       "842497                                             0.0   \n",
       "833377                                             0.0   \n",
       "\n",
       "             Ближайшее метро=Малиновка  Ближайшее метро=Михалово  \\\n",
       "Код объекта                                                        \n",
       "842900                             0.0                       0.0   \n",
       "840726                             0.0                       0.0   \n",
       "840049                             0.0                       0.0   \n",
       "842497                             0.0                       0.0   \n",
       "833377                             0.0                       0.0   \n",
       "\n",
       "             Ближайшее метро=Могилевская  Ближайшее метро=Молодежная  \\\n",
       "Код объекта                                                            \n",
       "842900                               0.0                         0.0   \n",
       "840726                               0.0                         0.0   \n",
       "840049                               0.0                         0.0   \n",
       "842497                               0.0                         0.0   \n",
       "833377                               0.0                         0.0   \n",
       "\n",
       "             Ближайшее метро=Московская  Ближайшее метро=Парк Челюскинцев  \\\n",
       "Код объекта                                                                 \n",
       "842900                              0.0                               0.0   \n",
       "840726                              0.0                               0.0   \n",
       "840049                              0.0                               0.0   \n",
       "842497                              0.0                               0.0   \n",
       "833377                              0.0                               0.0   \n",
       "\n",
       "             Ближайшее метро=Партизанская  Ближайшее метро=Первомайская  \\\n",
       "Код объекта                                                               \n",
       "842900                                0.0                           0.0   \n",
       "840726                                0.0                           0.0   \n",
       "840049                                0.0                           0.0   \n",
       "842497                                0.0                           0.0   \n",
       "833377                                0.0                           0.0   \n",
       "\n",
       "             Ближайшее метро=Петровщина  Ближайшее метро=Победы пл.  \\\n",
       "Код объекта                                                           \n",
       "842900                              0.0                         0.0   \n",
       "840726                              0.0                         0.0   \n",
       "840049                              0.0                         0.0   \n",
       "842497                              0.0                         0.0   \n",
       "833377                              0.0                         0.0   \n",
       "\n",
       "             Ближайшее метро=Пролетарская  Ближайшее метро=Пушкинская  \\\n",
       "Код объекта                                                             \n",
       "842900                                0.0                         0.0   \n",
       "840726                                0.0                         0.0   \n",
       "840049                                0.0                         0.0   \n",
       "842497                                0.0                         0.0   \n",
       "833377                                0.0                         0.0   \n",
       "\n",
       "             Ближайшее метро=Спортивная  Ближайшее метро=Тракторный завод  \\\n",
       "Код объекта                                                                 \n",
       "842900                              1.0                               0.0   \n",
       "840726                              0.0                               0.0   \n",
       "840049                              0.0                               0.0   \n",
       "842497                              0.0                               0.0   \n",
       "833377                              0.0                               0.0   \n",
       "\n",
       "             Ближайшее метро=Уручье  Ближайшее метро=Фрунзенская  \\\n",
       "Код объекта                                                        \n",
       "842900                          0.0                          0.0   \n",
       "840726                          0.0                          0.0   \n",
       "840049                          0.0                          0.0   \n",
       "842497                          0.0                          0.0   \n",
       "833377                          0.0                          0.0   \n",
       "\n",
       "             Ближайшее метро=Якуба Коласа пл.  Ближайшее метро=нету  \\\n",
       "Код объекта                                                           \n",
       "842900                                    0.0                   0.0   \n",
       "840726                                    0.0                   1.0   \n",
       "840049                                    0.0                   1.0   \n",
       "842497                                    0.0                   0.0   \n",
       "833377                                    0.0                   1.0   \n",
       "\n",
       "             Материал стен=блок-комнаты  Материал стен=каркасно-блочный  \\\n",
       "Код объекта                                                               \n",
       "842900                              0.0                             0.0   \n",
       "840726                              0.0                             0.0   \n",
       "840049                              0.0                             0.0   \n",
       "842497                              1.0                             0.0   \n",
       "833377                              0.0                             0.0   \n",
       "\n",
       "             Материал стен=кирпичный  Материал стен=монолитный  \\\n",
       "Код объекта                                                      \n",
       "842900                           0.0                       0.0   \n",
       "840726                           1.0                       0.0   \n",
       "840049                           1.0                       0.0   \n",
       "842497                           0.0                       0.0   \n",
       "833377                           0.0                       0.0   \n",
       "\n",
       "             Материал стен=панельный  Материал стен=силикатно-блочный  \\\n",
       "Код объекта                                                             \n",
       "842900                           1.0                              0.0   \n",
       "840726                           0.0                              0.0   \n",
       "840049                           0.0                              0.0   \n",
       "842497                           0.0                              0.0   \n",
       "833377                           1.0                              0.0   \n",
       "\n",
       "             Полы=ДСП  Полы=Не указано  Полы=деревянные  \\\n",
       "Код объекта                                               \n",
       "842900            0.0              0.0              0.0   \n",
       "840726            0.0              0.0              0.0   \n",
       "840049            0.0              0.0              0.0   \n",
       "842497            0.0              0.0              0.0   \n",
       "833377            0.0              0.0              0.0   \n",
       "\n",
       "             Полы=ковровое покрытие  Полы=ламинированые  Полы=линолеум  \\\n",
       "Код объекта                                                              \n",
       "842900                          0.0                 0.0            1.0   \n",
       "840726                          0.0                 0.0            1.0   \n",
       "840049                          0.0                 0.0            0.0   \n",
       "842497                          0.0                 0.0            1.0   \n",
       "833377                          0.0                 1.0            0.0   \n",
       "\n",
       "             Полы=паркет  Район=Заводской район  Район=Ленинский район  \\\n",
       "Код объекта                                                              \n",
       "842900               0.0                    0.0                    0.0   \n",
       "840726               0.0                    1.0                    0.0   \n",
       "840049               1.0                    0.0                    0.0   \n",
       "842497               0.0                    0.0                    0.0   \n",
       "833377               0.0                    0.0                    1.0   \n",
       "\n",
       "             Район=Московский район  Район=Октябрьский район  \\\n",
       "Код объекта                                                    \n",
       "842900                          0.0                      0.0   \n",
       "840726                          0.0                      0.0   \n",
       "840049                          0.0                      1.0   \n",
       "842497                          0.0                      0.0   \n",
       "833377                          0.0                      0.0   \n",
       "\n",
       "             Район=Партизанский район  Район=Первомайский район  \\\n",
       "Код объекта                                                       \n",
       "842900                            0.0                       0.0   \n",
       "840726                            0.0                       0.0   \n",
       "840049                            0.0                       0.0   \n",
       "842497                            1.0                       0.0   \n",
       "833377                            0.0                       0.0   \n",
       "\n",
       "             Район=Советский район  Район=Фрунзенский район  \\\n",
       "Код объекта                                                   \n",
       "842900                         0.0                      1.0   \n",
       "840726                         0.0                      0.0   \n",
       "840049                         0.0                      0.0   \n",
       "842497                         0.0                      0.0   \n",
       "833377                         0.0                      0.0   \n",
       "\n",
       "             Район=Центральный район  Микрорайон=Ангарская  \\\n",
       "Код объекта                                                  \n",
       "842900                           0.0                   0.0   \n",
       "840726                           0.0                   0.0   \n",
       "840049                           0.0                   0.0   \n",
       "842497                           0.0                   0.0   \n",
       "833377                           0.0                   0.0   \n",
       "\n",
       "             Микрорайон=Аэродромная, Могилевская, Воронянского  \\\n",
       "Код объекта                                                      \n",
       "842900                                                     0.0   \n",
       "840726                                                     0.0   \n",
       "840049                                                     0.0   \n",
       "842497                                                     0.0   \n",
       "833377                                                     0.0   \n",
       "\n",
       "             Микрорайон=Багратиона, Менделеева, Уральская  \\\n",
       "Код объекта                                                 \n",
       "842900                                                0.0   \n",
       "840726                                                0.0   \n",
       "840049                                                0.0   \n",
       "842497                                                0.0   \n",
       "833377                                                0.0   \n",
       "\n",
       "             Микрорайон=Богдановича, Куйбышева, Веры Хоружей  \\\n",
       "Код объекта                                                    \n",
       "842900                                                   0.0   \n",
       "840726                                                   0.0   \n",
       "840049                                                   0.0   \n",
       "842497                                                   0.0   \n",
       "833377                                                   0.0   \n",
       "\n",
       "             Микрорайон=Ботаническая, Академическая  \\\n",
       "Код объекта                                           \n",
       "842900                                          0.0   \n",
       "840726                                          0.0   \n",
       "840049                                          0.0   \n",
       "842497                                          0.0   \n",
       "833377                                          0.0   \n",
       "\n",
       "             Микрорайон=Ванеева, Партизанский  Микрорайон=Веснянка  \\\n",
       "Код объекта                                                          \n",
       "842900                                    0.0                  0.0   \n",
       "840726                                    0.0                  0.0   \n",
       "840049                                    0.0                  0.0   \n",
       "842497                                    0.0                  0.0   \n",
       "833377                                    0.0                  0.0   \n",
       "\n",
       "             Микрорайон=Военный городок  Микрорайон=Восток  \\\n",
       "Код объекта                                                  \n",
       "842900                              0.0                0.0   \n",
       "840726                              0.0                0.0   \n",
       "840049                              0.0                0.0   \n",
       "842497                              0.0                0.0   \n",
       "833377                              0.0                0.0   \n",
       "\n",
       "             Микрорайон=Гикало, Золотая Горка  \\\n",
       "Код объекта                                     \n",
       "842900                                    0.0   \n",
       "840726                                    0.0   \n",
       "840049                                    0.0   \n",
       "842497                                    0.0   \n",
       "833377                                    0.0   \n",
       "\n",
       "             Микрорайон=Дзержинского, Хмелевского, Щорса  \\\n",
       "Код объекта                                                \n",
       "842900                                               0.0   \n",
       "840726                                               0.0   \n",
       "840049                                               0.0   \n",
       "842497                                               0.0   \n",
       "833377                                               0.0   \n",
       "\n",
       "             Микрорайон=Домбровка  Микрорайон=Дружба, Брилевичи  \\\n",
       "Код объекта                                                       \n",
       "842900                        0.0                           0.0   \n",
       "840726                        0.0                           0.0   \n",
       "840049                        0.0                           0.0   \n",
       "842497                        0.0                           0.0   \n",
       "833377                        0.0                           0.0   \n",
       "\n",
       "             Микрорайон=Запад, Красный Бор  Микрорайон=Захарова, Пулихова  \\\n",
       "Код объекта                                                                 \n",
       "842900                                 0.0                            0.0   \n",
       "840726                                 0.0                            0.0   \n",
       "840049                                 0.0                            0.0   \n",
       "842497                                 0.0                            0.0   \n",
       "833377                                 0.0                            0.0   \n",
       "\n",
       "             Микрорайон=Зеленый луг  Микрорайон=Казинца, Ландера  \\\n",
       "Код объекта                                                        \n",
       "842900                          0.0                          0.0   \n",
       "840726                          0.0                          0.0   \n",
       "840049                          0.0                          1.0   \n",
       "842497                          0.0                          0.0   \n",
       "833377                          0.0                          0.0   \n",
       "\n",
       "             Микрорайон=Каменная горка  Микрорайон=Кижеватова, Асаналиева  \\\n",
       "Код объекта                                                                 \n",
       "842900                             0.0                                0.0   \n",
       "840726                             0.0                                0.0   \n",
       "840049                             0.0                                0.0   \n",
       "842497                             0.0                                0.0   \n",
       "833377                             0.0                                0.0   \n",
       "\n",
       "             Микрорайон=Кунцевщина  Микрорайон=Лебяжий  Микрорайон=Лошица  \\\n",
       "Код объекта                                                                 \n",
       "842900                         0.0                 0.0                0.0   \n",
       "840726                         0.0                 0.0                0.0   \n",
       "840049                         0.0                 0.0                0.0   \n",
       "842497                         0.0                 0.0                0.0   \n",
       "833377                         0.0                 0.0                0.0   \n",
       "\n",
       "             Микрорайон=Малиновка  Микрорайон=Маркса, Кирова  \\\n",
       "Код объекта                                                    \n",
       "842900                        0.0                        0.0   \n",
       "840726                        0.0                        0.0   \n",
       "840049                        0.0                        0.0   \n",
       "842497                        0.0                        0.0   \n",
       "833377                        0.0                        0.0   \n",
       "\n",
       "             Микрорайон=Масюковщина  \\\n",
       "Код объекта                           \n",
       "842900                          0.0   \n",
       "840726                          0.0   \n",
       "840049                          0.0   \n",
       "842497                          0.0   \n",
       "833377                          0.0   \n",
       "\n",
       "             Микрорайон=Машерова, Оперный театр, Коммунистическая  \\\n",
       "Код объекта                                                         \n",
       "842900                                                     0.0      \n",
       "840726                                                     0.0      \n",
       "840049                                                     0.0      \n",
       "842497                                                     0.0      \n",
       "833377                                                     0.0      \n",
       "\n",
       "             Микрорайон=Маяковского  Микрорайон=Михалово  \\\n",
       "Код объекта                                                \n",
       "842900                          0.0                  0.0   \n",
       "840726                          0.0                  0.0   \n",
       "840049                          0.0                  0.0   \n",
       "842497                          0.0                  0.0   \n",
       "833377                          0.0                  0.0   \n",
       "\n",
       "             Микрорайон=Не указан  \\\n",
       "Код объекта                         \n",
       "842900                        0.0   \n",
       "840726                        1.0   \n",
       "840049                        0.0   \n",
       "842497                        1.0   \n",
       "833377                        0.0   \n",
       "\n",
       "             Микрорайон=Независимости, Кедышко, Волгоградская  \\\n",
       "Код объекта                                                     \n",
       "842900                                                    0.0   \n",
       "840726                                                    0.0   \n",
       "840049                                                    0.0   \n",
       "842497                                                    0.0   \n",
       "833377                                                    0.0   \n",
       "\n",
       "             Микрорайон=Немига, Короля  \\\n",
       "Код объекта                              \n",
       "842900                             0.0   \n",
       "840726                             0.0   \n",
       "840049                             0.0   \n",
       "842497                             0.0   \n",
       "833377                             0.0   \n",
       "\n",
       "             Микрорайон=Партизанский, Васнецова, Народная  \\\n",
       "Код объекта                                                 \n",
       "842900                                                0.0   \n",
       "840726                                                0.0   \n",
       "840049                                                0.0   \n",
       "842497                                                0.0   \n",
       "833377                                                0.0   \n",
       "\n",
       "             Микрорайон=Победителей, Заславская  \\\n",
       "Код объекта                                       \n",
       "842900                                      0.0   \n",
       "840726                                      0.0   \n",
       "840049                                      0.0   \n",
       "842497                                      0.0   \n",
       "833377                                      0.0   \n",
       "\n",
       "             Микрорайон=Пушкина, Глебки, Притыцкого, Ольшевского, Кальварийская  \\\n",
       "Код объекта                                                                       \n",
       "842900                                                     1.0                    \n",
       "840726                                                     0.0                    \n",
       "840049                                                     0.0                    \n",
       "842497                                                     0.0                    \n",
       "833377                                                     0.0                    \n",
       "\n",
       "             Микрорайон=Пушкина, Харьковская, Берута, Гусовского  \\\n",
       "Код объекта                                                        \n",
       "842900                                                     0.0     \n",
       "840726                                                     0.0     \n",
       "840049                                                     0.0     \n",
       "842497                                                     0.0     \n",
       "833377                                                     0.0     \n",
       "\n",
       "             Микрорайон=Пушкина, Я.Мавра, Бельского  \\\n",
       "Код объекта                                           \n",
       "842900                                          0.0   \n",
       "840726                                          0.0   \n",
       "840049                                          0.0   \n",
       "842497                                          0.0   \n",
       "833377                                          0.0   \n",
       "\n",
       "             Микрорайон=Р.Люксембург, К.Либкнехта  Микрорайон=Район ДК \"МАЗ\"  \\\n",
       "Код объекта                                                                    \n",
       "842900                                        0.0                        0.0   \n",
       "840726                                        0.0                        0.0   \n",
       "840049                                        0.0                        0.0   \n",
       "842497                                        0.0                        0.0   \n",
       "833377                                        0.0                        0.0   \n",
       "\n",
       "             Микрорайон=Седых, Тикоцкого  Микрорайон=Сельхоз посёлок  \\\n",
       "Код объекта                                                            \n",
       "842900                               0.0                         0.0   \n",
       "840726                               0.0                         0.0   \n",
       "840049                               0.0                         0.0   \n",
       "842497                               0.0                         0.0   \n",
       "833377                               0.0                         0.0   \n",
       "\n",
       "             Микрорайон=Серебрянка  Микрорайон=Степянка  Микрорайон=Сухарево  \\\n",
       "Код объекта                                                                    \n",
       "842900                         0.0                  0.0                  0.0   \n",
       "840726                         0.0                  0.0                  0.0   \n",
       "840049                         0.0                  0.0                  0.0   \n",
       "842497                         0.0                  0.0                  0.0   \n",
       "833377                         1.0                  0.0                  0.0   \n",
       "\n",
       "             Микрорайон=Тракторный Завод  \\\n",
       "Код объекта                                \n",
       "842900                               0.0   \n",
       "840726                               0.0   \n",
       "840049                               0.0   \n",
       "842497                               0.0   \n",
       "833377                               0.0   \n",
       "\n",
       "             Микрорайон=Уманская, Железнодорожная, Грушевская  \\\n",
       "Код объекта                                                     \n",
       "842900                                                    0.0   \n",
       "840726                                                    0.0   \n",
       "840049                                                    0.0   \n",
       "842497                                                    0.0   \n",
       "833377                                                    0.0   \n",
       "\n",
       "             Микрорайон=Уручье  Микрорайон=Червякова, Шевченко  \\\n",
       "Код объекта                                                      \n",
       "842900                     0.0                             0.0   \n",
       "840726                     0.0                             0.0   \n",
       "840049                     0.0                             0.0   \n",
       "842497                     0.0                             0.0   \n",
       "833377                     0.0                             0.0   \n",
       "\n",
       "             Микрорайон=Чижовка  Микрорайон=Шабаны  Микрорайон=Юго-Запад  \\\n",
       "Код объекта                                                                \n",
       "842900                      0.0                0.0                   0.0   \n",
       "840726                      0.0                0.0                   0.0   \n",
       "840049                      0.0                0.0                   0.0   \n",
       "842497                      0.0                0.0                   0.0   \n",
       "833377                      0.0                0.0                   0.0   \n",
       "\n",
       "             Микрорайон=Я.Коласа, у-м \"Рига\", Некрасова, Восточная  \\\n",
       "Код объекта                                                          \n",
       "842900                                                     0.0       \n",
       "840726                                                     0.0       \n",
       "840049                                                     0.0       \n",
       "842497                                                     0.0       \n",
       "833377                                                     0.0       \n",
       "\n",
       "             Санузел=раздельный  Санузел=совмещенный  Тип дома=брежневка  \\\n",
       "Код объекта                                                                \n",
       "842900                      1.0                  0.0                 0.0   \n",
       "840726                      1.0                  0.0                 1.0   \n",
       "840049                      1.0                  0.0                 0.0   \n",
       "842497                      1.0                  0.0                 0.0   \n",
       "833377                      1.0                  0.0                 0.0   \n",
       "\n",
       "             Тип дома=не указан  Тип дома=новостройка  Тип дома=сталинка  \\\n",
       "Код объекта                                                                \n",
       "842900                      0.0                   0.0                0.0   \n",
       "840726                      0.0                   0.0                0.0   \n",
       "840049                      0.0                   0.0                0.0   \n",
       "842497                      1.0                   0.0                0.0   \n",
       "833377                      0.0                   0.0                0.0   \n",
       "\n",
       "             Тип дома=стандартные  Тип дома=улучшеный проект  \\\n",
       "Код объекта                                                    \n",
       "842900                        1.0                        0.0   \n",
       "840726                        0.0                        0.0   \n",
       "840049                        1.0                        0.0   \n",
       "842497                        0.0                        0.0   \n",
       "833377                        1.0                        0.0   \n",
       "\n",
       "             Тип дома=хрущевка  Тип дома=чешский проект  \\\n",
       "Код объекта                                               \n",
       "842900                     0.0                      0.0   \n",
       "840726                     0.0                      0.0   \n",
       "840049                     0.0                      0.0   \n",
       "842497                     0.0                      0.0   \n",
       "833377                     0.0                      0.0   \n",
       "\n",
       "             Условия продажи=не указан  Условия продажи=обмен  \\\n",
       "Код объекта                                                     \n",
       "842900                             0.0                    0.0   \n",
       "840726                             0.0                    0.0   \n",
       "840049                             0.0                    0.0   \n",
       "842497                             1.0                    0.0   \n",
       "833377                             0.0                    0.0   \n",
       "\n",
       "             Условия продажи=подбираются варианты  \\\n",
       "Код объекта                                         \n",
       "842900                                        0.0   \n",
       "840726                                        1.0   \n",
       "840049                                        0.0   \n",
       "842497                                        0.0   \n",
       "833377                                        0.0   \n",
       "\n",
       "             Условия продажи=чистая продажа  \n",
       "Код объекта                                  \n",
       "842900                                  1.0  \n",
       "840726                                  0.0  \n",
       "840049                                  1.0  \n",
       "842497                                  0.0  \n",
       "833377                                  1.0  "
      ]
     },
     "execution_count": 65,
     "metadata": {},
     "output_type": "execute_result"
    }
   ],
   "source": [
    "X.shape\n",
    "X.head()"
   ]
  },
  {
   "cell_type": "markdown",
   "metadata": {
    "deletable": true,
    "editable": true
   },
   "source": [
    "\\- столбцов с признаками хоть и стало более сотни, но еще терпимо"
   ]
  },
  {
   "cell_type": "code",
   "execution_count": 74,
   "metadata": {
    "collapsed": false,
    "deletable": true,
    "editable": true
   },
   "outputs": [
    {
     "name": "stderr",
     "output_type": "stream",
     "text": [
      "D:\\anaconda\\lib\\site-packages\\sklearn\\cross_validation.py:44: DeprecationWarning: This module was deprecated in version 0.18 in favor of the model_selection module into which all the refactored classes and functions are moved. Also note that the interface of the new CV iterators are different from that of this module. This module will be removed in 0.20.\n",
      "  \"This module will be removed in 0.20.\", DeprecationWarning)\n"
     ]
    }
   ],
   "source": [
    "from sklearn.ensemble import RandomForestRegressor\n",
    "from sklearn.cross_validation import KFold\n",
    "from sklearn.cross_validation import cross_val_score\n",
    "\n",
    "records_count = Y.count()\n",
    "kf = KFold(n = records_count, n_folds=5, shuffle=True, random_state=1)"
   ]
  },
  {
   "cell_type": "code",
   "execution_count": 75,
   "metadata": {
    "collapsed": false,
    "deletable": true,
    "editable": true
   },
   "outputs": [
    {
     "name": "stdout",
     "output_type": "stream",
     "text": [
      "(1, 0.52030399213798784)\n",
      "(6, 0.78408930021238521)\n",
      "(11, 0.77670005453090307)\n",
      "(16, 0.7768642836394235)\n",
      "(21, 0.78408041490733349)\n",
      "(26, 0.78620421428818033)\n",
      "(31, 0.78902652992194366)\n",
      "(36, 0.78733229366765278)\n",
      "(41, 0.78844165910326591)\n",
      "(46, 0.78772597694981916)\n",
      "(51, 0.79053299052554316)\n",
      "(56, 0.78934052514939657)\n",
      "(61, 0.78879625272969778)\n",
      "(66, 0.78759528635105114)\n",
      "(71, 0.7900711517951875)\n"
     ]
    }
   ],
   "source": [
    "# В качестве алгоритма для решения был выбран случайный лес\n",
    "from sklearn.model_selection import GridSearchCV\n",
    "\n",
    "def determine_forest_quality(trees_count):\n",
    "    clf = RandomForestRegressor(n_estimators = trees_count, random_state=1)\n",
    "    return cross_val_score(clf, X, Y, scoring='r2', cv=kf).mean()\n",
    "\n",
    "for k in range(1,75,5):\n",
    "    quality = determine_forest_quality(k)\n",
    "    print (k, quality)"
   ]
  },
  {
   "cell_type": "markdown",
   "metadata": {
    "deletable": true,
    "editable": true
   },
   "source": [
    "Уже 6 деревьев дали точность в районе 78%! Решено было выбрать кол-во деревьев равное 51, при котором обеспечивалась точность 79% "
   ]
  },
  {
   "cell_type": "code",
   "execution_count": 76,
   "metadata": {
    "collapsed": false,
    "deletable": true,
    "editable": true
   },
   "outputs": [
    {
     "data": {
      "text/plain": [
       "RandomForestRegressor(bootstrap=True, criterion='mse', max_depth=None,\n",
       "           max_features='auto', max_leaf_nodes=None,\n",
       "           min_impurity_split=1e-07, min_samples_leaf=1,\n",
       "           min_samples_split=2, min_weight_fraction_leaf=0.0,\n",
       "           n_estimators=51, n_jobs=1, oob_score=False, random_state=1,\n",
       "           verbose=0, warm_start=False)"
      ]
     },
     "execution_count": 76,
     "metadata": {},
     "output_type": "execute_result"
    }
   ],
   "source": [
    "clf = RandomForestRegressor(n_estimators = 51, random_state=1)\n",
    "clf.fit(X, Y)"
   ]
  },
  {
   "cell_type": "code",
   "execution_count": 77,
   "metadata": {
    "collapsed": false,
    "deletable": true,
    "editable": true
   },
   "outputs": [
    {
     "name": "stdout",
     "output_type": "stream",
     "text": [
      "0 Жилая площадь 0.66\n",
      "1 Площадь кухни 0.05\n",
      "2 Район=Заводской район 0.03\n",
      "3 Материал стен=силикатно-блочный 0.02\n",
      "4 Этаж 0.02\n",
      "5 Был капремонт 0.02\n",
      "6 Микрорайон=Дзержинского, Хмелевского, Щорса 0.02\n",
      "7 Полы=паркет 0.02\n",
      "8 Лет с момента ремонта 0.01\n",
      "9 Первый этаж 0.01\n"
     ]
    }
   ],
   "source": [
    "# Определим десятку самых важных признаков:\n",
    "#\n",
    "features = X.columns.values\n",
    "importances = clf.feature_importances_\n",
    "indices = np.argsort(importances)[::-1]\n",
    "\n",
    "num_to_plot = 10\n",
    "feature_indices = [ind+1 for ind in indices[:num_to_plot]]\n",
    "\n",
    "for i in range(num_to_plot):\n",
    "    print i, features[feature_indices[i]], round(importances[indices[i]],2)"
   ]
  },
  {
   "cell_type": "markdown",
   "metadata": {
    "deletable": true,
    "editable": true
   },
   "source": [
    "Такие параметры, как 'Жилая площадь', 'Площадь кухни', 'Этаж' и 'Был капремонт' выглядят ожидаемо, \n",
    "а вот некоторые из остальных в топ-10 выглядят немного забавно - это 'Заводской район', 'микрорайон=Дзержинского' и 'Материал стен=силикатно-блочный'"
   ]
  },
  {
   "cell_type": "code",
   "execution_count": 78,
   "metadata": {
    "collapsed": false,
    "deletable": true,
    "editable": true
   },
   "outputs": [],
   "source": [
    "# Делаем предсказания:\n",
    "predictions = pd.Series(clf.predict(X), index=Y.index)"
   ]
  },
  {
   "cell_type": "code",
   "execution_count": 97,
   "metadata": {
    "collapsed": false,
    "deletable": true,
    "editable": true
   },
   "outputs": [
    {
     "data": {
      "text/html": [
       "<div>\n",
       "<table border=\"1\" class=\"dataframe\">\n",
       "  <thead>\n",
       "    <tr style=\"text-align: right;\">\n",
       "      <th></th>\n",
       "      <th>Ошибка,%</th>\n",
       "      <th>Ошибка,$</th>\n",
       "      <th>Цена м.кв.</th>\n",
       "      <th>URL</th>\n",
       "    </tr>\n",
       "  </thead>\n",
       "  <tbody>\n",
       "    <tr>\n",
       "      <th>845979</th>\n",
       "      <td>-15.6</td>\n",
       "      <td>-9252.0</td>\n",
       "      <td>906.0</td>\n",
       "      <td>http://www.t-s.by/buy/flats/845979/</td>\n",
       "    </tr>\n",
       "    <tr>\n",
       "      <th>838613</th>\n",
       "      <td>-15.4</td>\n",
       "      <td>-7649.0</td>\n",
       "      <td>961.0</td>\n",
       "      <td>http://www.t-s.by/buy/flats/838613/</td>\n",
       "    </tr>\n",
       "    <tr>\n",
       "      <th>806952</th>\n",
       "      <td>-15.1</td>\n",
       "      <td>-9988.0</td>\n",
       "      <td>896.0</td>\n",
       "      <td>http://www.t-s.by/buy/flats/806952/</td>\n",
       "    </tr>\n",
       "    <tr>\n",
       "      <th>830893</th>\n",
       "      <td>-13.7</td>\n",
       "      <td>-10979.0</td>\n",
       "      <td>891.0</td>\n",
       "      <td>http://www.t-s.by/buy/flats/830893/</td>\n",
       "    </tr>\n",
       "    <tr>\n",
       "      <th>798393</th>\n",
       "      <td>-13.1</td>\n",
       "      <td>-13560.0</td>\n",
       "      <td>1232.0</td>\n",
       "      <td>http://www.t-s.by/buy/flats/798393/</td>\n",
       "    </tr>\n",
       "    <tr>\n",
       "      <th>823311</th>\n",
       "      <td>-12.9</td>\n",
       "      <td>-9313.0</td>\n",
       "      <td>801.0</td>\n",
       "      <td>http://www.t-s.by/buy/flats/823311/</td>\n",
       "    </tr>\n",
       "    <tr>\n",
       "      <th>829662</th>\n",
       "      <td>-11.3</td>\n",
       "      <td>-7782.0</td>\n",
       "      <td>777.0</td>\n",
       "      <td>http://www.t-s.by/buy/flats/829662/</td>\n",
       "    </tr>\n",
       "    <tr>\n",
       "      <th>832950</th>\n",
       "      <td>-10.3</td>\n",
       "      <td>-7027.0</td>\n",
       "      <td>896.0</td>\n",
       "      <td>http://www.t-s.by/buy/flats/832950/</td>\n",
       "    </tr>\n",
       "    <tr>\n",
       "      <th>836354</th>\n",
       "      <td>-9.7</td>\n",
       "      <td>-6117.0</td>\n",
       "      <td>865.0</td>\n",
       "      <td>http://www.t-s.by/buy/flats/836354/</td>\n",
       "    </tr>\n",
       "    <tr>\n",
       "      <th>816805</th>\n",
       "      <td>-9.2</td>\n",
       "      <td>-8129.0</td>\n",
       "      <td>998.0</td>\n",
       "      <td>http://www.t-s.by/buy/flats/816805/</td>\n",
       "    </tr>\n",
       "    <tr>\n",
       "      <th>822167</th>\n",
       "      <td>-9.0</td>\n",
       "      <td>-3931.0</td>\n",
       "      <td>867.0</td>\n",
       "      <td>http://www.t-s.by/buy/flats/822167/</td>\n",
       "    </tr>\n",
       "    <tr>\n",
       "      <th>820809</th>\n",
       "      <td>-9.0</td>\n",
       "      <td>-7298.0</td>\n",
       "      <td>952.0</td>\n",
       "      <td>http://www.t-s.by/buy/flats/820809/</td>\n",
       "    </tr>\n",
       "    <tr>\n",
       "      <th>730327</th>\n",
       "      <td>-9.0</td>\n",
       "      <td>-6276.0</td>\n",
       "      <td>926.0</td>\n",
       "      <td>http://www.t-s.by/buy/flats/730327/</td>\n",
       "    </tr>\n",
       "    <tr>\n",
       "      <th>847445</th>\n",
       "      <td>-8.6</td>\n",
       "      <td>-6005.0</td>\n",
       "      <td>1031.0</td>\n",
       "      <td>http://www.t-s.by/buy/flats/847445/</td>\n",
       "    </tr>\n",
       "    <tr>\n",
       "      <th>835064</th>\n",
       "      <td>-8.6</td>\n",
       "      <td>-7986.0</td>\n",
       "      <td>1050.0</td>\n",
       "      <td>http://www.t-s.by/buy/flats/835064/</td>\n",
       "    </tr>\n",
       "  </tbody>\n",
       "</table>\n",
       "</div>"
      ],
      "text/plain": [
       "        Ошибка,%  Ошибка,$  Цена м.кв.                                  URL\n",
       "845979     -15.6   -9252.0       906.0  http://www.t-s.by/buy/flats/845979/\n",
       "838613     -15.4   -7649.0       961.0  http://www.t-s.by/buy/flats/838613/\n",
       "806952     -15.1   -9988.0       896.0  http://www.t-s.by/buy/flats/806952/\n",
       "830893     -13.7  -10979.0       891.0  http://www.t-s.by/buy/flats/830893/\n",
       "798393     -13.1  -13560.0      1232.0  http://www.t-s.by/buy/flats/798393/\n",
       "823311     -12.9   -9313.0       801.0  http://www.t-s.by/buy/flats/823311/\n",
       "829662     -11.3   -7782.0       777.0  http://www.t-s.by/buy/flats/829662/\n",
       "832950     -10.3   -7027.0       896.0  http://www.t-s.by/buy/flats/832950/\n",
       "836354      -9.7   -6117.0       865.0  http://www.t-s.by/buy/flats/836354/\n",
       "816805      -9.2   -8129.0       998.0  http://www.t-s.by/buy/flats/816805/\n",
       "822167      -9.0   -3931.0       867.0  http://www.t-s.by/buy/flats/822167/\n",
       "820809      -9.0   -7298.0       952.0  http://www.t-s.by/buy/flats/820809/\n",
       "730327      -9.0   -6276.0       926.0  http://www.t-s.by/buy/flats/730327/\n",
       "847445      -8.6   -6005.0      1031.0  http://www.t-s.by/buy/flats/847445/\n",
       "835064      -8.6   -7986.0      1050.0  http://www.t-s.by/buy/flats/835064/"
      ]
     },
     "execution_count": 97,
     "metadata": {},
     "output_type": "execute_result"
    }
   ],
   "source": [
    "# Интерес представляют записи, для которых модель сильно ошибается в ту или иную сторону\n",
    "#\n",
    "res_info = pd.DataFrame(columns=[u'Ошибка,%',u'Ошибка,$',u'Цена м.кв.', u'URL'])\n",
    "for i in Y.index:\n",
    "    error = Y[i] - predictions[i]\n",
    "    rel_error = error/predictions[i]*100\n",
    "    #if np.abs(rel_error)>15:\n",
    "    res_info.loc[i] = pd.Series({\n",
    "            u'Ошибка,%':round(rel_error,1),\n",
    "            u'Ошибка,$':int(error),\n",
    "            u'Цена м.кв.':int(Y[i]/X[u'Общая площадь'][i]),\n",
    "            u'URL':'{}/{}/'.format('http://www.t-s.by/buy/flats', i)\n",
    "    })\n",
    "    \n",
    "# Недооцененные квартиры:\n",
    "res_info.sort_values(by=u'Ошибка,%')[:15]"
   ]
  },
  {
   "cell_type": "code",
   "execution_count": 90,
   "metadata": {
    "collapsed": false,
    "deletable": true,
    "editable": true
   },
   "outputs": [
    {
     "data": {
      "text/html": [
       "<div>\n",
       "<table border=\"1\" class=\"dataframe\">\n",
       "  <thead>\n",
       "    <tr style=\"text-align: right;\">\n",
       "      <th></th>\n",
       "      <th>Ошибка,%</th>\n",
       "      <th>Ошибка,$</th>\n",
       "      <th>Цена м.кв.</th>\n",
       "    </tr>\n",
       "  </thead>\n",
       "  <tbody>\n",
       "    <tr>\n",
       "      <th>777692</th>\n",
       "      <td>20.7</td>\n",
       "      <td>23452.0</td>\n",
       "      <td>2242.0</td>\n",
       "    </tr>\n",
       "    <tr>\n",
       "      <th>795105</th>\n",
       "      <td>18.1</td>\n",
       "      <td>10582.0</td>\n",
       "      <td>1703.0</td>\n",
       "    </tr>\n",
       "    <tr>\n",
       "      <th>843263</th>\n",
       "      <td>16.0</td>\n",
       "      <td>18209.0</td>\n",
       "      <td>1668.0</td>\n",
       "    </tr>\n",
       "    <tr>\n",
       "      <th>812051</th>\n",
       "      <td>15.4</td>\n",
       "      <td>15362.0</td>\n",
       "      <td>2065.0</td>\n",
       "    </tr>\n",
       "    <tr>\n",
       "      <th>810427</th>\n",
       "      <td>14.9</td>\n",
       "      <td>16735.0</td>\n",
       "      <td>2057.0</td>\n",
       "    </tr>\n",
       "  </tbody>\n",
       "</table>\n",
       "</div>"
      ],
      "text/plain": [
       "        Ошибка,%  Ошибка,$  Цена м.кв.\n",
       "777692      20.7   23452.0      2242.0\n",
       "795105      18.1   10582.0      1703.0\n",
       "843263      16.0   18209.0      1668.0\n",
       "812051      15.4   15362.0      2065.0\n",
       "810427      14.9   16735.0      2057.0"
      ]
     },
     "execution_count": 90,
     "metadata": {},
     "output_type": "execute_result"
    }
   ],
   "source": [
    "# Переоцененные квартиры:\n",
    "res_info.sort_values(by=u'Ошибка,%', ascending=False)[:5]"
   ]
  },
  {
   "cell_type": "code",
   "execution_count": null,
   "metadata": {
    "collapsed": false,
    "deletable": true,
    "editable": true
   },
   "outputs": [],
   "source": []
  },
  {
   "cell_type": "markdown",
   "metadata": {
    "deletable": true,
    "editable": true
   },
   "source": [
    "Как было сказано ранее, детали можно посмотреть в браузере по адресу http://www.t-s.by/buy/flats/{id}/, где id - код квартиры\n",
    "\n",
    "Стоит признать, что по сумме факторов данные квартиры выделяются из основной массы"
   ]
  },
  {
   "cell_type": "markdown",
   "metadata": {
    "deletable": true,
    "editable": true
   },
   "source": [
    "На этом все!\n",
    "\n",
    "P.S. Как оказалось, за время с момента выгрузки данных с http://www.t-s.by до окончания написания статьи, данное агенство немного изменило шаблон страницы с детальной информацией о квартире: часть полей убрали, остальные переехали. Ну и сайт стал несколько тормозить (надеюсь временно). Поэтому не думаю, что сильно им помешаю, предоставив код crawler-а, парсящего прошлую версию их сайта. Исходный выгруженный json со всеми исходными полями остался невредим и находится в git-репозитории. "
   ]
  },
  {
   "cell_type": "code",
   "execution_count": null,
   "metadata": {
    "collapsed": true,
    "deletable": true,
    "editable": true
   },
   "outputs": [],
   "source": []
  }
 ],
 "metadata": {
  "kernelspec": {
   "display_name": "Python 2",
   "language": "python",
   "name": "python2"
  },
  "language_info": {
   "codemirror_mode": {
    "name": "ipython",
    "version": 2
   },
   "file_extension": ".py",
   "mimetype": "text/x-python",
   "name": "python",
   "nbconvert_exporter": "python",
   "pygments_lexer": "ipython2",
   "version": "2.7.10"
  }
 },
 "nbformat": 4,
 "nbformat_minor": 2
}
