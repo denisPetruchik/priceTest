{
 "cells": [
  {
   "cell_type": "markdown",
   "metadata": {
    "deletable": true,
    "editable": true
   },
   "source": [
    "## Импорт и предварительный анализ данных"
   ]
  },
  {
   "cell_type": "code",
   "execution_count": 1,
   "metadata": {
    "collapsed": false,
    "deletable": true,
    "editable": true
   },
   "outputs": [
    {
     "ename": "IOError",
     "evalue": "[Errno 2] No such file or directory: 'result.json'",
     "output_type": "error",
     "traceback": [
      "\u001b[0;31m---------------------------------------------------------------------------\u001b[0m",
      "\u001b[0;31mIOError\u001b[0m                                   Traceback (most recent call last)",
      "\u001b[0;32m<ipython-input-1-ee5c90a3c506>\u001b[0m in \u001b[0;36m<module>\u001b[0;34m()\u001b[0m\n\u001b[1;32m      4\u001b[0m \u001b[0;32mimport\u001b[0m \u001b[0mnumpy\u001b[0m \u001b[0;32mas\u001b[0m \u001b[0mnp\u001b[0m\u001b[0;34m\u001b[0m\u001b[0m\n\u001b[1;32m      5\u001b[0m \u001b[0;34m\u001b[0m\u001b[0m\n\u001b[0;32m----> 6\u001b[0;31m \u001b[0;32mwith\u001b[0m \u001b[0mopen\u001b[0m\u001b[0;34m(\u001b[0m\u001b[0;34m'result.json'\u001b[0m\u001b[0;34m)\u001b[0m \u001b[0;32mas\u001b[0m \u001b[0mdata_file\u001b[0m\u001b[0;34m:\u001b[0m\u001b[0;34m\u001b[0m\u001b[0m\n\u001b[0m\u001b[1;32m      7\u001b[0m     \u001b[0mdata\u001b[0m \u001b[0;34m=\u001b[0m \u001b[0mjson\u001b[0m\u001b[0;34m.\u001b[0m\u001b[0mload\u001b[0m\u001b[0;34m(\u001b[0m\u001b[0mdata_file\u001b[0m\u001b[0;34m)\u001b[0m\u001b[0;34m\u001b[0m\u001b[0m\n\u001b[1;32m      8\u001b[0m \u001b[0;34m\u001b[0m\u001b[0m\n",
      "\u001b[0;31mIOError\u001b[0m: [Errno 2] No such file or directory: 'result.json'"
     ]
    }
   ],
   "source": [
    "# Имортируем файл с данными, выгруженными с t-s.by и преобразовываем его в Pandas DataFrame:\n",
    "import json\n",
    "import pandas as pd\n",
    "import numpy as np\n",
    "\n",
    "with open('result_.json') as data_file:    \n",
    "    data = json.load(data_file)\n",
    "    \n",
    "df = pd.io.json.json_normalize(data)"
   ]
  },
  {
   "cell_type": "code",
   "execution_count": null,
   "metadata": {
    "collapsed": false,
    "deletable": true,
    "editable": true
   },
   "outputs": [],
   "source": [
    "# Изменяем максимальное кол-во отображаемых строк и столбцов:\n",
    "pd.set_option('display.max_columns', 200)\n",
    "pd.set_option('display.max_rows', 25)"
   ]
  },
  {
   "cell_type": "code",
   "execution_count": null,
   "metadata": {
    "collapsed": false,
    "deletable": true,
    "editable": true
   },
   "outputs": [],
   "source": [
    "# Кол-во записей и кол-во признаков:\n",
    "df.shape"
   ]
  },
  {
   "cell_type": "code",
   "execution_count": null,
   "metadata": {
    "collapsed": false,
    "deletable": true,
    "editable": true
   },
   "outputs": [],
   "source": [
    "# Шапка датафрейма:\n",
    "df.head(3)"
   ]
  },
  {
   "cell_type": "code",
   "execution_count": null,
   "metadata": {
    "collapsed": false,
    "deletable": true,
    "editable": true
   },
   "outputs": [],
   "source": [
    "# В качестве индекса используем 'Код объекта', а сам столбец - удаляем:\n",
    "df.index = df[u'Код объекта'].apply(pd.to_numeric)\n",
    "del df[u'Код объекта']"
   ]
  },
  {
   "cell_type": "code",
   "execution_count": null,
   "metadata": {
    "collapsed": false,
    "deletable": true,
    "editable": true
   },
   "outputs": [],
   "source": [
    "# Теперь можем получать все данные по коду квартиры\n",
    "df.ix[818272]"
   ]
  },
  {
   "cell_type": "code",
   "execution_count": null,
   "metadata": {
    "collapsed": false,
    "deletable": true,
    "editable": true
   },
   "outputs": [],
   "source": [
    "# Или только нужную их часть:\n",
    "df.ix[818272][{u'Адрес',u'Цена',u'Этаж / Этажность'}]"
   ]
  },
  {
   "cell_type": "code",
   "execution_count": null,
   "metadata": {
    "collapsed": true,
    "deletable": true,
    "editable": true
   },
   "outputs": [],
   "source": [
    "# Это полезно, потому что в силу устройства сайта t-s.by код квартиры учавствует в url:\n",
    "# http://www.t-s.by/buy/flats/818272/\n",
    "# поэтому при необходимости можно быстро посмотреть детали заинтересовавшей квартиры в браузере"
   ]
  },
  {
   "cell_type": "code",
   "execution_count": null,
   "metadata": {
    "collapsed": false,
    "deletable": true,
    "editable": true
   },
   "outputs": [],
   "source": [
    "# Названия столбцов:\n",
    "df.columns"
   ]
  },
  {
   "cell_type": "code",
   "execution_count": null,
   "metadata": {
    "collapsed": false,
    "deletable": true,
    "editable": true
   },
   "outputs": [],
   "source": [
    "# Частотное распределение значений в столбце 'Город':\n",
    "df[u'Город'].value_counts()[:10]"
   ]
  },
  {
   "cell_type": "code",
   "execution_count": null,
   "metadata": {
    "collapsed": false,
    "deletable": true,
    "editable": true
   },
   "outputs": [],
   "source": [
    "# Поскольку исследование проводится для Минска, оставим только эти записи:\n",
    "df = df[df[u'Город'] == u'Минск']\n",
    "del df[u'Город']"
   ]
  },
  {
   "cell_type": "code",
   "execution_count": null,
   "metadata": {
    "collapsed": false,
    "deletable": true,
    "editable": true
   },
   "outputs": [],
   "source": [
    "# Выведем сводную информацию:\n",
    "df.info()"
   ]
  },
  {
   "cell_type": "markdown",
   "metadata": {
    "deletable": true,
    "editable": true
   },
   "source": [
    "## Разбираемся с пропусками\n",
    "\n",
    "Некоторые столбцы не будут участвовать в конечной модели, но не удаляем их раньше времени"
   ]
  },
  {
   "cell_type": "markdown",
   "metadata": {
    "deletable": true,
    "editable": true
   },
   "source": [
    "###  Описание\n",
    "В итоговой модели этот столбец использоваться не будет, решено полагаться на реальные параметры квартиры, а не ее субъективное описание владельцем/риелтором"
   ]
  },
  {
   "cell_type": "markdown",
   "metadata": {
    "deletable": true,
    "editable": true
   },
   "source": [
    "### Адрес\n",
    "Содержит название улицы и номер дома, в итоговой модели также не используется, локация влиять на цену будет посредством столбцов 'Район' и 'Микрорайон'"
   ]
  },
  {
   "cell_type": "markdown",
   "metadata": {
    "deletable": true,
    "editable": true
   },
   "source": [
    "### Балкон"
   ]
  },
  {
   "cell_type": "code",
   "execution_count": null,
   "metadata": {
    "collapsed": false,
    "deletable": true,
    "editable": true
   },
   "outputs": [],
   "source": [
    "df[u'Балкон'].fillna(u'нету', inplace=True)\n",
    "df[u'Балкон'].value_counts()"
   ]
  },
  {
   "cell_type": "code",
   "execution_count": null,
   "metadata": {
    "collapsed": false,
    "deletable": true,
    "editable": true
   },
   "outputs": [],
   "source": [
    "def common_converter(mapping, param):\n",
    "    if param in mapping:\n",
    "        return mapping[param]\n",
    "    return param\n",
    "\n",
    "balcony_mapping = {\n",
    "        u'балкон застекленный':u'балкон',\n",
    "        u'лоджия застекленная':u'лоджия',\n",
    "        u'лоджия застекленная + вагонка':u'лоджия',\n",
    "        u'балкон застекленный + вагонка':u'балкон',\n",
    "        u'2 балкона застекленные':u'2 балкона',\n",
    "        u'2 лоджии застекленные':u'2 лоджии',\n",
    "        u'3лз':u'3 лоджии',\n",
    "        u'3л':u'3 лоджии'        \n",
    "    }\n",
    "\n",
    "df[u'Балкон'] = df[u'Балкон'].map(lambda x: common_converter(balcony_mapping, x))\n",
    "df[u'Балкон'].value_counts()"
   ]
  },
  {
   "cell_type": "markdown",
   "metadata": {
    "deletable": true,
    "editable": true
   },
   "source": [
    "### Ближайшее метро"
   ]
  },
  {
   "cell_type": "code",
   "execution_count": null,
   "metadata": {
    "collapsed": false,
    "deletable": true,
    "editable": true
   },
   "outputs": [],
   "source": [
    "df[u'Ближайшее метро'].fillna(u'нету', inplace=True)\n",
    "df[u'Ближайшее метро'].value_counts()"
   ]
  },
  {
   "cell_type": "markdown",
   "metadata": {
    "deletable": true,
    "editable": true
   },
   "source": [
    "Закономерно: в Уручье и Грушевке много новостроек, а в районе Каменной горки и Кунцевщины не так давно строилось много льготного жилья, которое продают теперь уже нельготники :)"
   ]
  },
  {
   "cell_type": "markdown",
   "metadata": {
    "deletable": true,
    "editable": true
   },
   "source": [
    "### Год постройки и Год капитального ремонта"
   ]
  },
  {
   "cell_type": "code",
   "execution_count": null,
   "metadata": {
    "collapsed": false,
    "deletable": true,
    "editable": true
   },
   "outputs": [],
   "source": [
    "# Вместо данных столбцов введем другие: 'Лет дому' и 'Лет с последнего ремонта':\n",
    "\n",
    "df[u'Год постройки'] = df[u'Год постройки'].apply(pd.to_numeric)\n",
    "df[u'Год капитального ремонта'] = df[u'Год капитального ремонта'].apply(pd.to_numeric)\n",
    "\n",
    "import datetime\n",
    "current_year = datetime.datetime.now().year\n",
    "\n",
    "def years_from_last_repair(row):\n",
    "    if row[u'Год капитального ремонта'] == 0:\n",
    "        row[u'Год капитального ремонта'] = row[u'Год постройки']\n",
    "    return current_year - row[u'Год капитального ремонта']\n",
    "\n",
    "df[u'Лет дому'] = df[u'Год постройки'].map(lambda x: current_year - x)\n",
    "df[u'Лет с момента ремонта'] = df.apply(lambda row: years_from_last_repair(row), axis=1)\n",
    "df[u'Был капремонт'] = df[u'Год капитального ремонта']!=0\n",
    "\n",
    "# Исходные два столбца удаляем:\n",
    "df.drop({u'Год постройки', u'Год капитального ремонта'}, axis=1, inplace=True)"
   ]
  },
  {
   "cell_type": "markdown",
   "metadata": {
    "deletable": true,
    "editable": true
   },
   "source": [
    "### Комнаты"
   ]
  },
  {
   "cell_type": "code",
   "execution_count": null,
   "metadata": {
    "collapsed": false,
    "deletable": true,
    "editable": true,
    "scrolled": true
   },
   "outputs": [],
   "source": [
    "df[u'Комнаты'].value_counts()"
   ]
  },
  {
   "cell_type": "markdown",
   "metadata": {
    "deletable": true,
    "editable": true
   },
   "source": [
    "Если в этом столбце первое число меньше второго - есть подозрение на то, что это продается комната, а не квартира. Проверим это: "
   ]
  },
  {
   "cell_type": "code",
   "execution_count": null,
   "metadata": {
    "collapsed": false,
    "deletable": true,
    "editable": true
   },
   "outputs": [],
   "source": [
    "df[df[u'Комнаты'] == '1/2']"
   ]
  },
  {
   "cell_type": "markdown",
   "metadata": {
    "deletable": true,
    "editable": true
   },
   "source": [
    "\\- действительно комната. Отбрасываем такие записи:"
   ]
  },
  {
   "cell_type": "code",
   "execution_count": null,
   "metadata": {
    "collapsed": true,
    "deletable": true,
    "editable": true
   },
   "outputs": [],
   "source": [
    "df = df[df[u'Комнаты'] != '1/2']"
   ]
  },
  {
   "cell_type": "code",
   "execution_count": null,
   "metadata": {
    "collapsed": false,
    "deletable": true,
    "editable": true
   },
   "outputs": [],
   "source": [
    "# Выделяем кол-во комнат:\n",
    "\n",
    "df[u'Комнаты'] = df[u'Комнаты'].map(lambda x: x if x.find('/') == -1 else x.split('/')[0])\n",
    "df[u'Комнаты'] = df[u'Комнаты'].apply(pd.to_numeric)\n",
    "df[u'Комнаты'].value_counts()"
   ]
  },
  {
   "cell_type": "markdown",
   "metadata": {
    "deletable": true,
    "editable": true
   },
   "source": [
    "\\- больше всего продается 2,3,1-комнатных"
   ]
  },
  {
   "cell_type": "code",
   "execution_count": null,
   "metadata": {
    "collapsed": false,
    "deletable": true,
    "editable": true
   },
   "outputs": [],
   "source": [
    "# Среднее кол-во комнат:\n",
    "np.mean(df[u'Комнаты'])"
   ]
  },
  {
   "cell_type": "markdown",
   "metadata": {
    "deletable": true,
    "editable": true
   },
   "source": [
    "### Материал стен"
   ]
  },
  {
   "cell_type": "code",
   "execution_count": null,
   "metadata": {
    "collapsed": false,
    "deletable": true,
    "editable": true
   },
   "outputs": [],
   "source": [
    "df[u'Материал стен'].value_counts()"
   ]
  },
  {
   "cell_type": "markdown",
   "metadata": {
    "deletable": true,
    "editable": true
   },
   "source": [
    "\\- здесь все в порядке, пропусков нет"
   ]
  },
  {
   "cell_type": "markdown",
   "metadata": {
    "deletable": true,
    "editable": true
   },
   "source": [
    "### Район и Микрорайон"
   ]
  },
  {
   "cell_type": "code",
   "execution_count": null,
   "metadata": {
    "collapsed": false,
    "deletable": true,
    "editable": true
   },
   "outputs": [],
   "source": [
    "df[u'Район'].value_counts()"
   ]
  },
  {
   "cell_type": "markdown",
   "metadata": {
    "deletable": true,
    "editable": true
   },
   "source": [
    "\\- указан у всех записей"
   ]
  },
  {
   "cell_type": "code",
   "execution_count": null,
   "metadata": {
    "collapsed": false,
    "deletable": true,
    "editable": true
   },
   "outputs": [],
   "source": [
    "df[u'Микрорайон'].value_counts()"
   ]
  },
  {
   "cell_type": "code",
   "execution_count": null,
   "metadata": {
    "collapsed": false,
    "deletable": true,
    "editable": true
   },
   "outputs": [],
   "source": [
    "# Заменим пропущенные значения строкой 'Не указан':\n",
    "df[u'Микрорайон'].fillna(u'Не указан', inplace=True)"
   ]
  },
  {
   "cell_type": "markdown",
   "metadata": {
    "deletable": true,
    "editable": true
   },
   "source": [
    "### Площади"
   ]
  },
  {
   "cell_type": "code",
   "execution_count": null,
   "metadata": {
    "collapsed": true,
    "deletable": true,
    "editable": true
   },
   "outputs": [],
   "source": [
    "df[u'Общая площадь'] = df[u'Площади'].map(lambda x: float(x.split(' / ')[0]))\n",
    "df[u'Жилая площадь'] = df[u'Площади'].map(lambda x: float(x.split(' / ')[1]))\n",
    "df[u'Площадь кухни'] = df[u'Площади'].map(lambda x: float(x.split(' / ')[2]))\n",
    "\n",
    "# Удаляем столбец 'Площади':\n",
    "df = df.drop(u'Площади', axis=1)"
   ]
  },
  {
   "cell_type": "code",
   "execution_count": null,
   "metadata": {
    "collapsed": false,
    "deletable": true,
    "editable": true
   },
   "outputs": [],
   "source": [
    "# Среднияя площадь типичной квартиры на рынке\n",
    "np.mean(df[u'Общая площадь']), np.mean(df[u'Жилая площадь']), np.mean(df[u'Площадь кухни'])"
   ]
  },
  {
   "cell_type": "markdown",
   "metadata": {
    "deletable": true,
    "editable": true
   },
   "source": [
    "### Полы"
   ]
  },
  {
   "cell_type": "code",
   "execution_count": null,
   "metadata": {
    "collapsed": false,
    "deletable": true,
    "editable": true
   },
   "outputs": [],
   "source": [
    "df[u'Полы'].value_counts()"
   ]
  },
  {
   "cell_type": "code",
   "execution_count": null,
   "metadata": {
    "collapsed": false,
    "deletable": true,
    "editable": true
   },
   "outputs": [],
   "source": [
    "df[u'Полы'].fillna(u'Не указано', inplace=True)"
   ]
  },
  {
   "cell_type": "markdown",
   "metadata": {
    "deletable": true,
    "editable": true
   },
   "source": [
    "### Санузел"
   ]
  },
  {
   "cell_type": "code",
   "execution_count": null,
   "metadata": {
    "collapsed": false,
    "deletable": true,
    "editable": true,
    "scrolled": true
   },
   "outputs": [],
   "source": [
    "df[df[u'Санузел'].isnull()]"
   ]
  },
  {
   "cell_type": "markdown",
   "metadata": {
    "deletable": true,
    "editable": true
   },
   "source": [
    "Судя по дому - да, санузла там действительно нету, его функции выполняет здание на улице рядом. Дом 1949го года, без капремонта, поэтому отбрасываем его:"
   ]
  },
  {
   "cell_type": "code",
   "execution_count": null,
   "metadata": {
    "collapsed": false,
    "deletable": true,
    "editable": true
   },
   "outputs": [],
   "source": [
    "df.drop(821155, inplace=True)"
   ]
  },
  {
   "cell_type": "code",
   "execution_count": null,
   "metadata": {
    "collapsed": false,
    "deletable": true,
    "editable": true
   },
   "outputs": [],
   "source": [
    "toilet_mapping = {\n",
    "    u'2 сан.узла':u'раздельный',\n",
    "    u'3 сан.узла':u'раздельный'\n",
    "    }\n",
    "\n",
    "df[u'Санузел'] = df[u'Санузел'].map(lambda x: common_converter(toilet_mapping, x))\n",
    "df[u'Санузел'].value_counts()"
   ]
  },
  {
   "cell_type": "markdown",
   "metadata": {
    "deletable": true,
    "editable": true
   },
   "source": [
    "### Телефон"
   ]
  },
  {
   "cell_type": "code",
   "execution_count": null,
   "metadata": {
    "collapsed": false,
    "deletable": true,
    "editable": true
   },
   "outputs": [],
   "source": [
    "df[u'Телефон'].value_counts()"
   ]
  },
  {
   "cell_type": "code",
   "execution_count": null,
   "metadata": {
    "collapsed": false,
    "deletable": true,
    "editable": true
   },
   "outputs": [],
   "source": [
    "df[u'Телефон'] = df[u'Телефон'].map(lambda x: common_converter({u'2 телефона':u'есть'}, x))"
   ]
  },
  {
   "cell_type": "markdown",
   "metadata": {
    "deletable": true,
    "editable": true
   },
   "source": [
    "### Тип дома"
   ]
  },
  {
   "cell_type": "code",
   "execution_count": null,
   "metadata": {
    "collapsed": false,
    "deletable": true,
    "editable": true
   },
   "outputs": [],
   "source": [
    "df[u'Тип дома'].value_counts()"
   ]
  },
  {
   "cell_type": "code",
   "execution_count": null,
   "metadata": {
    "collapsed": true,
    "deletable": true,
    "editable": true
   },
   "outputs": [],
   "source": [
    "df[u'Тип дома'].fillna(u'не указан', inplace=True)"
   ]
  },
  {
   "cell_type": "markdown",
   "metadata": {
    "deletable": true,
    "editable": true
   },
   "source": [
    "### Условия продажи"
   ]
  },
  {
   "cell_type": "code",
   "execution_count": null,
   "metadata": {
    "collapsed": false,
    "deletable": true,
    "editable": true
   },
   "outputs": [],
   "source": [
    "df[u'Условия продажи'].value_counts()"
   ]
  },
  {
   "cell_type": "code",
   "execution_count": null,
   "metadata": {
    "collapsed": false,
    "deletable": true,
    "editable": true
   },
   "outputs": [],
   "source": [
    "df[u'Условия продажи'].fillna(u'не указан', inplace=True)\n",
    "df[u'Условия продажи'] = df[u'Условия продажи'].map(lambda x: common_converter({u'обмен - разъезд':u'обмен'}, x))"
   ]
  },
  {
   "cell_type": "markdown",
   "metadata": {
    "deletable": true,
    "editable": true
   },
   "source": [
    "### Цена"
   ]
  },
  {
   "cell_type": "code",
   "execution_count": null,
   "metadata": {
    "collapsed": false,
    "deletable": true,
    "editable": true
   },
   "outputs": [],
   "source": [
    "# Очищаем столбец 'price' и приводим к числовому:\n",
    "# u'12 000 у. е. somestring' -> u'12 000' -> u'12000' -> 12000.0\n",
    "df[u'Цена'] = df[u'Цена'].map(lambda x: float(x[:x.find(u' у. е.')].replace(' ','')))\n"
   ]
  },
  {
   "cell_type": "code",
   "execution_count": null,
   "metadata": {
    "collapsed": false,
    "deletable": true,
    "editable": true
   },
   "outputs": [],
   "source": [
    "%matplotlib inline\n",
    "import seaborn as sns\n",
    "print df[u'Цена']\n",
    "# Распределение квартир по цене:\n",
    "sns.distplot(df[u'Цена']);"
   ]
  },
  {
   "cell_type": "code",
   "execution_count": null,
   "metadata": {
    "collapsed": true,
    "deletable": true,
    "editable": true
   },
   "outputs": [],
   "source": [
    "# Квартир в правой части \"хвоста\" распределения слишком мало.\n",
    "# Ограничим выборку только квартирами стоимостью ниже некого порога, скажем 150 тыс у.е.:\n",
    "df = df[df[u'Цена'] < 150000]"
   ]
  },
  {
   "cell_type": "markdown",
   "metadata": {
    "deletable": true,
    "editable": true
   },
   "source": [
    "Позже выяснилось, что среди данных есть также записи, соответствующие комнатам, а не квартирам. Поэтому было решено отбросить записи с ультранизкой ценой. В качестве порога было выбрано значение 30 тыс у.е.:"
   ]
  },
  {
   "cell_type": "code",
   "execution_count": null,
   "metadata": {
    "collapsed": false,
    "deletable": true,
    "editable": true
   },
   "outputs": [],
   "source": [
    "df[df[u'Цена'] < 35000][u'Описание']"
   ]
  },
  {
   "cell_type": "markdown",
   "metadata": {
    "deletable": true,
    "editable": true
   },
   "source": [
    "\\- видим, что здесь действительно либо комнаты, либо 'кирпичный дом', что не является целью нашего анализа"
   ]
  },
  {
   "cell_type": "code",
   "execution_count": null,
   "metadata": {
    "collapsed": true,
    "deletable": true,
    "editable": true
   },
   "outputs": [],
   "source": [
    "# Оставляем только квартиры стоимостью выше порога:\n",
    "df = df[df[u'Цена'] > 35000]"
   ]
  },
  {
   "cell_type": "code",
   "execution_count": null,
   "metadata": {
    "collapsed": false,
    "deletable": true,
    "editable": true
   },
   "outputs": [],
   "source": [
    "# Распределение квартир теперь выглядит так:\n",
    "sns.distplot(df[u'Цена']/1000);"
   ]
  },
  {
   "cell_type": "markdown",
   "metadata": {
    "deletable": true,
    "editable": true
   },
   "source": [
    "### Этаж/этажность"
   ]
  },
  {
   "cell_type": "code",
   "execution_count": null,
   "metadata": {
    "collapsed": false,
    "deletable": true,
    "editable": true,
    "scrolled": true
   },
   "outputs": [],
   "source": [
    "df[df[u'Этаж / Этажность'].isnull()]"
   ]
  },
  {
   "cell_type": "markdown",
   "metadata": {
    "deletable": true,
    "editable": true
   },
   "source": [
    "Для одной из квартир этаж не указан. Судя из того, что тип дома - чешский, этажей в доме 9. Этаж укажем в середине дома, т.к. судя цене в 52 тыс. он не крайний:"
   ]
  },
  {
   "cell_type": "code",
   "execution_count": null,
   "metadata": {
    "collapsed": false,
    "deletable": true,
    "editable": true
   },
   "outputs": [],
   "source": [
    "df.loc[df[u'Этаж / Этажность'].isnull(), u'Этаж / Этажность'] = u'5/9'"
   ]
  },
  {
   "cell_type": "code",
   "execution_count": null,
   "metadata": {
    "collapsed": false,
    "deletable": true,
    "editable": true
   },
   "outputs": [],
   "source": [
    "df.ix[847125]"
   ]
  },
  {
   "cell_type": "code",
   "execution_count": null,
   "metadata": {
    "collapsed": false,
    "deletable": true,
    "editable": true
   },
   "outputs": [],
   "source": [
    "df[u'Этаж'] = df[u'Этаж / Этажность'].map(lambda x: int(x.split('/')[0]))\n",
    "df[u'Этажность'] = df[u'Этаж / Этажность'].map(lambda x: int(x.split('/')[1]))"
   ]
  },
  {
   "cell_type": "code",
   "execution_count": null,
   "metadata": {
    "collapsed": false,
    "deletable": true,
    "editable": true
   },
   "outputs": [],
   "source": [
    "df[u'Этаж'].value_counts()"
   ]
  },
  {
   "cell_type": "code",
   "execution_count": null,
   "metadata": {
    "collapsed": false,
    "deletable": true,
    "editable": true
   },
   "outputs": [],
   "source": [
    "sns.distplot(df[u'Этаж'], kde=False, bins=20);"
   ]
  },
  {
   "cell_type": "markdown",
   "metadata": {
    "deletable": true,
    "editable": true
   },
   "source": [
    "\\- Преобладают квартиры на нижних этажах по 5й"
   ]
  },
  {
   "cell_type": "code",
   "execution_count": null,
   "metadata": {
    "collapsed": false,
    "deletable": true,
    "editable": true
   },
   "outputs": [],
   "source": [
    "df[u'Этажность'].value_counts()"
   ]
  },
  {
   "cell_type": "code",
   "execution_count": null,
   "metadata": {
    "collapsed": false,
    "deletable": true,
    "editable": true
   },
   "outputs": [],
   "source": [
    "sns.distplot(df[u'Этажность'], kde=False);"
   ]
  },
  {
   "cell_type": "markdown",
   "metadata": {
    "deletable": true,
    "editable": true
   },
   "source": [
    "\\- больше всего квартир в 9 и 5-этажках"
   ]
  },
  {
   "cell_type": "code",
   "execution_count": null,
   "metadata": {
    "collapsed": false,
    "deletable": true,
    "editable": true
   },
   "outputs": [],
   "source": [
    "np.median(df[u'Этаж']), np.median(df[u'Этажность'])"
   ]
  },
  {
   "cell_type": "markdown",
   "metadata": {
    "deletable": true,
    "editable": true
   },
   "source": [
    "\\- т.е. в среднем квартира расположена на 5 этаже 9-этажного дома"
   ]
  },
  {
   "cell_type": "code",
   "execution_count": null,
   "metadata": {
    "collapsed": true,
    "deletable": true,
    "editable": true
   },
   "outputs": [],
   "source": [
    "df[u'Первый этаж'] = df[u'Этаж'].map(lambda x: 1 if x==1 else 0)"
   ]
  },
  {
   "cell_type": "code",
   "execution_count": null,
   "metadata": {
    "collapsed": false,
    "deletable": true,
    "editable": true
   },
   "outputs": [],
   "source": [
    "df[u'Первый этаж'].value_counts()"
   ]
  },
  {
   "cell_type": "code",
   "execution_count": null,
   "metadata": {
    "collapsed": true,
    "deletable": true,
    "editable": true
   },
   "outputs": [],
   "source": [
    "df[u'Последний этаж'] = df[u'Этаж / Этажность'].map(lambda x: 1 if x.split('/')[0] == x.split('/')[1] else 0)"
   ]
  },
  {
   "cell_type": "code",
   "execution_count": null,
   "metadata": {
    "collapsed": false,
    "deletable": true,
    "editable": true
   },
   "outputs": [],
   "source": [
    "df[u'Последний этаж'].value_counts()"
   ]
  },
  {
   "cell_type": "code",
   "execution_count": null,
   "metadata": {
    "collapsed": true,
    "deletable": true,
    "editable": true
   },
   "outputs": [],
   "source": [
    "# Удаляем столбец 'Этаж / Этажность':\n",
    "df = df.drop(u'Этаж / Этажность', axis=1)"
   ]
  },
  {
   "cell_type": "code",
   "execution_count": null,
   "metadata": {
    "collapsed": false,
    "deletable": true,
    "editable": true
   },
   "outputs": [],
   "source": [
    "df.info()"
   ]
  },
  {
   "cell_type": "code",
   "execution_count": null,
   "metadata": {
    "collapsed": true,
    "deletable": true,
    "editable": true
   },
   "outputs": [],
   "source": [
    "# Формируем вектора X и Y:\n",
    "X = df.drop({u'Цена', u'Описание', u'Адрес'}, axis=1)\n",
    "Y = df[u'Цена']"
   ]
  },
  {
   "cell_type": "markdown",
   "metadata": {
    "deletable": true,
    "editable": true
   },
   "source": [
    "На этом закончим подготовку данных, а начнем собственно\n",
    "\n",
    "## Обучение модели"
   ]
  },
  {
   "cell_type": "code",
   "execution_count": null,
   "metadata": {
    "collapsed": true,
    "deletable": true,
    "editable": true
   },
   "outputs": [],
   "source": [
    "# Добавим несколько методов для создания енкодеров:\n",
    "\n",
    "from sklearn.preprocessing import LabelEncoder\n",
    "from sklearn.preprocessing import OneHotEncoder\n",
    "\n",
    "# Добавляет в DataFrame df новый столбец с именем column_name+'_le', содержащий номера категорий, \n",
    "# соответствующие столбцу column_name. Исходный столбец column_name удаляется\n",
    "#\n",
    "def encode_with_LabelEncoder(df, column_name):\n",
    "    label_encoder = LabelEncoder()\n",
    "    label_encoder.fit(df[column_name])\n",
    "    df[column_name+'_le'] = label_encoder.transform(df[column_name])\n",
    "    df.drop([column_name], axis=1, inplace=True)\n",
    "    return label_encoder\n",
    "\n",
    "# Кодирование с использованием ранее созданного LabelEncoder\n",
    "#\n",
    "def encode_with_existing_LabelEncoder(df, column_name, label_encoder):\n",
    "    df[column_name+'_le'] = label_encoder.transform(df[column_name])\n",
    "    df.drop([column_name], axis=1, inplace=True)\n",
    "\n",
    "# Вначале кодирует столбец column_name при помощи LabelEncoder, потом добавляет в DataFrame df новые столбцы \n",
    "# с именами column_name=<категория_i>. Столбцы column_name и column_name+'_le' удаляются\n",
    "# Usage: df, label_encoder = encode_with_OneHotEncoder_and_delete_column(df, column_name)\n",
    "#\n",
    "def encode_with_OneHotEncoder_and_delete_column(df, column_name):\n",
    "    le_encoder = encode_with_LabelEncoder(df, column_name)\n",
    "    return perform_dummy_coding_and_delete_column(df, column_name, le_encoder), le_encoder\n",
    "\n",
    "# То же, что предыдущий метод, но при помощи уже существующего LabelEncoder\n",
    "#\n",
    "def encode_with_OneHotEncoder_using_existing_LabelEncoder_and_delete_column(df, column_name, le_encoder):\n",
    "    encode_with_existing_LabelEncoder(df, column_name, le_encoder)\n",
    "    return perform_dummy_coding_and_delete_column(df, column_name, le_encoder)\n",
    "\n",
    "# Реализует Dummy-кодирование\n",
    "#\n",
    "def perform_dummy_coding_and_delete_column(df, column_name, le_encoder):\n",
    "    oh_encoder = OneHotEncoder(sparse=False)\n",
    "    oh_features = oh_encoder.fit_transform(df[column_name+'_le'].values.reshape(-1,1))\n",
    "    ohe_columns=[column_name + '=' + le_encoder.classes_[i] for i in range(oh_features.shape[1])]\n",
    "\n",
    "    df.drop([column_name+'_le'], axis=1, inplace=True)\n",
    "\n",
    "    df_with_features = pd.DataFrame(oh_features, columns=ohe_columns)\n",
    "    df_with_features.index = df.index\n",
    "    return pd.concat([df, df_with_features], axis=1)"
   ]
  },
  {
   "cell_type": "code",
   "execution_count": null,
   "metadata": {
    "collapsed": false,
    "deletable": true,
    "editable": true
   },
   "outputs": [],
   "source": [
    "# Кодируем категориальные признаки при помощи Label и Dummy-кодирования:\n",
    "#\n",
    "phone_le_converter = encode_with_LabelEncoder(X,u'Телефон')\n",
    "X, balcony_le_encoder = encode_with_OneHotEncoder_and_delete_column(X,u'Балкон')\n",
    "X, metro_le_encoder = encode_with_OneHotEncoder_and_delete_column(X,u'Ближайшее метро')\n",
    "X, wall_materials_le_encoder = encode_with_OneHotEncoder_and_delete_column(X,u'Материал стен')\n",
    "X, ground_le_encoder = encode_with_OneHotEncoder_and_delete_column(X,u'Полы')\n",
    "X, region_le_encoder = encode_with_OneHotEncoder_and_delete_column(X,u'Район')\n",
    "X, subregion_le_encoder = encode_with_OneHotEncoder_and_delete_column(X,u'Микрорайон')\n",
    "X, toilet_le_encoder = encode_with_OneHotEncoder_and_delete_column(X,u'Санузел')\n",
    "X, house_type_le_encoder = encode_with_OneHotEncoder_and_delete_column(X,u'Тип дома')\n",
    "X, sell_conditions_le_encoder = encode_with_OneHotEncoder_and_delete_column(X,u'Условия продажи')"
   ]
  },
  {
   "cell_type": "code",
   "execution_count": 2,
   "metadata": {
    "collapsed": false,
    "deletable": true,
    "editable": true
   },
   "outputs": [
    {
     "ename": "NameError",
     "evalue": "name 'X' is not defined",
     "output_type": "error",
     "traceback": [
      "\u001b[0;31m---------------------------------------------------------------------------\u001b[0m",
      "\u001b[0;31mNameError\u001b[0m                                 Traceback (most recent call last)",
      "\u001b[0;32m<ipython-input-2-4849a0c73316>\u001b[0m in \u001b[0;36m<module>\u001b[0;34m()\u001b[0m\n\u001b[0;32m----> 1\u001b[0;31m \u001b[0mX\u001b[0m\u001b[0;34m.\u001b[0m\u001b[0mshape\u001b[0m\u001b[0;34m\u001b[0m\u001b[0m\n\u001b[0m\u001b[1;32m      2\u001b[0m \u001b[0mX\u001b[0m\u001b[0;34m.\u001b[0m\u001b[0mhead\u001b[0m\u001b[0;34m(\u001b[0m\u001b[0;34m)\u001b[0m\u001b[0;34m\u001b[0m\u001b[0m\n",
      "\u001b[0;31mNameError\u001b[0m: name 'X' is not defined"
     ]
    }
   ],
   "source": [
    "X.shape\n",
    "X.head()"
   ]
  },
  {
   "cell_type": "markdown",
   "metadata": {
    "deletable": true,
    "editable": true
   },
   "source": [
    "\\- столбцов с признаками хоть и стало более сотни, но еще терпимо"
   ]
  },
  {
   "cell_type": "code",
   "execution_count": 74,
   "metadata": {
    "collapsed": false,
    "deletable": true,
    "editable": true
   },
   "outputs": [
    {
     "name": "stderr",
     "output_type": "stream",
     "text": [
      "D:\\anaconda\\lib\\site-packages\\sklearn\\cross_validation.py:44: DeprecationWarning: This module was deprecated in version 0.18 in favor of the model_selection module into which all the refactored classes and functions are moved. Also note that the interface of the new CV iterators are different from that of this module. This module will be removed in 0.20.\n",
      "  \"This module will be removed in 0.20.\", DeprecationWarning)\n"
     ]
    }
   ],
   "source": [
    "from sklearn.ensemble import RandomForestRegressor\n",
    "from sklearn.cross_validation import KFold\n",
    "from sklearn.cross_validation import cross_val_score\n",
    "\n",
    "records_count = Y.count()\n",
    "kf = KFold(n = records_count, n_folds=5, shuffle=True, random_state=1)"
   ]
  },
  {
   "cell_type": "code",
   "execution_count": 75,
   "metadata": {
    "collapsed": false,
    "deletable": true,
    "editable": true
   },
   "outputs": [
    {
     "name": "stdout",
     "output_type": "stream",
     "text": [
      "(1, 0.52030399213798784)\n",
      "(6, 0.78408930021238521)\n",
      "(11, 0.77670005453090307)\n",
      "(16, 0.7768642836394235)\n",
      "(21, 0.78408041490733349)\n",
      "(26, 0.78620421428818033)\n",
      "(31, 0.78902652992194366)\n",
      "(36, 0.78733229366765278)\n",
      "(41, 0.78844165910326591)\n",
      "(46, 0.78772597694981916)\n",
      "(51, 0.79053299052554316)\n",
      "(56, 0.78934052514939657)\n",
      "(61, 0.78879625272969778)\n",
      "(66, 0.78759528635105114)\n",
      "(71, 0.7900711517951875)\n"
     ]
    }
   ],
   "source": [
    "# В качестве алгоритма для решения был выбран случайный лес\n",
    "from sklearn.model_selection import GridSearchCV\n",
    "\n",
    "def determine_forest_quality(trees_count):\n",
    "    clf = RandomForestRegressor(n_estimators = trees_count, random_state=1)\n",
    "    return cross_val_score(clf, X, Y, scoring='r2', cv=kf).mean()\n",
    "\n",
    "for k in range(1,75,5):\n",
    "    quality = determine_forest_quality(k)\n",
    "    print (k, quality)"
   ]
  },
  {
   "cell_type": "markdown",
   "metadata": {
    "deletable": true,
    "editable": true
   },
   "source": [
    "Уже 6 деревьев дали точность в районе 78%! Решено было выбрать кол-во деревьев равное 51, при котором обеспечивалась точность 79% "
   ]
  },
  {
   "cell_type": "code",
   "execution_count": 76,
   "metadata": {
    "collapsed": false,
    "deletable": true,
    "editable": true
   },
   "outputs": [
    {
     "data": {
      "text/plain": [
       "RandomForestRegressor(bootstrap=True, criterion='mse', max_depth=None,\n",
       "           max_features='auto', max_leaf_nodes=None,\n",
       "           min_impurity_split=1e-07, min_samples_leaf=1,\n",
       "           min_samples_split=2, min_weight_fraction_leaf=0.0,\n",
       "           n_estimators=51, n_jobs=1, oob_score=False, random_state=1,\n",
       "           verbose=0, warm_start=False)"
      ]
     },
     "execution_count": 76,
     "metadata": {},
     "output_type": "execute_result"
    }
   ],
   "source": [
    "clf = RandomForestRegressor(n_estimators = 51, random_state=1)\n",
    "clf.fit(X, Y)"
   ]
  },
  {
   "cell_type": "code",
   "execution_count": 77,
   "metadata": {
    "collapsed": false,
    "deletable": true,
    "editable": true
   },
   "outputs": [
    {
     "name": "stdout",
     "output_type": "stream",
     "text": [
      "0 Жилая площадь 0.66\n",
      "1 Площадь кухни 0.05\n",
      "2 Район=Заводской район 0.03\n",
      "3 Материал стен=силикатно-блочный 0.02\n",
      "4 Этаж 0.02\n",
      "5 Был капремонт 0.02\n",
      "6 Микрорайон=Дзержинского, Хмелевского, Щорса 0.02\n",
      "7 Полы=паркет 0.02\n",
      "8 Лет с момента ремонта 0.01\n",
      "9 Первый этаж 0.01\n"
     ]
    }
   ],
   "source": [
    "# Определим десятку самых важных признаков:\n",
    "#\n",
    "features = X.columns.values\n",
    "importances = clf.feature_importances_\n",
    "indices = np.argsort(importances)[::-1]\n",
    "\n",
    "num_to_plot = 10\n",
    "feature_indices = [ind+1 for ind in indices[:num_to_plot]]\n",
    "\n",
    "for i in range(num_to_plot):\n",
    "    print i, features[feature_indices[i]], round(importances[indices[i]],2)"
   ]
  },
  {
   "cell_type": "markdown",
   "metadata": {
    "deletable": true,
    "editable": true
   },
   "source": [
    "Такие параметры, как 'Жилая площадь', 'Площадь кухни', 'Этаж' и 'Был капремонт' выглядят ожидаемо, \n",
    "а вот некоторые из остальных в топ-10 выглядят немного забавно - это 'Заводской район', 'микрорайон=Дзержинского' и 'Материал стен=силикатно-блочный'"
   ]
  },
  {
   "cell_type": "code",
   "execution_count": 78,
   "metadata": {
    "collapsed": false,
    "deletable": true,
    "editable": true
   },
   "outputs": [],
   "source": [
    "# Делаем предсказания:\n",
    "predictions = pd.Series(clf.predict(X), index=Y.index)"
   ]
  },
  {
   "cell_type": "code",
   "execution_count": 97,
   "metadata": {
    "collapsed": false,
    "deletable": true,
    "editable": true
   },
   "outputs": [
    {
     "data": {
      "text/html": [
       "<div>\n",
       "<table border=\"1\" class=\"dataframe\">\n",
       "  <thead>\n",
       "    <tr style=\"text-align: right;\">\n",
       "      <th></th>\n",
       "      <th>Ошибка,%</th>\n",
       "      <th>Ошибка,$</th>\n",
       "      <th>Цена м.кв.</th>\n",
       "      <th>URL</th>\n",
       "    </tr>\n",
       "  </thead>\n",
       "  <tbody>\n",
       "    <tr>\n",
       "      <th>845979</th>\n",
       "      <td>-15.6</td>\n",
       "      <td>-9252.0</td>\n",
       "      <td>906.0</td>\n",
       "      <td>http://www.t-s.by/buy/flats/845979/</td>\n",
       "    </tr>\n",
       "    <tr>\n",
       "      <th>838613</th>\n",
       "      <td>-15.4</td>\n",
       "      <td>-7649.0</td>\n",
       "      <td>961.0</td>\n",
       "      <td>http://www.t-s.by/buy/flats/838613/</td>\n",
       "    </tr>\n",
       "    <tr>\n",
       "      <th>806952</th>\n",
       "      <td>-15.1</td>\n",
       "      <td>-9988.0</td>\n",
       "      <td>896.0</td>\n",
       "      <td>http://www.t-s.by/buy/flats/806952/</td>\n",
       "    </tr>\n",
       "    <tr>\n",
       "      <th>830893</th>\n",
       "      <td>-13.7</td>\n",
       "      <td>-10979.0</td>\n",
       "      <td>891.0</td>\n",
       "      <td>http://www.t-s.by/buy/flats/830893/</td>\n",
       "    </tr>\n",
       "    <tr>\n",
       "      <th>798393</th>\n",
       "      <td>-13.1</td>\n",
       "      <td>-13560.0</td>\n",
       "      <td>1232.0</td>\n",
       "      <td>http://www.t-s.by/buy/flats/798393/</td>\n",
       "    </tr>\n",
       "    <tr>\n",
       "      <th>823311</th>\n",
       "      <td>-12.9</td>\n",
       "      <td>-9313.0</td>\n",
       "      <td>801.0</td>\n",
       "      <td>http://www.t-s.by/buy/flats/823311/</td>\n",
       "    </tr>\n",
       "    <tr>\n",
       "      <th>829662</th>\n",
       "      <td>-11.3</td>\n",
       "      <td>-7782.0</td>\n",
       "      <td>777.0</td>\n",
       "      <td>http://www.t-s.by/buy/flats/829662/</td>\n",
       "    </tr>\n",
       "    <tr>\n",
       "      <th>832950</th>\n",
       "      <td>-10.3</td>\n",
       "      <td>-7027.0</td>\n",
       "      <td>896.0</td>\n",
       "      <td>http://www.t-s.by/buy/flats/832950/</td>\n",
       "    </tr>\n",
       "    <tr>\n",
       "      <th>836354</th>\n",
       "      <td>-9.7</td>\n",
       "      <td>-6117.0</td>\n",
       "      <td>865.0</td>\n",
       "      <td>http://www.t-s.by/buy/flats/836354/</td>\n",
       "    </tr>\n",
       "    <tr>\n",
       "      <th>816805</th>\n",
       "      <td>-9.2</td>\n",
       "      <td>-8129.0</td>\n",
       "      <td>998.0</td>\n",
       "      <td>http://www.t-s.by/buy/flats/816805/</td>\n",
       "    </tr>\n",
       "    <tr>\n",
       "      <th>822167</th>\n",
       "      <td>-9.0</td>\n",
       "      <td>-3931.0</td>\n",
       "      <td>867.0</td>\n",
       "      <td>http://www.t-s.by/buy/flats/822167/</td>\n",
       "    </tr>\n",
       "    <tr>\n",
       "      <th>820809</th>\n",
       "      <td>-9.0</td>\n",
       "      <td>-7298.0</td>\n",
       "      <td>952.0</td>\n",
       "      <td>http://www.t-s.by/buy/flats/820809/</td>\n",
       "    </tr>\n",
       "    <tr>\n",
       "      <th>730327</th>\n",
       "      <td>-9.0</td>\n",
       "      <td>-6276.0</td>\n",
       "      <td>926.0</td>\n",
       "      <td>http://www.t-s.by/buy/flats/730327/</td>\n",
       "    </tr>\n",
       "    <tr>\n",
       "      <th>847445</th>\n",
       "      <td>-8.6</td>\n",
       "      <td>-6005.0</td>\n",
       "      <td>1031.0</td>\n",
       "      <td>http://www.t-s.by/buy/flats/847445/</td>\n",
       "    </tr>\n",
       "    <tr>\n",
       "      <th>835064</th>\n",
       "      <td>-8.6</td>\n",
       "      <td>-7986.0</td>\n",
       "      <td>1050.0</td>\n",
       "      <td>http://www.t-s.by/buy/flats/835064/</td>\n",
       "    </tr>\n",
       "  </tbody>\n",
       "</table>\n",
       "</div>"
      ],
      "text/plain": [
       "        Ошибка,%  Ошибка,$  Цена м.кв.                                  URL\n",
       "845979     -15.6   -9252.0       906.0  http://www.t-s.by/buy/flats/845979/\n",
       "838613     -15.4   -7649.0       961.0  http://www.t-s.by/buy/flats/838613/\n",
       "806952     -15.1   -9988.0       896.0  http://www.t-s.by/buy/flats/806952/\n",
       "830893     -13.7  -10979.0       891.0  http://www.t-s.by/buy/flats/830893/\n",
       "798393     -13.1  -13560.0      1232.0  http://www.t-s.by/buy/flats/798393/\n",
       "823311     -12.9   -9313.0       801.0  http://www.t-s.by/buy/flats/823311/\n",
       "829662     -11.3   -7782.0       777.0  http://www.t-s.by/buy/flats/829662/\n",
       "832950     -10.3   -7027.0       896.0  http://www.t-s.by/buy/flats/832950/\n",
       "836354      -9.7   -6117.0       865.0  http://www.t-s.by/buy/flats/836354/\n",
       "816805      -9.2   -8129.0       998.0  http://www.t-s.by/buy/flats/816805/\n",
       "822167      -9.0   -3931.0       867.0  http://www.t-s.by/buy/flats/822167/\n",
       "820809      -9.0   -7298.0       952.0  http://www.t-s.by/buy/flats/820809/\n",
       "730327      -9.0   -6276.0       926.0  http://www.t-s.by/buy/flats/730327/\n",
       "847445      -8.6   -6005.0      1031.0  http://www.t-s.by/buy/flats/847445/\n",
       "835064      -8.6   -7986.0      1050.0  http://www.t-s.by/buy/flats/835064/"
      ]
     },
     "execution_count": 97,
     "metadata": {},
     "output_type": "execute_result"
    }
   ],
   "source": [
    "# Интерес представляют записи, для которых модель сильно ошибается в ту или иную сторону\n",
    "#\n",
    "res_info = pd.DataFrame(columns=[u'Ошибка,%',u'Ошибка,$',u'Цена м.кв.', u'URL'])\n",
    "for i in Y.index:\n",
    "    error = Y[i] - predictions[i]\n",
    "    rel_error = error/predictions[i]*100\n",
    "    #if np.abs(rel_error)>15:\n",
    "    res_info.loc[i] = pd.Series({\n",
    "            u'Ошибка,%':round(rel_error,1),\n",
    "            u'Ошибка,$':int(error),\n",
    "            u'Цена м.кв.':int(Y[i]/X[u'Общая площадь'][i]),\n",
    "            u'URL':'{}/{}/'.format('http://www.t-s.by/buy/flats', i)\n",
    "    })\n",
    "    \n",
    "# Недооцененные квартиры:\n",
    "res_info.sort_values(by=u'Ошибка,%')[:15]"
   ]
  },
  {
   "cell_type": "code",
   "execution_count": 90,
   "metadata": {
    "collapsed": false,
    "deletable": true,
    "editable": true
   },
   "outputs": [
    {
     "data": {
      "text/html": [
       "<div>\n",
       "<table border=\"1\" class=\"dataframe\">\n",
       "  <thead>\n",
       "    <tr style=\"text-align: right;\">\n",
       "      <th></th>\n",
       "      <th>Ошибка,%</th>\n",
       "      <th>Ошибка,$</th>\n",
       "      <th>Цена м.кв.</th>\n",
       "    </tr>\n",
       "  </thead>\n",
       "  <tbody>\n",
       "    <tr>\n",
       "      <th>777692</th>\n",
       "      <td>20.7</td>\n",
       "      <td>23452.0</td>\n",
       "      <td>2242.0</td>\n",
       "    </tr>\n",
       "    <tr>\n",
       "      <th>795105</th>\n",
       "      <td>18.1</td>\n",
       "      <td>10582.0</td>\n",
       "      <td>1703.0</td>\n",
       "    </tr>\n",
       "    <tr>\n",
       "      <th>843263</th>\n",
       "      <td>16.0</td>\n",
       "      <td>18209.0</td>\n",
       "      <td>1668.0</td>\n",
       "    </tr>\n",
       "    <tr>\n",
       "      <th>812051</th>\n",
       "      <td>15.4</td>\n",
       "      <td>15362.0</td>\n",
       "      <td>2065.0</td>\n",
       "    </tr>\n",
       "    <tr>\n",
       "      <th>810427</th>\n",
       "      <td>14.9</td>\n",
       "      <td>16735.0</td>\n",
       "      <td>2057.0</td>\n",
       "    </tr>\n",
       "  </tbody>\n",
       "</table>\n",
       "</div>"
      ],
      "text/plain": [
       "        Ошибка,%  Ошибка,$  Цена м.кв.\n",
       "777692      20.7   23452.0      2242.0\n",
       "795105      18.1   10582.0      1703.0\n",
       "843263      16.0   18209.0      1668.0\n",
       "812051      15.4   15362.0      2065.0\n",
       "810427      14.9   16735.0      2057.0"
      ]
     },
     "execution_count": 90,
     "metadata": {},
     "output_type": "execute_result"
    }
   ],
   "source": [
    "# Переоцененные квартиры:\n",
    "res_info.sort_values(by=u'Ошибка,%', ascending=False)[:5]"
   ]
  },
  {
   "cell_type": "code",
   "execution_count": null,
   "metadata": {
    "collapsed": false,
    "deletable": true,
    "editable": true
   },
   "outputs": [],
   "source": []
  },
  {
   "cell_type": "markdown",
   "metadata": {
    "deletable": true,
    "editable": true
   },
   "source": [
    "Как было сказано ранее, детали можно посмотреть в браузере по адресу http://www.t-s.by/buy/flats/{id}/, где id - код квартиры\n",
    "\n",
    "Стоит признать, что по сумме факторов данные квартиры выделяются из основной массы"
   ]
  },
  {
   "cell_type": "markdown",
   "metadata": {
    "deletable": true,
    "editable": true
   },
   "source": [
    "На этом все!\n",
    "\n",
    "P.S. Как оказалось, за время с момента выгрузки данных с http://www.t-s.by до окончания написания статьи, данное агенство немного изменило шаблон страницы с детальной информацией о квартире: часть полей убрали, остальные переехали. Ну и сайт стал несколько тормозить (надеюсь временно). Поэтому не думаю, что сильно им помешаю, предоставив код crawler-а, парсящего прошлую версию их сайта. Исходный выгруженный json со всеми исходными полями остался невредим и находится в git-репозитории. "
   ]
  },
  {
   "cell_type": "code",
   "execution_count": null,
   "metadata": {
    "collapsed": true,
    "deletable": true,
    "editable": true
   },
   "outputs": [],
   "source": []
  }
 ],
 "metadata": {
  "kernelspec": {
   "display_name": "Python 2",
   "language": "python",
   "name": "python2"
  },
  "language_info": {
   "codemirror_mode": {
    "name": "ipython",
    "version": 2
   },
   "file_extension": ".py",
   "mimetype": "text/x-python",
   "name": "python",
   "nbconvert_exporter": "python",
   "pygments_lexer": "ipython2",
   "version": "2.7.10"
  }
 },
 "nbformat": 4,
 "nbformat_minor": 2
}
